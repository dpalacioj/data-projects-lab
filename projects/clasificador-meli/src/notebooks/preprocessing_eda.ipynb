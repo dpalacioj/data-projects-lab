{
 "cells": [
  {
   "cell_type": "markdown",
   "metadata": {},
   "source": [
    "# Diccionario de Datos - Dataset MercadoLibre\n",
    "\n",
    "## Descripción de Variables\n",
    "\n",
    "A continuación se presenta una breve descripción de las variables disponibles en el dataset `MLA_100k.jsonlines`.\n",
    "\n",
    "### Variables Principales\n",
    "\n",
    "| Variable | Descripción en Español |\n",
    "|----------|------------------------|\n",
    "| `seller_address` | Dirección del vendedor |\n",
    "| `warranty` | Información sobre la garantía del producto |\n",
    "| `sub_status` | NO CLARO - Parece estar relacionado con cuando una publicación de producto está suspendida (?) |\n",
    "| `condition` | **[VARIABLE OBJETIVO]** Condición del producto (`new` para nuevo, `used` para usado) |\n",
    "| `seller_contact` | Información de contacto del vendedor |\n",
    "| `deal_ids` | Lista de IDs de ofertas relacionadas con el producto |\n",
    "| `base_price` | Precio base del producto antes de descuentos |\n",
    "| `shipping` | Información sobre el método de envío |\n",
    "| `non_mercado_pago_payment_methods` | Métodos de pago que no son Mercado Pago |\n",
    "| `seller_id` | ID único del vendedor |\n",
    "| `variations` | Contiene información sobre variaciones del producto (color, talla, etc.) |\n",
    "| `location` | Información sobre la ubicación del producto o del vendedor |\n",
    "| `site_id` | Código del sitio donde se está vendiendo el producto (MLA para Argentina, MLB para Brasil, etc.) |\n",
    "| `listing_type_id` | Tipo de publicación (gold_special, gold_pro, free, etc.) |\n",
    "| `price` | Precio actual del producto (¿Cuál es la diferencia con base_price?) |\n",
    "| `attributes` | Atributos del producto (marca, peso, dimensiones, modelo, etc.) |\n",
    "| `buying_mode` | Modo de compra |\n",
    "| `tags` | Lista de etiquetas asociadas con el producto |\n",
    "| `parent_item_id` | ID del producto principal si pertenece a una serie de variantes |\n",
    "| `coverage_areas` | NO CLARO - Posiblemente áreas de cobertura de envío |\n",
    "| `category_id` | ID de la categoría del producto |\n",
    "| `descriptions` | Descripción del producto con alguna característica especial (¿cuál?) |\n",
    "| `international_delivery_mode` | Envío internacional |\n",
    "| `pictures` | Lista de imágenes asociadas con el producto |\n",
    "| `id` | ID único del producto |\n",
    "| `official_store_id` | ID de la tienda oficial |\n",
    "| `accepts_mercadopago` | El vendedor acepta Mercado Pago |\n",
    "| `original_price` | Precio original antes de aplicar descuentos (¿CUÁL ES LA DIFERENCIA con base_price?) |\n",
    "| `currency_id` | Moneda en la que está listado el precio |\n",
    "| `thumbnail` | URL de la imagen miniatura del producto |\n",
    "| `title` | Nombre o título del producto |\n",
    "| `automatic_relist` | NO CLARO - Posiblemente republicación automática del producto |\n",
    "| `date_created` | Fecha en que se creó la publicación |\n",
    "| `stop_time` | Fecha en que se desactiva la publicación |\n",
    "| `status` | Estado de la publicación |\n",
    "| `catalog_product_id` | ID del producto en el catálogo de MercadoLibre |\n",
    "| `initial_quantity` | Cantidad inicial de productos disponibles |\n",
    "| `sold_quantity` | Número de unidades vendidas |\n",
    "| `available_quantity` | Número de unidades aún disponibles |\n",
    "\n",
    "---\n",
    "\n",
    "## Notas Importantes\n",
    "\n",
    "### Variables con Ambigüedad\n",
    "\n",
    "Algunas variables tienen significados que requieren clarificación adicional:\n",
    "\n",
    "1. **Diferencias de Precio**:\n",
    "   - `price`: Precio actual mostrado al comprador\n",
    "   - `base_price`: Precio base antes de descuentos\n",
    "   - `original_price`: Precio original antes de descuentos\n",
    "\n",
    "\n",
    "2. **Variables No Claras**:\n",
    "   - `sub_status`: Posiblemente relacionado con suspensiones de publicaciones\n",
    "   - `coverage_areas`: Posiblemente áreas geográficas de cobertura de envío\n",
    "   - `automatic_relist`: Posiblemente indica si la publicación se renueva automáticamente\n",
    "   - `descriptions`: Estructura exacta y características especiales por determinar\n",
    "\n",
    "### Variable Objetivo\n",
    "\n",
    "**`condition`**: Esta es la variable que se desea predecir en el modelo de clasificación.\n",
    "\n",
    "- Valores posibles: `\"new\"` (nuevo) o `\"used\"` (usado)\n",
    "- Tipo: Categórica binaria\n",
    "- Importancia: Variable objetivo del modelo de Machine Learning\n",
    "\n",
    "---\n",
    "\n",
    "## Campos Anidados Importantes\n",
    "\n",
    "### `seller_address` (Objeto)\n",
    "\n",
    "```json\n",
    "{\n",
    "  \"country\": {\"id\": \"AR\", \"name\": \"Argentina\"},\n",
    "  \"state\": {\"id\": \"AR-B\", \"name\": \"Buenos Aires\"},\n",
    "  \"city\": {\"id\": \"TUxBQkNBUzQzMjM\", \"name\": \"Capital Federal\"}\n",
    "}\n",
    "```\n",
    "\n",
    "**Features derivadas comunes**:\n",
    "- `seller_country`\n",
    "- `seller_state`\n",
    "- `seller_city`\n",
    "\n",
    "### `shipping` (Objeto)\n",
    "\n",
    "```json\n",
    "{\n",
    "  \"mode\": \"me2\",\n",
    "  \"local_pick_up\": true,\n",
    "  \"free_shipping\": false,\n",
    "  \"tags\": [\"fulfillment\", \"mandatory_free_shipping\"]\n",
    "}\n",
    "```\n",
    "\n",
    "**Features derivadas comunes**:\n",
    "- `shipping_mode`\n",
    "- `shipping_local_pick_up`\n",
    "- `shipping_free_shipping`\n",
    "- `shipping_tags` (one-hot encoding)\n",
    "\n",
    "### `attributes` (Array de Objetos)\n",
    "\n",
    "```json\n",
    "[\n",
    "  {\"id\": \"BRAND\", \"name\": \"Marca\", \"value_name\": \"Samsung\"},\n",
    "  {\"id\": \"MODEL\", \"name\": \"Modelo\", \"value_name\": \"Galaxy S21\"}\n",
    "]\n",
    "```\n",
    "\n",
    "**Features derivadas comunes**:\n",
    "- Extracción de marca (`BRAND`)\n",
    "- Extracción de modelo (`MODEL`)\n",
    "- Otros atributos según categoría de producto\n",
    "\n",
    "---\n",
    "\n",
    "## Referencias\n",
    "\n",
    "- [Documentación API MercadoLibre](https://developers.mercadolibre.com/)"
   ]
  },
  {
   "cell_type": "code",
   "execution_count": 102,
   "metadata": {
    "ExecuteTime": {
     "end_time": "2025-03-26T14:19:56.290157300Z",
     "start_time": "2025-03-26T14:19:55.773325300Z"
    }
   },
   "outputs": [],
   "source": [
    "import pandas as pd\n",
    "import numpy as np\n",
    "import os\n",
    "\n",
    "# Mostrar todas las columnas en los outputs\n",
    "pd.set_option('display.max_columns', None)"
   ]
  },
  {
   "cell_type": "code",
   "execution_count": 103,
   "metadata": {
    "ExecuteTime": {
     "end_time": "2025-03-26T14:20:13.717201700Z",
     "start_time": "2025-03-26T14:19:57.582012Z"
    }
   },
   "outputs": [
    {
     "name": "stdout",
     "output_type": "stream",
     "text": [
      "Cargando dataset desde: /Users/david.palacio/Documents/academia/data-projects-lab/datasets/MLA_100k.jsonlines\n",
      "Existe: True\n"
     ]
    }
   ],
   "source": [
    "from pathlib import Path\n",
    "\n",
    "# BASE_DIR apunta a la raíz del repositorio data-projects-lab\n",
    "# Desde: projects/clasificador-meli/src/notebooks/\n",
    "# Sube 4 niveles: ../../../../ para llegar a data-projects-lab/\n",
    "BASE_DIR = Path().resolve().parent.parent.parent.parent\n",
    "\n",
    "# Dataset principal (316 MB, gestionado con Git LFS)\n",
    "DATA_PATH = BASE_DIR / 'datasets'\n",
    "file_name = 'MLA_100k.jsonlines'\n",
    "file_path = DATA_PATH / file_name\n",
    "\n",
    "print(f\"Cargando dataset desde: {file_path}\")\n",
    "print(f\"Existe: {file_path.exists()}\")\n",
    "\n",
    "# Cargo el dataset en un dataframe de pandas\n",
    "df = pd.read_json(file_path, lines=True)"
   ]
  },
  {
   "cell_type": "code",
   "execution_count": 104,
   "metadata": {
    "ExecuteTime": {
     "end_time": "2025-03-26T14:20:13.883257200Z",
     "start_time": "2025-03-26T14:20:13.718200500Z"
    }
   },
   "outputs": [
    {
     "data": {
      "text/html": [
       "<div>\n",
       "<style scoped>\n",
       "    .dataframe tbody tr th:only-of-type {\n",
       "        vertical-align: middle;\n",
       "    }\n",
       "\n",
       "    .dataframe tbody tr th {\n",
       "        vertical-align: top;\n",
       "    }\n",
       "\n",
       "    .dataframe thead th {\n",
       "        text-align: right;\n",
       "    }\n",
       "</style>\n",
       "<table border=\"1\" class=\"dataframe\">\n",
       "  <thead>\n",
       "    <tr style=\"text-align: right;\">\n",
       "      <th></th>\n",
       "      <th>seller_address</th>\n",
       "      <th>warranty</th>\n",
       "      <th>sub_status</th>\n",
       "      <th>condition</th>\n",
       "      <th>seller_contact</th>\n",
       "      <th>deal_ids</th>\n",
       "      <th>base_price</th>\n",
       "      <th>shipping</th>\n",
       "      <th>non_mercado_pago_payment_methods</th>\n",
       "      <th>seller_id</th>\n",
       "      <th>variations</th>\n",
       "      <th>location</th>\n",
       "      <th>site_id</th>\n",
       "      <th>listing_type_id</th>\n",
       "      <th>price</th>\n",
       "      <th>attributes</th>\n",
       "      <th>buying_mode</th>\n",
       "      <th>tags</th>\n",
       "      <th>listing_source</th>\n",
       "      <th>parent_item_id</th>\n",
       "      <th>coverage_areas</th>\n",
       "      <th>category_id</th>\n",
       "      <th>descriptions</th>\n",
       "      <th>last_updated</th>\n",
       "      <th>international_delivery_mode</th>\n",
       "      <th>pictures</th>\n",
       "      <th>id</th>\n",
       "      <th>official_store_id</th>\n",
       "      <th>differential_pricing</th>\n",
       "      <th>accepts_mercadopago</th>\n",
       "      <th>original_price</th>\n",
       "      <th>currency_id</th>\n",
       "      <th>thumbnail</th>\n",
       "      <th>title</th>\n",
       "      <th>automatic_relist</th>\n",
       "      <th>date_created</th>\n",
       "      <th>secure_thumbnail</th>\n",
       "      <th>stop_time</th>\n",
       "      <th>status</th>\n",
       "      <th>video_id</th>\n",
       "      <th>catalog_product_id</th>\n",
       "      <th>subtitle</th>\n",
       "      <th>initial_quantity</th>\n",
       "      <th>start_time</th>\n",
       "      <th>permalink</th>\n",
       "      <th>geolocation</th>\n",
       "      <th>sold_quantity</th>\n",
       "      <th>available_quantity</th>\n",
       "    </tr>\n",
       "  </thead>\n",
       "  <tbody>\n",
       "    <tr>\n",
       "      <th>0</th>\n",
       "      <td>{'comment': '', 'longitude': -58.3986709, 'id'...</td>\n",
       "      <td>None</td>\n",
       "      <td>[]</td>\n",
       "      <td>new</td>\n",
       "      <td>None</td>\n",
       "      <td>[]</td>\n",
       "      <td>80.0</td>\n",
       "      <td>{'local_pick_up': True, 'methods': [], 'tags':...</td>\n",
       "      <td>[{'description': 'Transferencia bancaria', 'id...</td>\n",
       "      <td>74952096</td>\n",
       "      <td>[]</td>\n",
       "      <td>{}</td>\n",
       "      <td>MLA</td>\n",
       "      <td>bronze</td>\n",
       "      <td>80.0</td>\n",
       "      <td>[]</td>\n",
       "      <td>buy_it_now</td>\n",
       "      <td>[dragged_bids_and_visits]</td>\n",
       "      <td></td>\n",
       "      <td>MLA568261029</td>\n",
       "      <td>[]</td>\n",
       "      <td>MLA126406</td>\n",
       "      <td>[{'id': 'MLA578052519-912855983'}]</td>\n",
       "      <td>2015-09-05T20:42:58.000Z</td>\n",
       "      <td>none</td>\n",
       "      <td>[{'size': '500x375', 'secure_url': 'https://a2...</td>\n",
       "      <td>MLA578052519</td>\n",
       "      <td>NaN</td>\n",
       "      <td>NaN</td>\n",
       "      <td>True</td>\n",
       "      <td>NaN</td>\n",
       "      <td>ARS</td>\n",
       "      <td>http://mla-s1-p.mlstatic.com/5386-MLA435206787...</td>\n",
       "      <td>Auriculares Samsung Originales Manos Libres Ca...</td>\n",
       "      <td>False</td>\n",
       "      <td>2015-09-05T20:42:53.000Z</td>\n",
       "      <td>https://a248.e.akamai.net/mla-s1-p.mlstatic.co...</td>\n",
       "      <td>2015-11-04 20:42:53+00:00</td>\n",
       "      <td>active</td>\n",
       "      <td>None</td>\n",
       "      <td>NaN</td>\n",
       "      <td>NaN</td>\n",
       "      <td>1</td>\n",
       "      <td>2015-09-05 20:42:53+00:00</td>\n",
       "      <td>http://articulo.mercadolibre.com.ar/MLA-578052...</td>\n",
       "      <td>{'latitude': -34.6280698, 'longitude': -58.398...</td>\n",
       "      <td>0</td>\n",
       "      <td>1</td>\n",
       "    </tr>\n",
       "    <tr>\n",
       "      <th>1</th>\n",
       "      <td>{'comment': '', 'longitude': -58.5059173, 'id'...</td>\n",
       "      <td>NUESTRA REPUTACION</td>\n",
       "      <td>[]</td>\n",
       "      <td>used</td>\n",
       "      <td>None</td>\n",
       "      <td>[]</td>\n",
       "      <td>2650.0</td>\n",
       "      <td>{'local_pick_up': True, 'methods': [], 'tags':...</td>\n",
       "      <td>[{'description': 'Transferencia bancaria', 'id...</td>\n",
       "      <td>42093335</td>\n",
       "      <td>[]</td>\n",
       "      <td>{}</td>\n",
       "      <td>MLA</td>\n",
       "      <td>silver</td>\n",
       "      <td>2650.0</td>\n",
       "      <td>[]</td>\n",
       "      <td>buy_it_now</td>\n",
       "      <td>[]</td>\n",
       "      <td></td>\n",
       "      <td>MLA561574487</td>\n",
       "      <td>[]</td>\n",
       "      <td>MLA10267</td>\n",
       "      <td>[{'id': 'MLA581565358-930764806'}]</td>\n",
       "      <td>2015-09-26T18:08:34.000Z</td>\n",
       "      <td>none</td>\n",
       "      <td>[{'size': '499x334', 'secure_url': 'https://a2...</td>\n",
       "      <td>MLA581565358</td>\n",
       "      <td>NaN</td>\n",
       "      <td>NaN</td>\n",
       "      <td>True</td>\n",
       "      <td>NaN</td>\n",
       "      <td>ARS</td>\n",
       "      <td>http://mla-s1-p.mlstatic.com/23223-MLA20245018...</td>\n",
       "      <td>Cuchillo Daga Acero Carbón Casco Yelmo Solinge...</td>\n",
       "      <td>False</td>\n",
       "      <td>2015-09-26T18:08:30.000Z</td>\n",
       "      <td>https://a248.e.akamai.net/mla-s1-p.mlstatic.co...</td>\n",
       "      <td>2015-11-25 18:08:30+00:00</td>\n",
       "      <td>active</td>\n",
       "      <td>None</td>\n",
       "      <td>NaN</td>\n",
       "      <td>NaN</td>\n",
       "      <td>1</td>\n",
       "      <td>2015-09-26 18:08:30+00:00</td>\n",
       "      <td>http://articulo.mercadolibre.com.ar/MLA-581565...</td>\n",
       "      <td>{'latitude': -34.5935524, 'longitude': -58.505...</td>\n",
       "      <td>0</td>\n",
       "      <td>1</td>\n",
       "    </tr>\n",
       "  </tbody>\n",
       "</table>\n",
       "</div>"
      ],
      "text/plain": [
       "                                      seller_address            warranty  \\\n",
       "0  {'comment': '', 'longitude': -58.3986709, 'id'...                None   \n",
       "1  {'comment': '', 'longitude': -58.5059173, 'id'...  NUESTRA REPUTACION   \n",
       "\n",
       "  sub_status condition seller_contact deal_ids  base_price  \\\n",
       "0         []       new           None       []        80.0   \n",
       "1         []      used           None       []      2650.0   \n",
       "\n",
       "                                            shipping  \\\n",
       "0  {'local_pick_up': True, 'methods': [], 'tags':...   \n",
       "1  {'local_pick_up': True, 'methods': [], 'tags':...   \n",
       "\n",
       "                    non_mercado_pago_payment_methods  seller_id variations  \\\n",
       "0  [{'description': 'Transferencia bancaria', 'id...   74952096         []   \n",
       "1  [{'description': 'Transferencia bancaria', 'id...   42093335         []   \n",
       "\n",
       "  location site_id listing_type_id   price attributes buying_mode  \\\n",
       "0       {}     MLA          bronze    80.0         []  buy_it_now   \n",
       "1       {}     MLA          silver  2650.0         []  buy_it_now   \n",
       "\n",
       "                        tags listing_source parent_item_id coverage_areas  \\\n",
       "0  [dragged_bids_and_visits]                  MLA568261029             []   \n",
       "1                         []                  MLA561574487             []   \n",
       "\n",
       "  category_id                        descriptions              last_updated  \\\n",
       "0   MLA126406  [{'id': 'MLA578052519-912855983'}]  2015-09-05T20:42:58.000Z   \n",
       "1    MLA10267  [{'id': 'MLA581565358-930764806'}]  2015-09-26T18:08:34.000Z   \n",
       "\n",
       "  international_delivery_mode  \\\n",
       "0                        none   \n",
       "1                        none   \n",
       "\n",
       "                                            pictures            id  \\\n",
       "0  [{'size': '500x375', 'secure_url': 'https://a2...  MLA578052519   \n",
       "1  [{'size': '499x334', 'secure_url': 'https://a2...  MLA581565358   \n",
       "\n",
       "   official_store_id  differential_pricing  accepts_mercadopago  \\\n",
       "0                NaN                   NaN                 True   \n",
       "1                NaN                   NaN                 True   \n",
       "\n",
       "   original_price currency_id  \\\n",
       "0             NaN         ARS   \n",
       "1             NaN         ARS   \n",
       "\n",
       "                                           thumbnail  \\\n",
       "0  http://mla-s1-p.mlstatic.com/5386-MLA435206787...   \n",
       "1  http://mla-s1-p.mlstatic.com/23223-MLA20245018...   \n",
       "\n",
       "                                               title  automatic_relist  \\\n",
       "0  Auriculares Samsung Originales Manos Libres Ca...             False   \n",
       "1  Cuchillo Daga Acero Carbón Casco Yelmo Solinge...             False   \n",
       "\n",
       "               date_created  \\\n",
       "0  2015-09-05T20:42:53.000Z   \n",
       "1  2015-09-26T18:08:30.000Z   \n",
       "\n",
       "                                    secure_thumbnail  \\\n",
       "0  https://a248.e.akamai.net/mla-s1-p.mlstatic.co...   \n",
       "1  https://a248.e.akamai.net/mla-s1-p.mlstatic.co...   \n",
       "\n",
       "                  stop_time  status video_id  catalog_product_id  subtitle  \\\n",
       "0 2015-11-04 20:42:53+00:00  active     None                 NaN       NaN   \n",
       "1 2015-11-25 18:08:30+00:00  active     None                 NaN       NaN   \n",
       "\n",
       "   initial_quantity                start_time  \\\n",
       "0                 1 2015-09-05 20:42:53+00:00   \n",
       "1                 1 2015-09-26 18:08:30+00:00   \n",
       "\n",
       "                                           permalink  \\\n",
       "0  http://articulo.mercadolibre.com.ar/MLA-578052...   \n",
       "1  http://articulo.mercadolibre.com.ar/MLA-581565...   \n",
       "\n",
       "                                         geolocation  sold_quantity  \\\n",
       "0  {'latitude': -34.6280698, 'longitude': -58.398...              0   \n",
       "1  {'latitude': -34.5935524, 'longitude': -58.505...              0   \n",
       "\n",
       "   available_quantity  \n",
       "0                   1  \n",
       "1                   1  "
      ]
     },
     "execution_count": 104,
     "metadata": {},
     "output_type": "execute_result"
    }
   ],
   "source": [
    "# Visualizar primeros 2 registros para entender la estructura\n",
    "df.head(2)"
   ]
  },
  {
   "cell_type": "code",
   "execution_count": 105,
   "metadata": {},
   "outputs": [
    {
     "name": "stdout",
     "output_type": "stream",
     "text": [
      "<class 'pandas.core.frame.DataFrame'>\n",
      "RangeIndex: 100000 entries, 0 to 99999\n",
      "Data columns (total 48 columns):\n",
      " #   Column                            Non-Null Count   Dtype              \n",
      "---  ------                            --------------   -----              \n",
      " 0   seller_address                    100000 non-null  object             \n",
      " 1   warranty                          39104 non-null   object             \n",
      " 2   sub_status                        100000 non-null  object             \n",
      " 3   condition                         100000 non-null  object             \n",
      " 4   seller_contact                    2219 non-null    object             \n",
      " 5   deal_ids                          100000 non-null  object             \n",
      " 6   base_price                        100000 non-null  float64            \n",
      " 7   shipping                          100000 non-null  object             \n",
      " 8   non_mercado_pago_payment_methods  100000 non-null  object             \n",
      " 9   seller_id                         100000 non-null  int64              \n",
      " 10  variations                        100000 non-null  object             \n",
      " 11  location                          100000 non-null  object             \n",
      " 12  site_id                           100000 non-null  object             \n",
      " 13  listing_type_id                   100000 non-null  object             \n",
      " 14  price                             100000 non-null  float64            \n",
      " 15  attributes                        100000 non-null  object             \n",
      " 16  buying_mode                       100000 non-null  object             \n",
      " 17  tags                              100000 non-null  object             \n",
      " 18  listing_source                    100000 non-null  object             \n",
      " 19  parent_item_id                    76989 non-null   object             \n",
      " 20  coverage_areas                    100000 non-null  object             \n",
      " 21  category_id                       100000 non-null  object             \n",
      " 22  descriptions                      100000 non-null  object             \n",
      " 23  last_updated                      100000 non-null  object             \n",
      " 24  international_delivery_mode       100000 non-null  object             \n",
      " 25  pictures                          100000 non-null  object             \n",
      " 26  id                                100000 non-null  object             \n",
      " 27  official_store_id                 818 non-null     float64            \n",
      " 28  differential_pricing              0 non-null       float64            \n",
      " 29  accepts_mercadopago               100000 non-null  bool               \n",
      " 30  original_price                    143 non-null     float64            \n",
      " 31  currency_id                       100000 non-null  object             \n",
      " 32  thumbnail                         100000 non-null  object             \n",
      " 33  title                             100000 non-null  object             \n",
      " 34  automatic_relist                  100000 non-null  bool               \n",
      " 35  date_created                      100000 non-null  object             \n",
      " 36  secure_thumbnail                  100000 non-null  object             \n",
      " 37  stop_time                         100000 non-null  datetime64[ns, UTC]\n",
      " 38  status                            100000 non-null  object             \n",
      " 39  video_id                          2985 non-null    object             \n",
      " 40  catalog_product_id                11 non-null      float64            \n",
      " 41  subtitle                          0 non-null       float64            \n",
      " 42  initial_quantity                  100000 non-null  int64              \n",
      " 43  start_time                        100000 non-null  datetime64[ns, UTC]\n",
      " 44  permalink                         100000 non-null  object             \n",
      " 45  geolocation                       100000 non-null  object             \n",
      " 46  sold_quantity                     100000 non-null  int64              \n",
      " 47  available_quantity                100000 non-null  int64              \n",
      "dtypes: bool(2), datetime64[ns, UTC](2), float64(7), int64(4), object(33)\n",
      "memory usage: 35.3+ MB\n"
     ]
    }
   ],
   "source": [
    "# Información general: tipos de datos, valores no nulos, memoria\n",
    "df.info()"
   ]
  },
  {
   "cell_type": "markdown",
   "metadata": {},
   "source": [
    "Algunas columnas son diccionarios o listas. Analicemos qué tipo de valores contienen:\n",
    "- seller_address\n",
    "- shipping\n",
    "- non_mercado_pago_payment_methods\n",
    "- variations\n",
    "- location\n",
    "- attributes\n",
    "- tags\n",
    "- coverage_areas\n",
    "- descriptions\n",
    "- pictures\n",
    "- geolocation"
   ]
  },
  {
   "cell_type": "code",
   "execution_count": 106,
   "metadata": {},
   "outputs": [],
   "source": [
    "import json\n",
    "\n",
    "pd.set_option('display.max_colwidth', None) # Sin límite de caracteres por columna\n",
    "pd.set_option('display.max_rows', None)      # Sin límite de filas a mostrar"
   ]
  },
  {
   "cell_type": "code",
   "execution_count": 107,
   "metadata": {},
   "outputs": [],
   "source": [
    "# Columnas con datos anidados (dicts, listas) que requieren procesamiento especial\n",
    "columns_dic_list = ['seller_address', 'shipping', 'non_mercado_pago_payment_methods', \n",
    "                    'variations', 'location', 'attributes', 'tags', \n",
    "                    'coverage_areas', 'descriptions', 'pictures', 'geolocation']"
   ]
  },
  {
   "cell_type": "code",
   "execution_count": 108,
   "metadata": {},
   "outputs": [
    {
     "name": "stdout",
     "output_type": "stream",
     "text": [
      "--------------------------------------------------------------------------------\n",
      "seller_address\n",
      "<class 'dict'>    100000\n",
      "Name: count, dtype: int64\n",
      "0    {'comment': '', 'longitude': -58.3986709, 'id': 78162842, 'country': {'name': 'Argentina', 'id': 'AR'}, 'address_line': '', 'latitude': -34.6280698, 'search_location': {'neighborhood': {'name': 'San Cristóbal', 'id': 'TUxBQlNBTjkwNTZa'}, 'state': {'name': 'Capital Federal', 'id': 'TUxBUENBUGw3M2E1'}, 'city': {'name': 'Capital Federal', 'id': 'TUxBQ0NBUGZlZG1sYQ'}}, 'zip_code': '', 'city': {'name': 'San Cristóbal', 'id': 'TUxBQlNBTjkwNTZa'}, 'state': {'name': 'Capital Federal', 'id': 'AR-C'}}\n",
      "1                     {'comment': '', 'longitude': -58.5059173, 'id': 105272448, 'country': {'name': 'Argentina', 'id': 'AR'}, 'address_line': '', 'latitude': -34.5935524, 'search_location': {'neighborhood': {'name': 'Villa Devoto', 'id': 'TUxBQlZJTDYzNzZa'}, 'state': {'name': 'Capital Federal', 'id': 'TUxBUENBUGw3M2E1'}, 'city': {'name': 'Capital Federal', 'id': 'TUxBQ0NBUGZlZG1sYQ'}}, 'zip_code': '', 'city': {'name': 'Buenos Aires', 'id': ''}, 'state': {'name': 'Capital Federal', 'id': 'AR-C'}}\n",
      "Name: seller_address, dtype: object\n",
      "--------------------------------------------------------------------------------\n",
      "shipping\n",
      "<class 'dict'>    100000\n",
      "Name: count, dtype: int64\n",
      "0    {'local_pick_up': True, 'methods': [], 'tags': [], 'free_shipping': False, 'mode': 'not_specified', 'dimensions': None}\n",
      "1              {'local_pick_up': True, 'methods': [], 'tags': [], 'free_shipping': False, 'mode': 'me2', 'dimensions': None}\n",
      "Name: shipping, dtype: object\n",
      "--------------------------------------------------------------------------------\n",
      "non_mercado_pago_payment_methods\n",
      "<class 'list'>    100000\n",
      "Name: count, dtype: int64\n",
      "0    [{'description': 'Transferencia bancaria', 'id': 'MLATB', 'type': 'G'}, {'description': 'Acordar con el comprador', 'id': 'MLAWC', 'type': 'G'}, {'description': 'Efectivo', 'id': 'MLAMO', 'type': 'G'}]\n",
      "1                                                                             [{'description': 'Transferencia bancaria', 'id': 'MLATB', 'type': 'G'}, {'description': 'Efectivo', 'id': 'MLAMO', 'type': 'G'}]\n",
      "Name: non_mercado_pago_payment_methods, dtype: object\n",
      "--------------------------------------------------------------------------------\n",
      "variations\n",
      "<class 'list'>    100000\n",
      "Name: count, dtype: int64\n",
      "0    []\n",
      "1    []\n",
      "Name: variations, dtype: object\n",
      "--------------------------------------------------------------------------------\n",
      "location\n",
      "<class 'dict'>    100000\n",
      "Name: count, dtype: int64\n",
      "0    {}\n",
      "1    {}\n",
      "Name: location, dtype: object\n",
      "--------------------------------------------------------------------------------\n",
      "attributes\n",
      "<class 'list'>    100000\n",
      "Name: count, dtype: int64\n",
      "0    []\n",
      "1    []\n",
      "Name: attributes, dtype: object\n",
      "--------------------------------------------------------------------------------\n",
      "tags\n",
      "<class 'list'>    100000\n",
      "Name: count, dtype: int64\n",
      "0    [dragged_bids_and_visits]\n",
      "1                           []\n",
      "Name: tags, dtype: object\n",
      "--------------------------------------------------------------------------------\n",
      "coverage_areas\n",
      "<class 'list'>    100000\n",
      "Name: count, dtype: int64\n",
      "0    []\n",
      "1    []\n",
      "Name: coverage_areas, dtype: object\n",
      "--------------------------------------------------------------------------------\n",
      "descriptions\n",
      "<class 'list'>    100000\n",
      "Name: count, dtype: int64\n",
      "0    [{'id': 'MLA578052519-912855983'}]\n",
      "1    [{'id': 'MLA581565358-930764806'}]\n",
      "Name: descriptions, dtype: object\n",
      "--------------------------------------------------------------------------------\n",
      "pictures\n",
      "<class 'list'>    100000\n",
      "Name: count, dtype: int64\n",
      "0                                                                                                                                                                                                                                                                                                                                                                                                                                                                                                                                                                                                                                                                                                                                                                                                                                                                                                                                                                                                                                                                                                                                  [{'size': '500x375', 'secure_url': 'https://a248.e.akamai.net/mla-s1-p.mlstatic.com/5386-MLA4352067878_052013-O.jpg', 'max_size': '1200x900', 'url': 'http://mla-s1-p.mlstatic.com/5386-MLA4352067878_052013-O.jpg', 'quality': '', 'id': '5386-MLA4352067878_052013'}, {'size': '500x375', 'secure_url': 'https://a248.e.akamai.net/mla-s1-p.mlstatic.com/5361-MLA4352068035_052013-O.jpg', 'max_size': '1200x900', 'url': 'http://mla-s1-p.mlstatic.com/5361-MLA4352068035_052013-O.jpg', 'quality': '', 'id': '5361-MLA4352068035_052013'}]\n",
      "1    [{'size': '499x334', 'secure_url': 'https://a248.e.akamai.net/mla-s1-p.mlstatic.com/23223-MLA20245018984_022015-O.jpg', 'max_size': '951x637', 'url': 'http://mla-s1-p.mlstatic.com/23223-MLA20245018984_022015-O.jpg', 'quality': '', 'id': '23223-MLA20245018984_022015'}, {'size': '500x375', 'secure_url': 'https://a248.e.akamai.net/mla-s2-p.mlstatic.com/23273-MLA20245018989_022015-O.jpg', 'max_size': '1024x768', 'url': 'http://mla-s2-p.mlstatic.com/23273-MLA20245018989_022015-O.jpg', 'quality': '', 'id': '23273-MLA20245018989_022015'}, {'size': '500x375', 'secure_url': 'https://a248.e.akamai.net/mla-s1-p.mlstatic.com/23205-MLA20245019615_022015-O.jpg', 'max_size': '1024x768', 'url': 'http://mla-s1-p.mlstatic.com/23205-MLA20245019615_022015-O.jpg', 'quality': '', 'id': '23205-MLA20245019615_022015'}, {'size': '500x375', 'secure_url': 'https://a248.e.akamai.net/mla-s2-p.mlstatic.com/23289-MLA20245019311_022015-O.jpg', 'max_size': '1024x768', 'url': 'http://mla-s2-p.mlstatic.com/23289-MLA20245019311_022015-O.jpg', 'quality': '', 'id': '23289-MLA20245019311_022015'}, {'size': '500x375', 'secure_url': 'https://a248.e.akamai.net/mla-s1-p.mlstatic.com/23220-MLA20245019314_022015-O.jpg', 'max_size': '1024x768', 'url': 'http://mla-s1-p.mlstatic.com/23220-MLA20245019314_022015-O.jpg', 'quality': '', 'id': '23220-MLA20245019314_022015'}, {'size': '500x326', 'secure_url': 'https://a248.e.akamai.net/mla-s1-p.mlstatic.com/23201-MLA20245019316_022015-O.jpg', 'max_size': '924x603', 'url': 'http://mla-s1-p.mlstatic.com/23201-MLA20245019316_022015-O.jpg', 'quality': '', 'id': '23201-MLA20245019316_022015'}]\n",
      "Name: pictures, dtype: object\n",
      "--------------------------------------------------------------------------------\n",
      "geolocation\n",
      "<class 'dict'>    100000\n",
      "Name: count, dtype: int64\n",
      "0    {'latitude': -34.6280698, 'longitude': -58.3986709}\n",
      "1    {'latitude': -34.5935524, 'longitude': -58.5059173}\n",
      "Name: geolocation, dtype: object\n"
     ]
    }
   ],
   "source": [
    "# Inspeccionar contenido de cada columna anidada\n",
    "for column in columns_dic_list:\n",
    "    print('-'*80)\n",
    "    # Tipo de datos\n",
    "    print(df[column].apply(type).value_counts())  # Tipos de datos\n",
    "    print(df[column].head(2))  # Primeros valores"
   ]
  },
  {
   "cell_type": "code",
   "execution_count": 109,
   "metadata": {},
   "outputs": [
    {
     "name": "stdout",
     "output_type": "stream",
     "text": [
      "--------------------------------------------------------------------------------\n",
      "seller_address\n",
      "{\n",
      "  \"comment\": \"\",\n",
      "  \"longitude\": -58.3986709,\n",
      "  \"id\": 78162842,\n",
      "  \"country\": {\n",
      "    \"name\": \"Argentina\",\n",
      "    \"id\": \"AR\"\n",
      "  },\n",
      "  \"address_line\": \"\",\n",
      "  \"latitude\": -34.6280698,\n",
      "  \"search_location\": {\n",
      "    \"neighborhood\": {\n",
      "      \"name\": \"San Cristóbal\",\n",
      "      \"id\": \"TUxBQlNBTjkwNTZa\"\n",
      "    },\n",
      "    \"state\": {\n",
      "      \"name\": \"Capital Federal\",\n",
      "      \"id\": \"TUxBUENBUGw3M2E1\"\n",
      "    },\n",
      "    \"city\": {\n",
      "      \"name\": \"Capital Federal\",\n",
      "      \"id\": \"TUxBQ0NBUGZlZG1sYQ\"\n",
      "    }\n",
      "  },\n",
      "  \"zip_code\": \"\",\n",
      "  \"city\": {\n",
      "    \"name\": \"San Cristóbal\",\n",
      "    \"id\": \"TUxBQlNBTjkwNTZa\"\n",
      "  },\n",
      "  \"state\": {\n",
      "    \"name\": \"Capital Federal\",\n",
      "    \"id\": \"AR-C\"\n",
      "  }\n",
      "}\n",
      "{\n",
      "  \"comment\": \"\",\n",
      "  \"longitude\": -58.5059173,\n",
      "  \"id\": 105272448,\n",
      "  \"country\": {\n",
      "    \"name\": \"Argentina\",\n",
      "    \"id\": \"AR\"\n",
      "  },\n",
      "  \"address_line\": \"\",\n",
      "  \"latitude\": -34.5935524,\n",
      "  \"search_location\": {\n",
      "    \"neighborhood\": {\n",
      "      \"name\": \"Villa Devoto\",\n",
      "      \"id\": \"TUxBQlZJTDYzNzZa\"\n",
      "    },\n",
      "    \"state\": {\n",
      "      \"name\": \"Capital Federal\",\n",
      "      \"id\": \"TUxBUENBUGw3M2E1\"\n",
      "    },\n",
      "    \"city\": {\n",
      "      \"name\": \"Capital Federal\",\n",
      "      \"id\": \"TUxBQ0NBUGZlZG1sYQ\"\n",
      "    }\n",
      "  },\n",
      "  \"zip_code\": \"\",\n",
      "  \"city\": {\n",
      "    \"name\": \"Buenos Aires\",\n",
      "    \"id\": \"\"\n",
      "  },\n",
      "  \"state\": {\n",
      "    \"name\": \"Capital Federal\",\n",
      "    \"id\": \"AR-C\"\n",
      "  }\n",
      "}\n",
      "--------------------------------------------------------------------------------\n",
      "shipping\n",
      "{\n",
      "  \"local_pick_up\": true,\n",
      "  \"methods\": [],\n",
      "  \"tags\": [],\n",
      "  \"free_shipping\": false,\n",
      "  \"mode\": \"not_specified\",\n",
      "  \"dimensions\": null\n",
      "}\n",
      "{\n",
      "  \"local_pick_up\": true,\n",
      "  \"methods\": [],\n",
      "  \"tags\": [],\n",
      "  \"free_shipping\": false,\n",
      "  \"mode\": \"me2\",\n",
      "  \"dimensions\": null\n",
      "}\n",
      "--------------------------------------------------------------------------------\n",
      "non_mercado_pago_payment_methods\n",
      "[\n",
      "  {\n",
      "    \"description\": \"Transferencia bancaria\",\n",
      "    \"id\": \"MLATB\",\n",
      "    \"type\": \"G\"\n",
      "  },\n",
      "  {\n",
      "    \"description\": \"Acordar con el comprador\",\n",
      "    \"id\": \"MLAWC\",\n",
      "    \"type\": \"G\"\n",
      "  },\n",
      "  {\n",
      "    \"description\": \"Efectivo\",\n",
      "    \"id\": \"MLAMO\",\n",
      "    \"type\": \"G\"\n",
      "  }\n",
      "]\n",
      "[\n",
      "  {\n",
      "    \"description\": \"Transferencia bancaria\",\n",
      "    \"id\": \"MLATB\",\n",
      "    \"type\": \"G\"\n",
      "  },\n",
      "  {\n",
      "    \"description\": \"Efectivo\",\n",
      "    \"id\": \"MLAMO\",\n",
      "    \"type\": \"G\"\n",
      "  }\n",
      "]\n",
      "--------------------------------------------------------------------------------\n",
      "variations\n",
      "[]\n",
      "[]\n",
      "--------------------------------------------------------------------------------\n",
      "location\n",
      "{}\n",
      "{}\n",
      "--------------------------------------------------------------------------------\n",
      "attributes\n",
      "[]\n",
      "[]\n",
      "--------------------------------------------------------------------------------\n",
      "tags\n",
      "[\n",
      "  \"dragged_bids_and_visits\"\n",
      "]\n",
      "[]\n",
      "--------------------------------------------------------------------------------\n",
      "coverage_areas\n",
      "[]\n",
      "[]\n",
      "--------------------------------------------------------------------------------\n",
      "descriptions\n",
      "[\n",
      "  {\n",
      "    \"id\": \"MLA578052519-912855983\"\n",
      "  }\n",
      "]\n",
      "[\n",
      "  {\n",
      "    \"id\": \"MLA581565358-930764806\"\n",
      "  }\n",
      "]\n",
      "--------------------------------------------------------------------------------\n",
      "pictures\n",
      "[\n",
      "  {\n",
      "    \"size\": \"500x375\",\n",
      "    \"secure_url\": \"https://a248.e.akamai.net/mla-s1-p.mlstatic.com/5386-MLA4352067878_052013-O.jpg\",\n",
      "    \"max_size\": \"1200x900\",\n",
      "    \"url\": \"http://mla-s1-p.mlstatic.com/5386-MLA4352067878_052013-O.jpg\",\n",
      "    \"quality\": \"\",\n",
      "    \"id\": \"5386-MLA4352067878_052013\"\n",
      "  },\n",
      "  {\n",
      "    \"size\": \"500x375\",\n",
      "    \"secure_url\": \"https://a248.e.akamai.net/mla-s1-p.mlstatic.com/5361-MLA4352068035_052013-O.jpg\",\n",
      "    \"max_size\": \"1200x900\",\n",
      "    \"url\": \"http://mla-s1-p.mlstatic.com/5361-MLA4352068035_052013-O.jpg\",\n",
      "    \"quality\": \"\",\n",
      "    \"id\": \"5361-MLA4352068035_052013\"\n",
      "  }\n",
      "]\n",
      "[\n",
      "  {\n",
      "    \"size\": \"499x334\",\n",
      "    \"secure_url\": \"https://a248.e.akamai.net/mla-s1-p.mlstatic.com/23223-MLA20245018984_022015-O.jpg\",\n",
      "    \"max_size\": \"951x637\",\n",
      "    \"url\": \"http://mla-s1-p.mlstatic.com/23223-MLA20245018984_022015-O.jpg\",\n",
      "    \"quality\": \"\",\n",
      "    \"id\": \"23223-MLA20245018984_022015\"\n",
      "  },\n",
      "  {\n",
      "    \"size\": \"500x375\",\n",
      "    \"secure_url\": \"https://a248.e.akamai.net/mla-s2-p.mlstatic.com/23273-MLA20245018989_022015-O.jpg\",\n",
      "    \"max_size\": \"1024x768\",\n",
      "    \"url\": \"http://mla-s2-p.mlstatic.com/23273-MLA20245018989_022015-O.jpg\",\n",
      "    \"quality\": \"\",\n",
      "    \"id\": \"23273-MLA20245018989_022015\"\n",
      "  },\n",
      "  {\n",
      "    \"size\": \"500x375\",\n",
      "    \"secure_url\": \"https://a248.e.akamai.net/mla-s1-p.mlstatic.com/23205-MLA20245019615_022015-O.jpg\",\n",
      "    \"max_size\": \"1024x768\",\n",
      "    \"url\": \"http://mla-s1-p.mlstatic.com/23205-MLA20245019615_022015-O.jpg\",\n",
      "    \"quality\": \"\",\n",
      "    \"id\": \"23205-MLA20245019615_022015\"\n",
      "  },\n",
      "  {\n",
      "    \"size\": \"500x375\",\n",
      "    \"secure_url\": \"https://a248.e.akamai.net/mla-s2-p.mlstatic.com/23289-MLA20245019311_022015-O.jpg\",\n",
      "    \"max_size\": \"1024x768\",\n",
      "    \"url\": \"http://mla-s2-p.mlstatic.com/23289-MLA20245019311_022015-O.jpg\",\n",
      "    \"quality\": \"\",\n",
      "    \"id\": \"23289-MLA20245019311_022015\"\n",
      "  },\n",
      "  {\n",
      "    \"size\": \"500x375\",\n",
      "    \"secure_url\": \"https://a248.e.akamai.net/mla-s1-p.mlstatic.com/23220-MLA20245019314_022015-O.jpg\",\n",
      "    \"max_size\": \"1024x768\",\n",
      "    \"url\": \"http://mla-s1-p.mlstatic.com/23220-MLA20245019314_022015-O.jpg\",\n",
      "    \"quality\": \"\",\n",
      "    \"id\": \"23220-MLA20245019314_022015\"\n",
      "  },\n",
      "  {\n",
      "    \"size\": \"500x326\",\n",
      "    \"secure_url\": \"https://a248.e.akamai.net/mla-s1-p.mlstatic.com/23201-MLA20245019316_022015-O.jpg\",\n",
      "    \"max_size\": \"924x603\",\n",
      "    \"url\": \"http://mla-s1-p.mlstatic.com/23201-MLA20245019316_022015-O.jpg\",\n",
      "    \"quality\": \"\",\n",
      "    \"id\": \"23201-MLA20245019316_022015\"\n",
      "  }\n",
      "]\n",
      "--------------------------------------------------------------------------------\n",
      "geolocation\n",
      "{\n",
      "  \"latitude\": -34.6280698,\n",
      "  \"longitude\": -58.3986709\n",
      "}\n",
      "{\n",
      "  \"latitude\": -34.5935524,\n",
      "  \"longitude\": -58.5059173\n",
      "}\n"
     ]
    }
   ],
   "source": [
    "# Inspeccionar contenido de cada columna anidada\n",
    "for column in columns_dic_list:\n",
    "    print('-'*80)\n",
    "    print(column)\n",
    "    # Tipo de datos\n",
    "    #print(df[column].apply(type).value_counts())  # Tipos de datos\n",
    "    #print(df[column].head(2))  # Primeros valores\n",
    "\n",
    "    # Mostrar JSON formateado\n",
    "    for value in df[df[column].notna()][column].head(2):\n",
    "        print(json.dumps(value, indent=2, ensure_ascii=False))  # Formateado JSON legible"
   ]
  },
  {
   "cell_type": "markdown",
   "metadata": {},
   "source": [
    "Parece que tenemos información sobre ubicación, país, ciudad y estado en `seller_address`.\n",
    "\n",
    "En `shipping` encontramos información sobre `local_pick_up`, `mode` (tipo de envío) y `free_shipping`.\n",
    "\n",
    "En `non_mercado_pago_payment_methods` tenemos información sobre los diferentes métodos de pago que no fueron realizados a través de Mercado Pago. Aquí podemos ver transferencias bancarias, efectivo o acordar con el comprador."
   ]
  },
  {
   "cell_type": "code",
   "execution_count": 110,
   "metadata": {},
   "outputs": [
    {
     "name": "stdout",
     "output_type": "stream",
     "text": [
      "Shape: 100000 filas × 48 columnas\n",
      "Columnas con valores faltantes: 9\n",
      "\n"
     ]
    },
    {
     "data": {
      "text/html": [
       "<div>\n",
       "<style scoped>\n",
       "    .dataframe tbody tr th:only-of-type {\n",
       "        vertical-align: middle;\n",
       "    }\n",
       "\n",
       "    .dataframe tbody tr th {\n",
       "        vertical-align: top;\n",
       "    }\n",
       "\n",
       "    .dataframe thead th {\n",
       "        text-align: right;\n",
       "    }\n",
       "</style>\n",
       "<table border=\"1\" class=\"dataframe\">\n",
       "  <thead>\n",
       "    <tr style=\"text-align: right;\">\n",
       "      <th></th>\n",
       "      <th>Missing</th>\n",
       "      <th>% Missing</th>\n",
       "    </tr>\n",
       "  </thead>\n",
       "  <tbody>\n",
       "    <tr>\n",
       "      <th>differential_pricing</th>\n",
       "      <td>100000</td>\n",
       "      <td>100.00</td>\n",
       "    </tr>\n",
       "    <tr>\n",
       "      <th>subtitle</th>\n",
       "      <td>100000</td>\n",
       "      <td>100.00</td>\n",
       "    </tr>\n",
       "    <tr>\n",
       "      <th>catalog_product_id</th>\n",
       "      <td>99989</td>\n",
       "      <td>99.99</td>\n",
       "    </tr>\n",
       "    <tr>\n",
       "      <th>original_price</th>\n",
       "      <td>99857</td>\n",
       "      <td>99.86</td>\n",
       "    </tr>\n",
       "    <tr>\n",
       "      <th>official_store_id</th>\n",
       "      <td>99182</td>\n",
       "      <td>99.18</td>\n",
       "    </tr>\n",
       "    <tr>\n",
       "      <th>seller_contact</th>\n",
       "      <td>97781</td>\n",
       "      <td>97.78</td>\n",
       "    </tr>\n",
       "    <tr>\n",
       "      <th>video_id</th>\n",
       "      <td>97015</td>\n",
       "      <td>97.02</td>\n",
       "    </tr>\n",
       "    <tr>\n",
       "      <th>warranty</th>\n",
       "      <td>60896</td>\n",
       "      <td>60.90</td>\n",
       "    </tr>\n",
       "    <tr>\n",
       "      <th>parent_item_id</th>\n",
       "      <td>23011</td>\n",
       "      <td>23.01</td>\n",
       "    </tr>\n",
       "  </tbody>\n",
       "</table>\n",
       "</div>"
      ],
      "text/plain": [
       "                      Missing  % Missing\n",
       "differential_pricing   100000     100.00\n",
       "subtitle               100000     100.00\n",
       "catalog_product_id      99989      99.99\n",
       "original_price          99857      99.86\n",
       "official_store_id       99182      99.18\n",
       "seller_contact          97781      97.78\n",
       "video_id                97015      97.02\n",
       "warranty                60896      60.90\n",
       "parent_item_id          23011      23.01"
      ]
     },
     "execution_count": 110,
     "metadata": {},
     "output_type": "execute_result"
    }
   ],
   "source": [
    "def analizar_valores_faltantes(df):\n",
    "    \"\"\"\n",
    "    Analiza y muestra las columnas con valores faltantes en un DataFrame.\n",
    "    \n",
    "    Args:\n",
    "        df (DataFrame): DataFrame a analizar\n",
    "    \n",
    "    Returns:\n",
    "        DataFrame: Tabla con columnas que tienen valores faltantes y sus porcentajes\n",
    "    \"\"\"\n",
    "    missing = df.isnull().sum()\n",
    "    missing_pct = (missing / len(df) * 100).round(2)\n",
    "\n",
    "    print(f\"Shape: {df.shape[0]} filas × {df.shape[1]} columnas\")\n",
    "    print(f\"Columnas con valores faltantes: {(missing > 0).sum()}\\n\")\n",
    "\n",
    "    return pd.DataFrame({\n",
    "        'Missing': missing[missing > 0],\n",
    "        '% Missing': missing_pct[missing > 0]\n",
    "    }).sort_values('% Missing', ascending=False)\n",
    "\n",
    "# Uso:\n",
    "analizar_valores_faltantes(df)"
   ]
  },
  {
   "cell_type": "markdown",
   "metadata": {},
   "source": [
    "Extraigamos la información anidada de los diccionarios"
   ]
  },
  {
   "cell_type": "code",
   "execution_count": 111,
   "metadata": {},
   "outputs": [
    {
     "data": {
      "text/plain": [
       "(100000, 48)"
      ]
     },
     "execution_count": 111,
     "metadata": {},
     "output_type": "execute_result"
    }
   ],
   "source": [
    "df.shape"
   ]
  },
  {
   "cell_type": "code",
   "execution_count": 112,
   "metadata": {},
   "outputs": [],
   "source": [
    "# seller_address\n",
    "seller_cols = pd.json_normalize(df['seller_address'])\n",
    "df['seller_country'] = seller_cols['country.name']\n",
    "df['seller_state'] = seller_cols['state.name']\n",
    "df['seller_city'] = seller_cols['city.name']\n",
    "\n",
    "# shipping\n",
    "shipping_cols = pd.json_normalize(df['shipping'])\n",
    "df['shipping_local_pick_up'] = shipping_cols['local_pick_up']\n",
    "df['shipping_free_shipping'] = shipping_cols['free_shipping']\n",
    "df['shipping_mode'] = shipping_cols['mode']\n",
    "df['shipping_tags'] = shipping_cols['tags']"
   ]
  },
  {
   "cell_type": "code",
   "execution_count": 113,
   "metadata": {},
   "outputs": [
    {
     "data": {
      "text/plain": [
       "(100000, 55)"
      ]
     },
     "execution_count": 113,
     "metadata": {},
     "output_type": "execute_result"
    }
   ],
   "source": [
    "df.shape"
   ]
  },
  {
   "cell_type": "code",
   "execution_count": 114,
   "metadata": {},
   "outputs": [
    {
     "data": {
      "text/html": [
       "<div>\n",
       "<style scoped>\n",
       "    .dataframe tbody tr th:only-of-type {\n",
       "        vertical-align: middle;\n",
       "    }\n",
       "\n",
       "    .dataframe tbody tr th {\n",
       "        vertical-align: top;\n",
       "    }\n",
       "\n",
       "    .dataframe thead th {\n",
       "        text-align: right;\n",
       "    }\n",
       "</style>\n",
       "<table border=\"1\" class=\"dataframe\">\n",
       "  <thead>\n",
       "    <tr style=\"text-align: right;\">\n",
       "      <th></th>\n",
       "      <th>seller_address</th>\n",
       "      <th>warranty</th>\n",
       "      <th>sub_status</th>\n",
       "      <th>condition</th>\n",
       "      <th>seller_contact</th>\n",
       "      <th>deal_ids</th>\n",
       "      <th>base_price</th>\n",
       "      <th>shipping</th>\n",
       "      <th>non_mercado_pago_payment_methods</th>\n",
       "      <th>seller_id</th>\n",
       "      <th>variations</th>\n",
       "      <th>location</th>\n",
       "      <th>site_id</th>\n",
       "      <th>listing_type_id</th>\n",
       "      <th>price</th>\n",
       "      <th>attributes</th>\n",
       "      <th>buying_mode</th>\n",
       "      <th>tags</th>\n",
       "      <th>listing_source</th>\n",
       "      <th>parent_item_id</th>\n",
       "      <th>coverage_areas</th>\n",
       "      <th>category_id</th>\n",
       "      <th>descriptions</th>\n",
       "      <th>last_updated</th>\n",
       "      <th>international_delivery_mode</th>\n",
       "      <th>pictures</th>\n",
       "      <th>id</th>\n",
       "      <th>official_store_id</th>\n",
       "      <th>differential_pricing</th>\n",
       "      <th>accepts_mercadopago</th>\n",
       "      <th>original_price</th>\n",
       "      <th>currency_id</th>\n",
       "      <th>thumbnail</th>\n",
       "      <th>title</th>\n",
       "      <th>automatic_relist</th>\n",
       "      <th>date_created</th>\n",
       "      <th>secure_thumbnail</th>\n",
       "      <th>stop_time</th>\n",
       "      <th>status</th>\n",
       "      <th>video_id</th>\n",
       "      <th>catalog_product_id</th>\n",
       "      <th>subtitle</th>\n",
       "      <th>initial_quantity</th>\n",
       "      <th>start_time</th>\n",
       "      <th>permalink</th>\n",
       "      <th>geolocation</th>\n",
       "      <th>sold_quantity</th>\n",
       "      <th>available_quantity</th>\n",
       "      <th>seller_country</th>\n",
       "      <th>seller_state</th>\n",
       "      <th>seller_city</th>\n",
       "      <th>shipping_local_pick_up</th>\n",
       "      <th>shipping_free_shipping</th>\n",
       "      <th>shipping_mode</th>\n",
       "      <th>shipping_tags</th>\n",
       "    </tr>\n",
       "  </thead>\n",
       "  <tbody>\n",
       "    <tr>\n",
       "      <th>0</th>\n",
       "      <td>{'comment': '', 'longitude': -58.3986709, 'id': 78162842, 'country': {'name': 'Argentina', 'id': 'AR'}, 'address_line': '', 'latitude': -34.6280698, 'search_location': {'neighborhood': {'name': 'San Cristóbal', 'id': 'TUxBQlNBTjkwNTZa'}, 'state': {'name': 'Capital Federal', 'id': 'TUxBUENBUGw3M2E1'}, 'city': {'name': 'Capital Federal', 'id': 'TUxBQ0NBUGZlZG1sYQ'}}, 'zip_code': '', 'city': {'name': 'San Cristóbal', 'id': 'TUxBQlNBTjkwNTZa'}, 'state': {'name': 'Capital Federal', 'id': 'AR-C'}}</td>\n",
       "      <td>None</td>\n",
       "      <td>[]</td>\n",
       "      <td>new</td>\n",
       "      <td>None</td>\n",
       "      <td>[]</td>\n",
       "      <td>80.0</td>\n",
       "      <td>{'local_pick_up': True, 'methods': [], 'tags': [], 'free_shipping': False, 'mode': 'not_specified', 'dimensions': None}</td>\n",
       "      <td>[{'description': 'Transferencia bancaria', 'id': 'MLATB', 'type': 'G'}, {'description': 'Acordar con el comprador', 'id': 'MLAWC', 'type': 'G'}, {'description': 'Efectivo', 'id': 'MLAMO', 'type': 'G'}]</td>\n",
       "      <td>74952096</td>\n",
       "      <td>[]</td>\n",
       "      <td>{}</td>\n",
       "      <td>MLA</td>\n",
       "      <td>bronze</td>\n",
       "      <td>80.0</td>\n",
       "      <td>[]</td>\n",
       "      <td>buy_it_now</td>\n",
       "      <td>[dragged_bids_and_visits]</td>\n",
       "      <td></td>\n",
       "      <td>MLA568261029</td>\n",
       "      <td>[]</td>\n",
       "      <td>MLA126406</td>\n",
       "      <td>[{'id': 'MLA578052519-912855983'}]</td>\n",
       "      <td>2015-09-05T20:42:58.000Z</td>\n",
       "      <td>none</td>\n",
       "      <td>[{'size': '500x375', 'secure_url': 'https://a248.e.akamai.net/mla-s1-p.mlstatic.com/5386-MLA4352067878_052013-O.jpg', 'max_size': '1200x900', 'url': 'http://mla-s1-p.mlstatic.com/5386-MLA4352067878_052013-O.jpg', 'quality': '', 'id': '5386-MLA4352067878_052013'}, {'size': '500x375', 'secure_url': 'https://a248.e.akamai.net/mla-s1-p.mlstatic.com/5361-MLA4352068035_052013-O.jpg', 'max_size': '1200x900', 'url': 'http://mla-s1-p.mlstatic.com/5361-MLA4352068035_052013-O.jpg', 'quality': '', 'id': '5361-MLA4352068035_052013'}]</td>\n",
       "      <td>MLA578052519</td>\n",
       "      <td>NaN</td>\n",
       "      <td>NaN</td>\n",
       "      <td>True</td>\n",
       "      <td>NaN</td>\n",
       "      <td>ARS</td>\n",
       "      <td>http://mla-s1-p.mlstatic.com/5386-MLA4352067878_052013-I.jpg</td>\n",
       "      <td>Auriculares Samsung Originales Manos Libres Cable Usb Oferta</td>\n",
       "      <td>False</td>\n",
       "      <td>2015-09-05T20:42:53.000Z</td>\n",
       "      <td>https://a248.e.akamai.net/mla-s1-p.mlstatic.com/5386-MLA4352067878_052013-I.jpg</td>\n",
       "      <td>2015-11-04 20:42:53+00:00</td>\n",
       "      <td>active</td>\n",
       "      <td>None</td>\n",
       "      <td>NaN</td>\n",
       "      <td>NaN</td>\n",
       "      <td>1</td>\n",
       "      <td>2015-09-05 20:42:53+00:00</td>\n",
       "      <td>http://articulo.mercadolibre.com.ar/MLA-578052519-auriculares-samsung-originales-manos-libres-cable-usb-oferta-_JM</td>\n",
       "      <td>{'latitude': -34.6280698, 'longitude': -58.3986709}</td>\n",
       "      <td>0</td>\n",
       "      <td>1</td>\n",
       "      <td>Argentina</td>\n",
       "      <td>Capital Federal</td>\n",
       "      <td>San Cristóbal</td>\n",
       "      <td>True</td>\n",
       "      <td>False</td>\n",
       "      <td>not_specified</td>\n",
       "      <td>[]</td>\n",
       "    </tr>\n",
       "  </tbody>\n",
       "</table>\n",
       "</div>"
      ],
      "text/plain": [
       "                                                                                                                                                                                                                                                                                                                                                                                                                                                                                                     seller_address  \\\n",
       "0  {'comment': '', 'longitude': -58.3986709, 'id': 78162842, 'country': {'name': 'Argentina', 'id': 'AR'}, 'address_line': '', 'latitude': -34.6280698, 'search_location': {'neighborhood': {'name': 'San Cristóbal', 'id': 'TUxBQlNBTjkwNTZa'}, 'state': {'name': 'Capital Federal', 'id': 'TUxBUENBUGw3M2E1'}, 'city': {'name': 'Capital Federal', 'id': 'TUxBQ0NBUGZlZG1sYQ'}}, 'zip_code': '', 'city': {'name': 'San Cristóbal', 'id': 'TUxBQlNBTjkwNTZa'}, 'state': {'name': 'Capital Federal', 'id': 'AR-C'}}   \n",
       "\n",
       "  warranty sub_status condition seller_contact deal_ids  base_price  \\\n",
       "0     None         []       new           None       []        80.0   \n",
       "\n",
       "                                                                                                                  shipping  \\\n",
       "0  {'local_pick_up': True, 'methods': [], 'tags': [], 'free_shipping': False, 'mode': 'not_specified', 'dimensions': None}   \n",
       "\n",
       "                                                                                                                                                                            non_mercado_pago_payment_methods  \\\n",
       "0  [{'description': 'Transferencia bancaria', 'id': 'MLATB', 'type': 'G'}, {'description': 'Acordar con el comprador', 'id': 'MLAWC', 'type': 'G'}, {'description': 'Efectivo', 'id': 'MLAMO', 'type': 'G'}]   \n",
       "\n",
       "   seller_id variations location site_id listing_type_id  price attributes  \\\n",
       "0   74952096         []       {}     MLA          bronze   80.0         []   \n",
       "\n",
       "  buying_mode                       tags listing_source parent_item_id  \\\n",
       "0  buy_it_now  [dragged_bids_and_visits]                  MLA568261029   \n",
       "\n",
       "  coverage_areas category_id                        descriptions  \\\n",
       "0             []   MLA126406  [{'id': 'MLA578052519-912855983'}]   \n",
       "\n",
       "               last_updated international_delivery_mode  \\\n",
       "0  2015-09-05T20:42:58.000Z                        none   \n",
       "\n",
       "                                                                                                                                                                                                                                                                                                                                                                                                                                                                                                                                         pictures  \\\n",
       "0  [{'size': '500x375', 'secure_url': 'https://a248.e.akamai.net/mla-s1-p.mlstatic.com/5386-MLA4352067878_052013-O.jpg', 'max_size': '1200x900', 'url': 'http://mla-s1-p.mlstatic.com/5386-MLA4352067878_052013-O.jpg', 'quality': '', 'id': '5386-MLA4352067878_052013'}, {'size': '500x375', 'secure_url': 'https://a248.e.akamai.net/mla-s1-p.mlstatic.com/5361-MLA4352068035_052013-O.jpg', 'max_size': '1200x900', 'url': 'http://mla-s1-p.mlstatic.com/5361-MLA4352068035_052013-O.jpg', 'quality': '', 'id': '5361-MLA4352068035_052013'}]   \n",
       "\n",
       "             id  official_store_id  differential_pricing  accepts_mercadopago  \\\n",
       "0  MLA578052519                NaN                   NaN                 True   \n",
       "\n",
       "   original_price currency_id  \\\n",
       "0             NaN         ARS   \n",
       "\n",
       "                                                      thumbnail  \\\n",
       "0  http://mla-s1-p.mlstatic.com/5386-MLA4352067878_052013-I.jpg   \n",
       "\n",
       "                                                          title  \\\n",
       "0  Auriculares Samsung Originales Manos Libres Cable Usb Oferta   \n",
       "\n",
       "   automatic_relist              date_created  \\\n",
       "0             False  2015-09-05T20:42:53.000Z   \n",
       "\n",
       "                                                                  secure_thumbnail  \\\n",
       "0  https://a248.e.akamai.net/mla-s1-p.mlstatic.com/5386-MLA4352067878_052013-I.jpg   \n",
       "\n",
       "                  stop_time  status video_id  catalog_product_id  subtitle  \\\n",
       "0 2015-11-04 20:42:53+00:00  active     None                 NaN       NaN   \n",
       "\n",
       "   initial_quantity                start_time  \\\n",
       "0                 1 2015-09-05 20:42:53+00:00   \n",
       "\n",
       "                                                                                                            permalink  \\\n",
       "0  http://articulo.mercadolibre.com.ar/MLA-578052519-auriculares-samsung-originales-manos-libres-cable-usb-oferta-_JM   \n",
       "\n",
       "                                           geolocation  sold_quantity  \\\n",
       "0  {'latitude': -34.6280698, 'longitude': -58.3986709}              0   \n",
       "\n",
       "   available_quantity seller_country     seller_state    seller_city  \\\n",
       "0                   1      Argentina  Capital Federal  San Cristóbal   \n",
       "\n",
       "   shipping_local_pick_up  shipping_free_shipping  shipping_mode shipping_tags  \n",
       "0                    True                   False  not_specified            []  "
      ]
     },
     "execution_count": 114,
     "metadata": {},
     "output_type": "execute_result"
    }
   ],
   "source": [
    "df.head(1)"
   ]
  },
  {
   "cell_type": "markdown",
   "metadata": {},
   "source": [
    "Ahora vamos a transformar la columna `non_mercado_pago_payment_methods`. Se deben convertir los valores a minúscula y remover los acentos. Luego se crearán columnas booleanas para cada método de pago."
   ]
  },
  {
   "cell_type": "code",
   "execution_count": 115,
   "metadata": {},
   "outputs": [],
   "source": [
    "from sklearn.preprocessing import MultiLabelBinarizer\n",
    "import re\n",
    "import unicodedata\n",
    "\n",
    "def clean_column_name(name):\n",
    "    \"\"\"Normaliza nombres para usar como columnas de DataFrame.\"\"\"\n",
    "    name = name.lower().strip()  # Minúsculas\n",
    "    name = unicodedata.normalize(\"NFKD\", name).encode(\"ASCII\", \"ignore\").decode(\"utf-8\")  # Sin tildes\n",
    "    name = re.sub(r\"\\s+\", \"_\", name)  # Espacios → guiones bajos\n",
    "    return name\n",
    "\n",
    "# Extraer decripciones de métodos de pago\n",
    "\n",
    "payment_methods = df['non_mercado_pago_payment_methods'].apply(\n",
    "    lambda x: [clean_column_name(p['description']) for p in x] if isinstance(x, list) else []\n",
    ")\n",
    "\n",
    "# Multilable encoding\n",
    "\n",
    "mlb = MultiLabelBinarizer()\n",
    "payment_encoded = pd.DataFrame(\n",
    "    mlb.fit_transform(payment_methods),\n",
    "    columns=mlb.classes_,\n",
    "    index=df.index\n",
    ")\n",
    "\n",
    "df = pd.concat([df, payment_encoded], axis=1)"
   ]
  },
  {
   "cell_type": "code",
   "execution_count": 116,
   "metadata": {},
   "outputs": [
    {
     "data": {
      "text/plain": [
       "(100000, 69)"
      ]
     },
     "execution_count": 116,
     "metadata": {},
     "output_type": "execute_result"
    }
   ],
   "source": [
    "df.shape"
   ]
  },
  {
   "cell_type": "code",
   "execution_count": 117,
   "metadata": {},
   "outputs": [],
   "source": [
    "# Alternativa más legible para extraer descripciones de métodos de pago\n",
    "\n",
    "# def extract_payment_descriptions(payment_list):\n",
    "#     \"\"\"Extrae y limpia descripciones de métodos de pago\"\"\"\n",
    "#     if not isinstance(payment_list, list):\n",
    "#         return []\n",
    "\n",
    "#     clean_names = []\n",
    "#     for payment in payment_list:\n",
    "#         clean_name = clean_column_name(payment['description'])\n",
    "#         clean_names.append(clean_name)\n",
    "\n",
    "#     return clean_names\n",
    "\n",
    "# payment_methods = df['non_mercado_pago_payment_methods'].apply(extract_payment_descriptions)"
   ]
  },
  {
   "cell_type": "code",
   "execution_count": 118,
   "metadata": {},
   "outputs": [
    {
     "data": {
      "text/html": [
       "<div>\n",
       "<style scoped>\n",
       "    .dataframe tbody tr th:only-of-type {\n",
       "        vertical-align: middle;\n",
       "    }\n",
       "\n",
       "    .dataframe tbody tr th {\n",
       "        vertical-align: top;\n",
       "    }\n",
       "\n",
       "    .dataframe thead th {\n",
       "        text-align: right;\n",
       "    }\n",
       "</style>\n",
       "<table border=\"1\" class=\"dataframe\">\n",
       "  <thead>\n",
       "    <tr style=\"text-align: right;\">\n",
       "      <th></th>\n",
       "      <th>seller_address</th>\n",
       "      <th>warranty</th>\n",
       "      <th>sub_status</th>\n",
       "      <th>condition</th>\n",
       "      <th>seller_contact</th>\n",
       "      <th>deal_ids</th>\n",
       "      <th>base_price</th>\n",
       "      <th>shipping</th>\n",
       "      <th>non_mercado_pago_payment_methods</th>\n",
       "      <th>seller_id</th>\n",
       "      <th>variations</th>\n",
       "      <th>location</th>\n",
       "      <th>site_id</th>\n",
       "      <th>listing_type_id</th>\n",
       "      <th>price</th>\n",
       "      <th>attributes</th>\n",
       "      <th>buying_mode</th>\n",
       "      <th>tags</th>\n",
       "      <th>listing_source</th>\n",
       "      <th>parent_item_id</th>\n",
       "      <th>coverage_areas</th>\n",
       "      <th>category_id</th>\n",
       "      <th>descriptions</th>\n",
       "      <th>last_updated</th>\n",
       "      <th>international_delivery_mode</th>\n",
       "      <th>pictures</th>\n",
       "      <th>id</th>\n",
       "      <th>official_store_id</th>\n",
       "      <th>differential_pricing</th>\n",
       "      <th>accepts_mercadopago</th>\n",
       "      <th>original_price</th>\n",
       "      <th>currency_id</th>\n",
       "      <th>thumbnail</th>\n",
       "      <th>title</th>\n",
       "      <th>automatic_relist</th>\n",
       "      <th>date_created</th>\n",
       "      <th>secure_thumbnail</th>\n",
       "      <th>stop_time</th>\n",
       "      <th>status</th>\n",
       "      <th>video_id</th>\n",
       "      <th>catalog_product_id</th>\n",
       "      <th>subtitle</th>\n",
       "      <th>initial_quantity</th>\n",
       "      <th>start_time</th>\n",
       "      <th>permalink</th>\n",
       "      <th>geolocation</th>\n",
       "      <th>sold_quantity</th>\n",
       "      <th>available_quantity</th>\n",
       "      <th>seller_country</th>\n",
       "      <th>seller_state</th>\n",
       "      <th>seller_city</th>\n",
       "      <th>shipping_local_pick_up</th>\n",
       "      <th>shipping_free_shipping</th>\n",
       "      <th>shipping_mode</th>\n",
       "      <th>shipping_tags</th>\n",
       "      <th>acordar_con_el_comprador</th>\n",
       "      <th>american_express</th>\n",
       "      <th>cheque_certificado</th>\n",
       "      <th>contra_reembolso</th>\n",
       "      <th>diners</th>\n",
       "      <th>efectivo</th>\n",
       "      <th>giro_postal</th>\n",
       "      <th>mastercard</th>\n",
       "      <th>mastercard_maestro</th>\n",
       "      <th>mercadopago</th>\n",
       "      <th>tarjeta_de_credito</th>\n",
       "      <th>transferencia_bancaria</th>\n",
       "      <th>visa</th>\n",
       "      <th>visa_electron</th>\n",
       "    </tr>\n",
       "  </thead>\n",
       "  <tbody>\n",
       "    <tr>\n",
       "      <th>0</th>\n",
       "      <td>{'comment': '', 'longitude': -58.3986709, 'id': 78162842, 'country': {'name': 'Argentina', 'id': 'AR'}, 'address_line': '', 'latitude': -34.6280698, 'search_location': {'neighborhood': {'name': 'San Cristóbal', 'id': 'TUxBQlNBTjkwNTZa'}, 'state': {'name': 'Capital Federal', 'id': 'TUxBUENBUGw3M2E1'}, 'city': {'name': 'Capital Federal', 'id': 'TUxBQ0NBUGZlZG1sYQ'}}, 'zip_code': '', 'city': {'name': 'San Cristóbal', 'id': 'TUxBQlNBTjkwNTZa'}, 'state': {'name': 'Capital Federal', 'id': 'AR-C'}}</td>\n",
       "      <td>None</td>\n",
       "      <td>[]</td>\n",
       "      <td>new</td>\n",
       "      <td>None</td>\n",
       "      <td>[]</td>\n",
       "      <td>80.0</td>\n",
       "      <td>{'local_pick_up': True, 'methods': [], 'tags': [], 'free_shipping': False, 'mode': 'not_specified', 'dimensions': None}</td>\n",
       "      <td>[{'description': 'Transferencia bancaria', 'id': 'MLATB', 'type': 'G'}, {'description': 'Acordar con el comprador', 'id': 'MLAWC', 'type': 'G'}, {'description': 'Efectivo', 'id': 'MLAMO', 'type': 'G'}]</td>\n",
       "      <td>74952096</td>\n",
       "      <td>[]</td>\n",
       "      <td>{}</td>\n",
       "      <td>MLA</td>\n",
       "      <td>bronze</td>\n",
       "      <td>80.0</td>\n",
       "      <td>[]</td>\n",
       "      <td>buy_it_now</td>\n",
       "      <td>[dragged_bids_and_visits]</td>\n",
       "      <td></td>\n",
       "      <td>MLA568261029</td>\n",
       "      <td>[]</td>\n",
       "      <td>MLA126406</td>\n",
       "      <td>[{'id': 'MLA578052519-912855983'}]</td>\n",
       "      <td>2015-09-05T20:42:58.000Z</td>\n",
       "      <td>none</td>\n",
       "      <td>[{'size': '500x375', 'secure_url': 'https://a248.e.akamai.net/mla-s1-p.mlstatic.com/5386-MLA4352067878_052013-O.jpg', 'max_size': '1200x900', 'url': 'http://mla-s1-p.mlstatic.com/5386-MLA4352067878_052013-O.jpg', 'quality': '', 'id': '5386-MLA4352067878_052013'}, {'size': '500x375', 'secure_url': 'https://a248.e.akamai.net/mla-s1-p.mlstatic.com/5361-MLA4352068035_052013-O.jpg', 'max_size': '1200x900', 'url': 'http://mla-s1-p.mlstatic.com/5361-MLA4352068035_052013-O.jpg', 'quality': '', 'id': '5361-MLA4352068035_052013'}]</td>\n",
       "      <td>MLA578052519</td>\n",
       "      <td>NaN</td>\n",
       "      <td>NaN</td>\n",
       "      <td>True</td>\n",
       "      <td>NaN</td>\n",
       "      <td>ARS</td>\n",
       "      <td>http://mla-s1-p.mlstatic.com/5386-MLA4352067878_052013-I.jpg</td>\n",
       "      <td>Auriculares Samsung Originales Manos Libres Cable Usb Oferta</td>\n",
       "      <td>False</td>\n",
       "      <td>2015-09-05T20:42:53.000Z</td>\n",
       "      <td>https://a248.e.akamai.net/mla-s1-p.mlstatic.com/5386-MLA4352067878_052013-I.jpg</td>\n",
       "      <td>2015-11-04 20:42:53+00:00</td>\n",
       "      <td>active</td>\n",
       "      <td>None</td>\n",
       "      <td>NaN</td>\n",
       "      <td>NaN</td>\n",
       "      <td>1</td>\n",
       "      <td>2015-09-05 20:42:53+00:00</td>\n",
       "      <td>http://articulo.mercadolibre.com.ar/MLA-578052519-auriculares-samsung-originales-manos-libres-cable-usb-oferta-_JM</td>\n",
       "      <td>{'latitude': -34.6280698, 'longitude': -58.3986709}</td>\n",
       "      <td>0</td>\n",
       "      <td>1</td>\n",
       "      <td>Argentina</td>\n",
       "      <td>Capital Federal</td>\n",
       "      <td>San Cristóbal</td>\n",
       "      <td>True</td>\n",
       "      <td>False</td>\n",
       "      <td>not_specified</td>\n",
       "      <td>[]</td>\n",
       "      <td>1</td>\n",
       "      <td>0</td>\n",
       "      <td>0</td>\n",
       "      <td>0</td>\n",
       "      <td>0</td>\n",
       "      <td>1</td>\n",
       "      <td>0</td>\n",
       "      <td>0</td>\n",
       "      <td>0</td>\n",
       "      <td>0</td>\n",
       "      <td>0</td>\n",
       "      <td>1</td>\n",
       "      <td>0</td>\n",
       "      <td>0</td>\n",
       "    </tr>\n",
       "  </tbody>\n",
       "</table>\n",
       "</div>"
      ],
      "text/plain": [
       "                                                                                                                                                                                                                                                                                                                                                                                                                                                                                                     seller_address  \\\n",
       "0  {'comment': '', 'longitude': -58.3986709, 'id': 78162842, 'country': {'name': 'Argentina', 'id': 'AR'}, 'address_line': '', 'latitude': -34.6280698, 'search_location': {'neighborhood': {'name': 'San Cristóbal', 'id': 'TUxBQlNBTjkwNTZa'}, 'state': {'name': 'Capital Federal', 'id': 'TUxBUENBUGw3M2E1'}, 'city': {'name': 'Capital Federal', 'id': 'TUxBQ0NBUGZlZG1sYQ'}}, 'zip_code': '', 'city': {'name': 'San Cristóbal', 'id': 'TUxBQlNBTjkwNTZa'}, 'state': {'name': 'Capital Federal', 'id': 'AR-C'}}   \n",
       "\n",
       "  warranty sub_status condition seller_contact deal_ids  base_price  \\\n",
       "0     None         []       new           None       []        80.0   \n",
       "\n",
       "                                                                                                                  shipping  \\\n",
       "0  {'local_pick_up': True, 'methods': [], 'tags': [], 'free_shipping': False, 'mode': 'not_specified', 'dimensions': None}   \n",
       "\n",
       "                                                                                                                                                                            non_mercado_pago_payment_methods  \\\n",
       "0  [{'description': 'Transferencia bancaria', 'id': 'MLATB', 'type': 'G'}, {'description': 'Acordar con el comprador', 'id': 'MLAWC', 'type': 'G'}, {'description': 'Efectivo', 'id': 'MLAMO', 'type': 'G'}]   \n",
       "\n",
       "   seller_id variations location site_id listing_type_id  price attributes  \\\n",
       "0   74952096         []       {}     MLA          bronze   80.0         []   \n",
       "\n",
       "  buying_mode                       tags listing_source parent_item_id  \\\n",
       "0  buy_it_now  [dragged_bids_and_visits]                  MLA568261029   \n",
       "\n",
       "  coverage_areas category_id                        descriptions  \\\n",
       "0             []   MLA126406  [{'id': 'MLA578052519-912855983'}]   \n",
       "\n",
       "               last_updated international_delivery_mode  \\\n",
       "0  2015-09-05T20:42:58.000Z                        none   \n",
       "\n",
       "                                                                                                                                                                                                                                                                                                                                                                                                                                                                                                                                         pictures  \\\n",
       "0  [{'size': '500x375', 'secure_url': 'https://a248.e.akamai.net/mla-s1-p.mlstatic.com/5386-MLA4352067878_052013-O.jpg', 'max_size': '1200x900', 'url': 'http://mla-s1-p.mlstatic.com/5386-MLA4352067878_052013-O.jpg', 'quality': '', 'id': '5386-MLA4352067878_052013'}, {'size': '500x375', 'secure_url': 'https://a248.e.akamai.net/mla-s1-p.mlstatic.com/5361-MLA4352068035_052013-O.jpg', 'max_size': '1200x900', 'url': 'http://mla-s1-p.mlstatic.com/5361-MLA4352068035_052013-O.jpg', 'quality': '', 'id': '5361-MLA4352068035_052013'}]   \n",
       "\n",
       "             id  official_store_id  differential_pricing  accepts_mercadopago  \\\n",
       "0  MLA578052519                NaN                   NaN                 True   \n",
       "\n",
       "   original_price currency_id  \\\n",
       "0             NaN         ARS   \n",
       "\n",
       "                                                      thumbnail  \\\n",
       "0  http://mla-s1-p.mlstatic.com/5386-MLA4352067878_052013-I.jpg   \n",
       "\n",
       "                                                          title  \\\n",
       "0  Auriculares Samsung Originales Manos Libres Cable Usb Oferta   \n",
       "\n",
       "   automatic_relist              date_created  \\\n",
       "0             False  2015-09-05T20:42:53.000Z   \n",
       "\n",
       "                                                                  secure_thumbnail  \\\n",
       "0  https://a248.e.akamai.net/mla-s1-p.mlstatic.com/5386-MLA4352067878_052013-I.jpg   \n",
       "\n",
       "                  stop_time  status video_id  catalog_product_id  subtitle  \\\n",
       "0 2015-11-04 20:42:53+00:00  active     None                 NaN       NaN   \n",
       "\n",
       "   initial_quantity                start_time  \\\n",
       "0                 1 2015-09-05 20:42:53+00:00   \n",
       "\n",
       "                                                                                                            permalink  \\\n",
       "0  http://articulo.mercadolibre.com.ar/MLA-578052519-auriculares-samsung-originales-manos-libres-cable-usb-oferta-_JM   \n",
       "\n",
       "                                           geolocation  sold_quantity  \\\n",
       "0  {'latitude': -34.6280698, 'longitude': -58.3986709}              0   \n",
       "\n",
       "   available_quantity seller_country     seller_state    seller_city  \\\n",
       "0                   1      Argentina  Capital Federal  San Cristóbal   \n",
       "\n",
       "   shipping_local_pick_up  shipping_free_shipping  shipping_mode  \\\n",
       "0                    True                   False  not_specified   \n",
       "\n",
       "  shipping_tags  acordar_con_el_comprador  american_express  \\\n",
       "0            []                         1                 0   \n",
       "\n",
       "   cheque_certificado  contra_reembolso  diners  efectivo  giro_postal  \\\n",
       "0                   0                 0       0         1            0   \n",
       "\n",
       "   mastercard  mastercard_maestro  mercadopago  tarjeta_de_credito  \\\n",
       "0           0                   0            0                   0   \n",
       "\n",
       "   transferencia_bancaria  visa  visa_electron  \n",
       "0                       1     0              0  "
      ]
     },
     "execution_count": 118,
     "metadata": {},
     "output_type": "execute_result"
    }
   ],
   "source": [
    "df.head(1)"
   ]
  },
  {
   "cell_type": "markdown",
   "metadata": {},
   "source": [
    "Ahora analicemos la columna `tag`"
   ]
  },
  {
   "cell_type": "code",
   "execution_count": 119,
   "metadata": {},
   "outputs": [
    {
     "data": {
      "text/plain": [
       "tags\n",
       "[dragged_bids_and_visits]                            72551\n",
       "[]                                                   24910\n",
       "[good_quality_thumbnail, dragged_bids_and_visits]     1330\n",
       "[dragged_visits]                                       516\n",
       "[good_quality_thumbnail]                               392\n",
       "[dragged_visits, free_relist]                          285\n",
       "[poor_quality_thumbnail, dragged_bids_and_visits]       11\n",
       "[poor_quality_thumbnail]                                 5\n",
       "Name: count, dtype: int64"
      ]
     },
     "execution_count": 119,
     "metadata": {},
     "output_type": "execute_result"
    }
   ],
   "source": [
    "df.tags.value_counts()"
   ]
  },
  {
   "cell_type": "markdown",
   "metadata": {},
   "source": [
    "We will build the columns with these values ​​and create numeric variables with these values. For this we will use dummies."
   ]
  },
  {
   "cell_type": "code",
   "execution_count": 120,
   "metadata": {},
   "outputs": [
    {
     "name": "stdout",
     "output_type": "stream",
     "text": [
      "(100000, 69)\n",
      "(100000, 74)\n"
     ]
    }
   ],
   "source": [
    "# Manejar valores nulos y no-listas\n",
    "\n",
    "print(df.shape)\n",
    "\n",
    "tags_clean = df['tags'].apply(lambda x: x if isinstance(x, list) else []) # Para evitar fallos en MultiLabelBinarizer\n",
    "\n",
    "mlb = MultiLabelBinarizer()\n",
    "tags_encoded = pd.DataFrame(\n",
    "    mlb.fit_transform(tags_clean),\n",
    "    columns=mlb.classes_,\n",
    "    index=df.index\n",
    ")\n",
    "\n",
    "df = pd.concat([df, tags_encoded], axis=1)\n",
    "\n",
    "print(df.shape)"
   ]
  },
  {
   "cell_type": "code",
   "execution_count": 121,
   "metadata": {},
   "outputs": [
    {
     "data": {
      "text/html": [
       "<div>\n",
       "<style scoped>\n",
       "    .dataframe tbody tr th:only-of-type {\n",
       "        vertical-align: middle;\n",
       "    }\n",
       "\n",
       "    .dataframe tbody tr th {\n",
       "        vertical-align: top;\n",
       "    }\n",
       "\n",
       "    .dataframe thead th {\n",
       "        text-align: right;\n",
       "    }\n",
       "</style>\n",
       "<table border=\"1\" class=\"dataframe\">\n",
       "  <thead>\n",
       "    <tr style=\"text-align: right;\">\n",
       "      <th></th>\n",
       "      <th>seller_address</th>\n",
       "      <th>warranty</th>\n",
       "      <th>sub_status</th>\n",
       "      <th>condition</th>\n",
       "      <th>seller_contact</th>\n",
       "      <th>deal_ids</th>\n",
       "      <th>base_price</th>\n",
       "      <th>shipping</th>\n",
       "      <th>non_mercado_pago_payment_methods</th>\n",
       "      <th>seller_id</th>\n",
       "      <th>variations</th>\n",
       "      <th>location</th>\n",
       "      <th>site_id</th>\n",
       "      <th>listing_type_id</th>\n",
       "      <th>price</th>\n",
       "      <th>attributes</th>\n",
       "      <th>buying_mode</th>\n",
       "      <th>tags</th>\n",
       "      <th>listing_source</th>\n",
       "      <th>parent_item_id</th>\n",
       "      <th>coverage_areas</th>\n",
       "      <th>category_id</th>\n",
       "      <th>descriptions</th>\n",
       "      <th>last_updated</th>\n",
       "      <th>international_delivery_mode</th>\n",
       "      <th>pictures</th>\n",
       "      <th>id</th>\n",
       "      <th>official_store_id</th>\n",
       "      <th>differential_pricing</th>\n",
       "      <th>accepts_mercadopago</th>\n",
       "      <th>original_price</th>\n",
       "      <th>currency_id</th>\n",
       "      <th>thumbnail</th>\n",
       "      <th>title</th>\n",
       "      <th>automatic_relist</th>\n",
       "      <th>date_created</th>\n",
       "      <th>secure_thumbnail</th>\n",
       "      <th>stop_time</th>\n",
       "      <th>status</th>\n",
       "      <th>video_id</th>\n",
       "      <th>catalog_product_id</th>\n",
       "      <th>subtitle</th>\n",
       "      <th>initial_quantity</th>\n",
       "      <th>start_time</th>\n",
       "      <th>permalink</th>\n",
       "      <th>geolocation</th>\n",
       "      <th>sold_quantity</th>\n",
       "      <th>available_quantity</th>\n",
       "      <th>seller_country</th>\n",
       "      <th>seller_state</th>\n",
       "      <th>seller_city</th>\n",
       "      <th>shipping_local_pick_up</th>\n",
       "      <th>shipping_free_shipping</th>\n",
       "      <th>shipping_mode</th>\n",
       "      <th>shipping_tags</th>\n",
       "      <th>acordar_con_el_comprador</th>\n",
       "      <th>american_express</th>\n",
       "      <th>cheque_certificado</th>\n",
       "      <th>contra_reembolso</th>\n",
       "      <th>diners</th>\n",
       "      <th>efectivo</th>\n",
       "      <th>giro_postal</th>\n",
       "      <th>mastercard</th>\n",
       "      <th>mastercard_maestro</th>\n",
       "      <th>mercadopago</th>\n",
       "      <th>tarjeta_de_credito</th>\n",
       "      <th>transferencia_bancaria</th>\n",
       "      <th>visa</th>\n",
       "      <th>visa_electron</th>\n",
       "      <th>dragged_bids_and_visits</th>\n",
       "      <th>dragged_visits</th>\n",
       "      <th>free_relist</th>\n",
       "      <th>good_quality_thumbnail</th>\n",
       "      <th>poor_quality_thumbnail</th>\n",
       "    </tr>\n",
       "  </thead>\n",
       "  <tbody>\n",
       "    <tr>\n",
       "      <th>0</th>\n",
       "      <td>{'comment': '', 'longitude': -58.3986709, 'id': 78162842, 'country': {'name': 'Argentina', 'id': 'AR'}, 'address_line': '', 'latitude': -34.6280698, 'search_location': {'neighborhood': {'name': 'San Cristóbal', 'id': 'TUxBQlNBTjkwNTZa'}, 'state': {'name': 'Capital Federal', 'id': 'TUxBUENBUGw3M2E1'}, 'city': {'name': 'Capital Federal', 'id': 'TUxBQ0NBUGZlZG1sYQ'}}, 'zip_code': '', 'city': {'name': 'San Cristóbal', 'id': 'TUxBQlNBTjkwNTZa'}, 'state': {'name': 'Capital Federal', 'id': 'AR-C'}}</td>\n",
       "      <td>None</td>\n",
       "      <td>[]</td>\n",
       "      <td>new</td>\n",
       "      <td>None</td>\n",
       "      <td>[]</td>\n",
       "      <td>80.0</td>\n",
       "      <td>{'local_pick_up': True, 'methods': [], 'tags': [], 'free_shipping': False, 'mode': 'not_specified', 'dimensions': None}</td>\n",
       "      <td>[{'description': 'Transferencia bancaria', 'id': 'MLATB', 'type': 'G'}, {'description': 'Acordar con el comprador', 'id': 'MLAWC', 'type': 'G'}, {'description': 'Efectivo', 'id': 'MLAMO', 'type': 'G'}]</td>\n",
       "      <td>74952096</td>\n",
       "      <td>[]</td>\n",
       "      <td>{}</td>\n",
       "      <td>MLA</td>\n",
       "      <td>bronze</td>\n",
       "      <td>80.0</td>\n",
       "      <td>[]</td>\n",
       "      <td>buy_it_now</td>\n",
       "      <td>[dragged_bids_and_visits]</td>\n",
       "      <td></td>\n",
       "      <td>MLA568261029</td>\n",
       "      <td>[]</td>\n",
       "      <td>MLA126406</td>\n",
       "      <td>[{'id': 'MLA578052519-912855983'}]</td>\n",
       "      <td>2015-09-05T20:42:58.000Z</td>\n",
       "      <td>none</td>\n",
       "      <td>[{'size': '500x375', 'secure_url': 'https://a248.e.akamai.net/mla-s1-p.mlstatic.com/5386-MLA4352067878_052013-O.jpg', 'max_size': '1200x900', 'url': 'http://mla-s1-p.mlstatic.com/5386-MLA4352067878_052013-O.jpg', 'quality': '', 'id': '5386-MLA4352067878_052013'}, {'size': '500x375', 'secure_url': 'https://a248.e.akamai.net/mla-s1-p.mlstatic.com/5361-MLA4352068035_052013-O.jpg', 'max_size': '1200x900', 'url': 'http://mla-s1-p.mlstatic.com/5361-MLA4352068035_052013-O.jpg', 'quality': '', 'id': '5361-MLA4352068035_052013'}]</td>\n",
       "      <td>MLA578052519</td>\n",
       "      <td>NaN</td>\n",
       "      <td>NaN</td>\n",
       "      <td>True</td>\n",
       "      <td>NaN</td>\n",
       "      <td>ARS</td>\n",
       "      <td>http://mla-s1-p.mlstatic.com/5386-MLA4352067878_052013-I.jpg</td>\n",
       "      <td>Auriculares Samsung Originales Manos Libres Cable Usb Oferta</td>\n",
       "      <td>False</td>\n",
       "      <td>2015-09-05T20:42:53.000Z</td>\n",
       "      <td>https://a248.e.akamai.net/mla-s1-p.mlstatic.com/5386-MLA4352067878_052013-I.jpg</td>\n",
       "      <td>2015-11-04 20:42:53+00:00</td>\n",
       "      <td>active</td>\n",
       "      <td>None</td>\n",
       "      <td>NaN</td>\n",
       "      <td>NaN</td>\n",
       "      <td>1</td>\n",
       "      <td>2015-09-05 20:42:53+00:00</td>\n",
       "      <td>http://articulo.mercadolibre.com.ar/MLA-578052519-auriculares-samsung-originales-manos-libres-cable-usb-oferta-_JM</td>\n",
       "      <td>{'latitude': -34.6280698, 'longitude': -58.3986709}</td>\n",
       "      <td>0</td>\n",
       "      <td>1</td>\n",
       "      <td>Argentina</td>\n",
       "      <td>Capital Federal</td>\n",
       "      <td>San Cristóbal</td>\n",
       "      <td>True</td>\n",
       "      <td>False</td>\n",
       "      <td>not_specified</td>\n",
       "      <td>[]</td>\n",
       "      <td>1</td>\n",
       "      <td>0</td>\n",
       "      <td>0</td>\n",
       "      <td>0</td>\n",
       "      <td>0</td>\n",
       "      <td>1</td>\n",
       "      <td>0</td>\n",
       "      <td>0</td>\n",
       "      <td>0</td>\n",
       "      <td>0</td>\n",
       "      <td>0</td>\n",
       "      <td>1</td>\n",
       "      <td>0</td>\n",
       "      <td>0</td>\n",
       "      <td>1</td>\n",
       "      <td>0</td>\n",
       "      <td>0</td>\n",
       "      <td>0</td>\n",
       "      <td>0</td>\n",
       "    </tr>\n",
       "  </tbody>\n",
       "</table>\n",
       "</div>"
      ],
      "text/plain": [
       "                                                                                                                                                                                                                                                                                                                                                                                                                                                                                                     seller_address  \\\n",
       "0  {'comment': '', 'longitude': -58.3986709, 'id': 78162842, 'country': {'name': 'Argentina', 'id': 'AR'}, 'address_line': '', 'latitude': -34.6280698, 'search_location': {'neighborhood': {'name': 'San Cristóbal', 'id': 'TUxBQlNBTjkwNTZa'}, 'state': {'name': 'Capital Federal', 'id': 'TUxBUENBUGw3M2E1'}, 'city': {'name': 'Capital Federal', 'id': 'TUxBQ0NBUGZlZG1sYQ'}}, 'zip_code': '', 'city': {'name': 'San Cristóbal', 'id': 'TUxBQlNBTjkwNTZa'}, 'state': {'name': 'Capital Federal', 'id': 'AR-C'}}   \n",
       "\n",
       "  warranty sub_status condition seller_contact deal_ids  base_price  \\\n",
       "0     None         []       new           None       []        80.0   \n",
       "\n",
       "                                                                                                                  shipping  \\\n",
       "0  {'local_pick_up': True, 'methods': [], 'tags': [], 'free_shipping': False, 'mode': 'not_specified', 'dimensions': None}   \n",
       "\n",
       "                                                                                                                                                                            non_mercado_pago_payment_methods  \\\n",
       "0  [{'description': 'Transferencia bancaria', 'id': 'MLATB', 'type': 'G'}, {'description': 'Acordar con el comprador', 'id': 'MLAWC', 'type': 'G'}, {'description': 'Efectivo', 'id': 'MLAMO', 'type': 'G'}]   \n",
       "\n",
       "   seller_id variations location site_id listing_type_id  price attributes  \\\n",
       "0   74952096         []       {}     MLA          bronze   80.0         []   \n",
       "\n",
       "  buying_mode                       tags listing_source parent_item_id  \\\n",
       "0  buy_it_now  [dragged_bids_and_visits]                  MLA568261029   \n",
       "\n",
       "  coverage_areas category_id                        descriptions  \\\n",
       "0             []   MLA126406  [{'id': 'MLA578052519-912855983'}]   \n",
       "\n",
       "               last_updated international_delivery_mode  \\\n",
       "0  2015-09-05T20:42:58.000Z                        none   \n",
       "\n",
       "                                                                                                                                                                                                                                                                                                                                                                                                                                                                                                                                         pictures  \\\n",
       "0  [{'size': '500x375', 'secure_url': 'https://a248.e.akamai.net/mla-s1-p.mlstatic.com/5386-MLA4352067878_052013-O.jpg', 'max_size': '1200x900', 'url': 'http://mla-s1-p.mlstatic.com/5386-MLA4352067878_052013-O.jpg', 'quality': '', 'id': '5386-MLA4352067878_052013'}, {'size': '500x375', 'secure_url': 'https://a248.e.akamai.net/mla-s1-p.mlstatic.com/5361-MLA4352068035_052013-O.jpg', 'max_size': '1200x900', 'url': 'http://mla-s1-p.mlstatic.com/5361-MLA4352068035_052013-O.jpg', 'quality': '', 'id': '5361-MLA4352068035_052013'}]   \n",
       "\n",
       "             id  official_store_id  differential_pricing  accepts_mercadopago  \\\n",
       "0  MLA578052519                NaN                   NaN                 True   \n",
       "\n",
       "   original_price currency_id  \\\n",
       "0             NaN         ARS   \n",
       "\n",
       "                                                      thumbnail  \\\n",
       "0  http://mla-s1-p.mlstatic.com/5386-MLA4352067878_052013-I.jpg   \n",
       "\n",
       "                                                          title  \\\n",
       "0  Auriculares Samsung Originales Manos Libres Cable Usb Oferta   \n",
       "\n",
       "   automatic_relist              date_created  \\\n",
       "0             False  2015-09-05T20:42:53.000Z   \n",
       "\n",
       "                                                                  secure_thumbnail  \\\n",
       "0  https://a248.e.akamai.net/mla-s1-p.mlstatic.com/5386-MLA4352067878_052013-I.jpg   \n",
       "\n",
       "                  stop_time  status video_id  catalog_product_id  subtitle  \\\n",
       "0 2015-11-04 20:42:53+00:00  active     None                 NaN       NaN   \n",
       "\n",
       "   initial_quantity                start_time  \\\n",
       "0                 1 2015-09-05 20:42:53+00:00   \n",
       "\n",
       "                                                                                                            permalink  \\\n",
       "0  http://articulo.mercadolibre.com.ar/MLA-578052519-auriculares-samsung-originales-manos-libres-cable-usb-oferta-_JM   \n",
       "\n",
       "                                           geolocation  sold_quantity  \\\n",
       "0  {'latitude': -34.6280698, 'longitude': -58.3986709}              0   \n",
       "\n",
       "   available_quantity seller_country     seller_state    seller_city  \\\n",
       "0                   1      Argentina  Capital Federal  San Cristóbal   \n",
       "\n",
       "   shipping_local_pick_up  shipping_free_shipping  shipping_mode  \\\n",
       "0                    True                   False  not_specified   \n",
       "\n",
       "  shipping_tags  acordar_con_el_comprador  american_express  \\\n",
       "0            []                         1                 0   \n",
       "\n",
       "   cheque_certificado  contra_reembolso  diners  efectivo  giro_postal  \\\n",
       "0                   0                 0       0         1            0   \n",
       "\n",
       "   mastercard  mastercard_maestro  mercadopago  tarjeta_de_credito  \\\n",
       "0           0                   0            0                   0   \n",
       "\n",
       "   transferencia_bancaria  visa  visa_electron  dragged_bids_and_visits  \\\n",
       "0                       1     0              0                        1   \n",
       "\n",
       "   dragged_visits  free_relist  good_quality_thumbnail  poor_quality_thumbnail  \n",
       "0               0            0                       0                       0  "
      ]
     },
     "execution_count": 121,
     "metadata": {},
     "output_type": "execute_result"
    }
   ],
   "source": [
    "df.head(1)"
   ]
  },
  {
   "cell_type": "markdown",
   "metadata": {},
   "source": [
    "Analicemos la columna `variations`"
   ]
  },
  {
   "cell_type": "code",
   "execution_count": 122,
   "metadata": {},
   "outputs": [
    {
     "data": {
      "text/plain": [
       "variations\n",
       "[]                                                                                                                                                                                                                                                                                                                                                                                                                                                                                                                                                                                                                                                                                                                                                                                                                                                                                                                                                                                                                                                                                                                                                                                                                                                                                                                                                                                                                                                                                                                                                                                                                                                                                                                                                                                                                                                          91808\n",
       "[{'attribute_combinations': [{'value_id': '92000', 'name': 'Color Primario', 'value_name': 'Marrón', 'id': '83000'}, {'value_id': '82074', 'name': 'Talle', 'value_name': '41.5', 'id': '73002'}], 'seller_custom_field': None, 'picture_ids': ['842801-MLA20400671026_082015', '798701-MLA20400670278_082015', '828701-MLA20400671065_082015', '633801-MLA20400671095_082015'], 'sold_quantity': 0, 'available_quantity': 1, 'id': 9410362669, 'price': 1700}, {'attribute_combinations': [{'value_id': '92000', 'name': 'Color Primario', 'value_name': 'Marrón', 'id': '83000'}, {'value_id': '82075', 'name': 'Talle', 'value_name': '42', 'id': '73002'}], 'seller_custom_field': None, 'picture_ids': ['842801-MLA20400671026_082015', '798701-MLA20400670278_082015', '828701-MLA20400671065_082015', '633801-MLA20400671095_082015'], 'sold_quantity': 0, 'available_quantity': 1, 'id': 9410362672, 'price': 1700}, {'attribute_combinations': [{'value_id': '92000', 'name': 'Color Primario', 'value_name': 'Marrón', 'id': '83000'}, {'value_id': '82077', 'name': 'Talle', 'value_name': '43', 'id': '73002'}], 'seller_custom_field': None, 'picture_ids': ['842801-MLA20400671026_082015', '798701-MLA20400670278_082015', '828701-MLA20400671065_082015', '633801-MLA20400671095_082015'], 'sold_quantity': 0, 'available_quantity': 1, 'id': 9410362675, 'price': 1700}, {'attribute_combinations': [{'value_id': '92000', 'name': 'Color Primario', 'value_name': 'Marrón', 'id': '83000'}, {'value_id': '82078', 'name': 'Talle', 'value_name': '43.5', 'id': '73002'}], 'seller_custom_field': None, 'picture_ids': ['842801-MLA20400671026_082015', '798701-MLA20400670278_082015', '828701-MLA20400671065_082015', '633801-MLA20400671095_082015'], 'sold_quantity': 0, 'available_quantity': 1, 'id': 9442699218, 'price': 1700}]        1\n",
       "[{'attribute_combinations': [{'value_id': '92016', 'name': 'Color Primario', 'value_name': 'Azul oscuro', 'id': '83000'}, {'value_id': '141994', 'name': 'Talle', 'value_name': '4', 'id': '103000'}], 'seller_custom_field': None, 'picture_ids': ['919201-MLA20296404185_052015'], 'sold_quantity': 0, 'available_quantity': 1, 'id': 9288127937, 'price': 168}]                                                                                                                                                                                                                                                                                                                                                                                                                                                                                                                                                                                                                                                                                                                                                                                                                                                                                                                                                                                                                                                                                                                                                                                                                                                                                                                                                                                                                                                                                              1\n",
       "[{'attribute_combinations': [{'value_id': '92026', 'name': 'Color Primario', 'value_name': 'Plateado', 'id': '83000'}, {'value_id': '101994', 'name': 'Talle', 'value_name': 'S', 'id': '93000'}], 'seller_custom_field': None, 'picture_ids': ['548901-MLA20435068622_092015', '683901-MLA20435066285_092015', '853901-MLA20435066783_092015'], 'sold_quantity': 0, 'available_quantity': 1, 'id': 9690570452, 'price': 650}]                                                                                                                                                                                                                                                                                                                                                                                                                                                                                                                                                                                                                                                                                                                                                                                                                                                                                                                                                                                                                                                                                                                                                                                                                                                                                                                                                                                                                                  1\n",
       "[{'attribute_combinations': [{'value_id': '92028', 'name': 'Color Primario', 'value_name': 'Blanco', 'id': '83000'}, {'value_id': '82fd2e9', 'name': 'Talle', 'value_name': '9-12 M', 'id': '30000'}], 'seller_custom_field': None, 'picture_ids': ['657601-MLA20382894473_082015', '892701-MLA20382896330_082015'], 'sold_quantity': 0, 'available_quantity': 1, 'id': 9270944760, 'price': 159}]                                                                                                                                                                                                                                                                                                                                                                                                                                                                                                                                                                                                                                                                                                                                                                                                                                                                                                                                                                                                                                                                                                                                                                                                                                                                                                                                                                                                                                                              1\n",
       "                                                                                                                                                                                                                                                                                                                                                                                                                                                                                                                                                                                                                                                                                                                                                                                                                                                                                                                                                                                                                                                                                                                                                                                                                                                                                                                                                                                                                                                                                                                                                                                                                                                                                                                                                                                                                                                            ...  \n",
       "[{'attribute_combinations': [{'value_id': '92027', 'name': 'Color Primario', 'value_name': 'Gris', 'id': '83000'}, {'value_id': 'b93e228', 'name': 'Talle', 'value_name': '12-18 M', 'id': '30000'}], 'seller_custom_field': None, 'picture_ids': ['992601-MLA20356102293_072015', '495601-MLA20356102741_072015'], 'sold_quantity': 0, 'available_quantity': 1, 'id': 9633770453, 'price': 100}]                                                                                                                                                                                                                                                                                                                                                                                                                                                                                                                                                                                                                                                                                                                                                                                                                                                                                                                                                                                                                                                                                                                                                                                                                                                                                                                                                                                                                                                               1\n",
       "[{'attribute_combinations': [{'value_id': '92016', 'name': 'Color Primario', 'value_name': 'Azul oscuro', 'id': '83000'}, {'value_id': 'a56d58e', 'name': 'Talle', 'value_name': '6-9 M', 'id': '30000'}], 'seller_custom_field': None, 'picture_ids': ['13568-MLA2900155191_072012', '13603-MLA2900166396_072012', '13634-MLA2900166859_072012', '13678-MLA2900167563_072012'], 'sold_quantity': 0, 'available_quantity': 1, 'id': 9551681880, 'price': 90}]                                                                                                                                                                                                                                                                                                                                                                                                                                                                                                                                                                                                                                                                                                                                                                                                                                                                                                                                                                                                                                                                                                                                                                                                                                                                                                                                                                                                   1\n",
       "[{'attribute_combinations': [{'value_id': '92013', 'name': 'Color Primario', 'value_name': 'Azul', 'id': '83000'}, {'value_id': '82064', 'name': 'Talle', 'value_name': '36', 'id': '73002'}], 'seller_custom_field': None, 'picture_ids': ['307011-MLA20449545242_102015', '807011-MLA20449546128_102015', '768011-MLA20449546645_102015', '891011-MLA20449545353_102015'], 'sold_quantity': 0, 'available_quantity': 1, 'id': 9792791480, 'price': 200}]                                                                                                                                                                                                                                                                                                                                                                                                                                                                                                                                                                                                                                                                                                                                                                                                                                                                                                                                                                                                                                                                                                                                                                                                                                                                                                                                                                                                      1\n",
       "[{'attribute_combinations': [{'value_id': '92025', 'name': 'Color Primario', 'value_name': 'Negro', 'id': '83000'}], 'seller_custom_field': None, 'picture_ids': ['785101-MLA20269760973_032015'], 'sold_quantity': 3, 'available_quantity': 2, 'id': 9624646722, 'price': 730}, {'attribute_combinations': [{'value_id': '92025', 'name': 'Color Primario', 'value_name': 'Negro', 'id': '83000'}, {'value_id': '82033', 'name': 'Color Secundario', 'value_name': 'Marrón', 'id': '73001'}], 'seller_custom_field': None, 'picture_ids': ['967101-MLA20269761705_032015'], 'sold_quantity': 0, 'available_quantity': 5, 'id': 9624646724, 'price': 730}]                                                                                                                                                                                                                                                                                                                                                                                                                                                                                                                                                                                                                                                                                                                                                                                                                                                                                                                                                                                                                                                                                                                                                                                                      1\n",
       "[{'attribute_combinations': [{'value_id': '92025', 'name': 'Color Primario', 'value_name': 'Negro', 'id': '83000'}, {'value_id': '101995', 'name': 'Talle', 'value_name': 'M', 'id': '93000'}], 'seller_custom_field': None, 'picture_ids': ['990801-MLA20408435180_092015'], 'sold_quantity': 0, 'available_quantity': 1, 'id': 9473023844, 'price': 600}]                                                                                                                                                                                                                                                                                                                                                                                                                                                                                                                                                                                                                                                                                                                                                                                                                                                                                                                                                                                                                                                                                                                                                                                                                                                                                                                                                                                                                                                                                                     1\n",
       "Name: count, Length: 8193, dtype: int64"
      ]
     },
     "execution_count": 122,
     "metadata": {},
     "output_type": "execute_result"
    }
   ],
   "source": [
    "pd.reset_option('display.max_colwidth')\n",
    "pd.reset_option('display.max_rows')\n",
    "\n",
    "df['variations'].value_counts()"
   ]
  },
  {
   "cell_type": "markdown",
   "metadata": {},
   "source": [
    "Podría ser útil, pero casi todos sus valores están vacíos, entonces mejor no se trabajará con esta variable."
   ]
  },
  {
   "cell_type": "code",
   "execution_count": 123,
   "metadata": {},
   "outputs": [
    {
     "data": {
      "text/plain": [
       "warranty\n",
       "Sí                                                                       5682\n",
       "Sin garantía                                                             5442\n",
       "SI                                                                        592\n",
       "6 meses                                                                   547\n",
       "6 MESES                                                                   397\n",
       "                                                                         ... \n",
       "Garantía de un año a partir de la fecha de entrega!                         1\n",
       "Garantía 1 año. La misma no incluye daños por mal uso o accidentales.       1\n",
       "SE PRUEBAN LOS JUEGOS AL RETIRAR                                            1\n",
       "Mi garantía son los comentarios de mis compradores.                         1\n",
       "Pueden variar matasellos                                                    1\n",
       "Name: count, Length: 10264, dtype: int64"
      ]
     },
     "execution_count": 123,
     "metadata": {},
     "output_type": "execute_result"
    }
   ],
   "source": [
    "df.warranty.value_counts()"
   ]
  },
  {
   "cell_type": "markdown",
   "metadata": {},
   "source": [
    "Para la variable 'garantia' (warranty), podemos observar que hay una descripción que indica si el producto tiene garantía o no. Se ha creado una función para intentar normalizar esta variable y determinar en qué casos la garantía aplica o no aplica. Se han utilizado expresiones regulares para determinar la aplicabilidad. En algunos casos, dice '6 meses', '1 año', 'sí', 'no aplica', 'por defecto', etc. (Se podrían emplear métodos más sofisticados). En algunos casos, es desconocido (por ejemplo: NUESTRA REPUTACION), y estos se han marcado como indeterminado."
   ]
  },
  {
   "cell_type": "code",
   "execution_count": 124,
   "metadata": {},
   "outputs": [
    {
     "name": "stdout",
     "output_type": "stream",
     "text": [
      "garantia_aplica\n",
      "indeterminado    69105\n",
      "aplica           30169\n",
      "no_aplica          726\n",
      "Name: count, dtype: int64\n"
     ]
    }
   ],
   "source": [
    "def normalizar_texto(texto):\n",
    "    \"\"\"\n",
    "    Normaliza texto: elimina tildes, convierte a minúsculas y remueve caracteres especiales.\n",
    "    \n",
    "    Ejemplo:\n",
    "        \"Garantía de 6 meses!\" -> \"garantia de 6 meses\"\n",
    "    \"\"\"\n",
    "    if isinstance(texto, str):  # Verifica que sea un string\n",
    "        texto = texto.lower()  # Convierte a minúsculas: \"GARANTÍA\" -> \"garantía\"\n",
    "\n",
    "        # Elimina tildes: descompone caracteres y quita marcas diacríticas\n",
    "        texto = ''.join(c for c in unicodedata.normalize('NFD', texto)\n",
    "                        if unicodedata.category(c) != 'Mn')\n",
    "\n",
    "        # Elimina caracteres especiales (mantiene solo letras, números y espacios)\n",
    "        texto = re.sub(r'[^\\w\\s]', '', texto)  # \"garantía!\" -> \"garantia\"\n",
    "\n",
    "    return texto\n",
    "\n",
    "\n",
    "# ============================================================================\n",
    "# PATRONES Y PALABRAS CLAVE\n",
    "# ============================================================================\n",
    "\n",
    "# Expresión regular que detecta periodos de tiempo\n",
    "# Busca: número + unidad de tiempo (6 meses, 1 año, 30 días, etc.)\n",
    "patron_tiempo = re.compile(r'(\\d+)\\s*(dias|día|mes|meses|año|años|semanas|semana|ano)', re.IGNORECASE)\n",
    "\n",
    "# Palabras que indican que la garantía SÍ aplica\n",
    "keywords_aplica = [\n",
    "    \"garantia\", \"cubre\", \"respaldado\", \"siempre que\", \"proteccion\",\n",
    "    \"defectos de fabricacion\", \"aplica\", \"si\", \"garantizado\",\n",
    "    \"por fallas\", \"fabricacion\", \"defecto\"\n",
    "]\n",
    "\n",
    "# Palabras que indican que la garantía NO aplica\n",
    "# IMPORTANTE: incluye \"no\" y \"sin\" para capturar frases como \"no tiene garantía\"\n",
    "keywords_no_aplica = [\n",
    "    \"no\", \"desconocido\", \"no aplica\", \"sin garantia\",\n",
    "    \"no se aceptan devoluciones\", \"sin\", \"no cubre\",\n",
    "    \"no garantia\", \"no respaldado\", \"no proteccion\",\n",
    "    \"no defectos de fabricacion\", \"no aplica\",\n",
    "    \"no garantizado\", \"no por fallas\", \"no fabricacion\", \"no defecto\"\n",
    "]\n",
    "\n",
    "\n",
    "# ============================================================================\n",
    "# FUNCIÓN DE CLASIFICACIÓN\n",
    "# ============================================================================\n",
    "\n",
    "def clasificar_garantia_mejorado(texto):\n",
    "    \"\"\"\n",
    "    Clasifica el texto de garantía en 3 categorías: aplica, no_aplica, indeterminado.\n",
    "    \n",
    "    Lógica de clasificación (en orden):\n",
    "        1. Si menciona \"sí\" explícitamente -> aplica\n",
    "        2. Si menciona periodo de tiempo (6 meses, 1 año) -> aplica\n",
    "        3. Si contiene palabras positivas (garantía, cubre, etc.) -> aplica\n",
    "        4. Si contiene palabras negativas (no, sin garantía, etc.) -> no_aplica\n",
    "        5. Si no coincide con nada -> indeterminado\n",
    "    \n",
    "    Args:\n",
    "        texto (str): Texto de la columna warranty\n",
    "    \n",
    "    Returns:\n",
    "        str: \"aplica\", \"no_aplica\" o \"indeterminado\"\n",
    "    \"\"\"\n",
    "    if isinstance(texto, str):  # Solo procesa si es string\n",
    "        texto_norm = normalizar_texto(texto)  # Normaliza el texto\n",
    "\n",
    "        # PASO 1: Verificar mención explícita de \"sí\"\n",
    "        # Ejemplo: \"sí\" -> aplica\n",
    "        if \"si\" in texto_norm:\n",
    "            return \"aplica\"\n",
    "\n",
    "        # PASO 2: Verificar si menciona periodo de tiempo\n",
    "        # Ejemplo: \"6 meses\", \"1 año\", \"30 días\" -> aplica\n",
    "        if patron_tiempo.search(texto_norm):\n",
    "            return \"aplica\"\n",
    "\n",
    "        # PASO 3: Verificar palabras clave POSITIVAS (garantía aplica)\n",
    "        # Ejemplo: \"garantía del fabricante\" -> aplica\n",
    "        # IMPORTANTE: se verifica ANTES que keywords_no_aplica\n",
    "        # para que \"garantía\" prevalezca sobre \"no\"\n",
    "        if any(kw in texto_norm for kw in keywords_aplica):\n",
    "            return \"aplica\"\n",
    "\n",
    "        # PASO 4: Verificar palabras clave NEGATIVAS (garantía no aplica)\n",
    "        # Ejemplo: \"sin garantía\", \"no aplica\" -> no_aplica\n",
    "        if any(kw in texto_norm for kw in keywords_no_aplica):\n",
    "            return \"no_aplica\"\n",
    "\n",
    "    # PASO 5: Si no coincide con nada o es None/NaN -> indeterminado\n",
    "    # Ejemplo: \"NUESTRA REPUTACION\" -> indeterminado\n",
    "    return \"indeterminado\"\n",
    "\n",
    "\n",
    "# ============================================================================\n",
    "# APLICACIÓN AL DATASET\n",
    "# ============================================================================\n",
    "\n",
    "# Aplica la función a cada valor de la columna warranty\n",
    "# Crea nueva columna con la clasificación\n",
    "df[\"garantia_aplica\"] = df[\"warranty\"].apply(clasificar_garantia_mejorado)\n",
    "\n",
    "# Verificar distribución de resultados\n",
    "print(df[\"garantia_aplica\"].value_counts())"
   ]
  },
  {
   "cell_type": "code",
   "execution_count": 125,
   "metadata": {},
   "outputs": [
    {
     "data": {
      "text/plain": [
       "(100000, 75)"
      ]
     },
     "execution_count": 125,
     "metadata": {},
     "output_type": "execute_result"
    }
   ],
   "source": [
    "df.shape"
   ]
  },
  {
   "cell_type": "markdown",
   "metadata": {},
   "source": [
    "Para ir limpiando el dataframe, limpiemos el dataframe de aquellas columnas que están completamente vacías"
   ]
  },
  {
   "cell_type": "code",
   "execution_count": 126,
   "metadata": {},
   "outputs": [
    {
     "data": {
      "text/plain": [
       "(100000, 71)"
      ]
     },
     "execution_count": 126,
     "metadata": {},
     "output_type": "execute_result"
    }
   ],
   "source": [
    "df = df.map(lambda x: x if x else np.nan)\n",
    "df = df.dropna(how='all', axis=1)\n",
    "\n",
    "df.shape"
   ]
  },
  {
   "cell_type": "code",
   "execution_count": 127,
   "metadata": {},
   "outputs": [
    {
     "name": "stdout",
     "output_type": "stream",
     "text": [
      "Shape: 100000 filas × 71 columnas\n",
      "Columnas con valores faltantes: 46\n",
      "\n"
     ]
    },
    {
     "data": {
      "text/html": [
       "<div>\n",
       "<style scoped>\n",
       "    .dataframe tbody tr th:only-of-type {\n",
       "        vertical-align: middle;\n",
       "    }\n",
       "\n",
       "    .dataframe tbody tr th {\n",
       "        vertical-align: top;\n",
       "    }\n",
       "\n",
       "    .dataframe thead th {\n",
       "        text-align: right;\n",
       "    }\n",
       "</style>\n",
       "<table border=\"1\" class=\"dataframe\">\n",
       "  <thead>\n",
       "    <tr style=\"text-align: right;\">\n",
       "      <th></th>\n",
       "      <th>Missing</th>\n",
       "      <th>% Missing</th>\n",
       "    </tr>\n",
       "  </thead>\n",
       "  <tbody>\n",
       "    <tr>\n",
       "      <th>catalog_product_id</th>\n",
       "      <td>99989</td>\n",
       "      <td>99.99</td>\n",
       "    </tr>\n",
       "    <tr>\n",
       "      <th>poor_quality_thumbnail</th>\n",
       "      <td>99984</td>\n",
       "      <td>99.98</td>\n",
       "    </tr>\n",
       "    <tr>\n",
       "      <th>shipping_tags</th>\n",
       "      <td>99931</td>\n",
       "      <td>99.93</td>\n",
       "    </tr>\n",
       "    <tr>\n",
       "      <th>original_price</th>\n",
       "      <td>99857</td>\n",
       "      <td>99.86</td>\n",
       "    </tr>\n",
       "    <tr>\n",
       "      <th>deal_ids</th>\n",
       "      <td>99760</td>\n",
       "      <td>99.76</td>\n",
       "    </tr>\n",
       "    <tr>\n",
       "      <th>free_relist</th>\n",
       "      <td>99715</td>\n",
       "      <td>99.72</td>\n",
       "    </tr>\n",
       "    <tr>\n",
       "      <th>diners</th>\n",
       "      <td>99537</td>\n",
       "      <td>99.54</td>\n",
       "    </tr>\n",
       "    <tr>\n",
       "      <th>cheque_certificado</th>\n",
       "      <td>99540</td>\n",
       "      <td>99.54</td>\n",
       "    </tr>\n",
       "    <tr>\n",
       "      <th>american_express</th>\n",
       "      <td>99401</td>\n",
       "      <td>99.40</td>\n",
       "    </tr>\n",
       "    <tr>\n",
       "      <th>mastercard_maestro</th>\n",
       "      <td>99370</td>\n",
       "      <td>99.37</td>\n",
       "    </tr>\n",
       "    <tr>\n",
       "      <th>visa_electron</th>\n",
       "      <td>99361</td>\n",
       "      <td>99.36</td>\n",
       "    </tr>\n",
       "    <tr>\n",
       "      <th>contra_reembolso</th>\n",
       "      <td>99352</td>\n",
       "      <td>99.35</td>\n",
       "    </tr>\n",
       "    <tr>\n",
       "      <th>mastercard</th>\n",
       "      <td>99353</td>\n",
       "      <td>99.35</td>\n",
       "    </tr>\n",
       "    <tr>\n",
       "      <th>visa</th>\n",
       "      <td>99296</td>\n",
       "      <td>99.30</td>\n",
       "    </tr>\n",
       "    <tr>\n",
       "      <th>mercadopago</th>\n",
       "      <td>99280</td>\n",
       "      <td>99.28</td>\n",
       "    </tr>\n",
       "    <tr>\n",
       "      <th>dragged_visits</th>\n",
       "      <td>99199</td>\n",
       "      <td>99.20</td>\n",
       "    </tr>\n",
       "    <tr>\n",
       "      <th>official_store_id</th>\n",
       "      <td>99182</td>\n",
       "      <td>99.18</td>\n",
       "    </tr>\n",
       "    <tr>\n",
       "      <th>sub_status</th>\n",
       "      <td>99014</td>\n",
       "      <td>99.01</td>\n",
       "    </tr>\n",
       "    <tr>\n",
       "      <th>giro_postal</th>\n",
       "      <td>98335</td>\n",
       "      <td>98.34</td>\n",
       "    </tr>\n",
       "    <tr>\n",
       "      <th>good_quality_thumbnail</th>\n",
       "      <td>98278</td>\n",
       "      <td>98.28</td>\n",
       "    </tr>\n",
       "    <tr>\n",
       "      <th>location</th>\n",
       "      <td>97781</td>\n",
       "      <td>97.78</td>\n",
       "    </tr>\n",
       "    <tr>\n",
       "      <th>seller_contact</th>\n",
       "      <td>97781</td>\n",
       "      <td>97.78</td>\n",
       "    </tr>\n",
       "    <tr>\n",
       "      <th>video_id</th>\n",
       "      <td>97015</td>\n",
       "      <td>97.02</td>\n",
       "    </tr>\n",
       "    <tr>\n",
       "      <th>shipping_free_shipping</th>\n",
       "      <td>96984</td>\n",
       "      <td>96.98</td>\n",
       "    </tr>\n",
       "    <tr>\n",
       "      <th>automatic_relist</th>\n",
       "      <td>95303</td>\n",
       "      <td>95.30</td>\n",
       "    </tr>\n",
       "    <tr>\n",
       "      <th>acordar_con_el_comprador</th>\n",
       "      <td>92009</td>\n",
       "      <td>92.01</td>\n",
       "    </tr>\n",
       "    <tr>\n",
       "      <th>variations</th>\n",
       "      <td>91808</td>\n",
       "      <td>91.81</td>\n",
       "    </tr>\n",
       "    <tr>\n",
       "      <th>attributes</th>\n",
       "      <td>87575</td>\n",
       "      <td>87.58</td>\n",
       "    </tr>\n",
       "    <tr>\n",
       "      <th>sold_quantity</th>\n",
       "      <td>83080</td>\n",
       "      <td>83.08</td>\n",
       "    </tr>\n",
       "    <tr>\n",
       "      <th>tarjeta_de_credito</th>\n",
       "      <td>75362</td>\n",
       "      <td>75.36</td>\n",
       "    </tr>\n",
       "    <tr>\n",
       "      <th>warranty</th>\n",
       "      <td>60897</td>\n",
       "      <td>60.90</td>\n",
       "    </tr>\n",
       "    <tr>\n",
       "      <th>transferencia_bancaria</th>\n",
       "      <td>48531</td>\n",
       "      <td>48.53</td>\n",
       "    </tr>\n",
       "    <tr>\n",
       "      <th>efectivo</th>\n",
       "      <td>32941</td>\n",
       "      <td>32.94</td>\n",
       "    </tr>\n",
       "    <tr>\n",
       "      <th>non_mercado_pago_payment_methods</th>\n",
       "      <td>30559</td>\n",
       "      <td>30.56</td>\n",
       "    </tr>\n",
       "    <tr>\n",
       "      <th>dragged_bids_and_visits</th>\n",
       "      <td>26108</td>\n",
       "      <td>26.11</td>\n",
       "    </tr>\n",
       "    <tr>\n",
       "      <th>tags</th>\n",
       "      <td>24910</td>\n",
       "      <td>24.91</td>\n",
       "    </tr>\n",
       "    <tr>\n",
       "      <th>parent_item_id</th>\n",
       "      <td>23011</td>\n",
       "      <td>23.01</td>\n",
       "    </tr>\n",
       "    <tr>\n",
       "      <th>shipping_local_pick_up</th>\n",
       "      <td>20439</td>\n",
       "      <td>20.44</td>\n",
       "    </tr>\n",
       "    <tr>\n",
       "      <th>descriptions</th>\n",
       "      <td>2688</td>\n",
       "      <td>2.69</td>\n",
       "    </tr>\n",
       "    <tr>\n",
       "      <th>accepts_mercadopago</th>\n",
       "      <td>2219</td>\n",
       "      <td>2.22</td>\n",
       "    </tr>\n",
       "    <tr>\n",
       "      <th>secure_thumbnail</th>\n",
       "      <td>789</td>\n",
       "      <td>0.79</td>\n",
       "    </tr>\n",
       "    <tr>\n",
       "      <th>thumbnail</th>\n",
       "      <td>789</td>\n",
       "      <td>0.79</td>\n",
       "    </tr>\n",
       "    <tr>\n",
       "      <th>pictures</th>\n",
       "      <td>789</td>\n",
       "      <td>0.79</td>\n",
       "    </tr>\n",
       "    <tr>\n",
       "      <th>seller_state</th>\n",
       "      <td>3</td>\n",
       "      <td>0.00</td>\n",
       "    </tr>\n",
       "    <tr>\n",
       "      <th>seller_country</th>\n",
       "      <td>3</td>\n",
       "      <td>0.00</td>\n",
       "    </tr>\n",
       "    <tr>\n",
       "      <th>seller_city</th>\n",
       "      <td>4</td>\n",
       "      <td>0.00</td>\n",
       "    </tr>\n",
       "  </tbody>\n",
       "</table>\n",
       "</div>"
      ],
      "text/plain": [
       "                                  Missing  % Missing\n",
       "catalog_product_id                  99989      99.99\n",
       "poor_quality_thumbnail              99984      99.98\n",
       "shipping_tags                       99931      99.93\n",
       "original_price                      99857      99.86\n",
       "deal_ids                            99760      99.76\n",
       "free_relist                         99715      99.72\n",
       "diners                              99537      99.54\n",
       "cheque_certificado                  99540      99.54\n",
       "american_express                    99401      99.40\n",
       "mastercard_maestro                  99370      99.37\n",
       "visa_electron                       99361      99.36\n",
       "contra_reembolso                    99352      99.35\n",
       "mastercard                          99353      99.35\n",
       "visa                                99296      99.30\n",
       "mercadopago                         99280      99.28\n",
       "dragged_visits                      99199      99.20\n",
       "official_store_id                   99182      99.18\n",
       "sub_status                          99014      99.01\n",
       "giro_postal                         98335      98.34\n",
       "good_quality_thumbnail              98278      98.28\n",
       "location                            97781      97.78\n",
       "seller_contact                      97781      97.78\n",
       "video_id                            97015      97.02\n",
       "shipping_free_shipping              96984      96.98\n",
       "automatic_relist                    95303      95.30\n",
       "acordar_con_el_comprador            92009      92.01\n",
       "variations                          91808      91.81\n",
       "attributes                          87575      87.58\n",
       "sold_quantity                       83080      83.08\n",
       "tarjeta_de_credito                  75362      75.36\n",
       "warranty                            60897      60.90\n",
       "transferencia_bancaria              48531      48.53\n",
       "efectivo                            32941      32.94\n",
       "non_mercado_pago_payment_methods    30559      30.56\n",
       "dragged_bids_and_visits             26108      26.11\n",
       "tags                                24910      24.91\n",
       "parent_item_id                      23011      23.01\n",
       "shipping_local_pick_up              20439      20.44\n",
       "descriptions                         2688       2.69\n",
       "accepts_mercadopago                  2219       2.22\n",
       "secure_thumbnail                      789       0.79\n",
       "thumbnail                             789       0.79\n",
       "pictures                              789       0.79\n",
       "seller_state                            3       0.00\n",
       "seller_country                          3       0.00\n",
       "seller_city                             4       0.00"
      ]
     },
     "execution_count": 127,
     "metadata": {},
     "output_type": "execute_result"
    }
   ],
   "source": [
    "analizar_valores_faltantes(df)"
   ]
  },
  {
   "cell_type": "markdown",
   "metadata": {},
   "source": [
    "El objetivo ahora es llenar la información de `tarjeta_de_credito` para transacciones donde el método de pago fue una de esas tarjetas. Es posible que el pago se haya realizado con la tarjeta, pero el registro está faltante, mientras que el tipo de tarjeta en sí todavía está disponible."
   ]
  },
  {
   "cell_type": "code",
   "execution_count": 128,
   "metadata": {},
   "outputs": [
    {
     "data": {
      "text/plain": [
       "tarjeta_de_credito\n",
       "1.0    24638\n",
       "Name: count, dtype: int64"
      ]
     },
     "execution_count": 128,
     "metadata": {},
     "output_type": "execute_result"
    }
   ],
   "source": [
    "df['tarjeta_de_credito'].value_counts()"
   ]
  },
  {
   "cell_type": "code",
   "execution_count": 129,
   "metadata": {},
   "outputs": [],
   "source": [
    "df['visa'] = df['visa_electron'].fillna(df['visa'])\n",
    "df['mastercard'] = df['mastercard_maestro'].fillna(df['mastercard'])\n",
    "\n",
    "# Revisa y llena valores faltantes en 'tarjeta_de_credito'\n",
    "df[\"tarjeta_de_credito\"] = df[\"tarjeta_de_credito\"].fillna(df[[\"visa\", \"mastercard\", \"diners\", 'american_express']].any(axis=1))"
   ]
  },
  {
   "cell_type": "code",
   "execution_count": 130,
   "metadata": {},
   "outputs": [
    {
     "data": {
      "text/plain": [
       "tarjeta_de_credito\n",
       "False    74653\n",
       "1.0      25347\n",
       "Name: count, dtype: int64"
      ]
     },
     "execution_count": 130,
     "metadata": {},
     "output_type": "execute_result"
    }
   ],
   "source": [
    "df['tarjeta_de_credito'].value_counts()"
   ]
  },
  {
   "cell_type": "code",
   "execution_count": 131,
   "metadata": {},
   "outputs": [
    {
     "data": {
      "text/html": [
       "<div>\n",
       "<style scoped>\n",
       "    .dataframe tbody tr th:only-of-type {\n",
       "        vertical-align: middle;\n",
       "    }\n",
       "\n",
       "    .dataframe tbody tr th {\n",
       "        vertical-align: top;\n",
       "    }\n",
       "\n",
       "    .dataframe thead th {\n",
       "        text-align: right;\n",
       "    }\n",
       "</style>\n",
       "<table border=\"1\" class=\"dataframe\">\n",
       "  <thead>\n",
       "    <tr style=\"text-align: right;\">\n",
       "      <th></th>\n",
       "      <th>seller_address</th>\n",
       "      <th>warranty</th>\n",
       "      <th>sub_status</th>\n",
       "      <th>condition</th>\n",
       "      <th>seller_contact</th>\n",
       "      <th>deal_ids</th>\n",
       "      <th>base_price</th>\n",
       "      <th>shipping</th>\n",
       "      <th>non_mercado_pago_payment_methods</th>\n",
       "      <th>seller_id</th>\n",
       "      <th>variations</th>\n",
       "      <th>location</th>\n",
       "      <th>site_id</th>\n",
       "      <th>listing_type_id</th>\n",
       "      <th>price</th>\n",
       "      <th>attributes</th>\n",
       "      <th>buying_mode</th>\n",
       "      <th>tags</th>\n",
       "      <th>parent_item_id</th>\n",
       "      <th>category_id</th>\n",
       "      <th>descriptions</th>\n",
       "      <th>last_updated</th>\n",
       "      <th>international_delivery_mode</th>\n",
       "      <th>pictures</th>\n",
       "      <th>id</th>\n",
       "      <th>official_store_id</th>\n",
       "      <th>accepts_mercadopago</th>\n",
       "      <th>original_price</th>\n",
       "      <th>currency_id</th>\n",
       "      <th>thumbnail</th>\n",
       "      <th>title</th>\n",
       "      <th>automatic_relist</th>\n",
       "      <th>date_created</th>\n",
       "      <th>secure_thumbnail</th>\n",
       "      <th>stop_time</th>\n",
       "      <th>status</th>\n",
       "      <th>video_id</th>\n",
       "      <th>catalog_product_id</th>\n",
       "      <th>initial_quantity</th>\n",
       "      <th>start_time</th>\n",
       "      <th>permalink</th>\n",
       "      <th>geolocation</th>\n",
       "      <th>sold_quantity</th>\n",
       "      <th>available_quantity</th>\n",
       "      <th>seller_country</th>\n",
       "      <th>seller_state</th>\n",
       "      <th>seller_city</th>\n",
       "      <th>shipping_local_pick_up</th>\n",
       "      <th>shipping_free_shipping</th>\n",
       "      <th>shipping_mode</th>\n",
       "      <th>shipping_tags</th>\n",
       "      <th>acordar_con_el_comprador</th>\n",
       "      <th>american_express</th>\n",
       "      <th>cheque_certificado</th>\n",
       "      <th>contra_reembolso</th>\n",
       "      <th>diners</th>\n",
       "      <th>efectivo</th>\n",
       "      <th>giro_postal</th>\n",
       "      <th>mastercard</th>\n",
       "      <th>mastercard_maestro</th>\n",
       "      <th>mercadopago</th>\n",
       "      <th>tarjeta_de_credito</th>\n",
       "      <th>transferencia_bancaria</th>\n",
       "      <th>visa</th>\n",
       "      <th>visa_electron</th>\n",
       "      <th>dragged_bids_and_visits</th>\n",
       "      <th>dragged_visits</th>\n",
       "      <th>free_relist</th>\n",
       "      <th>good_quality_thumbnail</th>\n",
       "      <th>poor_quality_thumbnail</th>\n",
       "      <th>garantia_aplica</th>\n",
       "    </tr>\n",
       "  </thead>\n",
       "  <tbody>\n",
       "    <tr>\n",
       "      <th>0</th>\n",
       "      <td>{'comment': '', 'longitude': -58.3986709, 'id'...</td>\n",
       "      <td>NaN</td>\n",
       "      <td>NaN</td>\n",
       "      <td>new</td>\n",
       "      <td>NaN</td>\n",
       "      <td>NaN</td>\n",
       "      <td>80.0</td>\n",
       "      <td>{'local_pick_up': True, 'methods': [], 'tags':...</td>\n",
       "      <td>[{'description': 'Transferencia bancaria', 'id...</td>\n",
       "      <td>74952096</td>\n",
       "      <td>NaN</td>\n",
       "      <td>NaN</td>\n",
       "      <td>MLA</td>\n",
       "      <td>bronze</td>\n",
       "      <td>80.0</td>\n",
       "      <td>NaN</td>\n",
       "      <td>buy_it_now</td>\n",
       "      <td>[dragged_bids_and_visits]</td>\n",
       "      <td>MLA568261029</td>\n",
       "      <td>MLA126406</td>\n",
       "      <td>[{'id': 'MLA578052519-912855983'}]</td>\n",
       "      <td>2015-09-05T20:42:58.000Z</td>\n",
       "      <td>none</td>\n",
       "      <td>[{'size': '500x375', 'secure_url': 'https://a2...</td>\n",
       "      <td>MLA578052519</td>\n",
       "      <td>NaN</td>\n",
       "      <td>True</td>\n",
       "      <td>NaN</td>\n",
       "      <td>ARS</td>\n",
       "      <td>http://mla-s1-p.mlstatic.com/5386-MLA435206787...</td>\n",
       "      <td>Auriculares Samsung Originales Manos Libres Ca...</td>\n",
       "      <td>NaN</td>\n",
       "      <td>2015-09-05T20:42:53.000Z</td>\n",
       "      <td>https://a248.e.akamai.net/mla-s1-p.mlstatic.co...</td>\n",
       "      <td>2015-11-04 20:42:53+00:00</td>\n",
       "      <td>active</td>\n",
       "      <td>NaN</td>\n",
       "      <td>NaN</td>\n",
       "      <td>1</td>\n",
       "      <td>2015-09-05 20:42:53+00:00</td>\n",
       "      <td>http://articulo.mercadolibre.com.ar/MLA-578052...</td>\n",
       "      <td>{'latitude': -34.6280698, 'longitude': -58.398...</td>\n",
       "      <td>NaN</td>\n",
       "      <td>1</td>\n",
       "      <td>Argentina</td>\n",
       "      <td>Capital Federal</td>\n",
       "      <td>San Cristóbal</td>\n",
       "      <td>True</td>\n",
       "      <td>NaN</td>\n",
       "      <td>not_specified</td>\n",
       "      <td>NaN</td>\n",
       "      <td>1.0</td>\n",
       "      <td>NaN</td>\n",
       "      <td>NaN</td>\n",
       "      <td>NaN</td>\n",
       "      <td>NaN</td>\n",
       "      <td>1.0</td>\n",
       "      <td>NaN</td>\n",
       "      <td>NaN</td>\n",
       "      <td>NaN</td>\n",
       "      <td>NaN</td>\n",
       "      <td>False</td>\n",
       "      <td>1.0</td>\n",
       "      <td>NaN</td>\n",
       "      <td>NaN</td>\n",
       "      <td>1.0</td>\n",
       "      <td>NaN</td>\n",
       "      <td>NaN</td>\n",
       "      <td>NaN</td>\n",
       "      <td>NaN</td>\n",
       "      <td>indeterminado</td>\n",
       "    </tr>\n",
       "  </tbody>\n",
       "</table>\n",
       "</div>"
      ],
      "text/plain": [
       "                                      seller_address warranty sub_status  \\\n",
       "0  {'comment': '', 'longitude': -58.3986709, 'id'...      NaN        NaN   \n",
       "\n",
       "  condition seller_contact deal_ids  base_price  \\\n",
       "0       new            NaN      NaN        80.0   \n",
       "\n",
       "                                            shipping  \\\n",
       "0  {'local_pick_up': True, 'methods': [], 'tags':...   \n",
       "\n",
       "                    non_mercado_pago_payment_methods  seller_id variations  \\\n",
       "0  [{'description': 'Transferencia bancaria', 'id...   74952096        NaN   \n",
       "\n",
       "  location site_id listing_type_id  price attributes buying_mode  \\\n",
       "0      NaN     MLA          bronze   80.0        NaN  buy_it_now   \n",
       "\n",
       "                        tags parent_item_id category_id  \\\n",
       "0  [dragged_bids_and_visits]   MLA568261029   MLA126406   \n",
       "\n",
       "                         descriptions              last_updated  \\\n",
       "0  [{'id': 'MLA578052519-912855983'}]  2015-09-05T20:42:58.000Z   \n",
       "\n",
       "  international_delivery_mode  \\\n",
       "0                        none   \n",
       "\n",
       "                                            pictures            id  \\\n",
       "0  [{'size': '500x375', 'secure_url': 'https://a2...  MLA578052519   \n",
       "\n",
       "   official_store_id accepts_mercadopago  original_price currency_id  \\\n",
       "0                NaN                True             NaN         ARS   \n",
       "\n",
       "                                           thumbnail  \\\n",
       "0  http://mla-s1-p.mlstatic.com/5386-MLA435206787...   \n",
       "\n",
       "                                               title automatic_relist  \\\n",
       "0  Auriculares Samsung Originales Manos Libres Ca...              NaN   \n",
       "\n",
       "               date_created  \\\n",
       "0  2015-09-05T20:42:53.000Z   \n",
       "\n",
       "                                    secure_thumbnail  \\\n",
       "0  https://a248.e.akamai.net/mla-s1-p.mlstatic.co...   \n",
       "\n",
       "                  stop_time  status video_id  catalog_product_id  \\\n",
       "0 2015-11-04 20:42:53+00:00  active      NaN                 NaN   \n",
       "\n",
       "   initial_quantity                start_time  \\\n",
       "0                 1 2015-09-05 20:42:53+00:00   \n",
       "\n",
       "                                           permalink  \\\n",
       "0  http://articulo.mercadolibre.com.ar/MLA-578052...   \n",
       "\n",
       "                                         geolocation  sold_quantity  \\\n",
       "0  {'latitude': -34.6280698, 'longitude': -58.398...            NaN   \n",
       "\n",
       "   available_quantity seller_country     seller_state    seller_city  \\\n",
       "0                   1      Argentina  Capital Federal  San Cristóbal   \n",
       "\n",
       "  shipping_local_pick_up shipping_free_shipping  shipping_mode shipping_tags  \\\n",
       "0                   True                    NaN  not_specified           NaN   \n",
       "\n",
       "   acordar_con_el_comprador  american_express  cheque_certificado  \\\n",
       "0                       1.0               NaN                 NaN   \n",
       "\n",
       "   contra_reembolso  diners  efectivo  giro_postal  mastercard  \\\n",
       "0               NaN     NaN       1.0          NaN         NaN   \n",
       "\n",
       "   mastercard_maestro  mercadopago tarjeta_de_credito  transferencia_bancaria  \\\n",
       "0                 NaN          NaN              False                     1.0   \n",
       "\n",
       "   visa  visa_electron  dragged_bids_and_visits  dragged_visits  free_relist  \\\n",
       "0   NaN            NaN                      1.0             NaN          NaN   \n",
       "\n",
       "   good_quality_thumbnail  poor_quality_thumbnail garantia_aplica  \n",
       "0                     NaN                     NaN   indeterminado  "
      ]
     },
     "execution_count": 131,
     "metadata": {},
     "output_type": "execute_result"
    }
   ],
   "source": [
    "df.head(1)"
   ]
  },
  {
   "cell_type": "markdown",
   "metadata": {},
   "source": [
    "Se hace algo similar con `accepts_mercadopago`"
   ]
  },
  {
   "cell_type": "code",
   "execution_count": 132,
   "metadata": {},
   "outputs": [],
   "source": [
    "df['accepts_mercadopago'] = df['accepts_mercadopago'].fillna(df['mercadopago'])\n",
    "\n",
    "df['accepts_mercadopago'] = df['accepts_mercadopago'].fillna(False)"
   ]
  },
  {
   "cell_type": "code",
   "execution_count": 133,
   "metadata": {},
   "outputs": [],
   "source": [
    "# Eliminemos las columnas redundantes\n",
    "df = df.drop(columns=['mercadopago', 'mastercard_maestro', 'visa_electron','visa', 'mastercard', 'diners', 'american_express'])"
   ]
  },
  {
   "cell_type": "markdown",
   "metadata": {},
   "source": [
    "Para `seller_city` y `seller_state` como son pocos valores nulos se pueden llenar con la **moda**"
   ]
  },
  {
   "cell_type": "code",
   "execution_count": 134,
   "metadata": {},
   "outputs": [
    {
     "data": {
      "text/plain": [
       "seller_city     4\n",
       "seller_state    3\n",
       "dtype: int64"
      ]
     },
     "execution_count": 134,
     "metadata": {},
     "output_type": "execute_result"
    }
   ],
   "source": [
    "df[['seller_city', 'seller_state']].isna().sum()"
   ]
  },
  {
   "cell_type": "code",
   "execution_count": 135,
   "metadata": {},
   "outputs": [],
   "source": [
    "df['seller_city'] = df['seller_city'].fillna(df['seller_city'].mode()[0])\n",
    "df['seller_state'] = df['seller_state'].fillna(df['seller_state'].mode()[0])"
   ]
  },
  {
   "cell_type": "code",
   "execution_count": 136,
   "metadata": {},
   "outputs": [
    {
     "data": {
      "text/plain": [
       "seller_country\n",
       "Argentina    99997\n",
       "Name: count, dtype: int64"
      ]
     },
     "execution_count": 136,
     "metadata": {},
     "output_type": "execute_result"
    }
   ],
   "source": [
    "# Podemos eliminar `seller_country` ya que tiene un solo valor\n",
    "df.seller_country.value_counts()"
   ]
  },
  {
   "cell_type": "code",
   "execution_count": 137,
   "metadata": {},
   "outputs": [],
   "source": [
    "# Podemos rellenar las demás columnas así:\n",
    "# ACLARACIÓN: Se asume que NaN significa \"no aplica\"\n",
    "\n",
    "df['sold_quantity'] = df['sold_quantity'].fillna(0) # Fill NaN values with 0\n",
    "df['poor_quality_thumbnail'] = df['poor_quality_thumbnail'].fillna(0) # Fill NaN values with 0\n",
    "df['free_relist'] = df['free_relist'].fillna(0) # Fill NaN values with 0\n",
    "df['dragged_visits'] = df['dragged_visits'].fillna(0) # Fill NaN values with 0\n",
    "df['good_quality_thumbnail'] = df['good_quality_thumbnail'].fillna(0) # Fill NaN values with 0\n",
    "df['dragged_bids_and_visits'] = df['dragged_bids_and_visits'].fillna(0) # Fill NaN values with 0"
   ]
  },
  {
   "cell_type": "code",
   "execution_count": 138,
   "metadata": {},
   "outputs": [],
   "source": [
    "# Y las booleanas así:\n",
    "\n",
    "df['transferencia_bancaria'] = df['transferencia_bancaria'].fillna(False)\n",
    "df['efectivo'] = df['efectivo'].fillna(False)\n",
    "df['shipping_local_pick_up'] = df['shipping_local_pick_up'].fillna(False)\n",
    "df['cheque_certificado'] = df['cheque_certificado'].fillna(False)\n",
    "df['contra_reembolso'] = df['contra_reembolso'].fillna(False)\n",
    "df['acordar_con_el_comprador'] = df['acordar_con_el_comprador'].fillna(False)\n",
    "df['automatic_relist'] = df['automatic_relist'].fillna(False)\n",
    "df['giro_postal'] = df['giro_postal'].fillna(False)\n",
    "df['shipping_free_shipping'] = df['shipping_free_shipping'].fillna(False)"
   ]
  },
  {
   "cell_type": "markdown",
   "metadata": {},
   "source": [
    "Transformemos la información temporal:"
   ]
  },
  {
   "cell_type": "code",
   "execution_count": 139,
   "metadata": {},
   "outputs": [],
   "source": [
    "# Feature Engineering: Variables temporales\n",
    "\n",
    "# Extraer componentes temporales de inicio de publicación\n",
    "df['year_start'] = pd.to_datetime(df['start_time'], unit='ms').dt.year.astype('category')\n",
    "df['month_start'] = pd.to_datetime(df['start_time'], unit='ms').dt.month.astype('category')\n",
    "\n",
    "# Extraer componentes temporales de fin de publicación\n",
    "df['year_stop'] = pd.to_datetime(df['stop_time'], unit='ms').dt.year.astype('category')\n",
    "df['month_stop'] = pd.to_datetime(df['stop_time'], unit='ms').dt.month.astype('category')\n",
    "df['week_day'] = pd.to_datetime(df['stop_time'], unit='ms').dt.weekday.astype('category')  # 0=Lunes, 6=Domingo\n",
    "\n",
    "# Duración de la publicación en días\n",
    "df['days_active'] = (pd.to_datetime(df['stop_time'], unit='ms') - pd.to_datetime(df['start_time'], unit='ms')).dt.days\n"
   ]
  },
  {
   "cell_type": "code",
   "execution_count": 140,
   "metadata": {},
   "outputs": [
    {
     "data": {
      "text/html": [
       "<div>\n",
       "<style scoped>\n",
       "    .dataframe tbody tr th:only-of-type {\n",
       "        vertical-align: middle;\n",
       "    }\n",
       "\n",
       "    .dataframe tbody tr th {\n",
       "        vertical-align: top;\n",
       "    }\n",
       "\n",
       "    .dataframe thead th {\n",
       "        text-align: right;\n",
       "    }\n",
       "</style>\n",
       "<table border=\"1\" class=\"dataframe\">\n",
       "  <thead>\n",
       "    <tr style=\"text-align: right;\">\n",
       "      <th></th>\n",
       "      <th>seller_address</th>\n",
       "      <th>warranty</th>\n",
       "      <th>sub_status</th>\n",
       "      <th>condition</th>\n",
       "      <th>seller_contact</th>\n",
       "      <th>deal_ids</th>\n",
       "      <th>base_price</th>\n",
       "      <th>shipping</th>\n",
       "      <th>non_mercado_pago_payment_methods</th>\n",
       "      <th>seller_id</th>\n",
       "      <th>variations</th>\n",
       "      <th>location</th>\n",
       "      <th>site_id</th>\n",
       "      <th>listing_type_id</th>\n",
       "      <th>price</th>\n",
       "      <th>attributes</th>\n",
       "      <th>buying_mode</th>\n",
       "      <th>tags</th>\n",
       "      <th>parent_item_id</th>\n",
       "      <th>category_id</th>\n",
       "      <th>descriptions</th>\n",
       "      <th>last_updated</th>\n",
       "      <th>international_delivery_mode</th>\n",
       "      <th>pictures</th>\n",
       "      <th>id</th>\n",
       "      <th>official_store_id</th>\n",
       "      <th>accepts_mercadopago</th>\n",
       "      <th>original_price</th>\n",
       "      <th>currency_id</th>\n",
       "      <th>thumbnail</th>\n",
       "      <th>title</th>\n",
       "      <th>automatic_relist</th>\n",
       "      <th>date_created</th>\n",
       "      <th>secure_thumbnail</th>\n",
       "      <th>stop_time</th>\n",
       "      <th>status</th>\n",
       "      <th>video_id</th>\n",
       "      <th>catalog_product_id</th>\n",
       "      <th>initial_quantity</th>\n",
       "      <th>start_time</th>\n",
       "      <th>permalink</th>\n",
       "      <th>geolocation</th>\n",
       "      <th>sold_quantity</th>\n",
       "      <th>available_quantity</th>\n",
       "      <th>seller_country</th>\n",
       "      <th>seller_state</th>\n",
       "      <th>seller_city</th>\n",
       "      <th>shipping_local_pick_up</th>\n",
       "      <th>shipping_free_shipping</th>\n",
       "      <th>shipping_mode</th>\n",
       "      <th>shipping_tags</th>\n",
       "      <th>acordar_con_el_comprador</th>\n",
       "      <th>cheque_certificado</th>\n",
       "      <th>contra_reembolso</th>\n",
       "      <th>efectivo</th>\n",
       "      <th>giro_postal</th>\n",
       "      <th>tarjeta_de_credito</th>\n",
       "      <th>transferencia_bancaria</th>\n",
       "      <th>dragged_bids_and_visits</th>\n",
       "      <th>dragged_visits</th>\n",
       "      <th>free_relist</th>\n",
       "      <th>good_quality_thumbnail</th>\n",
       "      <th>poor_quality_thumbnail</th>\n",
       "      <th>garantia_aplica</th>\n",
       "      <th>year_start</th>\n",
       "      <th>month_start</th>\n",
       "      <th>year_stop</th>\n",
       "      <th>month_stop</th>\n",
       "      <th>week_day</th>\n",
       "      <th>days_active</th>\n",
       "    </tr>\n",
       "  </thead>\n",
       "  <tbody>\n",
       "    <tr>\n",
       "      <th>0</th>\n",
       "      <td>{'comment': '', 'longitude': -58.3986709, 'id'...</td>\n",
       "      <td>NaN</td>\n",
       "      <td>NaN</td>\n",
       "      <td>new</td>\n",
       "      <td>NaN</td>\n",
       "      <td>NaN</td>\n",
       "      <td>80.0</td>\n",
       "      <td>{'local_pick_up': True, 'methods': [], 'tags':...</td>\n",
       "      <td>[{'description': 'Transferencia bancaria', 'id...</td>\n",
       "      <td>74952096</td>\n",
       "      <td>NaN</td>\n",
       "      <td>NaN</td>\n",
       "      <td>MLA</td>\n",
       "      <td>bronze</td>\n",
       "      <td>80.0</td>\n",
       "      <td>NaN</td>\n",
       "      <td>buy_it_now</td>\n",
       "      <td>[dragged_bids_and_visits]</td>\n",
       "      <td>MLA568261029</td>\n",
       "      <td>MLA126406</td>\n",
       "      <td>[{'id': 'MLA578052519-912855983'}]</td>\n",
       "      <td>2015-09-05T20:42:58.000Z</td>\n",
       "      <td>none</td>\n",
       "      <td>[{'size': '500x375', 'secure_url': 'https://a2...</td>\n",
       "      <td>MLA578052519</td>\n",
       "      <td>NaN</td>\n",
       "      <td>True</td>\n",
       "      <td>NaN</td>\n",
       "      <td>ARS</td>\n",
       "      <td>http://mla-s1-p.mlstatic.com/5386-MLA435206787...</td>\n",
       "      <td>Auriculares Samsung Originales Manos Libres Ca...</td>\n",
       "      <td>False</td>\n",
       "      <td>2015-09-05T20:42:53.000Z</td>\n",
       "      <td>https://a248.e.akamai.net/mla-s1-p.mlstatic.co...</td>\n",
       "      <td>2015-11-04 20:42:53+00:00</td>\n",
       "      <td>active</td>\n",
       "      <td>NaN</td>\n",
       "      <td>NaN</td>\n",
       "      <td>1</td>\n",
       "      <td>2015-09-05 20:42:53+00:00</td>\n",
       "      <td>http://articulo.mercadolibre.com.ar/MLA-578052...</td>\n",
       "      <td>{'latitude': -34.6280698, 'longitude': -58.398...</td>\n",
       "      <td>0.0</td>\n",
       "      <td>1</td>\n",
       "      <td>Argentina</td>\n",
       "      <td>Capital Federal</td>\n",
       "      <td>San Cristóbal</td>\n",
       "      <td>True</td>\n",
       "      <td>False</td>\n",
       "      <td>not_specified</td>\n",
       "      <td>NaN</td>\n",
       "      <td>1.0</td>\n",
       "      <td>False</td>\n",
       "      <td>False</td>\n",
       "      <td>1.0</td>\n",
       "      <td>False</td>\n",
       "      <td>False</td>\n",
       "      <td>1.0</td>\n",
       "      <td>1.0</td>\n",
       "      <td>0.0</td>\n",
       "      <td>0.0</td>\n",
       "      <td>0.0</td>\n",
       "      <td>0.0</td>\n",
       "      <td>indeterminado</td>\n",
       "      <td>2015</td>\n",
       "      <td>9</td>\n",
       "      <td>2015</td>\n",
       "      <td>11</td>\n",
       "      <td>2</td>\n",
       "      <td>60</td>\n",
       "    </tr>\n",
       "    <tr>\n",
       "      <th>1</th>\n",
       "      <td>{'comment': '', 'longitude': -58.5059173, 'id'...</td>\n",
       "      <td>NUESTRA REPUTACION</td>\n",
       "      <td>NaN</td>\n",
       "      <td>used</td>\n",
       "      <td>NaN</td>\n",
       "      <td>NaN</td>\n",
       "      <td>2650.0</td>\n",
       "      <td>{'local_pick_up': True, 'methods': [], 'tags':...</td>\n",
       "      <td>[{'description': 'Transferencia bancaria', 'id...</td>\n",
       "      <td>42093335</td>\n",
       "      <td>NaN</td>\n",
       "      <td>NaN</td>\n",
       "      <td>MLA</td>\n",
       "      <td>silver</td>\n",
       "      <td>2650.0</td>\n",
       "      <td>NaN</td>\n",
       "      <td>buy_it_now</td>\n",
       "      <td>NaN</td>\n",
       "      <td>MLA561574487</td>\n",
       "      <td>MLA10267</td>\n",
       "      <td>[{'id': 'MLA581565358-930764806'}]</td>\n",
       "      <td>2015-09-26T18:08:34.000Z</td>\n",
       "      <td>none</td>\n",
       "      <td>[{'size': '499x334', 'secure_url': 'https://a2...</td>\n",
       "      <td>MLA581565358</td>\n",
       "      <td>NaN</td>\n",
       "      <td>True</td>\n",
       "      <td>NaN</td>\n",
       "      <td>ARS</td>\n",
       "      <td>http://mla-s1-p.mlstatic.com/23223-MLA20245018...</td>\n",
       "      <td>Cuchillo Daga Acero Carbón Casco Yelmo Solinge...</td>\n",
       "      <td>False</td>\n",
       "      <td>2015-09-26T18:08:30.000Z</td>\n",
       "      <td>https://a248.e.akamai.net/mla-s1-p.mlstatic.co...</td>\n",
       "      <td>2015-11-25 18:08:30+00:00</td>\n",
       "      <td>active</td>\n",
       "      <td>NaN</td>\n",
       "      <td>NaN</td>\n",
       "      <td>1</td>\n",
       "      <td>2015-09-26 18:08:30+00:00</td>\n",
       "      <td>http://articulo.mercadolibre.com.ar/MLA-581565...</td>\n",
       "      <td>{'latitude': -34.5935524, 'longitude': -58.505...</td>\n",
       "      <td>0.0</td>\n",
       "      <td>1</td>\n",
       "      <td>Argentina</td>\n",
       "      <td>Capital Federal</td>\n",
       "      <td>Buenos Aires</td>\n",
       "      <td>True</td>\n",
       "      <td>False</td>\n",
       "      <td>me2</td>\n",
       "      <td>NaN</td>\n",
       "      <td>False</td>\n",
       "      <td>False</td>\n",
       "      <td>False</td>\n",
       "      <td>1.0</td>\n",
       "      <td>False</td>\n",
       "      <td>False</td>\n",
       "      <td>1.0</td>\n",
       "      <td>0.0</td>\n",
       "      <td>0.0</td>\n",
       "      <td>0.0</td>\n",
       "      <td>0.0</td>\n",
       "      <td>0.0</td>\n",
       "      <td>indeterminado</td>\n",
       "      <td>2015</td>\n",
       "      <td>9</td>\n",
       "      <td>2015</td>\n",
       "      <td>11</td>\n",
       "      <td>2</td>\n",
       "      <td>60</td>\n",
       "    </tr>\n",
       "  </tbody>\n",
       "</table>\n",
       "</div>"
      ],
      "text/plain": [
       "                                      seller_address            warranty  \\\n",
       "0  {'comment': '', 'longitude': -58.3986709, 'id'...                 NaN   \n",
       "1  {'comment': '', 'longitude': -58.5059173, 'id'...  NUESTRA REPUTACION   \n",
       "\n",
       "  sub_status condition seller_contact deal_ids  base_price  \\\n",
       "0        NaN       new            NaN      NaN        80.0   \n",
       "1        NaN      used            NaN      NaN      2650.0   \n",
       "\n",
       "                                            shipping  \\\n",
       "0  {'local_pick_up': True, 'methods': [], 'tags':...   \n",
       "1  {'local_pick_up': True, 'methods': [], 'tags':...   \n",
       "\n",
       "                    non_mercado_pago_payment_methods  seller_id variations  \\\n",
       "0  [{'description': 'Transferencia bancaria', 'id...   74952096        NaN   \n",
       "1  [{'description': 'Transferencia bancaria', 'id...   42093335        NaN   \n",
       "\n",
       "  location site_id listing_type_id   price attributes buying_mode  \\\n",
       "0      NaN     MLA          bronze    80.0        NaN  buy_it_now   \n",
       "1      NaN     MLA          silver  2650.0        NaN  buy_it_now   \n",
       "\n",
       "                        tags parent_item_id category_id  \\\n",
       "0  [dragged_bids_and_visits]   MLA568261029   MLA126406   \n",
       "1                        NaN   MLA561574487    MLA10267   \n",
       "\n",
       "                         descriptions              last_updated  \\\n",
       "0  [{'id': 'MLA578052519-912855983'}]  2015-09-05T20:42:58.000Z   \n",
       "1  [{'id': 'MLA581565358-930764806'}]  2015-09-26T18:08:34.000Z   \n",
       "\n",
       "  international_delivery_mode  \\\n",
       "0                        none   \n",
       "1                        none   \n",
       "\n",
       "                                            pictures            id  \\\n",
       "0  [{'size': '500x375', 'secure_url': 'https://a2...  MLA578052519   \n",
       "1  [{'size': '499x334', 'secure_url': 'https://a2...  MLA581565358   \n",
       "\n",
       "   official_store_id  accepts_mercadopago  original_price currency_id  \\\n",
       "0                NaN                 True             NaN         ARS   \n",
       "1                NaN                 True             NaN         ARS   \n",
       "\n",
       "                                           thumbnail  \\\n",
       "0  http://mla-s1-p.mlstatic.com/5386-MLA435206787...   \n",
       "1  http://mla-s1-p.mlstatic.com/23223-MLA20245018...   \n",
       "\n",
       "                                               title  automatic_relist  \\\n",
       "0  Auriculares Samsung Originales Manos Libres Ca...             False   \n",
       "1  Cuchillo Daga Acero Carbón Casco Yelmo Solinge...             False   \n",
       "\n",
       "               date_created  \\\n",
       "0  2015-09-05T20:42:53.000Z   \n",
       "1  2015-09-26T18:08:30.000Z   \n",
       "\n",
       "                                    secure_thumbnail  \\\n",
       "0  https://a248.e.akamai.net/mla-s1-p.mlstatic.co...   \n",
       "1  https://a248.e.akamai.net/mla-s1-p.mlstatic.co...   \n",
       "\n",
       "                  stop_time  status video_id  catalog_product_id  \\\n",
       "0 2015-11-04 20:42:53+00:00  active      NaN                 NaN   \n",
       "1 2015-11-25 18:08:30+00:00  active      NaN                 NaN   \n",
       "\n",
       "   initial_quantity                start_time  \\\n",
       "0                 1 2015-09-05 20:42:53+00:00   \n",
       "1                 1 2015-09-26 18:08:30+00:00   \n",
       "\n",
       "                                           permalink  \\\n",
       "0  http://articulo.mercadolibre.com.ar/MLA-578052...   \n",
       "1  http://articulo.mercadolibre.com.ar/MLA-581565...   \n",
       "\n",
       "                                         geolocation  sold_quantity  \\\n",
       "0  {'latitude': -34.6280698, 'longitude': -58.398...            0.0   \n",
       "1  {'latitude': -34.5935524, 'longitude': -58.505...            0.0   \n",
       "\n",
       "   available_quantity seller_country     seller_state    seller_city  \\\n",
       "0                   1      Argentina  Capital Federal  San Cristóbal   \n",
       "1                   1      Argentina  Capital Federal   Buenos Aires   \n",
       "\n",
       "   shipping_local_pick_up  shipping_free_shipping  shipping_mode  \\\n",
       "0                    True                   False  not_specified   \n",
       "1                    True                   False            me2   \n",
       "\n",
       "  shipping_tags acordar_con_el_comprador cheque_certificado contra_reembolso  \\\n",
       "0           NaN                      1.0              False            False   \n",
       "1           NaN                    False              False            False   \n",
       "\n",
       "  efectivo giro_postal tarjeta_de_credito transferencia_bancaria  \\\n",
       "0      1.0       False              False                    1.0   \n",
       "1      1.0       False              False                    1.0   \n",
       "\n",
       "   dragged_bids_and_visits  dragged_visits  free_relist  \\\n",
       "0                      1.0             0.0          0.0   \n",
       "1                      0.0             0.0          0.0   \n",
       "\n",
       "   good_quality_thumbnail  poor_quality_thumbnail garantia_aplica year_start  \\\n",
       "0                     0.0                     0.0   indeterminado       2015   \n",
       "1                     0.0                     0.0   indeterminado       2015   \n",
       "\n",
       "  month_start year_stop month_stop week_day  days_active  \n",
       "0           9      2015         11        2           60  \n",
       "1           9      2015         11        2           60  "
      ]
     },
     "execution_count": 140,
     "metadata": {},
     "output_type": "execute_result"
    }
   ],
   "source": [
    "df.head(2)"
   ]
  },
  {
   "cell_type": "code",
   "execution_count": 141,
   "metadata": {},
   "outputs": [
    {
     "name": "stdout",
     "output_type": "stream",
     "text": [
      "Shape: 100000 filas × 70 columnas\n",
      "Columnas con valores faltantes: 20\n",
      "\n"
     ]
    },
    {
     "data": {
      "text/html": [
       "<div>\n",
       "<style scoped>\n",
       "    .dataframe tbody tr th:only-of-type {\n",
       "        vertical-align: middle;\n",
       "    }\n",
       "\n",
       "    .dataframe tbody tr th {\n",
       "        vertical-align: top;\n",
       "    }\n",
       "\n",
       "    .dataframe thead th {\n",
       "        text-align: right;\n",
       "    }\n",
       "</style>\n",
       "<table border=\"1\" class=\"dataframe\">\n",
       "  <thead>\n",
       "    <tr style=\"text-align: right;\">\n",
       "      <th></th>\n",
       "      <th>Missing</th>\n",
       "      <th>% Missing</th>\n",
       "    </tr>\n",
       "  </thead>\n",
       "  <tbody>\n",
       "    <tr>\n",
       "      <th>catalog_product_id</th>\n",
       "      <td>99989</td>\n",
       "      <td>99.99</td>\n",
       "    </tr>\n",
       "    <tr>\n",
       "      <th>shipping_tags</th>\n",
       "      <td>99931</td>\n",
       "      <td>99.93</td>\n",
       "    </tr>\n",
       "    <tr>\n",
       "      <th>original_price</th>\n",
       "      <td>99857</td>\n",
       "      <td>99.86</td>\n",
       "    </tr>\n",
       "    <tr>\n",
       "      <th>deal_ids</th>\n",
       "      <td>99760</td>\n",
       "      <td>99.76</td>\n",
       "    </tr>\n",
       "    <tr>\n",
       "      <th>official_store_id</th>\n",
       "      <td>99182</td>\n",
       "      <td>99.18</td>\n",
       "    </tr>\n",
       "    <tr>\n",
       "      <th>sub_status</th>\n",
       "      <td>99014</td>\n",
       "      <td>99.01</td>\n",
       "    </tr>\n",
       "    <tr>\n",
       "      <th>seller_contact</th>\n",
       "      <td>97781</td>\n",
       "      <td>97.78</td>\n",
       "    </tr>\n",
       "    <tr>\n",
       "      <th>location</th>\n",
       "      <td>97781</td>\n",
       "      <td>97.78</td>\n",
       "    </tr>\n",
       "    <tr>\n",
       "      <th>video_id</th>\n",
       "      <td>97015</td>\n",
       "      <td>97.02</td>\n",
       "    </tr>\n",
       "    <tr>\n",
       "      <th>variations</th>\n",
       "      <td>91808</td>\n",
       "      <td>91.81</td>\n",
       "    </tr>\n",
       "    <tr>\n",
       "      <th>attributes</th>\n",
       "      <td>87575</td>\n",
       "      <td>87.58</td>\n",
       "    </tr>\n",
       "    <tr>\n",
       "      <th>warranty</th>\n",
       "      <td>60897</td>\n",
       "      <td>60.90</td>\n",
       "    </tr>\n",
       "    <tr>\n",
       "      <th>non_mercado_pago_payment_methods</th>\n",
       "      <td>30559</td>\n",
       "      <td>30.56</td>\n",
       "    </tr>\n",
       "    <tr>\n",
       "      <th>tags</th>\n",
       "      <td>24910</td>\n",
       "      <td>24.91</td>\n",
       "    </tr>\n",
       "    <tr>\n",
       "      <th>parent_item_id</th>\n",
       "      <td>23011</td>\n",
       "      <td>23.01</td>\n",
       "    </tr>\n",
       "    <tr>\n",
       "      <th>descriptions</th>\n",
       "      <td>2688</td>\n",
       "      <td>2.69</td>\n",
       "    </tr>\n",
       "    <tr>\n",
       "      <th>pictures</th>\n",
       "      <td>789</td>\n",
       "      <td>0.79</td>\n",
       "    </tr>\n",
       "    <tr>\n",
       "      <th>thumbnail</th>\n",
       "      <td>789</td>\n",
       "      <td>0.79</td>\n",
       "    </tr>\n",
       "    <tr>\n",
       "      <th>secure_thumbnail</th>\n",
       "      <td>789</td>\n",
       "      <td>0.79</td>\n",
       "    </tr>\n",
       "    <tr>\n",
       "      <th>seller_country</th>\n",
       "      <td>3</td>\n",
       "      <td>0.00</td>\n",
       "    </tr>\n",
       "  </tbody>\n",
       "</table>\n",
       "</div>"
      ],
      "text/plain": [
       "                                  Missing  % Missing\n",
       "catalog_product_id                  99989      99.99\n",
       "shipping_tags                       99931      99.93\n",
       "original_price                      99857      99.86\n",
       "deal_ids                            99760      99.76\n",
       "official_store_id                   99182      99.18\n",
       "sub_status                          99014      99.01\n",
       "seller_contact                      97781      97.78\n",
       "location                            97781      97.78\n",
       "video_id                            97015      97.02\n",
       "variations                          91808      91.81\n",
       "attributes                          87575      87.58\n",
       "warranty                            60897      60.90\n",
       "non_mercado_pago_payment_methods    30559      30.56\n",
       "tags                                24910      24.91\n",
       "parent_item_id                      23011      23.01\n",
       "descriptions                         2688       2.69\n",
       "pictures                              789       0.79\n",
       "thumbnail                             789       0.79\n",
       "secure_thumbnail                      789       0.79\n",
       "seller_country                          3       0.00"
      ]
     },
     "execution_count": 141,
     "metadata": {},
     "output_type": "execute_result"
    }
   ],
   "source": [
    "# Es tiempo de tomar decisiones sobre los valores faltantes restantes\n",
    "\n",
    "analizar_valores_faltantes(df)"
   ]
  },
  {
   "cell_type": "markdown",
   "metadata": {},
   "source": [
    "Hay algunas variables que definitivamente no se usarán, y otras que ya fueron transformadas y algunas de ellas ya no se necesitarán:"
   ]
  },
  {
   "cell_type": "code",
   "execution_count": 142,
   "metadata": {},
   "outputs": [],
   "source": [
    "drop_columns = ['seller_address', \n",
    "                'warranty', \n",
    "                'sub_status', \n",
    "                'seller_contact', \n",
    "                'deal_ids',\n",
    "                'shipping',\n",
    "                'seller_id',\n",
    "                'variations',\n",
    "                'location',\n",
    "                'attributes',\n",
    "                'tags',\n",
    "                'parent_item_id',\n",
    "                'category_id',\n",
    "                'descriptions',\n",
    "                'last_updated',\n",
    "                'international_delivery_mode',\n",
    "                'pictures',\n",
    "                'id',\n",
    "                'official_store_id',\n",
    "                'original_price',\n",
    "                'thumbnail',\n",
    "                'title',\n",
    "                'date_created',\n",
    "                'secure_thumbnail',\n",
    "                'video_id',\n",
    "                'catalog_product_id',\n",
    "                'start_time',\n",
    "                'stop_time', \n",
    "                'permalink',\n",
    "                'geolocation',\n",
    "                'shipping_tags',\n",
    "                'non_mercado_pago_payment_methods',\n",
    "                'seller_country',\n",
    "                'site_id'\n",
    "                ]\n",
    "\n",
    "data = df.copy()\n",
    "data = data.drop(columns=drop_columns)"
   ]
  },
  {
   "cell_type": "code",
   "execution_count": 143,
   "metadata": {},
   "outputs": [],
   "source": [
    "# Ajustemos algunas que nos faltan\n",
    "\n",
    "data['transferencia_bancaria'] = data['transferencia_bancaria'].fillna(False)\n",
    "data['efectivo'] = data['efectivo'].fillna(False)\n",
    "data['shipping_local_pick_up'] = data['shipping_local_pick_up'].fillna(False)"
   ]
  },
  {
   "cell_type": "code",
   "execution_count": 144,
   "metadata": {},
   "outputs": [
    {
     "name": "stdout",
     "output_type": "stream",
     "text": [
      "Shape: 100000 filas × 36 columnas\n",
      "Columnas con valores faltantes: 0\n",
      "\n"
     ]
    },
    {
     "data": {
      "text/html": [
       "<div>\n",
       "<style scoped>\n",
       "    .dataframe tbody tr th:only-of-type {\n",
       "        vertical-align: middle;\n",
       "    }\n",
       "\n",
       "    .dataframe tbody tr th {\n",
       "        vertical-align: top;\n",
       "    }\n",
       "\n",
       "    .dataframe thead th {\n",
       "        text-align: right;\n",
       "    }\n",
       "</style>\n",
       "<table border=\"1\" class=\"dataframe\">\n",
       "  <thead>\n",
       "    <tr style=\"text-align: right;\">\n",
       "      <th></th>\n",
       "      <th>Missing</th>\n",
       "      <th>% Missing</th>\n",
       "    </tr>\n",
       "  </thead>\n",
       "  <tbody>\n",
       "  </tbody>\n",
       "</table>\n",
       "</div>"
      ],
      "text/plain": [
       "Empty DataFrame\n",
       "Columns: [Missing, % Missing]\n",
       "Index: []"
      ]
     },
     "execution_count": 144,
     "metadata": {},
     "output_type": "execute_result"
    }
   ],
   "source": [
    "# Nuevamente revisemos valores faltantes\n",
    "\n",
    "analizar_valores_faltantes(data)"
   ]
  },
  {
   "cell_type": "code",
   "execution_count": 145,
   "metadata": {},
   "outputs": [],
   "source": [
    "import pandas as pd\n",
    "\n",
    "def convert_to_category(df, category_cols):\n",
    "    \"\"\"\n",
    "    Convierte columnas en tipo 'category'.\n",
    "    \"\"\"\n",
    "    for col in category_cols:\n",
    "        if col in df.columns:\n",
    "            df[col] = df[col].astype(\"category\")\n",
    "\n",
    "    return df\n",
    "\n",
    "def convert_to_numeric(df, numeric_cols):\n",
    "    \"\"\"\n",
    "    Convierte columnas en tipo 'float' (o 'int' si es posible).\n",
    "    \"\"\"\n",
    "    for col in numeric_cols:\n",
    "        if col in df.columns:\n",
    "            df[col] = pd.to_numeric(df[col], errors='coerce')  # Convierte y pone NaN en errores\n",
    "\n",
    "    return df\n",
    "\n",
    "# Definir los tipos de columnas\n",
    "category_cols = [\n",
    "    'condition', 'warranty', 'buying_mode', 'currency_id', 'seller_country', \n",
    "    'seller_state', 'seller_city', 'shipping_mode', 'parent_item_id', \n",
    "    'category_id', 'seller_id', 'official_store_id', 'video_id', 'status', 'garantia_aplica','listing_type_id'\n",
    "]\n",
    "\n",
    "numeric_cols = [\n",
    "    'initial_quantity', 'available_quantity', 'sold_quantity', \n",
    "    'original_price', 'base_price', 'price'\n",
    "]\n",
    "\n",
    "# Aplicar funciones al DataFrame \n",
    "data = convert_to_category(data, category_cols)\n",
    "data = convert_to_numeric(data, numeric_cols)"
   ]
  },
  {
   "cell_type": "code",
   "execution_count": 146,
   "metadata": {},
   "outputs": [
    {
     "name": "stdout",
     "output_type": "stream",
     "text": [
      "<class 'pandas.core.frame.DataFrame'>\n",
      "RangeIndex: 100000 entries, 0 to 99999\n",
      "Data columns (total 36 columns):\n",
      " #   Column                    Non-Null Count   Dtype   \n",
      "---  ------                    --------------   -----   \n",
      " 0   condition                 100000 non-null  category\n",
      " 1   base_price                100000 non-null  float64 \n",
      " 2   listing_type_id           100000 non-null  category\n",
      " 3   price                     100000 non-null  float64 \n",
      " 4   buying_mode               100000 non-null  category\n",
      " 5   accepts_mercadopago       100000 non-null  bool    \n",
      " 6   currency_id               100000 non-null  category\n",
      " 7   automatic_relist          100000 non-null  bool    \n",
      " 8   status                    100000 non-null  category\n",
      " 9   initial_quantity          100000 non-null  int64   \n",
      " 10  sold_quantity             100000 non-null  float64 \n",
      " 11  available_quantity        100000 non-null  int64   \n",
      " 12  seller_state              100000 non-null  category\n",
      " 13  seller_city               100000 non-null  category\n",
      " 14  shipping_local_pick_up    100000 non-null  bool    \n",
      " 15  shipping_free_shipping    100000 non-null  bool    \n",
      " 16  shipping_mode             100000 non-null  category\n",
      " 17  acordar_con_el_comprador  100000 non-null  object  \n",
      " 18  cheque_certificado        100000 non-null  object  \n",
      " 19  contra_reembolso          100000 non-null  object  \n",
      " 20  efectivo                  100000 non-null  object  \n",
      " 21  giro_postal               100000 non-null  object  \n",
      " 22  tarjeta_de_credito        100000 non-null  object  \n",
      " 23  transferencia_bancaria    100000 non-null  object  \n",
      " 24  dragged_bids_and_visits   100000 non-null  float64 \n",
      " 25  dragged_visits            100000 non-null  float64 \n",
      " 26  free_relist               100000 non-null  float64 \n",
      " 27  good_quality_thumbnail    100000 non-null  float64 \n",
      " 28  poor_quality_thumbnail    100000 non-null  float64 \n",
      " 29  garantia_aplica           100000 non-null  category\n",
      " 30  year_start                100000 non-null  category\n",
      " 31  month_start               100000 non-null  category\n",
      " 32  year_stop                 100000 non-null  category\n",
      " 33  month_stop                100000 non-null  category\n",
      " 34  week_day                  100000 non-null  category\n",
      " 35  days_active               100000 non-null  int64   \n",
      "dtypes: bool(4), category(14), float64(8), int64(3), object(7)\n",
      "memory usage: 15.7+ MB\n"
     ]
    }
   ],
   "source": [
    "data.info()"
   ]
  },
  {
   "cell_type": "markdown",
   "metadata": {},
   "source": [
    "## PLOTS"
   ]
  },
  {
   "cell_type": "code",
   "execution_count": 148,
   "metadata": {},
   "outputs": [],
   "source": [
    "categorical_cols = data.select_dtypes(include=['category']).columns\n",
    "numerical_cols = data.select_dtypes(include=['number']).columns"
   ]
  },
  {
   "cell_type": "code",
   "execution_count": 149,
   "metadata": {},
   "outputs": [
    {
     "name": "stderr",
     "output_type": "stream",
     "text": [
      "/Users/david.palacio/Documents/academia/data-projects-lab/.venv/lib/python3.11/site-packages/kaleido/_sync_server.py:11: UserWarning:\n",
      "\n",
      "\n",
      "\n",
      "Warning: You have Plotly version 5.24.1, which is not compatible with this version of Kaleido (1.1.0).\n",
      "\n",
      "This means that static image generation (e.g. `fig.write_image()`) will not work.\n",
      "\n",
      "Please upgrade Plotly to version 6.1.1 or greater, or downgrade Kaleido to version 0.2.1.\n",
      "\n",
      "\n"
     ]
    },
    {
     "data": {
      "application/vnd.plotly.v1+json": {
       "config": {
        "plotlyServerURL": "https://plot.ly"
       },
       "data": [
        {
         "alignmentgroup": "True",
         "hovertemplate": "variable=count<br>condition=%{x}<br>Frecuencia=%{y}<extra></extra>",
         "legendgroup": "count",
         "marker": {
          "color": "#636efa",
          "pattern": {
           "shape": ""
          }
         },
         "name": "count",
         "offsetgroup": "count",
         "orientation": "v",
         "showlegend": true,
         "textposition": "auto",
         "type": "bar",
         "x": [
          "new",
          "used"
         ],
         "xaxis": "x",
         "y": [
          53758,
          46242
         ],
         "yaxis": "y"
        }
       ],
       "layout": {
        "barmode": "relative",
        "legend": {
         "title": {
          "text": "variable"
         },
         "tracegroupgap": 0
        },
        "template": {
         "data": {
          "bar": [
           {
            "error_x": {
             "color": "#2a3f5f"
            },
            "error_y": {
             "color": "#2a3f5f"
            },
            "marker": {
             "line": {
              "color": "#E5ECF6",
              "width": 0.5
             },
             "pattern": {
              "fillmode": "overlay",
              "size": 10,
              "solidity": 0.2
             }
            },
            "type": "bar"
           }
          ],
          "barpolar": [
           {
            "marker": {
             "line": {
              "color": "#E5ECF6",
              "width": 0.5
             },
             "pattern": {
              "fillmode": "overlay",
              "size": 10,
              "solidity": 0.2
             }
            },
            "type": "barpolar"
           }
          ],
          "carpet": [
           {
            "aaxis": {
             "endlinecolor": "#2a3f5f",
             "gridcolor": "white",
             "linecolor": "white",
             "minorgridcolor": "white",
             "startlinecolor": "#2a3f5f"
            },
            "baxis": {
             "endlinecolor": "#2a3f5f",
             "gridcolor": "white",
             "linecolor": "white",
             "minorgridcolor": "white",
             "startlinecolor": "#2a3f5f"
            },
            "type": "carpet"
           }
          ],
          "choropleth": [
           {
            "colorbar": {
             "outlinewidth": 0,
             "ticks": ""
            },
            "type": "choropleth"
           }
          ],
          "contour": [
           {
            "colorbar": {
             "outlinewidth": 0,
             "ticks": ""
            },
            "colorscale": [
             [
              0,
              "#0d0887"
             ],
             [
              0.1111111111111111,
              "#46039f"
             ],
             [
              0.2222222222222222,
              "#7201a8"
             ],
             [
              0.3333333333333333,
              "#9c179e"
             ],
             [
              0.4444444444444444,
              "#bd3786"
             ],
             [
              0.5555555555555556,
              "#d8576b"
             ],
             [
              0.6666666666666666,
              "#ed7953"
             ],
             [
              0.7777777777777778,
              "#fb9f3a"
             ],
             [
              0.8888888888888888,
              "#fdca26"
             ],
             [
              1,
              "#f0f921"
             ]
            ],
            "type": "contour"
           }
          ],
          "contourcarpet": [
           {
            "colorbar": {
             "outlinewidth": 0,
             "ticks": ""
            },
            "type": "contourcarpet"
           }
          ],
          "heatmap": [
           {
            "colorbar": {
             "outlinewidth": 0,
             "ticks": ""
            },
            "colorscale": [
             [
              0,
              "#0d0887"
             ],
             [
              0.1111111111111111,
              "#46039f"
             ],
             [
              0.2222222222222222,
              "#7201a8"
             ],
             [
              0.3333333333333333,
              "#9c179e"
             ],
             [
              0.4444444444444444,
              "#bd3786"
             ],
             [
              0.5555555555555556,
              "#d8576b"
             ],
             [
              0.6666666666666666,
              "#ed7953"
             ],
             [
              0.7777777777777778,
              "#fb9f3a"
             ],
             [
              0.8888888888888888,
              "#fdca26"
             ],
             [
              1,
              "#f0f921"
             ]
            ],
            "type": "heatmap"
           }
          ],
          "heatmapgl": [
           {
            "colorbar": {
             "outlinewidth": 0,
             "ticks": ""
            },
            "colorscale": [
             [
              0,
              "#0d0887"
             ],
             [
              0.1111111111111111,
              "#46039f"
             ],
             [
              0.2222222222222222,
              "#7201a8"
             ],
             [
              0.3333333333333333,
              "#9c179e"
             ],
             [
              0.4444444444444444,
              "#bd3786"
             ],
             [
              0.5555555555555556,
              "#d8576b"
             ],
             [
              0.6666666666666666,
              "#ed7953"
             ],
             [
              0.7777777777777778,
              "#fb9f3a"
             ],
             [
              0.8888888888888888,
              "#fdca26"
             ],
             [
              1,
              "#f0f921"
             ]
            ],
            "type": "heatmapgl"
           }
          ],
          "histogram": [
           {
            "marker": {
             "pattern": {
              "fillmode": "overlay",
              "size": 10,
              "solidity": 0.2
             }
            },
            "type": "histogram"
           }
          ],
          "histogram2d": [
           {
            "colorbar": {
             "outlinewidth": 0,
             "ticks": ""
            },
            "colorscale": [
             [
              0,
              "#0d0887"
             ],
             [
              0.1111111111111111,
              "#46039f"
             ],
             [
              0.2222222222222222,
              "#7201a8"
             ],
             [
              0.3333333333333333,
              "#9c179e"
             ],
             [
              0.4444444444444444,
              "#bd3786"
             ],
             [
              0.5555555555555556,
              "#d8576b"
             ],
             [
              0.6666666666666666,
              "#ed7953"
             ],
             [
              0.7777777777777778,
              "#fb9f3a"
             ],
             [
              0.8888888888888888,
              "#fdca26"
             ],
             [
              1,
              "#f0f921"
             ]
            ],
            "type": "histogram2d"
           }
          ],
          "histogram2dcontour": [
           {
            "colorbar": {
             "outlinewidth": 0,
             "ticks": ""
            },
            "colorscale": [
             [
              0,
              "#0d0887"
             ],
             [
              0.1111111111111111,
              "#46039f"
             ],
             [
              0.2222222222222222,
              "#7201a8"
             ],
             [
              0.3333333333333333,
              "#9c179e"
             ],
             [
              0.4444444444444444,
              "#bd3786"
             ],
             [
              0.5555555555555556,
              "#d8576b"
             ],
             [
              0.6666666666666666,
              "#ed7953"
             ],
             [
              0.7777777777777778,
              "#fb9f3a"
             ],
             [
              0.8888888888888888,
              "#fdca26"
             ],
             [
              1,
              "#f0f921"
             ]
            ],
            "type": "histogram2dcontour"
           }
          ],
          "mesh3d": [
           {
            "colorbar": {
             "outlinewidth": 0,
             "ticks": ""
            },
            "type": "mesh3d"
           }
          ],
          "parcoords": [
           {
            "line": {
             "colorbar": {
              "outlinewidth": 0,
              "ticks": ""
             }
            },
            "type": "parcoords"
           }
          ],
          "pie": [
           {
            "automargin": true,
            "type": "pie"
           }
          ],
          "scatter": [
           {
            "fillpattern": {
             "fillmode": "overlay",
             "size": 10,
             "solidity": 0.2
            },
            "type": "scatter"
           }
          ],
          "scatter3d": [
           {
            "line": {
             "colorbar": {
              "outlinewidth": 0,
              "ticks": ""
             }
            },
            "marker": {
             "colorbar": {
              "outlinewidth": 0,
              "ticks": ""
             }
            },
            "type": "scatter3d"
           }
          ],
          "scattercarpet": [
           {
            "marker": {
             "colorbar": {
              "outlinewidth": 0,
              "ticks": ""
             }
            },
            "type": "scattercarpet"
           }
          ],
          "scattergeo": [
           {
            "marker": {
             "colorbar": {
              "outlinewidth": 0,
              "ticks": ""
             }
            },
            "type": "scattergeo"
           }
          ],
          "scattergl": [
           {
            "marker": {
             "colorbar": {
              "outlinewidth": 0,
              "ticks": ""
             }
            },
            "type": "scattergl"
           }
          ],
          "scattermapbox": [
           {
            "marker": {
             "colorbar": {
              "outlinewidth": 0,
              "ticks": ""
             }
            },
            "type": "scattermapbox"
           }
          ],
          "scatterpolar": [
           {
            "marker": {
             "colorbar": {
              "outlinewidth": 0,
              "ticks": ""
             }
            },
            "type": "scatterpolar"
           }
          ],
          "scatterpolargl": [
           {
            "marker": {
             "colorbar": {
              "outlinewidth": 0,
              "ticks": ""
             }
            },
            "type": "scatterpolargl"
           }
          ],
          "scatterternary": [
           {
            "marker": {
             "colorbar": {
              "outlinewidth": 0,
              "ticks": ""
             }
            },
            "type": "scatterternary"
           }
          ],
          "surface": [
           {
            "colorbar": {
             "outlinewidth": 0,
             "ticks": ""
            },
            "colorscale": [
             [
              0,
              "#0d0887"
             ],
             [
              0.1111111111111111,
              "#46039f"
             ],
             [
              0.2222222222222222,
              "#7201a8"
             ],
             [
              0.3333333333333333,
              "#9c179e"
             ],
             [
              0.4444444444444444,
              "#bd3786"
             ],
             [
              0.5555555555555556,
              "#d8576b"
             ],
             [
              0.6666666666666666,
              "#ed7953"
             ],
             [
              0.7777777777777778,
              "#fb9f3a"
             ],
             [
              0.8888888888888888,
              "#fdca26"
             ],
             [
              1,
              "#f0f921"
             ]
            ],
            "type": "surface"
           }
          ],
          "table": [
           {
            "cells": {
             "fill": {
              "color": "#EBF0F8"
             },
             "line": {
              "color": "white"
             }
            },
            "header": {
             "fill": {
              "color": "#C8D4E3"
             },
             "line": {
              "color": "white"
             }
            },
            "type": "table"
           }
          ]
         },
         "layout": {
          "annotationdefaults": {
           "arrowcolor": "#2a3f5f",
           "arrowhead": 0,
           "arrowwidth": 1
          },
          "autotypenumbers": "strict",
          "coloraxis": {
           "colorbar": {
            "outlinewidth": 0,
            "ticks": ""
           }
          },
          "colorscale": {
           "diverging": [
            [
             0,
             "#8e0152"
            ],
            [
             0.1,
             "#c51b7d"
            ],
            [
             0.2,
             "#de77ae"
            ],
            [
             0.3,
             "#f1b6da"
            ],
            [
             0.4,
             "#fde0ef"
            ],
            [
             0.5,
             "#f7f7f7"
            ],
            [
             0.6,
             "#e6f5d0"
            ],
            [
             0.7,
             "#b8e186"
            ],
            [
             0.8,
             "#7fbc41"
            ],
            [
             0.9,
             "#4d9221"
            ],
            [
             1,
             "#276419"
            ]
           ],
           "sequential": [
            [
             0,
             "#0d0887"
            ],
            [
             0.1111111111111111,
             "#46039f"
            ],
            [
             0.2222222222222222,
             "#7201a8"
            ],
            [
             0.3333333333333333,
             "#9c179e"
            ],
            [
             0.4444444444444444,
             "#bd3786"
            ],
            [
             0.5555555555555556,
             "#d8576b"
            ],
            [
             0.6666666666666666,
             "#ed7953"
            ],
            [
             0.7777777777777778,
             "#fb9f3a"
            ],
            [
             0.8888888888888888,
             "#fdca26"
            ],
            [
             1,
             "#f0f921"
            ]
           ],
           "sequentialminus": [
            [
             0,
             "#0d0887"
            ],
            [
             0.1111111111111111,
             "#46039f"
            ],
            [
             0.2222222222222222,
             "#7201a8"
            ],
            [
             0.3333333333333333,
             "#9c179e"
            ],
            [
             0.4444444444444444,
             "#bd3786"
            ],
            [
             0.5555555555555556,
             "#d8576b"
            ],
            [
             0.6666666666666666,
             "#ed7953"
            ],
            [
             0.7777777777777778,
             "#fb9f3a"
            ],
            [
             0.8888888888888888,
             "#fdca26"
            ],
            [
             1,
             "#f0f921"
            ]
           ]
          },
          "colorway": [
           "#636efa",
           "#EF553B",
           "#00cc96",
           "#ab63fa",
           "#FFA15A",
           "#19d3f3",
           "#FF6692",
           "#B6E880",
           "#FF97FF",
           "#FECB52"
          ],
          "font": {
           "color": "#2a3f5f"
          },
          "geo": {
           "bgcolor": "white",
           "lakecolor": "white",
           "landcolor": "#E5ECF6",
           "showlakes": true,
           "showland": true,
           "subunitcolor": "white"
          },
          "hoverlabel": {
           "align": "left"
          },
          "hovermode": "closest",
          "mapbox": {
           "style": "light"
          },
          "paper_bgcolor": "white",
          "plot_bgcolor": "#E5ECF6",
          "polar": {
           "angularaxis": {
            "gridcolor": "white",
            "linecolor": "white",
            "ticks": ""
           },
           "bgcolor": "#E5ECF6",
           "radialaxis": {
            "gridcolor": "white",
            "linecolor": "white",
            "ticks": ""
           }
          },
          "scene": {
           "xaxis": {
            "backgroundcolor": "#E5ECF6",
            "gridcolor": "white",
            "gridwidth": 2,
            "linecolor": "white",
            "showbackground": true,
            "ticks": "",
            "zerolinecolor": "white"
           },
           "yaxis": {
            "backgroundcolor": "#E5ECF6",
            "gridcolor": "white",
            "gridwidth": 2,
            "linecolor": "white",
            "showbackground": true,
            "ticks": "",
            "zerolinecolor": "white"
           },
           "zaxis": {
            "backgroundcolor": "#E5ECF6",
            "gridcolor": "white",
            "gridwidth": 2,
            "linecolor": "white",
            "showbackground": true,
            "ticks": "",
            "zerolinecolor": "white"
           }
          },
          "shapedefaults": {
           "line": {
            "color": "#2a3f5f"
           }
          },
          "ternary": {
           "aaxis": {
            "gridcolor": "white",
            "linecolor": "white",
            "ticks": ""
           },
           "baxis": {
            "gridcolor": "white",
            "linecolor": "white",
            "ticks": ""
           },
           "bgcolor": "#E5ECF6",
           "caxis": {
            "gridcolor": "white",
            "linecolor": "white",
            "ticks": ""
           }
          },
          "title": {
           "x": 0.05
          },
          "xaxis": {
           "automargin": true,
           "gridcolor": "white",
           "linecolor": "white",
           "ticks": "",
           "title": {
            "standoff": 15
           },
           "zerolinecolor": "white",
           "zerolinewidth": 2
          },
          "yaxis": {
           "automargin": true,
           "gridcolor": "white",
           "linecolor": "white",
           "ticks": "",
           "title": {
            "standoff": 15
           },
           "zerolinecolor": "white",
           "zerolinewidth": 2
          }
         }
        },
        "title": {
         "text": "Distribución de condition"
        },
        "xaxis": {
         "anchor": "y",
         "domain": [
          0,
          1
         ],
         "title": {
          "text": "condition"
         }
        },
        "yaxis": {
         "anchor": "x",
         "domain": [
          0,
          1
         ],
         "title": {
          "text": "Frecuencia"
         }
        }
       }
      }
     },
     "metadata": {},
     "output_type": "display_data"
    },
    {
     "data": {
      "application/vnd.plotly.v1+json": {
       "config": {
        "plotlyServerURL": "https://plot.ly"
       },
       "data": [
        {
         "alignmentgroup": "True",
         "hovertemplate": "variable=count<br>listing_type_id=%{x}<br>Frecuencia=%{y}<extra></extra>",
         "legendgroup": "count",
         "marker": {
          "color": "#636efa",
          "pattern": {
           "shape": ""
          }
         },
         "name": "count",
         "offsetgroup": "count",
         "orientation": "v",
         "showlegend": true,
         "textposition": "auto",
         "type": "bar",
         "x": [
          "bronze",
          "free",
          "silver",
          "gold_special",
          "gold",
          "gold_premium",
          "gold_pro"
         ],
         "xaxis": "x",
         "y": [
          63170,
          21388,
          9114,
          3023,
          2445,
          842,
          18
         ],
         "yaxis": "y"
        }
       ],
       "layout": {
        "barmode": "relative",
        "legend": {
         "title": {
          "text": "variable"
         },
         "tracegroupgap": 0
        },
        "template": {
         "data": {
          "bar": [
           {
            "error_x": {
             "color": "#2a3f5f"
            },
            "error_y": {
             "color": "#2a3f5f"
            },
            "marker": {
             "line": {
              "color": "#E5ECF6",
              "width": 0.5
             },
             "pattern": {
              "fillmode": "overlay",
              "size": 10,
              "solidity": 0.2
             }
            },
            "type": "bar"
           }
          ],
          "barpolar": [
           {
            "marker": {
             "line": {
              "color": "#E5ECF6",
              "width": 0.5
             },
             "pattern": {
              "fillmode": "overlay",
              "size": 10,
              "solidity": 0.2
             }
            },
            "type": "barpolar"
           }
          ],
          "carpet": [
           {
            "aaxis": {
             "endlinecolor": "#2a3f5f",
             "gridcolor": "white",
             "linecolor": "white",
             "minorgridcolor": "white",
             "startlinecolor": "#2a3f5f"
            },
            "baxis": {
             "endlinecolor": "#2a3f5f",
             "gridcolor": "white",
             "linecolor": "white",
             "minorgridcolor": "white",
             "startlinecolor": "#2a3f5f"
            },
            "type": "carpet"
           }
          ],
          "choropleth": [
           {
            "colorbar": {
             "outlinewidth": 0,
             "ticks": ""
            },
            "type": "choropleth"
           }
          ],
          "contour": [
           {
            "colorbar": {
             "outlinewidth": 0,
             "ticks": ""
            },
            "colorscale": [
             [
              0,
              "#0d0887"
             ],
             [
              0.1111111111111111,
              "#46039f"
             ],
             [
              0.2222222222222222,
              "#7201a8"
             ],
             [
              0.3333333333333333,
              "#9c179e"
             ],
             [
              0.4444444444444444,
              "#bd3786"
             ],
             [
              0.5555555555555556,
              "#d8576b"
             ],
             [
              0.6666666666666666,
              "#ed7953"
             ],
             [
              0.7777777777777778,
              "#fb9f3a"
             ],
             [
              0.8888888888888888,
              "#fdca26"
             ],
             [
              1,
              "#f0f921"
             ]
            ],
            "type": "contour"
           }
          ],
          "contourcarpet": [
           {
            "colorbar": {
             "outlinewidth": 0,
             "ticks": ""
            },
            "type": "contourcarpet"
           }
          ],
          "heatmap": [
           {
            "colorbar": {
             "outlinewidth": 0,
             "ticks": ""
            },
            "colorscale": [
             [
              0,
              "#0d0887"
             ],
             [
              0.1111111111111111,
              "#46039f"
             ],
             [
              0.2222222222222222,
              "#7201a8"
             ],
             [
              0.3333333333333333,
              "#9c179e"
             ],
             [
              0.4444444444444444,
              "#bd3786"
             ],
             [
              0.5555555555555556,
              "#d8576b"
             ],
             [
              0.6666666666666666,
              "#ed7953"
             ],
             [
              0.7777777777777778,
              "#fb9f3a"
             ],
             [
              0.8888888888888888,
              "#fdca26"
             ],
             [
              1,
              "#f0f921"
             ]
            ],
            "type": "heatmap"
           }
          ],
          "heatmapgl": [
           {
            "colorbar": {
             "outlinewidth": 0,
             "ticks": ""
            },
            "colorscale": [
             [
              0,
              "#0d0887"
             ],
             [
              0.1111111111111111,
              "#46039f"
             ],
             [
              0.2222222222222222,
              "#7201a8"
             ],
             [
              0.3333333333333333,
              "#9c179e"
             ],
             [
              0.4444444444444444,
              "#bd3786"
             ],
             [
              0.5555555555555556,
              "#d8576b"
             ],
             [
              0.6666666666666666,
              "#ed7953"
             ],
             [
              0.7777777777777778,
              "#fb9f3a"
             ],
             [
              0.8888888888888888,
              "#fdca26"
             ],
             [
              1,
              "#f0f921"
             ]
            ],
            "type": "heatmapgl"
           }
          ],
          "histogram": [
           {
            "marker": {
             "pattern": {
              "fillmode": "overlay",
              "size": 10,
              "solidity": 0.2
             }
            },
            "type": "histogram"
           }
          ],
          "histogram2d": [
           {
            "colorbar": {
             "outlinewidth": 0,
             "ticks": ""
            },
            "colorscale": [
             [
              0,
              "#0d0887"
             ],
             [
              0.1111111111111111,
              "#46039f"
             ],
             [
              0.2222222222222222,
              "#7201a8"
             ],
             [
              0.3333333333333333,
              "#9c179e"
             ],
             [
              0.4444444444444444,
              "#bd3786"
             ],
             [
              0.5555555555555556,
              "#d8576b"
             ],
             [
              0.6666666666666666,
              "#ed7953"
             ],
             [
              0.7777777777777778,
              "#fb9f3a"
             ],
             [
              0.8888888888888888,
              "#fdca26"
             ],
             [
              1,
              "#f0f921"
             ]
            ],
            "type": "histogram2d"
           }
          ],
          "histogram2dcontour": [
           {
            "colorbar": {
             "outlinewidth": 0,
             "ticks": ""
            },
            "colorscale": [
             [
              0,
              "#0d0887"
             ],
             [
              0.1111111111111111,
              "#46039f"
             ],
             [
              0.2222222222222222,
              "#7201a8"
             ],
             [
              0.3333333333333333,
              "#9c179e"
             ],
             [
              0.4444444444444444,
              "#bd3786"
             ],
             [
              0.5555555555555556,
              "#d8576b"
             ],
             [
              0.6666666666666666,
              "#ed7953"
             ],
             [
              0.7777777777777778,
              "#fb9f3a"
             ],
             [
              0.8888888888888888,
              "#fdca26"
             ],
             [
              1,
              "#f0f921"
             ]
            ],
            "type": "histogram2dcontour"
           }
          ],
          "mesh3d": [
           {
            "colorbar": {
             "outlinewidth": 0,
             "ticks": ""
            },
            "type": "mesh3d"
           }
          ],
          "parcoords": [
           {
            "line": {
             "colorbar": {
              "outlinewidth": 0,
              "ticks": ""
             }
            },
            "type": "parcoords"
           }
          ],
          "pie": [
           {
            "automargin": true,
            "type": "pie"
           }
          ],
          "scatter": [
           {
            "fillpattern": {
             "fillmode": "overlay",
             "size": 10,
             "solidity": 0.2
            },
            "type": "scatter"
           }
          ],
          "scatter3d": [
           {
            "line": {
             "colorbar": {
              "outlinewidth": 0,
              "ticks": ""
             }
            },
            "marker": {
             "colorbar": {
              "outlinewidth": 0,
              "ticks": ""
             }
            },
            "type": "scatter3d"
           }
          ],
          "scattercarpet": [
           {
            "marker": {
             "colorbar": {
              "outlinewidth": 0,
              "ticks": ""
             }
            },
            "type": "scattercarpet"
           }
          ],
          "scattergeo": [
           {
            "marker": {
             "colorbar": {
              "outlinewidth": 0,
              "ticks": ""
             }
            },
            "type": "scattergeo"
           }
          ],
          "scattergl": [
           {
            "marker": {
             "colorbar": {
              "outlinewidth": 0,
              "ticks": ""
             }
            },
            "type": "scattergl"
           }
          ],
          "scattermapbox": [
           {
            "marker": {
             "colorbar": {
              "outlinewidth": 0,
              "ticks": ""
             }
            },
            "type": "scattermapbox"
           }
          ],
          "scatterpolar": [
           {
            "marker": {
             "colorbar": {
              "outlinewidth": 0,
              "ticks": ""
             }
            },
            "type": "scatterpolar"
           }
          ],
          "scatterpolargl": [
           {
            "marker": {
             "colorbar": {
              "outlinewidth": 0,
              "ticks": ""
             }
            },
            "type": "scatterpolargl"
           }
          ],
          "scatterternary": [
           {
            "marker": {
             "colorbar": {
              "outlinewidth": 0,
              "ticks": ""
             }
            },
            "type": "scatterternary"
           }
          ],
          "surface": [
           {
            "colorbar": {
             "outlinewidth": 0,
             "ticks": ""
            },
            "colorscale": [
             [
              0,
              "#0d0887"
             ],
             [
              0.1111111111111111,
              "#46039f"
             ],
             [
              0.2222222222222222,
              "#7201a8"
             ],
             [
              0.3333333333333333,
              "#9c179e"
             ],
             [
              0.4444444444444444,
              "#bd3786"
             ],
             [
              0.5555555555555556,
              "#d8576b"
             ],
             [
              0.6666666666666666,
              "#ed7953"
             ],
             [
              0.7777777777777778,
              "#fb9f3a"
             ],
             [
              0.8888888888888888,
              "#fdca26"
             ],
             [
              1,
              "#f0f921"
             ]
            ],
            "type": "surface"
           }
          ],
          "table": [
           {
            "cells": {
             "fill": {
              "color": "#EBF0F8"
             },
             "line": {
              "color": "white"
             }
            },
            "header": {
             "fill": {
              "color": "#C8D4E3"
             },
             "line": {
              "color": "white"
             }
            },
            "type": "table"
           }
          ]
         },
         "layout": {
          "annotationdefaults": {
           "arrowcolor": "#2a3f5f",
           "arrowhead": 0,
           "arrowwidth": 1
          },
          "autotypenumbers": "strict",
          "coloraxis": {
           "colorbar": {
            "outlinewidth": 0,
            "ticks": ""
           }
          },
          "colorscale": {
           "diverging": [
            [
             0,
             "#8e0152"
            ],
            [
             0.1,
             "#c51b7d"
            ],
            [
             0.2,
             "#de77ae"
            ],
            [
             0.3,
             "#f1b6da"
            ],
            [
             0.4,
             "#fde0ef"
            ],
            [
             0.5,
             "#f7f7f7"
            ],
            [
             0.6,
             "#e6f5d0"
            ],
            [
             0.7,
             "#b8e186"
            ],
            [
             0.8,
             "#7fbc41"
            ],
            [
             0.9,
             "#4d9221"
            ],
            [
             1,
             "#276419"
            ]
           ],
           "sequential": [
            [
             0,
             "#0d0887"
            ],
            [
             0.1111111111111111,
             "#46039f"
            ],
            [
             0.2222222222222222,
             "#7201a8"
            ],
            [
             0.3333333333333333,
             "#9c179e"
            ],
            [
             0.4444444444444444,
             "#bd3786"
            ],
            [
             0.5555555555555556,
             "#d8576b"
            ],
            [
             0.6666666666666666,
             "#ed7953"
            ],
            [
             0.7777777777777778,
             "#fb9f3a"
            ],
            [
             0.8888888888888888,
             "#fdca26"
            ],
            [
             1,
             "#f0f921"
            ]
           ],
           "sequentialminus": [
            [
             0,
             "#0d0887"
            ],
            [
             0.1111111111111111,
             "#46039f"
            ],
            [
             0.2222222222222222,
             "#7201a8"
            ],
            [
             0.3333333333333333,
             "#9c179e"
            ],
            [
             0.4444444444444444,
             "#bd3786"
            ],
            [
             0.5555555555555556,
             "#d8576b"
            ],
            [
             0.6666666666666666,
             "#ed7953"
            ],
            [
             0.7777777777777778,
             "#fb9f3a"
            ],
            [
             0.8888888888888888,
             "#fdca26"
            ],
            [
             1,
             "#f0f921"
            ]
           ]
          },
          "colorway": [
           "#636efa",
           "#EF553B",
           "#00cc96",
           "#ab63fa",
           "#FFA15A",
           "#19d3f3",
           "#FF6692",
           "#B6E880",
           "#FF97FF",
           "#FECB52"
          ],
          "font": {
           "color": "#2a3f5f"
          },
          "geo": {
           "bgcolor": "white",
           "lakecolor": "white",
           "landcolor": "#E5ECF6",
           "showlakes": true,
           "showland": true,
           "subunitcolor": "white"
          },
          "hoverlabel": {
           "align": "left"
          },
          "hovermode": "closest",
          "mapbox": {
           "style": "light"
          },
          "paper_bgcolor": "white",
          "plot_bgcolor": "#E5ECF6",
          "polar": {
           "angularaxis": {
            "gridcolor": "white",
            "linecolor": "white",
            "ticks": ""
           },
           "bgcolor": "#E5ECF6",
           "radialaxis": {
            "gridcolor": "white",
            "linecolor": "white",
            "ticks": ""
           }
          },
          "scene": {
           "xaxis": {
            "backgroundcolor": "#E5ECF6",
            "gridcolor": "white",
            "gridwidth": 2,
            "linecolor": "white",
            "showbackground": true,
            "ticks": "",
            "zerolinecolor": "white"
           },
           "yaxis": {
            "backgroundcolor": "#E5ECF6",
            "gridcolor": "white",
            "gridwidth": 2,
            "linecolor": "white",
            "showbackground": true,
            "ticks": "",
            "zerolinecolor": "white"
           },
           "zaxis": {
            "backgroundcolor": "#E5ECF6",
            "gridcolor": "white",
            "gridwidth": 2,
            "linecolor": "white",
            "showbackground": true,
            "ticks": "",
            "zerolinecolor": "white"
           }
          },
          "shapedefaults": {
           "line": {
            "color": "#2a3f5f"
           }
          },
          "ternary": {
           "aaxis": {
            "gridcolor": "white",
            "linecolor": "white",
            "ticks": ""
           },
           "baxis": {
            "gridcolor": "white",
            "linecolor": "white",
            "ticks": ""
           },
           "bgcolor": "#E5ECF6",
           "caxis": {
            "gridcolor": "white",
            "linecolor": "white",
            "ticks": ""
           }
          },
          "title": {
           "x": 0.05
          },
          "xaxis": {
           "automargin": true,
           "gridcolor": "white",
           "linecolor": "white",
           "ticks": "",
           "title": {
            "standoff": 15
           },
           "zerolinecolor": "white",
           "zerolinewidth": 2
          },
          "yaxis": {
           "automargin": true,
           "gridcolor": "white",
           "linecolor": "white",
           "ticks": "",
           "title": {
            "standoff": 15
           },
           "zerolinecolor": "white",
           "zerolinewidth": 2
          }
         }
        },
        "title": {
         "text": "Distribución de listing_type_id"
        },
        "xaxis": {
         "anchor": "y",
         "domain": [
          0,
          1
         ],
         "title": {
          "text": "listing_type_id"
         }
        },
        "yaxis": {
         "anchor": "x",
         "domain": [
          0,
          1
         ],
         "title": {
          "text": "Frecuencia"
         }
        }
       }
      }
     },
     "metadata": {},
     "output_type": "display_data"
    },
    {
     "data": {
      "application/vnd.plotly.v1+json": {
       "config": {
        "plotlyServerURL": "https://plot.ly"
       },
       "data": [
        {
         "alignmentgroup": "True",
         "hovertemplate": "variable=count<br>buying_mode=%{x}<br>Frecuencia=%{y}<extra></extra>",
         "legendgroup": "count",
         "marker": {
          "color": "#636efa",
          "pattern": {
           "shape": ""
          }
         },
         "name": "count",
         "offsetgroup": "count",
         "orientation": "v",
         "showlegend": true,
         "textposition": "auto",
         "type": "bar",
         "x": [
          "buy_it_now",
          "classified",
          "auction"
         ],
         "xaxis": "x",
         "y": [
          97001,
          2219,
          780
         ],
         "yaxis": "y"
        }
       ],
       "layout": {
        "barmode": "relative",
        "legend": {
         "title": {
          "text": "variable"
         },
         "tracegroupgap": 0
        },
        "template": {
         "data": {
          "bar": [
           {
            "error_x": {
             "color": "#2a3f5f"
            },
            "error_y": {
             "color": "#2a3f5f"
            },
            "marker": {
             "line": {
              "color": "#E5ECF6",
              "width": 0.5
             },
             "pattern": {
              "fillmode": "overlay",
              "size": 10,
              "solidity": 0.2
             }
            },
            "type": "bar"
           }
          ],
          "barpolar": [
           {
            "marker": {
             "line": {
              "color": "#E5ECF6",
              "width": 0.5
             },
             "pattern": {
              "fillmode": "overlay",
              "size": 10,
              "solidity": 0.2
             }
            },
            "type": "barpolar"
           }
          ],
          "carpet": [
           {
            "aaxis": {
             "endlinecolor": "#2a3f5f",
             "gridcolor": "white",
             "linecolor": "white",
             "minorgridcolor": "white",
             "startlinecolor": "#2a3f5f"
            },
            "baxis": {
             "endlinecolor": "#2a3f5f",
             "gridcolor": "white",
             "linecolor": "white",
             "minorgridcolor": "white",
             "startlinecolor": "#2a3f5f"
            },
            "type": "carpet"
           }
          ],
          "choropleth": [
           {
            "colorbar": {
             "outlinewidth": 0,
             "ticks": ""
            },
            "type": "choropleth"
           }
          ],
          "contour": [
           {
            "colorbar": {
             "outlinewidth": 0,
             "ticks": ""
            },
            "colorscale": [
             [
              0,
              "#0d0887"
             ],
             [
              0.1111111111111111,
              "#46039f"
             ],
             [
              0.2222222222222222,
              "#7201a8"
             ],
             [
              0.3333333333333333,
              "#9c179e"
             ],
             [
              0.4444444444444444,
              "#bd3786"
             ],
             [
              0.5555555555555556,
              "#d8576b"
             ],
             [
              0.6666666666666666,
              "#ed7953"
             ],
             [
              0.7777777777777778,
              "#fb9f3a"
             ],
             [
              0.8888888888888888,
              "#fdca26"
             ],
             [
              1,
              "#f0f921"
             ]
            ],
            "type": "contour"
           }
          ],
          "contourcarpet": [
           {
            "colorbar": {
             "outlinewidth": 0,
             "ticks": ""
            },
            "type": "contourcarpet"
           }
          ],
          "heatmap": [
           {
            "colorbar": {
             "outlinewidth": 0,
             "ticks": ""
            },
            "colorscale": [
             [
              0,
              "#0d0887"
             ],
             [
              0.1111111111111111,
              "#46039f"
             ],
             [
              0.2222222222222222,
              "#7201a8"
             ],
             [
              0.3333333333333333,
              "#9c179e"
             ],
             [
              0.4444444444444444,
              "#bd3786"
             ],
             [
              0.5555555555555556,
              "#d8576b"
             ],
             [
              0.6666666666666666,
              "#ed7953"
             ],
             [
              0.7777777777777778,
              "#fb9f3a"
             ],
             [
              0.8888888888888888,
              "#fdca26"
             ],
             [
              1,
              "#f0f921"
             ]
            ],
            "type": "heatmap"
           }
          ],
          "heatmapgl": [
           {
            "colorbar": {
             "outlinewidth": 0,
             "ticks": ""
            },
            "colorscale": [
             [
              0,
              "#0d0887"
             ],
             [
              0.1111111111111111,
              "#46039f"
             ],
             [
              0.2222222222222222,
              "#7201a8"
             ],
             [
              0.3333333333333333,
              "#9c179e"
             ],
             [
              0.4444444444444444,
              "#bd3786"
             ],
             [
              0.5555555555555556,
              "#d8576b"
             ],
             [
              0.6666666666666666,
              "#ed7953"
             ],
             [
              0.7777777777777778,
              "#fb9f3a"
             ],
             [
              0.8888888888888888,
              "#fdca26"
             ],
             [
              1,
              "#f0f921"
             ]
            ],
            "type": "heatmapgl"
           }
          ],
          "histogram": [
           {
            "marker": {
             "pattern": {
              "fillmode": "overlay",
              "size": 10,
              "solidity": 0.2
             }
            },
            "type": "histogram"
           }
          ],
          "histogram2d": [
           {
            "colorbar": {
             "outlinewidth": 0,
             "ticks": ""
            },
            "colorscale": [
             [
              0,
              "#0d0887"
             ],
             [
              0.1111111111111111,
              "#46039f"
             ],
             [
              0.2222222222222222,
              "#7201a8"
             ],
             [
              0.3333333333333333,
              "#9c179e"
             ],
             [
              0.4444444444444444,
              "#bd3786"
             ],
             [
              0.5555555555555556,
              "#d8576b"
             ],
             [
              0.6666666666666666,
              "#ed7953"
             ],
             [
              0.7777777777777778,
              "#fb9f3a"
             ],
             [
              0.8888888888888888,
              "#fdca26"
             ],
             [
              1,
              "#f0f921"
             ]
            ],
            "type": "histogram2d"
           }
          ],
          "histogram2dcontour": [
           {
            "colorbar": {
             "outlinewidth": 0,
             "ticks": ""
            },
            "colorscale": [
             [
              0,
              "#0d0887"
             ],
             [
              0.1111111111111111,
              "#46039f"
             ],
             [
              0.2222222222222222,
              "#7201a8"
             ],
             [
              0.3333333333333333,
              "#9c179e"
             ],
             [
              0.4444444444444444,
              "#bd3786"
             ],
             [
              0.5555555555555556,
              "#d8576b"
             ],
             [
              0.6666666666666666,
              "#ed7953"
             ],
             [
              0.7777777777777778,
              "#fb9f3a"
             ],
             [
              0.8888888888888888,
              "#fdca26"
             ],
             [
              1,
              "#f0f921"
             ]
            ],
            "type": "histogram2dcontour"
           }
          ],
          "mesh3d": [
           {
            "colorbar": {
             "outlinewidth": 0,
             "ticks": ""
            },
            "type": "mesh3d"
           }
          ],
          "parcoords": [
           {
            "line": {
             "colorbar": {
              "outlinewidth": 0,
              "ticks": ""
             }
            },
            "type": "parcoords"
           }
          ],
          "pie": [
           {
            "automargin": true,
            "type": "pie"
           }
          ],
          "scatter": [
           {
            "fillpattern": {
             "fillmode": "overlay",
             "size": 10,
             "solidity": 0.2
            },
            "type": "scatter"
           }
          ],
          "scatter3d": [
           {
            "line": {
             "colorbar": {
              "outlinewidth": 0,
              "ticks": ""
             }
            },
            "marker": {
             "colorbar": {
              "outlinewidth": 0,
              "ticks": ""
             }
            },
            "type": "scatter3d"
           }
          ],
          "scattercarpet": [
           {
            "marker": {
             "colorbar": {
              "outlinewidth": 0,
              "ticks": ""
             }
            },
            "type": "scattercarpet"
           }
          ],
          "scattergeo": [
           {
            "marker": {
             "colorbar": {
              "outlinewidth": 0,
              "ticks": ""
             }
            },
            "type": "scattergeo"
           }
          ],
          "scattergl": [
           {
            "marker": {
             "colorbar": {
              "outlinewidth": 0,
              "ticks": ""
             }
            },
            "type": "scattergl"
           }
          ],
          "scattermapbox": [
           {
            "marker": {
             "colorbar": {
              "outlinewidth": 0,
              "ticks": ""
             }
            },
            "type": "scattermapbox"
           }
          ],
          "scatterpolar": [
           {
            "marker": {
             "colorbar": {
              "outlinewidth": 0,
              "ticks": ""
             }
            },
            "type": "scatterpolar"
           }
          ],
          "scatterpolargl": [
           {
            "marker": {
             "colorbar": {
              "outlinewidth": 0,
              "ticks": ""
             }
            },
            "type": "scatterpolargl"
           }
          ],
          "scatterternary": [
           {
            "marker": {
             "colorbar": {
              "outlinewidth": 0,
              "ticks": ""
             }
            },
            "type": "scatterternary"
           }
          ],
          "surface": [
           {
            "colorbar": {
             "outlinewidth": 0,
             "ticks": ""
            },
            "colorscale": [
             [
              0,
              "#0d0887"
             ],
             [
              0.1111111111111111,
              "#46039f"
             ],
             [
              0.2222222222222222,
              "#7201a8"
             ],
             [
              0.3333333333333333,
              "#9c179e"
             ],
             [
              0.4444444444444444,
              "#bd3786"
             ],
             [
              0.5555555555555556,
              "#d8576b"
             ],
             [
              0.6666666666666666,
              "#ed7953"
             ],
             [
              0.7777777777777778,
              "#fb9f3a"
             ],
             [
              0.8888888888888888,
              "#fdca26"
             ],
             [
              1,
              "#f0f921"
             ]
            ],
            "type": "surface"
           }
          ],
          "table": [
           {
            "cells": {
             "fill": {
              "color": "#EBF0F8"
             },
             "line": {
              "color": "white"
             }
            },
            "header": {
             "fill": {
              "color": "#C8D4E3"
             },
             "line": {
              "color": "white"
             }
            },
            "type": "table"
           }
          ]
         },
         "layout": {
          "annotationdefaults": {
           "arrowcolor": "#2a3f5f",
           "arrowhead": 0,
           "arrowwidth": 1
          },
          "autotypenumbers": "strict",
          "coloraxis": {
           "colorbar": {
            "outlinewidth": 0,
            "ticks": ""
           }
          },
          "colorscale": {
           "diverging": [
            [
             0,
             "#8e0152"
            ],
            [
             0.1,
             "#c51b7d"
            ],
            [
             0.2,
             "#de77ae"
            ],
            [
             0.3,
             "#f1b6da"
            ],
            [
             0.4,
             "#fde0ef"
            ],
            [
             0.5,
             "#f7f7f7"
            ],
            [
             0.6,
             "#e6f5d0"
            ],
            [
             0.7,
             "#b8e186"
            ],
            [
             0.8,
             "#7fbc41"
            ],
            [
             0.9,
             "#4d9221"
            ],
            [
             1,
             "#276419"
            ]
           ],
           "sequential": [
            [
             0,
             "#0d0887"
            ],
            [
             0.1111111111111111,
             "#46039f"
            ],
            [
             0.2222222222222222,
             "#7201a8"
            ],
            [
             0.3333333333333333,
             "#9c179e"
            ],
            [
             0.4444444444444444,
             "#bd3786"
            ],
            [
             0.5555555555555556,
             "#d8576b"
            ],
            [
             0.6666666666666666,
             "#ed7953"
            ],
            [
             0.7777777777777778,
             "#fb9f3a"
            ],
            [
             0.8888888888888888,
             "#fdca26"
            ],
            [
             1,
             "#f0f921"
            ]
           ],
           "sequentialminus": [
            [
             0,
             "#0d0887"
            ],
            [
             0.1111111111111111,
             "#46039f"
            ],
            [
             0.2222222222222222,
             "#7201a8"
            ],
            [
             0.3333333333333333,
             "#9c179e"
            ],
            [
             0.4444444444444444,
             "#bd3786"
            ],
            [
             0.5555555555555556,
             "#d8576b"
            ],
            [
             0.6666666666666666,
             "#ed7953"
            ],
            [
             0.7777777777777778,
             "#fb9f3a"
            ],
            [
             0.8888888888888888,
             "#fdca26"
            ],
            [
             1,
             "#f0f921"
            ]
           ]
          },
          "colorway": [
           "#636efa",
           "#EF553B",
           "#00cc96",
           "#ab63fa",
           "#FFA15A",
           "#19d3f3",
           "#FF6692",
           "#B6E880",
           "#FF97FF",
           "#FECB52"
          ],
          "font": {
           "color": "#2a3f5f"
          },
          "geo": {
           "bgcolor": "white",
           "lakecolor": "white",
           "landcolor": "#E5ECF6",
           "showlakes": true,
           "showland": true,
           "subunitcolor": "white"
          },
          "hoverlabel": {
           "align": "left"
          },
          "hovermode": "closest",
          "mapbox": {
           "style": "light"
          },
          "paper_bgcolor": "white",
          "plot_bgcolor": "#E5ECF6",
          "polar": {
           "angularaxis": {
            "gridcolor": "white",
            "linecolor": "white",
            "ticks": ""
           },
           "bgcolor": "#E5ECF6",
           "radialaxis": {
            "gridcolor": "white",
            "linecolor": "white",
            "ticks": ""
           }
          },
          "scene": {
           "xaxis": {
            "backgroundcolor": "#E5ECF6",
            "gridcolor": "white",
            "gridwidth": 2,
            "linecolor": "white",
            "showbackground": true,
            "ticks": "",
            "zerolinecolor": "white"
           },
           "yaxis": {
            "backgroundcolor": "#E5ECF6",
            "gridcolor": "white",
            "gridwidth": 2,
            "linecolor": "white",
            "showbackground": true,
            "ticks": "",
            "zerolinecolor": "white"
           },
           "zaxis": {
            "backgroundcolor": "#E5ECF6",
            "gridcolor": "white",
            "gridwidth": 2,
            "linecolor": "white",
            "showbackground": true,
            "ticks": "",
            "zerolinecolor": "white"
           }
          },
          "shapedefaults": {
           "line": {
            "color": "#2a3f5f"
           }
          },
          "ternary": {
           "aaxis": {
            "gridcolor": "white",
            "linecolor": "white",
            "ticks": ""
           },
           "baxis": {
            "gridcolor": "white",
            "linecolor": "white",
            "ticks": ""
           },
           "bgcolor": "#E5ECF6",
           "caxis": {
            "gridcolor": "white",
            "linecolor": "white",
            "ticks": ""
           }
          },
          "title": {
           "x": 0.05
          },
          "xaxis": {
           "automargin": true,
           "gridcolor": "white",
           "linecolor": "white",
           "ticks": "",
           "title": {
            "standoff": 15
           },
           "zerolinecolor": "white",
           "zerolinewidth": 2
          },
          "yaxis": {
           "automargin": true,
           "gridcolor": "white",
           "linecolor": "white",
           "ticks": "",
           "title": {
            "standoff": 15
           },
           "zerolinecolor": "white",
           "zerolinewidth": 2
          }
         }
        },
        "title": {
         "text": "Distribución de buying_mode"
        },
        "xaxis": {
         "anchor": "y",
         "domain": [
          0,
          1
         ],
         "title": {
          "text": "buying_mode"
         }
        },
        "yaxis": {
         "anchor": "x",
         "domain": [
          0,
          1
         ],
         "title": {
          "text": "Frecuencia"
         }
        }
       }
      }
     },
     "metadata": {},
     "output_type": "display_data"
    },
    {
     "data": {
      "application/vnd.plotly.v1+json": {
       "config": {
        "plotlyServerURL": "https://plot.ly"
       },
       "data": [
        {
         "alignmentgroup": "True",
         "hovertemplate": "variable=count<br>currency_id=%{x}<br>Frecuencia=%{y}<extra></extra>",
         "legendgroup": "count",
         "marker": {
          "color": "#636efa",
          "pattern": {
           "shape": ""
          }
         },
         "name": "count",
         "offsetgroup": "count",
         "orientation": "v",
         "showlegend": true,
         "textposition": "auto",
         "type": "bar",
         "x": [
          "ARS",
          "USD"
         ],
         "xaxis": "x",
         "y": [
          99433,
          567
         ],
         "yaxis": "y"
        }
       ],
       "layout": {
        "barmode": "relative",
        "legend": {
         "title": {
          "text": "variable"
         },
         "tracegroupgap": 0
        },
        "template": {
         "data": {
          "bar": [
           {
            "error_x": {
             "color": "#2a3f5f"
            },
            "error_y": {
             "color": "#2a3f5f"
            },
            "marker": {
             "line": {
              "color": "#E5ECF6",
              "width": 0.5
             },
             "pattern": {
              "fillmode": "overlay",
              "size": 10,
              "solidity": 0.2
             }
            },
            "type": "bar"
           }
          ],
          "barpolar": [
           {
            "marker": {
             "line": {
              "color": "#E5ECF6",
              "width": 0.5
             },
             "pattern": {
              "fillmode": "overlay",
              "size": 10,
              "solidity": 0.2
             }
            },
            "type": "barpolar"
           }
          ],
          "carpet": [
           {
            "aaxis": {
             "endlinecolor": "#2a3f5f",
             "gridcolor": "white",
             "linecolor": "white",
             "minorgridcolor": "white",
             "startlinecolor": "#2a3f5f"
            },
            "baxis": {
             "endlinecolor": "#2a3f5f",
             "gridcolor": "white",
             "linecolor": "white",
             "minorgridcolor": "white",
             "startlinecolor": "#2a3f5f"
            },
            "type": "carpet"
           }
          ],
          "choropleth": [
           {
            "colorbar": {
             "outlinewidth": 0,
             "ticks": ""
            },
            "type": "choropleth"
           }
          ],
          "contour": [
           {
            "colorbar": {
             "outlinewidth": 0,
             "ticks": ""
            },
            "colorscale": [
             [
              0,
              "#0d0887"
             ],
             [
              0.1111111111111111,
              "#46039f"
             ],
             [
              0.2222222222222222,
              "#7201a8"
             ],
             [
              0.3333333333333333,
              "#9c179e"
             ],
             [
              0.4444444444444444,
              "#bd3786"
             ],
             [
              0.5555555555555556,
              "#d8576b"
             ],
             [
              0.6666666666666666,
              "#ed7953"
             ],
             [
              0.7777777777777778,
              "#fb9f3a"
             ],
             [
              0.8888888888888888,
              "#fdca26"
             ],
             [
              1,
              "#f0f921"
             ]
            ],
            "type": "contour"
           }
          ],
          "contourcarpet": [
           {
            "colorbar": {
             "outlinewidth": 0,
             "ticks": ""
            },
            "type": "contourcarpet"
           }
          ],
          "heatmap": [
           {
            "colorbar": {
             "outlinewidth": 0,
             "ticks": ""
            },
            "colorscale": [
             [
              0,
              "#0d0887"
             ],
             [
              0.1111111111111111,
              "#46039f"
             ],
             [
              0.2222222222222222,
              "#7201a8"
             ],
             [
              0.3333333333333333,
              "#9c179e"
             ],
             [
              0.4444444444444444,
              "#bd3786"
             ],
             [
              0.5555555555555556,
              "#d8576b"
             ],
             [
              0.6666666666666666,
              "#ed7953"
             ],
             [
              0.7777777777777778,
              "#fb9f3a"
             ],
             [
              0.8888888888888888,
              "#fdca26"
             ],
             [
              1,
              "#f0f921"
             ]
            ],
            "type": "heatmap"
           }
          ],
          "heatmapgl": [
           {
            "colorbar": {
             "outlinewidth": 0,
             "ticks": ""
            },
            "colorscale": [
             [
              0,
              "#0d0887"
             ],
             [
              0.1111111111111111,
              "#46039f"
             ],
             [
              0.2222222222222222,
              "#7201a8"
             ],
             [
              0.3333333333333333,
              "#9c179e"
             ],
             [
              0.4444444444444444,
              "#bd3786"
             ],
             [
              0.5555555555555556,
              "#d8576b"
             ],
             [
              0.6666666666666666,
              "#ed7953"
             ],
             [
              0.7777777777777778,
              "#fb9f3a"
             ],
             [
              0.8888888888888888,
              "#fdca26"
             ],
             [
              1,
              "#f0f921"
             ]
            ],
            "type": "heatmapgl"
           }
          ],
          "histogram": [
           {
            "marker": {
             "pattern": {
              "fillmode": "overlay",
              "size": 10,
              "solidity": 0.2
             }
            },
            "type": "histogram"
           }
          ],
          "histogram2d": [
           {
            "colorbar": {
             "outlinewidth": 0,
             "ticks": ""
            },
            "colorscale": [
             [
              0,
              "#0d0887"
             ],
             [
              0.1111111111111111,
              "#46039f"
             ],
             [
              0.2222222222222222,
              "#7201a8"
             ],
             [
              0.3333333333333333,
              "#9c179e"
             ],
             [
              0.4444444444444444,
              "#bd3786"
             ],
             [
              0.5555555555555556,
              "#d8576b"
             ],
             [
              0.6666666666666666,
              "#ed7953"
             ],
             [
              0.7777777777777778,
              "#fb9f3a"
             ],
             [
              0.8888888888888888,
              "#fdca26"
             ],
             [
              1,
              "#f0f921"
             ]
            ],
            "type": "histogram2d"
           }
          ],
          "histogram2dcontour": [
           {
            "colorbar": {
             "outlinewidth": 0,
             "ticks": ""
            },
            "colorscale": [
             [
              0,
              "#0d0887"
             ],
             [
              0.1111111111111111,
              "#46039f"
             ],
             [
              0.2222222222222222,
              "#7201a8"
             ],
             [
              0.3333333333333333,
              "#9c179e"
             ],
             [
              0.4444444444444444,
              "#bd3786"
             ],
             [
              0.5555555555555556,
              "#d8576b"
             ],
             [
              0.6666666666666666,
              "#ed7953"
             ],
             [
              0.7777777777777778,
              "#fb9f3a"
             ],
             [
              0.8888888888888888,
              "#fdca26"
             ],
             [
              1,
              "#f0f921"
             ]
            ],
            "type": "histogram2dcontour"
           }
          ],
          "mesh3d": [
           {
            "colorbar": {
             "outlinewidth": 0,
             "ticks": ""
            },
            "type": "mesh3d"
           }
          ],
          "parcoords": [
           {
            "line": {
             "colorbar": {
              "outlinewidth": 0,
              "ticks": ""
             }
            },
            "type": "parcoords"
           }
          ],
          "pie": [
           {
            "automargin": true,
            "type": "pie"
           }
          ],
          "scatter": [
           {
            "fillpattern": {
             "fillmode": "overlay",
             "size": 10,
             "solidity": 0.2
            },
            "type": "scatter"
           }
          ],
          "scatter3d": [
           {
            "line": {
             "colorbar": {
              "outlinewidth": 0,
              "ticks": ""
             }
            },
            "marker": {
             "colorbar": {
              "outlinewidth": 0,
              "ticks": ""
             }
            },
            "type": "scatter3d"
           }
          ],
          "scattercarpet": [
           {
            "marker": {
             "colorbar": {
              "outlinewidth": 0,
              "ticks": ""
             }
            },
            "type": "scattercarpet"
           }
          ],
          "scattergeo": [
           {
            "marker": {
             "colorbar": {
              "outlinewidth": 0,
              "ticks": ""
             }
            },
            "type": "scattergeo"
           }
          ],
          "scattergl": [
           {
            "marker": {
             "colorbar": {
              "outlinewidth": 0,
              "ticks": ""
             }
            },
            "type": "scattergl"
           }
          ],
          "scattermapbox": [
           {
            "marker": {
             "colorbar": {
              "outlinewidth": 0,
              "ticks": ""
             }
            },
            "type": "scattermapbox"
           }
          ],
          "scatterpolar": [
           {
            "marker": {
             "colorbar": {
              "outlinewidth": 0,
              "ticks": ""
             }
            },
            "type": "scatterpolar"
           }
          ],
          "scatterpolargl": [
           {
            "marker": {
             "colorbar": {
              "outlinewidth": 0,
              "ticks": ""
             }
            },
            "type": "scatterpolargl"
           }
          ],
          "scatterternary": [
           {
            "marker": {
             "colorbar": {
              "outlinewidth": 0,
              "ticks": ""
             }
            },
            "type": "scatterternary"
           }
          ],
          "surface": [
           {
            "colorbar": {
             "outlinewidth": 0,
             "ticks": ""
            },
            "colorscale": [
             [
              0,
              "#0d0887"
             ],
             [
              0.1111111111111111,
              "#46039f"
             ],
             [
              0.2222222222222222,
              "#7201a8"
             ],
             [
              0.3333333333333333,
              "#9c179e"
             ],
             [
              0.4444444444444444,
              "#bd3786"
             ],
             [
              0.5555555555555556,
              "#d8576b"
             ],
             [
              0.6666666666666666,
              "#ed7953"
             ],
             [
              0.7777777777777778,
              "#fb9f3a"
             ],
             [
              0.8888888888888888,
              "#fdca26"
             ],
             [
              1,
              "#f0f921"
             ]
            ],
            "type": "surface"
           }
          ],
          "table": [
           {
            "cells": {
             "fill": {
              "color": "#EBF0F8"
             },
             "line": {
              "color": "white"
             }
            },
            "header": {
             "fill": {
              "color": "#C8D4E3"
             },
             "line": {
              "color": "white"
             }
            },
            "type": "table"
           }
          ]
         },
         "layout": {
          "annotationdefaults": {
           "arrowcolor": "#2a3f5f",
           "arrowhead": 0,
           "arrowwidth": 1
          },
          "autotypenumbers": "strict",
          "coloraxis": {
           "colorbar": {
            "outlinewidth": 0,
            "ticks": ""
           }
          },
          "colorscale": {
           "diverging": [
            [
             0,
             "#8e0152"
            ],
            [
             0.1,
             "#c51b7d"
            ],
            [
             0.2,
             "#de77ae"
            ],
            [
             0.3,
             "#f1b6da"
            ],
            [
             0.4,
             "#fde0ef"
            ],
            [
             0.5,
             "#f7f7f7"
            ],
            [
             0.6,
             "#e6f5d0"
            ],
            [
             0.7,
             "#b8e186"
            ],
            [
             0.8,
             "#7fbc41"
            ],
            [
             0.9,
             "#4d9221"
            ],
            [
             1,
             "#276419"
            ]
           ],
           "sequential": [
            [
             0,
             "#0d0887"
            ],
            [
             0.1111111111111111,
             "#46039f"
            ],
            [
             0.2222222222222222,
             "#7201a8"
            ],
            [
             0.3333333333333333,
             "#9c179e"
            ],
            [
             0.4444444444444444,
             "#bd3786"
            ],
            [
             0.5555555555555556,
             "#d8576b"
            ],
            [
             0.6666666666666666,
             "#ed7953"
            ],
            [
             0.7777777777777778,
             "#fb9f3a"
            ],
            [
             0.8888888888888888,
             "#fdca26"
            ],
            [
             1,
             "#f0f921"
            ]
           ],
           "sequentialminus": [
            [
             0,
             "#0d0887"
            ],
            [
             0.1111111111111111,
             "#46039f"
            ],
            [
             0.2222222222222222,
             "#7201a8"
            ],
            [
             0.3333333333333333,
             "#9c179e"
            ],
            [
             0.4444444444444444,
             "#bd3786"
            ],
            [
             0.5555555555555556,
             "#d8576b"
            ],
            [
             0.6666666666666666,
             "#ed7953"
            ],
            [
             0.7777777777777778,
             "#fb9f3a"
            ],
            [
             0.8888888888888888,
             "#fdca26"
            ],
            [
             1,
             "#f0f921"
            ]
           ]
          },
          "colorway": [
           "#636efa",
           "#EF553B",
           "#00cc96",
           "#ab63fa",
           "#FFA15A",
           "#19d3f3",
           "#FF6692",
           "#B6E880",
           "#FF97FF",
           "#FECB52"
          ],
          "font": {
           "color": "#2a3f5f"
          },
          "geo": {
           "bgcolor": "white",
           "lakecolor": "white",
           "landcolor": "#E5ECF6",
           "showlakes": true,
           "showland": true,
           "subunitcolor": "white"
          },
          "hoverlabel": {
           "align": "left"
          },
          "hovermode": "closest",
          "mapbox": {
           "style": "light"
          },
          "paper_bgcolor": "white",
          "plot_bgcolor": "#E5ECF6",
          "polar": {
           "angularaxis": {
            "gridcolor": "white",
            "linecolor": "white",
            "ticks": ""
           },
           "bgcolor": "#E5ECF6",
           "radialaxis": {
            "gridcolor": "white",
            "linecolor": "white",
            "ticks": ""
           }
          },
          "scene": {
           "xaxis": {
            "backgroundcolor": "#E5ECF6",
            "gridcolor": "white",
            "gridwidth": 2,
            "linecolor": "white",
            "showbackground": true,
            "ticks": "",
            "zerolinecolor": "white"
           },
           "yaxis": {
            "backgroundcolor": "#E5ECF6",
            "gridcolor": "white",
            "gridwidth": 2,
            "linecolor": "white",
            "showbackground": true,
            "ticks": "",
            "zerolinecolor": "white"
           },
           "zaxis": {
            "backgroundcolor": "#E5ECF6",
            "gridcolor": "white",
            "gridwidth": 2,
            "linecolor": "white",
            "showbackground": true,
            "ticks": "",
            "zerolinecolor": "white"
           }
          },
          "shapedefaults": {
           "line": {
            "color": "#2a3f5f"
           }
          },
          "ternary": {
           "aaxis": {
            "gridcolor": "white",
            "linecolor": "white",
            "ticks": ""
           },
           "baxis": {
            "gridcolor": "white",
            "linecolor": "white",
            "ticks": ""
           },
           "bgcolor": "#E5ECF6",
           "caxis": {
            "gridcolor": "white",
            "linecolor": "white",
            "ticks": ""
           }
          },
          "title": {
           "x": 0.05
          },
          "xaxis": {
           "automargin": true,
           "gridcolor": "white",
           "linecolor": "white",
           "ticks": "",
           "title": {
            "standoff": 15
           },
           "zerolinecolor": "white",
           "zerolinewidth": 2
          },
          "yaxis": {
           "automargin": true,
           "gridcolor": "white",
           "linecolor": "white",
           "ticks": "",
           "title": {
            "standoff": 15
           },
           "zerolinecolor": "white",
           "zerolinewidth": 2
          }
         }
        },
        "title": {
         "text": "Distribución de currency_id"
        },
        "xaxis": {
         "anchor": "y",
         "domain": [
          0,
          1
         ],
         "title": {
          "text": "currency_id"
         }
        },
        "yaxis": {
         "anchor": "x",
         "domain": [
          0,
          1
         ],
         "title": {
          "text": "Frecuencia"
         }
        }
       }
      }
     },
     "metadata": {},
     "output_type": "display_data"
    },
    {
     "data": {
      "application/vnd.plotly.v1+json": {
       "config": {
        "plotlyServerURL": "https://plot.ly"
       },
       "data": [
        {
         "alignmentgroup": "True",
         "hovertemplate": "variable=count<br>status=%{x}<br>Frecuencia=%{y}<extra></extra>",
         "legendgroup": "count",
         "marker": {
          "color": "#636efa",
          "pattern": {
           "shape": ""
          }
         },
         "name": "count",
         "offsetgroup": "count",
         "orientation": "v",
         "showlegend": true,
         "textposition": "auto",
         "type": "bar",
         "x": [
          "active",
          "paused",
          "closed",
          "not_yet_active"
         ],
         "xaxis": "x",
         "y": [
          95675,
          4304,
          20,
          1
         ],
         "yaxis": "y"
        }
       ],
       "layout": {
        "barmode": "relative",
        "legend": {
         "title": {
          "text": "variable"
         },
         "tracegroupgap": 0
        },
        "template": {
         "data": {
          "bar": [
           {
            "error_x": {
             "color": "#2a3f5f"
            },
            "error_y": {
             "color": "#2a3f5f"
            },
            "marker": {
             "line": {
              "color": "#E5ECF6",
              "width": 0.5
             },
             "pattern": {
              "fillmode": "overlay",
              "size": 10,
              "solidity": 0.2
             }
            },
            "type": "bar"
           }
          ],
          "barpolar": [
           {
            "marker": {
             "line": {
              "color": "#E5ECF6",
              "width": 0.5
             },
             "pattern": {
              "fillmode": "overlay",
              "size": 10,
              "solidity": 0.2
             }
            },
            "type": "barpolar"
           }
          ],
          "carpet": [
           {
            "aaxis": {
             "endlinecolor": "#2a3f5f",
             "gridcolor": "white",
             "linecolor": "white",
             "minorgridcolor": "white",
             "startlinecolor": "#2a3f5f"
            },
            "baxis": {
             "endlinecolor": "#2a3f5f",
             "gridcolor": "white",
             "linecolor": "white",
             "minorgridcolor": "white",
             "startlinecolor": "#2a3f5f"
            },
            "type": "carpet"
           }
          ],
          "choropleth": [
           {
            "colorbar": {
             "outlinewidth": 0,
             "ticks": ""
            },
            "type": "choropleth"
           }
          ],
          "contour": [
           {
            "colorbar": {
             "outlinewidth": 0,
             "ticks": ""
            },
            "colorscale": [
             [
              0,
              "#0d0887"
             ],
             [
              0.1111111111111111,
              "#46039f"
             ],
             [
              0.2222222222222222,
              "#7201a8"
             ],
             [
              0.3333333333333333,
              "#9c179e"
             ],
             [
              0.4444444444444444,
              "#bd3786"
             ],
             [
              0.5555555555555556,
              "#d8576b"
             ],
             [
              0.6666666666666666,
              "#ed7953"
             ],
             [
              0.7777777777777778,
              "#fb9f3a"
             ],
             [
              0.8888888888888888,
              "#fdca26"
             ],
             [
              1,
              "#f0f921"
             ]
            ],
            "type": "contour"
           }
          ],
          "contourcarpet": [
           {
            "colorbar": {
             "outlinewidth": 0,
             "ticks": ""
            },
            "type": "contourcarpet"
           }
          ],
          "heatmap": [
           {
            "colorbar": {
             "outlinewidth": 0,
             "ticks": ""
            },
            "colorscale": [
             [
              0,
              "#0d0887"
             ],
             [
              0.1111111111111111,
              "#46039f"
             ],
             [
              0.2222222222222222,
              "#7201a8"
             ],
             [
              0.3333333333333333,
              "#9c179e"
             ],
             [
              0.4444444444444444,
              "#bd3786"
             ],
             [
              0.5555555555555556,
              "#d8576b"
             ],
             [
              0.6666666666666666,
              "#ed7953"
             ],
             [
              0.7777777777777778,
              "#fb9f3a"
             ],
             [
              0.8888888888888888,
              "#fdca26"
             ],
             [
              1,
              "#f0f921"
             ]
            ],
            "type": "heatmap"
           }
          ],
          "heatmapgl": [
           {
            "colorbar": {
             "outlinewidth": 0,
             "ticks": ""
            },
            "colorscale": [
             [
              0,
              "#0d0887"
             ],
             [
              0.1111111111111111,
              "#46039f"
             ],
             [
              0.2222222222222222,
              "#7201a8"
             ],
             [
              0.3333333333333333,
              "#9c179e"
             ],
             [
              0.4444444444444444,
              "#bd3786"
             ],
             [
              0.5555555555555556,
              "#d8576b"
             ],
             [
              0.6666666666666666,
              "#ed7953"
             ],
             [
              0.7777777777777778,
              "#fb9f3a"
             ],
             [
              0.8888888888888888,
              "#fdca26"
             ],
             [
              1,
              "#f0f921"
             ]
            ],
            "type": "heatmapgl"
           }
          ],
          "histogram": [
           {
            "marker": {
             "pattern": {
              "fillmode": "overlay",
              "size": 10,
              "solidity": 0.2
             }
            },
            "type": "histogram"
           }
          ],
          "histogram2d": [
           {
            "colorbar": {
             "outlinewidth": 0,
             "ticks": ""
            },
            "colorscale": [
             [
              0,
              "#0d0887"
             ],
             [
              0.1111111111111111,
              "#46039f"
             ],
             [
              0.2222222222222222,
              "#7201a8"
             ],
             [
              0.3333333333333333,
              "#9c179e"
             ],
             [
              0.4444444444444444,
              "#bd3786"
             ],
             [
              0.5555555555555556,
              "#d8576b"
             ],
             [
              0.6666666666666666,
              "#ed7953"
             ],
             [
              0.7777777777777778,
              "#fb9f3a"
             ],
             [
              0.8888888888888888,
              "#fdca26"
             ],
             [
              1,
              "#f0f921"
             ]
            ],
            "type": "histogram2d"
           }
          ],
          "histogram2dcontour": [
           {
            "colorbar": {
             "outlinewidth": 0,
             "ticks": ""
            },
            "colorscale": [
             [
              0,
              "#0d0887"
             ],
             [
              0.1111111111111111,
              "#46039f"
             ],
             [
              0.2222222222222222,
              "#7201a8"
             ],
             [
              0.3333333333333333,
              "#9c179e"
             ],
             [
              0.4444444444444444,
              "#bd3786"
             ],
             [
              0.5555555555555556,
              "#d8576b"
             ],
             [
              0.6666666666666666,
              "#ed7953"
             ],
             [
              0.7777777777777778,
              "#fb9f3a"
             ],
             [
              0.8888888888888888,
              "#fdca26"
             ],
             [
              1,
              "#f0f921"
             ]
            ],
            "type": "histogram2dcontour"
           }
          ],
          "mesh3d": [
           {
            "colorbar": {
             "outlinewidth": 0,
             "ticks": ""
            },
            "type": "mesh3d"
           }
          ],
          "parcoords": [
           {
            "line": {
             "colorbar": {
              "outlinewidth": 0,
              "ticks": ""
             }
            },
            "type": "parcoords"
           }
          ],
          "pie": [
           {
            "automargin": true,
            "type": "pie"
           }
          ],
          "scatter": [
           {
            "fillpattern": {
             "fillmode": "overlay",
             "size": 10,
             "solidity": 0.2
            },
            "type": "scatter"
           }
          ],
          "scatter3d": [
           {
            "line": {
             "colorbar": {
              "outlinewidth": 0,
              "ticks": ""
             }
            },
            "marker": {
             "colorbar": {
              "outlinewidth": 0,
              "ticks": ""
             }
            },
            "type": "scatter3d"
           }
          ],
          "scattercarpet": [
           {
            "marker": {
             "colorbar": {
              "outlinewidth": 0,
              "ticks": ""
             }
            },
            "type": "scattercarpet"
           }
          ],
          "scattergeo": [
           {
            "marker": {
             "colorbar": {
              "outlinewidth": 0,
              "ticks": ""
             }
            },
            "type": "scattergeo"
           }
          ],
          "scattergl": [
           {
            "marker": {
             "colorbar": {
              "outlinewidth": 0,
              "ticks": ""
             }
            },
            "type": "scattergl"
           }
          ],
          "scattermapbox": [
           {
            "marker": {
             "colorbar": {
              "outlinewidth": 0,
              "ticks": ""
             }
            },
            "type": "scattermapbox"
           }
          ],
          "scatterpolar": [
           {
            "marker": {
             "colorbar": {
              "outlinewidth": 0,
              "ticks": ""
             }
            },
            "type": "scatterpolar"
           }
          ],
          "scatterpolargl": [
           {
            "marker": {
             "colorbar": {
              "outlinewidth": 0,
              "ticks": ""
             }
            },
            "type": "scatterpolargl"
           }
          ],
          "scatterternary": [
           {
            "marker": {
             "colorbar": {
              "outlinewidth": 0,
              "ticks": ""
             }
            },
            "type": "scatterternary"
           }
          ],
          "surface": [
           {
            "colorbar": {
             "outlinewidth": 0,
             "ticks": ""
            },
            "colorscale": [
             [
              0,
              "#0d0887"
             ],
             [
              0.1111111111111111,
              "#46039f"
             ],
             [
              0.2222222222222222,
              "#7201a8"
             ],
             [
              0.3333333333333333,
              "#9c179e"
             ],
             [
              0.4444444444444444,
              "#bd3786"
             ],
             [
              0.5555555555555556,
              "#d8576b"
             ],
             [
              0.6666666666666666,
              "#ed7953"
             ],
             [
              0.7777777777777778,
              "#fb9f3a"
             ],
             [
              0.8888888888888888,
              "#fdca26"
             ],
             [
              1,
              "#f0f921"
             ]
            ],
            "type": "surface"
           }
          ],
          "table": [
           {
            "cells": {
             "fill": {
              "color": "#EBF0F8"
             },
             "line": {
              "color": "white"
             }
            },
            "header": {
             "fill": {
              "color": "#C8D4E3"
             },
             "line": {
              "color": "white"
             }
            },
            "type": "table"
           }
          ]
         },
         "layout": {
          "annotationdefaults": {
           "arrowcolor": "#2a3f5f",
           "arrowhead": 0,
           "arrowwidth": 1
          },
          "autotypenumbers": "strict",
          "coloraxis": {
           "colorbar": {
            "outlinewidth": 0,
            "ticks": ""
           }
          },
          "colorscale": {
           "diverging": [
            [
             0,
             "#8e0152"
            ],
            [
             0.1,
             "#c51b7d"
            ],
            [
             0.2,
             "#de77ae"
            ],
            [
             0.3,
             "#f1b6da"
            ],
            [
             0.4,
             "#fde0ef"
            ],
            [
             0.5,
             "#f7f7f7"
            ],
            [
             0.6,
             "#e6f5d0"
            ],
            [
             0.7,
             "#b8e186"
            ],
            [
             0.8,
             "#7fbc41"
            ],
            [
             0.9,
             "#4d9221"
            ],
            [
             1,
             "#276419"
            ]
           ],
           "sequential": [
            [
             0,
             "#0d0887"
            ],
            [
             0.1111111111111111,
             "#46039f"
            ],
            [
             0.2222222222222222,
             "#7201a8"
            ],
            [
             0.3333333333333333,
             "#9c179e"
            ],
            [
             0.4444444444444444,
             "#bd3786"
            ],
            [
             0.5555555555555556,
             "#d8576b"
            ],
            [
             0.6666666666666666,
             "#ed7953"
            ],
            [
             0.7777777777777778,
             "#fb9f3a"
            ],
            [
             0.8888888888888888,
             "#fdca26"
            ],
            [
             1,
             "#f0f921"
            ]
           ],
           "sequentialminus": [
            [
             0,
             "#0d0887"
            ],
            [
             0.1111111111111111,
             "#46039f"
            ],
            [
             0.2222222222222222,
             "#7201a8"
            ],
            [
             0.3333333333333333,
             "#9c179e"
            ],
            [
             0.4444444444444444,
             "#bd3786"
            ],
            [
             0.5555555555555556,
             "#d8576b"
            ],
            [
             0.6666666666666666,
             "#ed7953"
            ],
            [
             0.7777777777777778,
             "#fb9f3a"
            ],
            [
             0.8888888888888888,
             "#fdca26"
            ],
            [
             1,
             "#f0f921"
            ]
           ]
          },
          "colorway": [
           "#636efa",
           "#EF553B",
           "#00cc96",
           "#ab63fa",
           "#FFA15A",
           "#19d3f3",
           "#FF6692",
           "#B6E880",
           "#FF97FF",
           "#FECB52"
          ],
          "font": {
           "color": "#2a3f5f"
          },
          "geo": {
           "bgcolor": "white",
           "lakecolor": "white",
           "landcolor": "#E5ECF6",
           "showlakes": true,
           "showland": true,
           "subunitcolor": "white"
          },
          "hoverlabel": {
           "align": "left"
          },
          "hovermode": "closest",
          "mapbox": {
           "style": "light"
          },
          "paper_bgcolor": "white",
          "plot_bgcolor": "#E5ECF6",
          "polar": {
           "angularaxis": {
            "gridcolor": "white",
            "linecolor": "white",
            "ticks": ""
           },
           "bgcolor": "#E5ECF6",
           "radialaxis": {
            "gridcolor": "white",
            "linecolor": "white",
            "ticks": ""
           }
          },
          "scene": {
           "xaxis": {
            "backgroundcolor": "#E5ECF6",
            "gridcolor": "white",
            "gridwidth": 2,
            "linecolor": "white",
            "showbackground": true,
            "ticks": "",
            "zerolinecolor": "white"
           },
           "yaxis": {
            "backgroundcolor": "#E5ECF6",
            "gridcolor": "white",
            "gridwidth": 2,
            "linecolor": "white",
            "showbackground": true,
            "ticks": "",
            "zerolinecolor": "white"
           },
           "zaxis": {
            "backgroundcolor": "#E5ECF6",
            "gridcolor": "white",
            "gridwidth": 2,
            "linecolor": "white",
            "showbackground": true,
            "ticks": "",
            "zerolinecolor": "white"
           }
          },
          "shapedefaults": {
           "line": {
            "color": "#2a3f5f"
           }
          },
          "ternary": {
           "aaxis": {
            "gridcolor": "white",
            "linecolor": "white",
            "ticks": ""
           },
           "baxis": {
            "gridcolor": "white",
            "linecolor": "white",
            "ticks": ""
           },
           "bgcolor": "#E5ECF6",
           "caxis": {
            "gridcolor": "white",
            "linecolor": "white",
            "ticks": ""
           }
          },
          "title": {
           "x": 0.05
          },
          "xaxis": {
           "automargin": true,
           "gridcolor": "white",
           "linecolor": "white",
           "ticks": "",
           "title": {
            "standoff": 15
           },
           "zerolinecolor": "white",
           "zerolinewidth": 2
          },
          "yaxis": {
           "automargin": true,
           "gridcolor": "white",
           "linecolor": "white",
           "ticks": "",
           "title": {
            "standoff": 15
           },
           "zerolinecolor": "white",
           "zerolinewidth": 2
          }
         }
        },
        "title": {
         "text": "Distribución de status"
        },
        "xaxis": {
         "anchor": "y",
         "domain": [
          0,
          1
         ],
         "title": {
          "text": "status"
         }
        },
        "yaxis": {
         "anchor": "x",
         "domain": [
          0,
          1
         ],
         "title": {
          "text": "Frecuencia"
         }
        }
       }
      }
     },
     "metadata": {},
     "output_type": "display_data"
    },
    {
     "data": {
      "application/vnd.plotly.v1+json": {
       "config": {
        "plotlyServerURL": "https://plot.ly"
       },
       "data": [
        {
         "alignmentgroup": "True",
         "hovertemplate": "variable=count<br>seller_state=%{x}<br>Frecuencia=%{y}<extra></extra>",
         "legendgroup": "count",
         "marker": {
          "color": "#636efa",
          "pattern": {
           "shape": ""
          }
         },
         "name": "count",
         "offsetgroup": "count",
         "orientation": "v",
         "showlegend": true,
         "textposition": "auto",
         "type": "bar",
         "x": [
          "Capital Federal",
          "Buenos Aires",
          "Santa Fe",
          "Córdoba",
          "Mendoza",
          "Chubut",
          "Entre Ríos",
          "Tucumán",
          "San Juan",
          "Salta",
          "Misiones",
          "Río Negro",
          "Corrientes",
          "Neuquén",
          "La Pampa",
          "Chaco",
          "San Luis",
          "Jujuy",
          "Santiago del Estero",
          "Formosa",
          "Santa Cruz",
          "Catamarca",
          "La Rioja",
          "Tierra del Fuego"
         ],
         "xaxis": "x",
         "y": [
          57857,
          35013,
          2672,
          1908,
          450,
          375,
          287,
          237,
          151,
          146,
          143,
          140,
          124,
          101,
          86,
          77,
          60,
          40,
          29,
          28,
          25,
          21,
          18,
          12
         ],
         "yaxis": "y"
        }
       ],
       "layout": {
        "barmode": "relative",
        "legend": {
         "title": {
          "text": "variable"
         },
         "tracegroupgap": 0
        },
        "template": {
         "data": {
          "bar": [
           {
            "error_x": {
             "color": "#2a3f5f"
            },
            "error_y": {
             "color": "#2a3f5f"
            },
            "marker": {
             "line": {
              "color": "#E5ECF6",
              "width": 0.5
             },
             "pattern": {
              "fillmode": "overlay",
              "size": 10,
              "solidity": 0.2
             }
            },
            "type": "bar"
           }
          ],
          "barpolar": [
           {
            "marker": {
             "line": {
              "color": "#E5ECF6",
              "width": 0.5
             },
             "pattern": {
              "fillmode": "overlay",
              "size": 10,
              "solidity": 0.2
             }
            },
            "type": "barpolar"
           }
          ],
          "carpet": [
           {
            "aaxis": {
             "endlinecolor": "#2a3f5f",
             "gridcolor": "white",
             "linecolor": "white",
             "minorgridcolor": "white",
             "startlinecolor": "#2a3f5f"
            },
            "baxis": {
             "endlinecolor": "#2a3f5f",
             "gridcolor": "white",
             "linecolor": "white",
             "minorgridcolor": "white",
             "startlinecolor": "#2a3f5f"
            },
            "type": "carpet"
           }
          ],
          "choropleth": [
           {
            "colorbar": {
             "outlinewidth": 0,
             "ticks": ""
            },
            "type": "choropleth"
           }
          ],
          "contour": [
           {
            "colorbar": {
             "outlinewidth": 0,
             "ticks": ""
            },
            "colorscale": [
             [
              0,
              "#0d0887"
             ],
             [
              0.1111111111111111,
              "#46039f"
             ],
             [
              0.2222222222222222,
              "#7201a8"
             ],
             [
              0.3333333333333333,
              "#9c179e"
             ],
             [
              0.4444444444444444,
              "#bd3786"
             ],
             [
              0.5555555555555556,
              "#d8576b"
             ],
             [
              0.6666666666666666,
              "#ed7953"
             ],
             [
              0.7777777777777778,
              "#fb9f3a"
             ],
             [
              0.8888888888888888,
              "#fdca26"
             ],
             [
              1,
              "#f0f921"
             ]
            ],
            "type": "contour"
           }
          ],
          "contourcarpet": [
           {
            "colorbar": {
             "outlinewidth": 0,
             "ticks": ""
            },
            "type": "contourcarpet"
           }
          ],
          "heatmap": [
           {
            "colorbar": {
             "outlinewidth": 0,
             "ticks": ""
            },
            "colorscale": [
             [
              0,
              "#0d0887"
             ],
             [
              0.1111111111111111,
              "#46039f"
             ],
             [
              0.2222222222222222,
              "#7201a8"
             ],
             [
              0.3333333333333333,
              "#9c179e"
             ],
             [
              0.4444444444444444,
              "#bd3786"
             ],
             [
              0.5555555555555556,
              "#d8576b"
             ],
             [
              0.6666666666666666,
              "#ed7953"
             ],
             [
              0.7777777777777778,
              "#fb9f3a"
             ],
             [
              0.8888888888888888,
              "#fdca26"
             ],
             [
              1,
              "#f0f921"
             ]
            ],
            "type": "heatmap"
           }
          ],
          "heatmapgl": [
           {
            "colorbar": {
             "outlinewidth": 0,
             "ticks": ""
            },
            "colorscale": [
             [
              0,
              "#0d0887"
             ],
             [
              0.1111111111111111,
              "#46039f"
             ],
             [
              0.2222222222222222,
              "#7201a8"
             ],
             [
              0.3333333333333333,
              "#9c179e"
             ],
             [
              0.4444444444444444,
              "#bd3786"
             ],
             [
              0.5555555555555556,
              "#d8576b"
             ],
             [
              0.6666666666666666,
              "#ed7953"
             ],
             [
              0.7777777777777778,
              "#fb9f3a"
             ],
             [
              0.8888888888888888,
              "#fdca26"
             ],
             [
              1,
              "#f0f921"
             ]
            ],
            "type": "heatmapgl"
           }
          ],
          "histogram": [
           {
            "marker": {
             "pattern": {
              "fillmode": "overlay",
              "size": 10,
              "solidity": 0.2
             }
            },
            "type": "histogram"
           }
          ],
          "histogram2d": [
           {
            "colorbar": {
             "outlinewidth": 0,
             "ticks": ""
            },
            "colorscale": [
             [
              0,
              "#0d0887"
             ],
             [
              0.1111111111111111,
              "#46039f"
             ],
             [
              0.2222222222222222,
              "#7201a8"
             ],
             [
              0.3333333333333333,
              "#9c179e"
             ],
             [
              0.4444444444444444,
              "#bd3786"
             ],
             [
              0.5555555555555556,
              "#d8576b"
             ],
             [
              0.6666666666666666,
              "#ed7953"
             ],
             [
              0.7777777777777778,
              "#fb9f3a"
             ],
             [
              0.8888888888888888,
              "#fdca26"
             ],
             [
              1,
              "#f0f921"
             ]
            ],
            "type": "histogram2d"
           }
          ],
          "histogram2dcontour": [
           {
            "colorbar": {
             "outlinewidth": 0,
             "ticks": ""
            },
            "colorscale": [
             [
              0,
              "#0d0887"
             ],
             [
              0.1111111111111111,
              "#46039f"
             ],
             [
              0.2222222222222222,
              "#7201a8"
             ],
             [
              0.3333333333333333,
              "#9c179e"
             ],
             [
              0.4444444444444444,
              "#bd3786"
             ],
             [
              0.5555555555555556,
              "#d8576b"
             ],
             [
              0.6666666666666666,
              "#ed7953"
             ],
             [
              0.7777777777777778,
              "#fb9f3a"
             ],
             [
              0.8888888888888888,
              "#fdca26"
             ],
             [
              1,
              "#f0f921"
             ]
            ],
            "type": "histogram2dcontour"
           }
          ],
          "mesh3d": [
           {
            "colorbar": {
             "outlinewidth": 0,
             "ticks": ""
            },
            "type": "mesh3d"
           }
          ],
          "parcoords": [
           {
            "line": {
             "colorbar": {
              "outlinewidth": 0,
              "ticks": ""
             }
            },
            "type": "parcoords"
           }
          ],
          "pie": [
           {
            "automargin": true,
            "type": "pie"
           }
          ],
          "scatter": [
           {
            "fillpattern": {
             "fillmode": "overlay",
             "size": 10,
             "solidity": 0.2
            },
            "type": "scatter"
           }
          ],
          "scatter3d": [
           {
            "line": {
             "colorbar": {
              "outlinewidth": 0,
              "ticks": ""
             }
            },
            "marker": {
             "colorbar": {
              "outlinewidth": 0,
              "ticks": ""
             }
            },
            "type": "scatter3d"
           }
          ],
          "scattercarpet": [
           {
            "marker": {
             "colorbar": {
              "outlinewidth": 0,
              "ticks": ""
             }
            },
            "type": "scattercarpet"
           }
          ],
          "scattergeo": [
           {
            "marker": {
             "colorbar": {
              "outlinewidth": 0,
              "ticks": ""
             }
            },
            "type": "scattergeo"
           }
          ],
          "scattergl": [
           {
            "marker": {
             "colorbar": {
              "outlinewidth": 0,
              "ticks": ""
             }
            },
            "type": "scattergl"
           }
          ],
          "scattermapbox": [
           {
            "marker": {
             "colorbar": {
              "outlinewidth": 0,
              "ticks": ""
             }
            },
            "type": "scattermapbox"
           }
          ],
          "scatterpolar": [
           {
            "marker": {
             "colorbar": {
              "outlinewidth": 0,
              "ticks": ""
             }
            },
            "type": "scatterpolar"
           }
          ],
          "scatterpolargl": [
           {
            "marker": {
             "colorbar": {
              "outlinewidth": 0,
              "ticks": ""
             }
            },
            "type": "scatterpolargl"
           }
          ],
          "scatterternary": [
           {
            "marker": {
             "colorbar": {
              "outlinewidth": 0,
              "ticks": ""
             }
            },
            "type": "scatterternary"
           }
          ],
          "surface": [
           {
            "colorbar": {
             "outlinewidth": 0,
             "ticks": ""
            },
            "colorscale": [
             [
              0,
              "#0d0887"
             ],
             [
              0.1111111111111111,
              "#46039f"
             ],
             [
              0.2222222222222222,
              "#7201a8"
             ],
             [
              0.3333333333333333,
              "#9c179e"
             ],
             [
              0.4444444444444444,
              "#bd3786"
             ],
             [
              0.5555555555555556,
              "#d8576b"
             ],
             [
              0.6666666666666666,
              "#ed7953"
             ],
             [
              0.7777777777777778,
              "#fb9f3a"
             ],
             [
              0.8888888888888888,
              "#fdca26"
             ],
             [
              1,
              "#f0f921"
             ]
            ],
            "type": "surface"
           }
          ],
          "table": [
           {
            "cells": {
             "fill": {
              "color": "#EBF0F8"
             },
             "line": {
              "color": "white"
             }
            },
            "header": {
             "fill": {
              "color": "#C8D4E3"
             },
             "line": {
              "color": "white"
             }
            },
            "type": "table"
           }
          ]
         },
         "layout": {
          "annotationdefaults": {
           "arrowcolor": "#2a3f5f",
           "arrowhead": 0,
           "arrowwidth": 1
          },
          "autotypenumbers": "strict",
          "coloraxis": {
           "colorbar": {
            "outlinewidth": 0,
            "ticks": ""
           }
          },
          "colorscale": {
           "diverging": [
            [
             0,
             "#8e0152"
            ],
            [
             0.1,
             "#c51b7d"
            ],
            [
             0.2,
             "#de77ae"
            ],
            [
             0.3,
             "#f1b6da"
            ],
            [
             0.4,
             "#fde0ef"
            ],
            [
             0.5,
             "#f7f7f7"
            ],
            [
             0.6,
             "#e6f5d0"
            ],
            [
             0.7,
             "#b8e186"
            ],
            [
             0.8,
             "#7fbc41"
            ],
            [
             0.9,
             "#4d9221"
            ],
            [
             1,
             "#276419"
            ]
           ],
           "sequential": [
            [
             0,
             "#0d0887"
            ],
            [
             0.1111111111111111,
             "#46039f"
            ],
            [
             0.2222222222222222,
             "#7201a8"
            ],
            [
             0.3333333333333333,
             "#9c179e"
            ],
            [
             0.4444444444444444,
             "#bd3786"
            ],
            [
             0.5555555555555556,
             "#d8576b"
            ],
            [
             0.6666666666666666,
             "#ed7953"
            ],
            [
             0.7777777777777778,
             "#fb9f3a"
            ],
            [
             0.8888888888888888,
             "#fdca26"
            ],
            [
             1,
             "#f0f921"
            ]
           ],
           "sequentialminus": [
            [
             0,
             "#0d0887"
            ],
            [
             0.1111111111111111,
             "#46039f"
            ],
            [
             0.2222222222222222,
             "#7201a8"
            ],
            [
             0.3333333333333333,
             "#9c179e"
            ],
            [
             0.4444444444444444,
             "#bd3786"
            ],
            [
             0.5555555555555556,
             "#d8576b"
            ],
            [
             0.6666666666666666,
             "#ed7953"
            ],
            [
             0.7777777777777778,
             "#fb9f3a"
            ],
            [
             0.8888888888888888,
             "#fdca26"
            ],
            [
             1,
             "#f0f921"
            ]
           ]
          },
          "colorway": [
           "#636efa",
           "#EF553B",
           "#00cc96",
           "#ab63fa",
           "#FFA15A",
           "#19d3f3",
           "#FF6692",
           "#B6E880",
           "#FF97FF",
           "#FECB52"
          ],
          "font": {
           "color": "#2a3f5f"
          },
          "geo": {
           "bgcolor": "white",
           "lakecolor": "white",
           "landcolor": "#E5ECF6",
           "showlakes": true,
           "showland": true,
           "subunitcolor": "white"
          },
          "hoverlabel": {
           "align": "left"
          },
          "hovermode": "closest",
          "mapbox": {
           "style": "light"
          },
          "paper_bgcolor": "white",
          "plot_bgcolor": "#E5ECF6",
          "polar": {
           "angularaxis": {
            "gridcolor": "white",
            "linecolor": "white",
            "ticks": ""
           },
           "bgcolor": "#E5ECF6",
           "radialaxis": {
            "gridcolor": "white",
            "linecolor": "white",
            "ticks": ""
           }
          },
          "scene": {
           "xaxis": {
            "backgroundcolor": "#E5ECF6",
            "gridcolor": "white",
            "gridwidth": 2,
            "linecolor": "white",
            "showbackground": true,
            "ticks": "",
            "zerolinecolor": "white"
           },
           "yaxis": {
            "backgroundcolor": "#E5ECF6",
            "gridcolor": "white",
            "gridwidth": 2,
            "linecolor": "white",
            "showbackground": true,
            "ticks": "",
            "zerolinecolor": "white"
           },
           "zaxis": {
            "backgroundcolor": "#E5ECF6",
            "gridcolor": "white",
            "gridwidth": 2,
            "linecolor": "white",
            "showbackground": true,
            "ticks": "",
            "zerolinecolor": "white"
           }
          },
          "shapedefaults": {
           "line": {
            "color": "#2a3f5f"
           }
          },
          "ternary": {
           "aaxis": {
            "gridcolor": "white",
            "linecolor": "white",
            "ticks": ""
           },
           "baxis": {
            "gridcolor": "white",
            "linecolor": "white",
            "ticks": ""
           },
           "bgcolor": "#E5ECF6",
           "caxis": {
            "gridcolor": "white",
            "linecolor": "white",
            "ticks": ""
           }
          },
          "title": {
           "x": 0.05
          },
          "xaxis": {
           "automargin": true,
           "gridcolor": "white",
           "linecolor": "white",
           "ticks": "",
           "title": {
            "standoff": 15
           },
           "zerolinecolor": "white",
           "zerolinewidth": 2
          },
          "yaxis": {
           "automargin": true,
           "gridcolor": "white",
           "linecolor": "white",
           "ticks": "",
           "title": {
            "standoff": 15
           },
           "zerolinecolor": "white",
           "zerolinewidth": 2
          }
         }
        },
        "title": {
         "text": "Distribución de seller_state"
        },
        "xaxis": {
         "anchor": "y",
         "domain": [
          0,
          1
         ],
         "title": {
          "text": "seller_state"
         }
        },
        "yaxis": {
         "anchor": "x",
         "domain": [
          0,
          1
         ],
         "title": {
          "text": "Frecuencia"
         }
        }
       }
      }
     },
     "metadata": {},
     "output_type": "display_data"
    },
    {
     "data": {
      "application/vnd.plotly.v1+json": {
       "config": {
        "plotlyServerURL": "https://plot.ly"
       },
       "data": [
        {
         "alignmentgroup": "True",
         "hovertemplate": "variable=count<br>seller_city=%{x}<br>Frecuencia=%{y}<extra></extra>",
         "legendgroup": "count",
         "marker": {
          "color": "#636efa",
          "pattern": {
           "shape": ""
          }
         },
         "name": "count",
         "offsetgroup": "count",
         "orientation": "v",
         "showlegend": true,
         "textposition": "auto",
         "type": "bar",
         "x": [
          "CABA",
          "Buenos Aires",
          "Capital Federal",
          "Palermo",
          "Caballito",
          "Belgrano",
          "buenos aires",
          "capital federal",
          "Rosario",
          "Flores",
          "Villa Crespo",
          "Mataderos",
          "Almagro",
          "Balvanera",
          "caba",
          "Avellaneda",
          "CAPITAL FEDERAL",
          "San Isidro",
          "Mar del Plata",
          "La Plata",
          "Recoleta",
          "Quilmes",
          "Lanús",
          "General San Martín",
          "Floresta",
          "Villa Urquiza",
          "Lomas de Zamora",
          "BUENOS AIRES",
          "San Telmo",
          "Boedo",
          "Villa Devoto",
          "Córdoba",
          "Congreso",
          "Caba",
          "Morón",
          "Villa del Parque",
          "Monserrat",
          "Ituzaingó",
          "Bragado",
          "Caseros",
          "Paternal",
          "Vicente López",
          "Microcentro",
          "Barracas",
          "C.A.B.A.",
          "Pilar",
          "Tigre",
          "Ciudad Madero",
          "Tribunales",
          "Hurlingham",
          "Olivos",
          "Colegiales",
          "ROSARIO",
          "Retiro",
          "Saavedra",
          "Merlo",
          "Once",
          "capital",
          "Liniers",
          "Martinez",
          "Ramos Mejia",
          "Berazategui",
          "Parque Chacabuco",
          "San Miguel",
          "La Matanza",
          "CIUDAD AUTONOMA DE BUENOS AIRES",
          "Parque Patricios",
          "Trelew",
          "San Fernando",
          "VILLA SANTA RITA",
          "San Nicolas",
          "MICROCENTRO",
          "Núñez",
          "Moreno",
          "Wilde",
          "Capital",
          "bs as",
          "Tres de febrero",
          "Villa Luro",
          "Munro",
          "Nuñez",
          "Bahía Blanca",
          "San Nicolás",
          "Nueva Pompeya",
          "Vicente Lopez",
          "San Cristóbal",
          "lanus",
          "Parque Avellaneda",
          "Coghlan",
          "Ciudad de Buenos Aires",
          "CIUDADELA",
          "La Boca",
          "San Andres San Martin",
          "Banfield",
          "San Andrés de Giles",
          "Castelar",
          "Florida",
          "Barrio Norte",
          "Villa Ballester",
          "ramos mejia",
          "Escobar",
          "San Antonio de Padua",
          "Villa Pueyrredón",
          "Florencio Varela",
          "Cordoba",
          "Microcentro - Retiro",
          "Río Cuarto",
          "Haedo",
          "La Plata Hemisferio Fecliba",
          "San Martin",
          "Chacarita",
          "Capital federal",
          "Monte Grande",
          "Buenos aires",
          "Temperley",
          "VILLA ORTUZAR",
          "cordoba",
          "Ciudad Autonoma de Buenos Aires",
          "Villa Adelina",
          "ciudadela",
          "Avellaneda/Capital Federal",
          "MARTINEZ",
          "Mendoza",
          "martinez",
          "Villa Lugano",
          "san martin",
          "Ituzaingo",
          "Ciudad Autónoma de Buenos Aires",
          "OLIVOS",
          "Jose C Paz",
          "San nicolas",
          "San Cristobal",
          "monte grande",
          "Don Torcuato",
          "San Justo",
          "Lanus",
          "CONGRESO",
          "Constitución",
          "Devoto",
          "san justo",
          "San Francisco",
          "Paraná",
          "Villa Pueyrredon",
          "olivos",
          "Tandil",
          "C.A.B.A",
          "centro",
          "San Miguel de Tucumán",
          "villa pueyrredon",
          "cap fed",
          "Capital federal Buenos aires",
          "BECCAR - SAN ISIDRO",
          "moron",
          "La Lucila",
          "burzaco",
          "LA TABLADA",
          "Carapachay",
          "Beccar",
          "villa ballester",
          "Agronomía",
          "Ciudadela",
          "san nicolas",
          "Moron",
          "ciudad autonoma de buenos aires",
          "Monte Castro",
          "ONCE",
          "Ramos Mejía",
          "El Palomar",
          "Salta",
          "ituzaingo",
          "castelar",
          "Bs As",
          "temperley",
          "Godoy Cruz",
          "ITUZAINGO Y  CABA",
          "Lomas del Mirador",
          "Cerca Av. Belgrano y Chacabuco",
          "LANUS",
          "Villa María",
          "parque centenario caballito",
          "Almirante Brown",
          "Corrientes",
          "BARRIO NORTE",
          "Isidro Casanova",
          "Lanús Este",
          "VILLA ADELINA",
          "bernal",
          "Centro",
          "rosario",
          "banfield",
          "Burzaco",
          "Villa Real",
          "Villa Martelli",
          "Jose Leon Suarez",
          "vicente lopez",
          "adrogue",
          "nuñez",
          "lomas del mirador",
          "Posadas",
          "congreso",
          "BS AS",
          "Puerto Madero",
          "Versailles",
          "Adrogue",
          "SAN JUSTO",
          "SAN MARTIN",
          "Santa Fe",
          "Plaza Flores",
          "Lanus Oeste",
          "bahia blanca",
          "villa martelli",
          "PARQUE RIVADAVIA",
          "la plata",
          "FLORES",
          "CAPITAL",
          "Ramos mejia",
          "CORDOBA",
          "autonoma de buenos aires",
          "RAMOS MEJIA",
          "NUÑEZ",
          "Pergamino",
          "Gonzalez Catan",
          "Parque Centenario",
          "San Isidro y Recoleta",
          "BsAs",
          "San Francisco Solano",
          "microcentro",
          "CASTELAR",
          "Bernal",
          "La Recoleta",
          "Parque Chas",
          "Bella Vista",
          "Martínez",
          "haedo",
          "tribunales",
          "AVELLANEDA",
          "once",
          "Concordia",
          "Pompeya",
          "MUNRO",
          "Chivilcoy",
          "laferrere",
          "Ciudad Autonoma",
          "Recoleta * Retiro",
          "Ezeiza",
          "Marquesado",
          "Campana",
          "palermo",
          "Merlo , San Antonio de Padua",
          "Boulogne",
          "Capital Federal San Isidro",
          "Remedios de Escalada",
          "Paternal -VCrespo San Isidro",
          "Villa Madero",
          "capitalfederal",
          "MORON",
          "Victoria",
          "Malvinas Argentinas",
          "Barrio de Belgrano",
          "Ciudad Autonoma Bs. As.",
          "HAEDO",
          "don torcuato",
          "Tres Arroyos",
          "capital  federal",
          "General san Martin",
          "bsas",
          "villa adelina",
          "Bariloche",
          "lanus oeste",
          "VILLA DOMINICO",
          "Vicente Lopez (Av. Libertador y Gral Paz)",
          "Ciudad Evita",
          "CABALLITO PZA IRLANDA CLAYPOLE LOMAS",
          "Palermo Soho",
          "avellaneda",
          "florida vte lopez a mts de cap",
          "ciudad de buenos aires",
          "mar del plata",
          "VILLA MARTELLI",
          "Cipolletti",
          "Alt. Av. Beiró 3500",
          "madero tapiales",
          "Florida Oeste",
          "Neuquén",
          "caseros",
          "Villa Ortúzar",
          "Junín",
          "Azul",
          "devoto",
          "buenosaires",
          "Cañuelas",
          "moreno",
          "Mercedes",
          "GERLI - LANUS",
          "VALENTIN ALSINA",
          "Caba (La Paternal o Zona Tribunales)",
          "Lanus Este",
          "BAHIA BLANCA",
          "Luján",
          "La Tablada",
          "caballito",
          "Villa Bosch",
          "Centro - Monserrat",
          "General Pico",
          "munro",
          "Benavidez",
          "José C. Paz",
          "Zona Villa Crespo CABA Bsas",
          "San Nicolás de los Arroyos",
          "General Pacheco",
          "boulogne",
          "Pinamar",
          "BANFIELD",
          "acassuso",
          "San Martín",
          "lanus este",
          "Venado Tuerto",
          "Arrecifes",
          "Marcos Paz",
          "tablada",
          "VERSALLES",
          "bernal - quilmes",
          "Santos Lugares",
          "Necochea",
          "General Rodriguez",
          "La Matanza - Villa Madero",
          "Santa Rita",
          "Guaymallén",
          "LOs Polvorines",
          "buenos aires provincia",
          "VICENTE LOPEZ",
          "ITUZAINGO",
          "FLORIDA",
          "SAN CRISTOBAL",
          "San Rafael",
          "CAPITAL FEDERAL  CABA",
          "isidro casanova",
          "longchamps",
          "San Pedro",
          "El Talar",
          "LANUS OESTE",
          "villa constitucion",
          "SAENZ PEÑA",
          "capital federa",
          "Capital Federal - BELGRANO",
          "Villa Carlos Paz",
          "Obelisco",
          "Longchamps",
          "BELGRANO-NUÑEZ",
          "Bs. As",
          "Villa Ortuzar",
          "constitucion",
          "La Paternal",
          "Esteban Echeverría",
          "9 de Julio",
          "Santa Rosa",
          "Lanús Oeste",
          "Las Cañitas",
          "Llavallol",
          "Constitucion",
          "Valentin Alsina",
          "Rafael Calzada",
          "Tortuguitas",
          "Balbanera",
          "SAN TELMO",
          "quilmes",
          "BuenosAires",
          "san cristobal",
          "Caballito Flores",
          "VilladelParque",
          "VILLA BALLESTER",
          "san isidro",
          "CapitalFederal",
          "General Rodríguez",
          "CaballitoAlmagro",
          "MAR DEL PLATA",
          "Canning",
          "palomar",
          "bella vista",
          "VICTORIA",
          "lomas de zamora",
          "AVELLANEDA-WILDE",
          "Lomas del mirador",
          "Rafaela",
          "Palermo Viejo",
          "Argentina",
          "LOMAS DEL MIRADOR",
          "llavallol",
          "Miramar",
          "Turdera",
          "BALVANERA-ONCE",
          "Quilmes Oeste",
          "Del Viso",
          "Oberá",
          "I.CASANOVA",
          "Micro Centro",
          "TEMPERLEY",
          "GONNET",
          "luis guillon",
          "Loma Hermosa",
          "Villa Luzuriaga",
          "Acassuso",
          "valentin alsina, lanus.",
          "Guernica",
          "LANUS ESTE",
          "Vicente lopez",
          "Palermo Nuevo",
          "LomasdeZamora",
          "Bs as",
          "SAN NICOLAS",
          "Belgrano R",
          "PLAZA ITALIA- PALERMO",
          "Olivos Vicente Lopez",
          "VILLA PUEYRREDON",
          "San Martin/Merlo/Lacroze/Boedo",
          "La Capital",
          "Saenz peña",
          "salta",
          "SANTOS LUGARES",
          "Florida,Vicente Lopez",
          "tigre",
          "Mar del plata",
          "San Luis",
          "Villa de Mayo",
          "Valentín Alsina",
          "Presidente Derqui",
          "Garin",
          "el palomar",
          "TAPIALES",
          "Resistencia",
          "podesta",
          "pompeya",
          "Aldo Bonzi",
          "Bahia Blanca",
          "Laferrere",
          "Abasto",
          "Caballito (100 mts. Est. Rio de Janeiro Subte A)",
          "barrio norte",
          "Mar de Ajo",
          "Berisso",
          "Zárate",
          "Palomar",
          "valentin alsina",
          "San Miguel de Tucuman",
          "villa luzuriaga",
          "Ciudad autonoma de Buenos Aires",
          "MardelPlata",
          "General San Martin",
          "merlo",
          "BERNAL",
          "San Andres",
          "capital Federal",
          "Villa Rosa",
          "M.B.GONNET",
          "Colón",
          "Sarandi",
          "Palermo Hollywood",
          "Bajo Belgrano",
          "villa raffo",
          "San Telmo (cerca Constitucion)",
          "beccar",
          "Ensenada",
          "c.a.b.a.",
          "los polvorines",
          "florida",
          "BELLA VISTA",
          "QUILMES OESTE",
          "Montserrat",
          "Ramos Mejia y Cap Fed",
          "quilmes oeste",
          "Remedios de Escalada.",
          "Autonoma de Buenos Aires",
          "Cap Fed",
          "Santa Teresita",
          "abasto",
          "BOULOGNE",
          "c.a.b.a",
          "RIO CUARTO",
          "Paso del Rey",
          "CiudadAutónomadeBuenosAires",
          "Adolfo Sourdeaux",
          "Ituzaingo (Entregas Barrio Once)",
          "ADROGUE",
          "el talar",
          "MONTSERRAT",
          "Villa Celina",
          "Los Polvorines",
          "Lujan",
          "benavidez",
          "remedios de escalada",
          "almagro",
          "Palermo Holywood",
          "Tapiales",
          "Caba.",
          "Adrogué",
          "hurlingham",
          "Toda Capital Federal",
          "San Lorenzo",
          "QUILMES - SAN FERNANDO",
          "josè Màrmol",
          "Aguilares",
          "Grand Bourg",
          "balbanera",
          "Comodoro Rivadavia",
          "san fernando",
          "Jujuy",
          "Flores Norte",
          "Glew",
          "Córdoba Capital",
          "LaPlata",
          "villa madero",
          "claypole",
          "Pablo Podesta / Tres de febrero",
          "Funes",
          "grand bourg",
          "Gualeguay",
          "Lugano",
          "villa bosch",
          "Lomas Del Mirador",
          "Ciudad Autónoma de Buenos Aires (Barrio de Flores)",
          "BURZACO",
          "carapachay",
          "Caballito, Capital Federal",
          "Jose Clemente Paz",
          "Bs. As.",
          "villa luro",
          "Monte grande",
          "vte lopez",
          "ALMAGRO",
          "San justo",
          "San Vicente",
          "GeneralSanMartín",
          "VILLA CRESPO (aprox. corrientes y j b justo)",
          "rafaela",
          "SanFernando",
          "Olavarría",
          "MARTIN CORONADO",
          "sarandi",
          "bernal oeste",
          "Santiago del Estero",
          "general san martin",
          "villa urquiza",
          "SAN TELMO - MONSERRAT",
          "Ezpeleta",
          "villa ortuzar",
          "Villa Maria",
          "Villa Soldati",
          "Vte Lopez",
          "wilde",
          "almirante brown-quilmes.",
          "REMEDIOS DE ESCALADA",
          "Bell Ville",
          "Belgrano C",
          "Caballito parque Rivadavia",
          "Florida VteLopez",
          "gasanova",
          "Quilmes Centro",
          "DEVOTO",
          "Capital Federal - Almagro",
          "OBELISCO",
          "Las Heras",
          "Plaza Once",
          "PALERMO-CABA-SAN JUSTO-SAN MARTIN",
          "Maipú",
          "MONTE GRANDE",
          "Villa Tesei",
          "San Telmo-Constitucion",
          "Formosa",
          "CAP FED",
          "VILLA URQUIZA",
          "Canals",
          "Guaymallen",
          "capital fedral",
          "Jesús María",
          "belgrano",
          "Autonoma de BS.AS.",
          "VARIOS PUNTOS DE ENTREGA",
          "Jose Marmol",
          "VillaDevoto",
          "Alto Palermo",
          "jose leon suarez",
          "CAPITAL FEDERAL, VILLA DEVOTO",
          "loma hermosa",
          "Olivos, cerca de Unicenter",
          "junin",
          "Ingeniero Maschwitz",
          "Saenz Peña",
          "ONCE COMERCIAL",
          "de Buenos Aires",
          "SAN MIGUEL TUCUMAN",
          "Villa Dominico",
          "Villa Gesell",
          "Villa Maipú San Martín",
          "Bustinza",
          "Urquiza",
          "VILLA TESEI",
          "san antonio de padua",
          "ACASSUSO",
          "EL PALOMAR",
          "pque centenario",
          "Santo Tomé",
          ",",
          "SanTelmo",
          "Caballito cerca de Ferro",
          "SanMiguel",
          "rafael calzada",
          "CaballitoVilla Crespo",
          "Tribunales Recoleta Villa Ballester",
          "MICRO CENTRO",
          "Berazategui Oeste",
          "VicenteLópez",
          "Ituzaing?",
          "Cap fed",
          "Villa Ballester.Límite c Munro",
          "villa devoto",
          "ALMAGRO Y SAN ISIDRO",
          "Presidente Derqui- Pilar",
          "Belgrano Barrancas",
          "FlorencioVarela",
          "Belgano",
          "ARGENTINA",
          "Villa Santa Rita",
          "zarate",
          "CIUDAD DE BUENOS AIRES",
          "Agronomia",
          "Centro o Unicenter",
          "Nordelta",
          "CENTRO",
          "PQUE CENTENARIO",
          "local a la calle microcentro capital federal",
          "Tablada",
          "san andres",
          "Yerba Buena",
          "bs.as",
          "VillaUrquiza",
          "Ciudad Autonoma de Bs. As",
          "autonomadebuenosaires",
          "argentina",
          "Villa del Parque, Local a la Calle, Lun a Vier 9 a 19hs, Fc A ó B, Envíos a Todo el Pais",
          "Recoleta, unicamente con cita previa, llamar de 10 hs a 18hs.",
          "bs. as.",
          "paso del rey",
          "bueno aires",
          "santos lugares",
          "Gral. San Martin",
          "pilar",
          "Gregorio de Laferrere",
          "Norte",
          "Autónoma de Buenos Aires",
          "lujan",
          "lugano",
          "Luis Guillon",
          "la tablada",
          "BELGRANO - COLEGIALES",
          "jose c paz",
          "san miguel de tucuman",
          "gonzalez catan",
          "glew",
          "Claypole",
          "ciudad autonoma de bs as",
          "santa fe",
          "floresta",
          "San Telmo (cerca de Constitución)",
          "La Falda",
          "Villa Mercedes",
          "Castelar Norte y Moron",
          "San Nicolas De Los Arroyos",
          "Casilda",
          "Villa General Belgrano",
          "CONSTITUCION",
          "San Andrés",
          "SAN ANTONIO DE PADUA",
          "BarracasCapitalFederal",
          "resistencia",
          "berazategui",
          "V.Ballester",
          "san miguel",
          "ballester",
          "Gerli (Avellaneda)",
          "ciudad de buenos asires",
          "ramosmejia",
          "San Juan",
          "Plaza Italia",
          "cap",
          "tortuguitas",
          "victoria",
          "Ciudad autonoma de buenos aires",
          "Bolivar",
          "BELLA VISTA (SAN MIGUEL)",
          "V.Devoto",
          "Don torcuato",
          "LOS CARDALES",
          "Villa ballester",
          "LOMA HERMOSA",
          "Villa de mayo",
          "villa santa rita",
          "Martin Coronado",
          "Bs.As.",
          "hudson",
          "Almagro abasto",
          "Villa Crespo ( zona aproximada Corrientes y Serrano )",
          "Tribunales - Centro",
          "Barrio Flores",
          "palermo-pza.Italia",
          "lomasdelmirador",
          "PLAZA DE MAYO",
          "CAP fed",
          "ciudad autónoma de buenos aires",
          "Parana",
          "Isidro casanova",
          "garin",
          "Gregorio de Laferrer",
          "del viso",
          "Villa Crespo - Bº Norte",
          "Velez Sarsfield",
          "cap. fed.",
          "Caballito Norte",
          "virreyes",
          "agronomia",
          "tapiales",
          "AGRONOMIA",
          "Microcentro - Almagro",
          "Villa Lynch",
          "SanNicolás",
          "Río Segundo",
          "VillaCrespo",
          "Firmat",
          "Marcos Juárez",
          "Libertad",
          "y La Plata",
          "LUJAN",
          "Zona Congreso",
          "VILLA DEVOTO",
          "1",
          "EL TREBOL",
          "Capital Federa",
          "CASEROS",
          "San Carlos Centro",
          "SanIsidro",
          "la lucila",
          "villa elisa",
          "1er Junta - Caballito",
          "madero",
          "martin coronado",
          "Gualeguaychú",
          "LaMatanza",
          "Tres Cerritos",
          "villa carlos paz",
          "Gerli",
          "Gral. Pacheco",
          "ranelagh",
          "San Juan Capital",
          "BELEN DE ESCOBAR",
          "rafael castillo",
          "Neuquen",
          "MARIA TERESA",
          "VIRREYES",
          "Zona Obelisco",
          "Villa Gobernador Gálvez",
          "flores",
          "Rio Tercero",
          "Villa Adelina, San Isidro",
          "Junin",
          "córdoba",
          "C. A. B. A.",
          "ciudad autonoma de Buenos Aires",
          "ISIDRO CASANOVA",
          "casanova",
          "Ciudad Autonoma de Bs.As.",
          "SAN FERNANDO (CENTRO)",
          "Puerto Iguazu",
          "QuilmesEste",
          "Villa Devoto CABA",
          "Virreyes",
          "Río Grande",
          "Ranelagh",
          "Retiro - Microcentro",
          "gregorio de laferrere",
          "Versalles",
          "Villa Mitre",
          "CAPITAL  FEDERAL",
          "LA PLATA",
          "barrio chacabuco",
          "Solo para Envios",
          "La Matanza Tapiales",
          "TABLADA",
          "Flolrida",
          "Villa Eduardo Madero",
          "Lincoln",
          "ALMAGRO  EL BAUL DEL MECANICO",
          "San Nicolas (Microcentro)",
          "Ciudad Autonoma de Buenos Aire",
          "villa dominico",
          "City Bell",
          "San Nicolás (Microcentro)",
          "SanMigueldeTucumán",
          "sto tome",
          "Estación Lanus lado Este",
          "almirante brown",
          "General Roca",
          "25 de Mayo",
          "saenz peña",
          "EL TALAR DE PACHECO",
          "villa maria",
          "FLORIDA OESTE",
          "villa crespo",
          "Lanus oeste",
          "Villa Sarmiento",
          "CABA Caballito",
          "florencio varela",
          "ONCE- BALVANERA",
          "San Jose Guaymallen",
          "Lobos",
          "Granadero Baigorria",
          "ParqueChacabuco",
          "montserrat",
          "BOEDO-CABALLITO",
          "guaymallen",
          "LIBERTAD MERLO",
          "San Carlos de Bariloche",
          "POMPEYA",
          "gerli",
          "Cordoba Capital",
          "VILLA CRESPO",
          "Florida Vte.Lopez",
          "Villa Allende",
          "GENERAL SAN MARTIN",
          "Villa Constitución",
          "capital feceral",
          "Gral San Martin",
          "cap. fed. bs. as.",
          "LOMAS DE ZAMORA",
          "San Justo - La Matanza",
          "Presidente derqui",
          "Adolfo sourdeaux",
          "Gral Pacheco",
          "ramos  mejia",
          "ingeniero maschwitz",
          "SUNCHALES",
          "la florida, Quilmes",
          "LLAVALLOL",
          "Lanús Oeste Pcia. de Bs.As.",
          "Gral. San Martín",
          "Lomas de zamora",
          "LOS POLVORINES",
          "Flores - Micro centro",
          "Esquel",
          "La Calera",
          "Gerli, Avellaneda",
          "Jose C. Paz",
          "Las Flores",
          "General Arenales",
          "Villa Gral. Mitre",
          "TRIBUNALES / SAN NICOLAS",
          "Villa Adelina San Isidro",
          "Versalles - Liniers",
          "machagai",
          "VILLA SAENZ PEÑA",
          "mataderos",
          "micro centro",
          "Témperley",
          "CORDOBA CAPITAL",
          "Caballito  Parque Centenario",
          "oeste",
          "SANEZ PEÑA",
          "Sunchales",
          "Cap. Fed.",
          "SanMartin",
          "SanCristóbal",
          "padua",
          "San isidro",
          "San Martìn",
          "San Justo (Entregas Barrio Once)",
          "San Isidro, Beccar",
          "la paternal",
          "Villa Domínico",
          "Villa Gral Mitre",
          "Mar del Tuyu",
          "Baradero",
          "colegiales",
          "cap.fed.",
          "buenos aires-.v urquiza",
          "buenos Aires",
          "Belgrano Colegiales",
          "barrio de lugano",
          "ezpeleta",
          "Bernal Oeste",
          "facultad de medicina",
          "Zona Sur",
          "florida oeste",
          "Zona Norte",
          "ZONA SUR",
          "BENAVIDEZ",
          "jose c. paz",
          "jose marmol",
          "Burzaco ò Monserrat",
          "C.A. Bs. As.",
          "puerto madero",
          "ciudad evita",
          "Puerto madryn",
          "san juan",
          "san martin  de los andes",
          "PALOMAR",
          "Ramos Mejia, La Matanza",
          "RECOLETA",
          "ALMAGRO CABALLITO",
          "QUILMES",
          "Punilla",
          "SAN NICOLAS ( TRIBUNALES)",
          "Puerto Madryn",
          "versalles",
          "Pontevedra",
          "PATERNAL",
          "sarandiavellaneda",
          "Clorinda",
          "Pablo Podesta",
          "varios puntos de entrega",
          "Concepción del Uruguay",
          "Pacheco",
          "Rawson",
          "AUTONOMA DE BS AS",
          "san carlos de bariloche",
          "Remedios de Escalada Lanus",
          "Cosquin",
          "Remedios de escalada( lanus)",
          "Del Viso Pilar",
          "Chacabuco",
          "Rio Gallegos",
          "Chascomús",
          "Roque Pérez",
          "Cdad Autonoma de Bs As",
          "villa lynch",
          "villa de mayo",
          "OLIVEROS",
          "venado tuerto",
          "villa sarmiento",
          "ezeiza",
          "villa ballester,pdo. san martin",
          "fLORES.",
          "comodoro rivadavia",
          "general pacheco",
          "ramos",
          "gral san martin",
          "Hurlingham Lacroze",
          "posadas",
          "Goya",
          "parque chas",
          "rio cuarto",
          "Gonzalez catan",
          "ciudad autónoma",
          "pacheco",
          "pablo podesta",
          "neuquen",
          "mendoza",
          "libertad",
          "sanmartin",
          "la matanza",
          "solano",
          "todo el pais",
          "parana",
          "Maipu",
          "IsidroCasanova",
          "ciudad autonoma de buenos aire",
          "La Rioja",
          "San Genaro",
          "San Fernando del Valle de Catamarca",
          "Salto",
          "SAN MIGUEL DE TUCUMAN",
          "SAN FERNADO",
          "SAAVEDRA",
          "Rivadavia",
          "Remedios De escalada",
          "Reconquista",
          "RamosMejia",
          "RAFAEL CASTILLO",
          "Lomas de San Isidro",
          "Plottier",
          "Palermo o Caballito",
          "Palermo Barrio Norte",
          "Padua",
          "Pablo Nogues",
          "Lujan de Cuyo",
          "ONCE      RETIRO      CONSTITUCION",
          "MADERO",
          "NuevaPompeya",
          "Munro, Vicente López",
          "San Martín de los Andes",
          "San martin",
          "Santa Clara del Mar",
          "LA REJA (MORENO)",
          "castelar sur (NO CAPITAL)",
          "belen de escobar",
          "barracas",
          "Jose Ingenieros",
          "autonoma",
          "aldo bonzi",
          "Zona Paternal",
          "Zarate",
          "WARNES",
          "VillaLugano",
          "Villa pueyrredon",
          "TIGRE",
          "Villa bosch",
          "LANUS .- Congreso.- Palermo",
          "Villa Crespo-Belgrano",
          "Viedma",
          "VILLA TESEI (HURLINGHAM)",
          "VILLA CARLOS PAZ",
          "VILLA BOSCH",
          "VICTORIA -San Fernando",
          "Garín",
          "TRELEW",
          "Todo el pais",
          "(9103) Rawson",
          "AUTONOMA DE BUENOS AIRES",
          "Capital Federal Flores",
          "Bahia BLanca",
          "Capital Fedral",
          "Buenosaires",
          "BUENOSAIRES",
          "Cuidad Autonoma de Bs. As.",
          "FORENCIO VARELA",
          "BUENOS  AIRES",
          "Coronel Suárez",
          "Coronel Pringles",
          "Boedo         Caballito  Barracas",
          "Facultad de Medicina",
          "BS. AS",
          "Carmen de Areco o San Miguel",
          "Barrio Agronomia - Villa Urquiza",
          "CIUDAD AUTONOMA DE BUENOS AIRES ( ALMAGRO )",
          "COMODORO RIVADAVIA",
          "Francisco Alvarez",
          "Barrio Palermo",
          "BERNAL OESTE",
          "Bernal Este",
          "Chascomus",
          "BARRIO CABALLITO",
          "Florida, Vicente Lopez",
          "BellaVista",
          "Ciudad Autonoma Buenos Aires",
          "CABALLITO - CLASICOS EN ESCALA",
          "Adrogue-Quilmes-Solano",
          "C. del Uruguay",
          "El Trébol",
          "Esperanza",
          "Capilla del Señor",
          "Cap. Fed",
          "GRAND BOURG",
          "Belgrano - Nuñez",
          "san francisco solano",
          "Villa crespo/Palermo",
          "Luján de Cuyo",
          "Junin de los Andes",
          "CIUDAD AUTONOMA BUENOS AIRES",
          "Flores sur",
          "Pcia. de Bs As",
          "Bueno Aires",
          "LA  PLATA",
          "lomas de zamora banfield brown",
          "VICENTE LOPEZ A MTS DE CAPITAL SAAVEDRA",
          "José Mármol",
          "Villa adelina",
          "Flores - Capital Federal",
          "Avellaneda, Wilde",
          "cap.fed",
          "LATABLADA",
          "CASILDA",
          "LINIERS",
          "Autonoma de Bs As",
          "PARQUE CHAS",
          "Barrio San Nicolas",
          "José Ingenieros",
          "AVELLANEDA SARANDI",
          "CIUDADELA NORTE",
          "Rada Tilly",
          "ROLDAN",
          "la falda",
          "Tucuman",
          "Ciudad Autonoma de Bs As",
          "BARRIO RICARDO ROJAS",
          "villa celina",
          "RETIRO",
          "JOSE MARMOL",
          "BARRIO NORTE--PALERMO",
          "Los Cardales",
          "Belgrano-Palermo",
          "Eldorado",
          "la rioja",
          "V Ballester",
          "Quilmes oeste",
          "V CRESPO",
          "Ciudad Autónoma Buenos Aires",
          "villa Carlos paz",
          "Ciudad Jardin",
          "Puerto MADERO",
          "El palomar",
          "Entregas en Capital Federal - Zona Oeste y Zona Sur del Gran Bs As",
          "PALERMOCABALLITO",
          "Fcio.Varela",
          "matheu",
          "Fcio Varela",
          "ALMAGRO - CABA",
          "obelisco",
          "Almagro-Caballito-Villa Crespo",
          "Morón Buenos Aires Argentina",
          "Varela y Eva Peron",
          "Montecastro.",
          "MonteCastro",
          "Vera",
          "CAPILLA DEL MONTE",
          "Monte Castro (devoto)",
          "Belgrano - Saavedra",
          "Monte Caseros",
          "Villa Ballester, San Martín",
          "rio tercero",
          "Mendiolaza",
          "Vicente lópez",
          "Manuel Alberti",
          "Victoria, San Fernando",
          "Belen de escobar",
          "psadas",
          "puerto madryn",
          "punta alta",
          "C A B A",
          "Mar Del Plata",
          "Lanús este",
          "Alte Brown",
          "nunez",
          "VTE LOPEZ",
          "siquiman",
          "Maquinista Savio- Escobar",
          "rio gallegos",
          "PADUA",
          "LUGANO",
          "CASBA",
          "Arroyito",
          "Villa Insuperable",
          "Oncativo",
          "La Banda",
          "Facultad De Medicina",
          "microceentro",
          "Villa Constitucion",
          "Rafael Castillo",
          "Acassuso bajo de san isidro",
          "9 de abril",
          "monte castro (limite devoto)",
          "C.A.",
          "OLIVOS Y SUCURSALES",
          "OLIVOS ,VTE LOPEZ COVERTEX SHOP:HORARIO L a V 9.30-13 y 14-16 Sábado 10 a 13.",
          "CAPITAL FEDRAL",
          "ABASTO",
          "Barrio norte",
          "EZPELETA",
          "monte castro",
          "Muñiz",
          "villa del Parque",
          "Talar",
          "Carapachay, Vte Lopez",
          "BUENOS AIRES CABA",
          "GENERAL PACHECO",
          "Bs AS",
          "TRIBUNALES",
          "BSAS",
          "GBA",
          "Zonasur",
          "BS.AS.",
          "Saladillo",
          "Brandsen",
          "general pico",
          "Carmen de Areco",
          "SANTA FE",
          "SAN Martin",
          "BOEDO-SAN CRISTOBAL",
          "Catamarca",
          "SAN FERNANDO",
          "SAN ANDRES, PDO DE SAN MARTIN",
          "Berutti",
          "ciudad",
          "ciudad Mendoza",
          "Rio cuarto",
          "General pacheco",
          "ciudad madero",
          "General Alvear",
          "SanFrancisco",
          "Calypole",
          "zona norte",
          "Capilla del Monte",
          "GUERNICA",
          "Bolívar",
          "San Nicolás, microcentro.",
          "cuidad madero",
          "San Javier",
          "General san martin",
          "Zona Oeste",
          "Caballito.",
          "Balcarce",
          "Banfield Oeste",
          "GRAL SAN MARTIN",
          "-",
          "escobar",
          "San José",
          "Río Tercero",
          "CIUDAD JARDIN EL PALOMAR",
          "Hurligham",
          "Ciudad - Capital",
          "BERNAL, PARTIDO DE QUILMES",
          "Remedios de Escalad",
          "Cioudad Autonoma de Buenos Aires",
          "Rio Cuarto",
          "villa la florida",
          "Remedios de escalada",
          "Troncos del Talar  Tigre",
          "BECCAR",
          "COHGLAND",
          "RANELAGH",
          "CAP. FED.",
          "Vicente Lopez Florida",
          "Sarandí",
          "Mendoza Capital",
          "Devoto 726*2462 M3",
          "Cinco Saltos",
          "CAP",
          "Mariano Acosta",
          "Victoria, Buenos Aires",
          "delviso",
          "San Martin de los Andes",
          "Martinez, San Isidro",
          "Martinez San Isidro",
          "Tunuyan",
          "Tunuyán",
          "Ciudad de Bs. As",
          "Chimbas",
          "Darregueira",
          "CAP.FEDERAL",
          "AlmiranteBrown",
          "pablo nogues",
          "Munro Vicente Lopez",
          "D.Torcuato",
          "Ushuaia",
          "TANDIL",
          "Almagro y Palermo",
          "c",
          "Valle Hermoso",
          "esperanza",
          "CIUDAD JARDIN, EL PALOMAR",
          "Montecastro",
          "Capital federal ( centro )",
          "DON TORCUATO",
          "ciudad autonoma buenos aires",
          "Barrancas Belgrano",
          "dontorcuato",
          "CAITAL FEDERAL",
          "Ballester",
          "CaballitoParque Chacabuco",
          "MACHAGAI",
          "San luis",
          "RETIROS QUILMES - WARNES",
          "boulogne sur mer",
          "San miguel de tucuman",
          "Tribunales | Congreso",
          "El Jaguel",
          "concordia",
          "MAR DE AJO",
          "Balvanera - Ciudad Autónoma de Buenos Aires",
          "MICROCENTRO/VILLA CRESPO",
          "Belgrano, Saavedra, Escobar",
          "colon",
          "Villa Dominico, Avellaneda.",
          "Balvanera - Once",
          "Ciudad",
          "Luis Guillón",
          "Cap. Fed, Bella Vista, San Miguel, Hurlingham, Casero",
          "Los Hornos",
          "Tucumán",
          "bs",
          "bs.as.",
          "CityBell",
          "San Nicolas - Obelisco",
          "Quimes",
          "Santo Tome",
          "Ciudad Autonoma de Bs. As.",
          "quequen",
          "Ranelagh Peladorody",
          "RESISTENCIA",
          "City Bell - La Plata",
          "Villa Ballester- Gral. San Martin",
          "San cristobal",
          "San Salvador de Jujuy",
          "ESCALADA",
          "Madero  o CABA",
          "Madero",
          "corrientes",
          "coronda",
          "cordoba capital",
          "remedio de escalada",
          "Córdoba capital",
          "San Isidro y Sucursales",
          "San Isidro, pcia de Bs. As.",
          "maipu",
          "Claypole (GBA) Sur",
          "VILLA ALLENDE",
          "lanusoeste",
          "Palomar-Ciudad Jardin",
          "Coghlan - Belgrano R",
          "cap-fed",
          "luisguillon",
          "Autónoma de Bs As",
          "cap federal",
          "Centro C.A.B.A. Barrio San Nicolás",
          "SAN ISIDRO",
          "lanuseste",
          "PUERTO MADRYN",
          "mar  del plata",
          "PQUE PATRICIOS",
          "SAN MARTÍN",
          "Barrio la Horqueta",
          "maraderos",
          "Parque Avellaneda/Microcentro",
          "Caucete",
          "Piñeyro",
          "Río Primero",
          "Rio tercero",
          "capita federal",
          "BALBANERA",
          "Barrio Flores Norte",
          "Trenque Lauquen",
          "limite Caballito Flores",
          "Barrio Centro, Ciudad de Córdoba.",
          "liniers",
          "Paso del Rey Pdo de Moreno",
          "Parque Patricios, Buenos Aires",
          "V.Lugano",
          "VIALE",
          "casilda",
          "guernica",
          "Parque chas",
          "CITY BELL",
          "BOEDO-PARQUE PATRICIOS-",
          "V.Lopez",
          "canning",
          "martin coronado ,( L a V de 9 a 13 y de 16.30 a 19.30 hs )",
          "PARQUE DE LOS PATRICIOS",
          "Ciudad Autónoma de Bs. As.",
          "Ricardo Rojas",
          "Olavarria",
          "Punta Alta",
          "QUILMES.",
          "monte chingolo",
          "America",
          "CARAPACHAY",
          "CAPITALFEDERAL",
          "moreno (cerca nine shop)",
          "cañuelas",
          "ituzaingo norte",
          "TORTUGUITAS",
          "Cruz del Eje",
          "San Cristobal(Congreso)",
          "Resto Buenos Aires",
          "caballito  wilde",
          "florencio valera",
          "Capitán Sarmiento",
          "Oliveros",
          "TRIBUNALES RECOLETA BARRIO NORTE MICROCENTRO",
          "VILLA PUEYRREDÓN",
          "Rafael calzada",
          "PARANA",
          "VILLA LUZURIAGA",
          "gral pacheco",
          "godoy cruz",
          "VILLA MADERO",
          "Caballito -  argentina",
          "PALERMO",
          "Presidente Perón",
          "Arroyo Seco",
          "Primera Junta",
          "Rincon de Milberg Tigre",
          "V. Ballester, Partido de San Martin",
          "Otra ubicación - Cap. Fed.",
          "San Andres - Pdo de San Martin",
          "carmen de patagones",
          "San Antonio De Padua",
          "Ciudad Jardin Lomas del Palomar",
          "francisco alvarez",
          "Botanico",
          "1425",
          "LOMA HERMOSA TRES DE FEBRERO",
          "villa dolores",
          "trelew",
          "tres arroyos",
          "Isidro Casanova - Rafael Castillo",
          "Villa Luro  Floresta",
          "Exaltación de la Cruz",
          "tres de febrero",
          "san martin de los andes",
          "LOMAS  DEL MIRADOR",
          "Gonzales Catan",
          "sunchales",
          "Bernasconi",
          "avellaneda  Wilde",
          "Boulogne Sur Mer",
          "soldati",
          "villa dominico, Avellaneda",
          "sanjusto",
          "1 cuadra de la estación de subte San Jose",
          "Ing. Maschwitz",
          "José León Suarez",
          "turdera",
          "villa garibaldi",
          "Villa Sarmiento, Pdo de Morón.",
          "Gualeguaychu",
          "ALMAGRO PALERMO",
          "Villa madero",
          "La Cumbre",
          "sanantoniodepadua",
          "JOSE C. PAZ",
          "avellanedagerli",
          "san vicente",
          "FRAY LUIS BELTRAN",
          "barrionorte",
          "Gral.San Martín",
          "JUNIN",
          "villa del parque",
          "alta gracia",
          "Bella vista",
          "temp",
          "san telmo",
          "Bs As.",
          "alte brown",
          "Lanus este",
          "3 DE FEBRERO",
          "1686",
          "villa adelina, san isidro.",
          "villa tesei",
          "LAPLATA",
          ".",
          "GUAYMALLEN",
          "Florencio varela",
          "General Deheza",
          "General Obligado",
          "Lomas de Mirador",
          "Liniers/Mataderos/Ramos",
          "Villa Gral Belgrano",
          "LaBoca",
          "Juana Koslay",
          "ZONA OESTE",
          "ZONA OESTE PDO TRES DE FEBRERO",
          "Lomas",
          "JuanaKoslay",
          "VillaPueyrredón",
          "zona sur",
          "FIRMAT",
          "Loma Hermosa de Tres de Febrero Caseros",
          "Beltrán Norte - Maipú",
          "Zapala",
          "Flores o mataderos",
          "Botánico",
          "Zona Alto Palermo",
          "valentinalsina",
          "HAEDOBELGRANOITUZAINGOSE ENVIAtambien a cargo del comprador",
          "Hudson",
          "Buenos AIres",
          "Florida, Vte. López",
          "1621",
          "Villa carlos paz",
          "villa lugano",
          "Buenas Aires",
          "General Villegas",
          "JoséC.Paz",
          "LANUS oeste",
          "Villa crespo",
          "Centro Capital Federal",
          "Troncos del Talar - Pacheco",
          "Florida Vicente López",
          "Ciudad Aut Bs AS",
          "I. Casanova",
          "Ramallo",
          "capital.",
          "Hurlingham zona km 18",
          "villa loma hermosa",
          "la Boca",
          "isidrocasanova",
          "Rafael castillo",
          "Charata",
          "joseleonsuarez",
          "Chacarita de Lu aVie 8:30 a 17",
          "villa gobernador galvez",
          "capítal",
          "BERAZATEGUI",
          "Chilecito",
          "BELL VILLE",
          "ituzaingo sur",
          "Iguazú",
          "Recoleta (Centro)",
          "Recoleta  Palermo",
          "villa de soto",
          "alejandro korn",
          "jose clemente paz",
          "capitalfederal,sancristobal",
          "VillaLuro",
          "CLAYPOLE",
          "villa dominico avellaneda",
          "RemediosdeEscalada",
          "Ingeniero maschwitz",
          "Ramos Mejìa",
          "Tristan Suarez",
          "Troncos del Talar",
          "Florida-Vicente López",
          "1669",
          "alderetes",
          "Centro Microcentro",
          "BERNAL CAPITAL ITUZAINGO",
          "Ing Maschwitz",
          "bellavista",
          "Ciudad Autonoma De Buenos Aires",
          "JESUS MARIA",
          "lavallol",
          "Plaza Irlanda",
          "Ciudad de Bs As",
          "Ciudad autónoma de buenos aires",
          "Villa del Parqe",
          "Ciudad autónoma de Buenos Aires",
          "Ciudad autónoma de Bs. As.",
          "Bsas",
          "3 de febrero",
          "Pque Chacabuco",
          "capital dederal",
          "Pque.Avellaneda",
          "José Clemente Paz",
          "vicente lopez, florida",
          "capital fedeRAL",
          "Pilar.",
          "Ciudad de Córdoba",
          "leandro n alem",
          "PasodelRey",
          "8 CUADRAS DE CAPITAL",
          "ParqueAvellaneda",
          "CIUDAD AUT. DE BS AS",
          "ParquePatricios",
          "Paso de los Libres",
          "Ciudad evita",
          "Ciudad de buenos Aires",
          "V.del Parque Palermo Hurlingham",
          "Junin de Los Andes",
          "VALENTIN ALSINA  LANUS",
          "CIUDAD EVITA",
          "veles sarfield",
          "Pehuajó",
          "san clemente del tuyu",
          "Pte Derqui.- Pilar",
          "V. Martelli",
          "lanus o",
          "capital federial",
          "COLONIA CAROYA",
          "Villa martelli",
          "Quitilipi",
          "villa allende",
          "R. Mejia",
          "R.Castillo",
          "Tupungato",
          "lalonja",
          "Florida \"M\"",
          "BARRIO DE POMPEYA",
          "villa bonich",
          "Jesus Maria",
          "JOSE LEON SUAREZ- SAN MARTIN",
          "JOSE C PAZ",
          "Villa maipu",
          "Quilmes Este",
          "Pueblo Esther",
          "BALVANERA",
          "Ciudad Jardín",
          "Villa gral Mitre",
          "Villa luro",
          "lanus este y capital",
          "lanus este monte chingolo",
          "villa Ballester",
          "lanus Oeste",
          "Villa luzuriaga",
          "PuertoMadero",
          "Ciudad Capital",
          "Jose leon suarez",
          "capital fedeal",
          "V. BALLESTER",
          "Ciudad Autónoma de Buenos Airtes",
          "lago puelo",
          "gualeguaychu",
          "Centro Agricola El Pato",
          "city bell",
          "vte lopez  zona norte",
          "San Martin o Escobar",
          "Capital Federal. Buenos Aires.",
          "GONZALEZ CATAN",
          "vte. lopez",
          "BahíaBlanca",
          "Caballito,Flores",
          "Gerli - avellaneda",
          "vte.lopez",
          "ciudad buenos aires",
          "Santos lugares",
          "Capital Federal .San Cristobal",
          "de buenos aires",
          "San Miguel.",
          "Zona Oeste - La Tablada",
          "GeneralViamonte",
          "Santo tome",
          "Saénz Peña",
          "GONZALEZ  CATAN",
          "Godoy Cruz Mendoza",
          "CapitalFederal.BarriodeBoedo.",
          "BUenos Aires",
          "GERLI, LANUS OESTE",
          "Capitalfederal",
          "GERLI.AVELLANEDA",
          "Boedo Parque Patricios",
          "Wilde - Avellaneda",
          "virrey del pino",
          "GONNET LA PLATA",
          "Caballito y Microcentro",
          "GONZALES CATAN",
          "TALAR",
          "ciudad autonoma",
          "Caballito Zona Cancha de Ferro",
          "ciudad autonoma bs.as.",
          "eltalar",
          "San Justo - Ramos Mejia",
          "warnes",
          "(v.crespo)",
          "córdoba capital",
          "SanJusto",
          "General Ramirez",
          "Zeballos",
          "General Galarza",
          "Santa Rosa Calamuchita",
          "ciudad jardin lomas del palomar",
          "Cap.Fed.",
          "Cap.Fed",
          "Cap. Federal",
          "Santa fe",
          "clorinda",
          "Balvanera San Cristobal",
          "zonasurquilmes-bernal-berazategui-ranelagh",
          "ciudadevita",
          "SanRafael",
          "Gdor ing. Valentín Virasoro",
          "SanVicente",
          "Caleta Olivia",
          "San cristobal/boedo",
          "GeneralRodríguez",
          "Calamuchita",
          "San Nicolas de los Arroyos",
          "GeneralRoca",
          "ZARATE",
          "Capital Federal  Vte Lopez",
          "Capital Federal  CONGRESO  BALVANERA",
          "San Nicolás Zona Plaza de Mayo",
          "Capital FGederal",
          "ctes",
          "San carlos de Bariloche, barrio Península San Pedro",
          "San Salvador",
          "Zona Norte y Capital Federal",
          "Capital - Belgrano/Devoto",
          "cosquin",
          "corrientes capital",
          "cordobacapital",
          "GREGORIO DE LAFERRERE",
          "San Isidro Buenos Aires",
          "Zona Tribunales",
          "Rojas",
          "villademayo",
          "BOULOGNE - SAN ISIDRO",
          "gran buenos aires",
          "acasusso",
          "SAN MIGUEL",
          "Castilla",
          "Castelar-Ituzaingo-Parque Leloir",
          "villa puyrredon",
          "Castelar, Moron",
          "Tigre - Nordelta",
          "Castelar  o  Capital",
          "gral rodriguez",
          "Barrancas de Belgrano",
          "Temperley, Partido de Lomas de Zamora",
          "BOULOGNESAN ISIDRO",
          "gonzales catan",
          "SAnta Fe",
          "Tartagal",
          "adolfo sourdeaux",
          "CURUZU CUATIA",
          "Frontera",
          "h",
          "Tres",
          "i casanova",
          "VillaMadero",
          "BOEDO",
          "Hernando",
          "Cañitas",
          "Haedo - El Palomar",
          "VillaMaría",
          "Tornquist",
          "Río Turbio",
          "HURLINGHAM VILLA TESEI",
          "CONCEPCION",
          "HURLINGHAM",
          "HURLIGHAM",
          "Ciudada Autonoma de Buenos Aires",
          "villa nueva",
          "G de Laferrere",
          "BS AS CABA",
          "Carpinteria",
          "San Cristobal / Microcentro",
          "florida vicente lopez",
          "San Antonio de padua",
          "San Bernardo",
          "Gral.Pacheco",
          "Vte lopez",
          "flores caballito",
          "villabosch",
          "GERLI",
          "Gran Buenos Aires",
          "Carapachay- Vte Lopez",
          "San Crsitóbal",
          "TORCUATO",
          "San Fernando - Zona Norte",
          "San Fernando del Valla de Catamarca",
          "San Fernando del Valle",
          "firmat",
          "Gralrodriguez",
          "San Antonio de Areco",
          "Caballio",
          "Saenzpeña",
          "000",
          "Tapalqué",
          "BS AS.",
          "Saavedra y Belgrano",
          "general rodriguez",
          "Saenz Peña, Pdo. 3 de Feb",
          "Tambien hacemos envíos al Interior",
          "GALERIA DE LA FLOR -  MICROCENTRO",
          "Zona norte",
          "Salta Capital",
          "Tablada, sobre limite de Cap Fed",
          "San   Cristóbal",
          "gchu",
          "Villaguay",
          "Caballito - I. Casanova",
          "Cariló",
          "Flores - Lanus (Retiro personal)",
          "Perez",
          "Parque Leloir, Ituzaingó",
          "buenos aures",
          "patricios",
          "Microcentro Obelisco",
          "Microcentro Porteño",
          "Microcentro o Ramos Mejia",
          "paternal",
          "Vicente Lopez Munro",
          "Mina Clavero",
          "Ministro Rivadavia",
          "Del Viso   Munro",
          "buenosAires",
          "Lago Puelo",
          "Monte",
          "FACULTAD DE MEDICINA",
          "Monte Chingolo",
          "Laboulaye",
          "patricios parque",
          "Vicente Lòpez",
          "Benito Juárez",
          "MicroCentro",
          "buenos  aires",
          "buenos airea",
          "Belen de Escobar",
          "buenos aires (caballito)",
          "Martìnez",
          "Villa Maipu (San Martin)",
          "pontevedra",
          "Martínez, San Isidro",
          "Matadeos",
          "Matheu",
          "Lanus Oeste Y Banfield Este",
          "Ezpeleta oeste",
          "Belen",
          "Del viso",
          "Micro centro",
          "parque patricios ,san cristobal",
          "Buenso Aires",
          "buenso aires",
          "bariloche",
          "olivos,vicentelopez",
          "cAPITAL FEDERAL",
          "Còrdoba",
          "olavarria",
          "Alta Gracia",
          "obera",
          "Buenos Aires. San justo.(1754)",
          "La Punta",
          "Nowhere",
          "nordelta",
          "Villa Raffo",
          "Cutral-Có",
          "noetinger",
          "BarrioNorte",
          "munro vte lopez",
          "ABASTO A TRES CUADRAS DEL SHOPING",
          "Córdoba-Cerro de las rosas",
          "cAPITAL FEDERA",
          "Morrison",
          "Almagro Boedo",
          "Villa Nueva",
          "CAPITAL FED",
          "DON BOSCO",
          "Valentín alsina",
          "bamfield",
          "ADROGUÉ",
          "p patricios",
          "c a b a",
          "Almagro-Abasto",
          "sanvicente",
          "Munro - San Martin",
          "balcarce",
          "NORDELTA",
          "Martin coronado",
          "Dique Lujan- Tigre",
          "primera junta caballito",
          "MICROCENTRO PEATONAL FLORIDA",
          "MARCOS PAZ",
          "san jorge",
          "MATADEROS",
          "boedo",
          "MATANZA",
          "C.A. de Buenos Aires",
          "Belgrano Chico",
          "rincon de milberg",
          "riglos 1101",
          "MERCEDES",
          "Villa La Florida",
          "MERLO, PARQUE SAN MARTIN",
          "MERLO-SAN ANTONIO DE PADUA-LIBERTAD",
          "El Calafate",
          "MICROCENTRO MORON ITUZAINGO",
          "El PALOMAR",
          "AUTOMOMA DE BUENOS AIRES",
          "CABA Villa del Parque",
          "sampacho",
          "Villa General Mitre, CABA",
          "Villa General Mitre",
          "Villa Giardino",
          "Villa Gobernador Galvez",
          "Los polvorines",
          "Ensenada.",
          "AVELLANEDA - GERLI",
          "bernal este",
          "saenz peña partido de 3 de febrero",
          "LomaHermosa",
          "Lujan de cuyo",
          "saavedra",
          "Villa Dolores",
          "AZUL",
          "bell ville",
          "MICROCENTRO, SAN NICOLAS",
          "Belgrano   Puerto Madero",
          "Libertad - Merlo",
          "ramos majia",
          "Acebal",
          "san martín",
          "Villa Ballester - San Martin",
          "Lanús y Temperley",
          "quilmes este",
          "Agronomía  Floresta  Congreso  Microcentro",
          "CABS",
          "Lanús oeste",
          "belen de Escobar",
          "Ezeiza,recreativo Veselka",
          "puerto iguazu",
          "basavilbaso",
          "san salvador de jujuy",
          "provincia",
          "Magdalena",
          "san martin buenos aires",
          "Las Marianas",
          "MORENO",
          "EstebanEcheverría",
          "MONTE CRISTO",
          "MONTECASTRO",
          "MONTEGRANDE",
          "APITAL  FEDERAL",
          "Las Toninas",
          "recoleta",
          "bs as cap fed",
          "MORON - LANUS",
          "Belgrano / Microcentro",
          "Villa Buenos Aires",
          "ESQUEL",
          "ramos mejía",
          "CABALLITO-PRIMERA JUNTA",
          "Alte. Brown",
          "Cap Federal",
          "caballito liniers-",
          "VILLA GENERAL MITRE",
          "Federal",
          "LOCALIDAD TEMPERLEY - BARRIO SAN JOSE",
          "PDO TRES DE FEBRERO",
          "PILAR",
          "mardelplata",
          "cap .fed",
          "tristan suarez",
          "malvinas argentinas",
          "PQUE CHACABUCO",
          "Autonoma de Bs.As.",
          "Bernal (GBA Sur)",
          "Buenos Aires (Capital)",
          "PUERTO RICO",
          "maquinista savio",
          "martincoronado",
          "canitas",
          "campana",
          "FLORES CABA",
          "avellaneda gerli",
          "VILLA MAIPU SAN MARTIN",
          "LOomas de zamora",
          "mechita",
          "Villa Sarmiento Haedo Ramos Mejia",
          "PABLO NOGUES",
          "calzada",
          "LUGANO Y CONGRESO + de 15.000 ventas en el sitio!!!",
          "Villa Sarmiento - Morón",
          "9 de Abril. Esteban Echeverria",
          "Orán",
          "merlo bs as",
          "Open Door",
          "urquiza",
          "Pablo Podestá",
          "cabas",
          "autonoma de Bs. As.",
          "cap. fed",
          "Barrio gral Savio Lugano 1 y 2 .",
          "Barrio de San Nicolas",
          "los cardales",
          "v devoto",
          "Coghlan - Belgrano",
          "Flores - CABA",
          "Autonoma de buenos aires",
          "v.ballester",
          "Barrio de Lugano",
          "Avellaneda, Sarandi.",
          "VILLA  MARIA",
          "LA RIOJA",
          "capfed",
          "cap. buenos aires",
          "los troncos del talar",
          "CHACARITA",
          "lospolvorines",
          "Palermo o Almagro",
          "Coglhan",
          "Cohglan",
          "Fiorito",
          "Colegiales- Belgrano",
          "CENTRO-CONGRESO",
          "Avellaneda (Gerli)",
          "Palermo BOTANICO",
          "CApital Federal",
          "Palermo - Recoleta",
          "VILLA DE MAYO",
          "VILLA DEL PARQUE (CABA)",
          "Autónoma de Buenos Aires.",
          "CARLOS SPEGAZZINI",
          "mataderos ( barrio naon )",
          "Crespo",
          "Buenos Aires, Villa Urquiza",
          "Andalgalá",
          "VILLA SANTA RITA-FLORESTA",
          "Obelisco Tribunales",
          "VILLA RAFFO",
          "caballitonorte",
          "La Lucila, Pcia. de Bs. As.",
          "Villa Rosa, Pilar",
          "tandil",
          "Apostoles",
          "ba as",
          "Olivos, Vicente Lopez",
          "VILLA RAMALLO",
          "CAPITAL SAN TELMO",
          "Villa Regina",
          "Olivos, Vicente Lopez, Zona Norte",
          "Villa Saenz Peña",
          "OLIVOS  / Belgrano",
          "VILLAGUAY",
          "La Paz",
          "Bariloche cp 8400",
          "Zona Oeste GBA",
          "capital feferal",
          "astronomía",
          "bARRIONORTE",
          "carmensantafe",
          "atalaya",
          "carupa",
          "alberti. pilar",
          "boulogne- san isidro",
          "aimogasta",
          "boulogne,sanisidro",
          "Barrio alem- Cordoba",
          "Barrio Norte de lunes a viernes de 13 a 19 hs",
          "capital fed",
          "belgranor",
          "Belén- de Escobar",
          "bs as (la boca)",
          "Zona Oeste Bs As",
          "capital faderal",
          "ciudad autonoma de buen aires",
          "Bcas de Belgrano",
          "Banfield.",
          "Banfield, Lomas de Zamora",
          "ciudad autonomade buenos aires",
          "Bernal / Quilmes",
          "Banfield, Lomas De Zamora",
          "cap,fed",
          "Barrio Norte - Lu A Vi 10 A 20 Sab. 10 a 13 hs",
          "Barrio San José",
          "capital (zona centrica)",
          "bs aires",
          "c.f.",
          "ciudadautonomadebuenosaires",
          "casa",
          "caballito.",
          "avellaneda, wilde",
          "cap.",
          "bella Vista",
          "bella vista (san miguel)",
          "berisso",
          "capilladelmonte",
          "autonama",
          "capilla del señor",
          "Bernal Barrio Parque",
          "caBa",
          "berazateui",
          "ciudad evita, la matanza",
          "Belgrano-Nuñez",
          "beraza",
          "benos aires",
          "benavidez - tigre",
          "bella vista san miguel",
          "Bosques, Florencio Varela, Buenos Aires",
          "bellville",
          "bahía blanca",
          "autonoma buenos aires",
          "ciudada autonoma de buenos aires",
          "bermudas",
          "Belgrano, Nuñez, Coghlan",
          "Zona Norte y C.A.B.A.",
          "billinghurst partido san martin",
          "carapachay (partido vicente lopez)",
          "bosques",
          "cASTELAR",
          "Beccar - San Isidro",
          "caballito norte",
          "ciudad de Buenos Aires",
          "Barrio Naon",
          "capita federa",
          "billinghurst -general san martin",
          "Bandfield",
          "Belgrano, Ciudad de BsAs",
          "ciudad de bs as",
          "capítal federal",
          "Banfield Lomas de Zamora",
          "Benavídez",
          "autonoma de Buenos Aires",
          "Belgrano.",
          "Banfield Este Y Lanus Oeste",
          "ascencion",
          "BelgranoBarrancas",
          "balvanera",
          "buenos aires Temperley",
          "Bellavista",
          "almirante brown, adrogue",
          "buenos airs",
          "buenos aires|",
          "capital federal - parque chacabuco",
          "Barrio Belgrano",
          "Biedma",
          "aba",
          "buenos airesa",
          "capi",
          "a elegir",
          "buenos aires, Villa Urquiza",
          "buenos aires zona oeste",
          "buenos aires villa devoto",
          "barrio de CHACARITA",
          "b",
          "chaca",
          "avellaneda, gerli",
          "buenos aires ramos mejia",
          "Belen De Escobar",
          "adrogué",
          "calypole",
          "capital federal caba",
          "cg",
          "cañada de Gómez",
          "Beccar-San Isidro",
          "barracas, cap fed.",
          "cabs",
          "buenosaired",
          "catan",
          "caletaolivia",
          "buenos iares",
          "barranqueras",
          "caviahue",
          "barrio Flores",
          "altos de chipion",
          "castelar sur",
          "cdad de buenos aires",
          "Bernal centro",
          "capital federal-boedo",
          "celina",
          "Billinghurst",
          "Billingurst - San Martin",
          "capital federal, buenos aires",
          "capital federal, boedo",
          "buenos aires capital federal",
          "alvarez",
          "Boedo y Microcentro",
          "chacarita",
          "bsasfloridavicentelopez",
          "Bernardo de irigoyen",
          "allen",
          "Boedo Caballito",
          "Belgrano - Ciudad de Buenos Aires",
          "chubut",
          "cipolletti",
          "BelgranoColegiales",
          "alejandrokorn",
          "city bell, la plata",
          "BelgranoC",
          "Zona Sur - Capital Federal",
          "Berazategui El pato",
          "balvanera  once",
          "anillaco",
          "cap fede",
          "caballitro",
          "bs. as.Gral. san martin",
          "autónoma de buenos aires",
          "belendeescobar",
          "avellaneda.",
          "Zona alto palermo",
          "Barrio las Acacias, La Reja, Moreno",
          "bsasvillamadero",
          "Barrio Norte, Palermo",
          "a",
          "chacras de coria",
          "burnosaires",
          "chajari",
          "capital federal (villa urquiza)",
          "buenos aires - Villa Urquiza",
          "Bella Vista, San Miguel",
          "alvear",
          "caseros-3 de Febrero",
          "Barrio Norte/Recoleta",
          "almagro/caballito",
          "caseros tres de febrero",
          "chilavert, Villa Ballester",
          "Bernal, Quilmes",
          "Beccar, Partido De San Isidro.",
          "baradero",
          "chivilcoy",
          "buenoaires",
          "agronomia, parque chas",
          "bue",
          "bukevar",
          "Garín  (Escobar)",
          "Balvanero",
          "san andres. pdo de san martin",
          "san justo -cap federal",
          "ARROYITO",
          "ARROYO SECO",
          "san jose",
          "san francisco solano partido de quilmes",
          "san fernando del valle de catamarca",
          "AUTONOMA",
          "san fco solano",
          "san critobal",
          "AUTONOMA BS.AS.",
          "AUTONOMA BUENOS AIRES",
          "san antonio de arredondo",
          "AVELL",
          "rodeo de la cruz",
          "san a de padua",
          "san NAtonio de padua",
          "san Martin",
          "san Francisco Solano",
          "san Andrés",
          "salta capital",
          "saenz pena",
          "s. isidro",
          "s. a. de padua",
          "río tercero",
          "río gallegos",
          "rufino",
          "san lorenzo",
          "san marin",
          "ALUMINE",
          "san martin Villa Lynch",
          "santo tome",
          "santiago del estero",
          "santafe",
          "santa maria",
          "santa lucia",
          "ALEJANDRO KORN",
          "sansalvadordejujuy",
          "sannicolas",
          "sanmigueldetucuman",
          "sanmiguel",
          "sanjusto.",
          "sanjose",
          "sanfranciscosolano",
          "sanfernando",
          "sancristobal",
          "sancri",
          "san termo",
          "san ramon de la nueva oran",
          "san rafael",
          "san pedro",
          "san nicolas de los arroyos",
          "san nicolas  microcentro",
          "ALMAGRO de 13 hs a 19 hs de lunes a viernes",
          "san miguel arcangel",
          "ALMÁGRO",
          "rojas bueno aires",
          "river",
          "santos tesei",
          "polborines",
          "prov de Bs As",
          "profesor salvador mazza",
          "presidente derqui",
          "presidencia roque saenz peña",
          "pque patricios",
          "pque leloir",
          "pque chacabuco",
          "Aguas Verdes",
          "pppp",
          "Alderetes",
          "Alejandro Korn",
          "polvorines",
          "Alejandro korn",
          "rivadabia",
          "plottier",
          "playa union",
          "pirane",
          "Almafuerte",
          "pigue",
          "picotruncado",
          "pergamino",
          "perez",
          "pehuajo",
          "pdo moron",
          "pcia de buenos aires",
          "paso del rey( moreno)",
          "prov de bs as",
          "provincia de buenos aires",
          "pte.derqui",
          "puan",
          "riotercero",
          "rio grande",
          "Abasto Almagro",
          "rincón de milberg - tigre",
          "rincon",
          "retiro  recoleta",
          "retiro  palermo  villa crespo",
          "Abasto Center",
          "remediosdeescalada",
          "remedios de escalada, lanus",
          "remdiosdeescalada",
          "rawson",
          "Acassuso,San Isidro",
          "Acasusso",
          "ramos mejias",
          "Acceso oeste Km 32, Moreno",
          "Adolfo Gonzales Chaves",
          "Adolfo Sourdeax",
          "Adrogué y Capital Federal",
          "quilne",
          "quilmes oeste solano",
          "Agronomia Paternal",
          "q",
          "puerto san julian",
          "Aguaray",
          "santos lugares caseros",
          "ADOGUE",
          "paso de rey",
          "villa maipu",
          "villa tesey -hurlingham",
          "villa tesey",
          "villa tesei, hurlingham",
          "villa sarmiento haedo",
          "......",
          "villa rosa",
          "villa regina",
          "villa pueyrredòn",
          "1065",
          "11 de setiembre",
          "1104",
          "1111",
          "villa maderos",
          "villa cañas",
          "villa madero la matanza",
          "1407",
          "1419",
          "villa libertad san martin",
          "villa insuperable",
          "villa gral belgrano",
          "villa gesell",
          "1640",
          "villa de merlo",
          "villa de mayo (malvinas argentinas)",
          "1702",
          "1843",
          "villa udaondo",
          "villa urquiza/once",
          "villaadelina",
          "villaballester",
          "zonaoeste",
          "zona sur o CABALLITO",
          "zona oeste",
          "zona Retiro",
          "(Virreyes)",
          "zapala neuquen",
          "(congreso)",
          "xxxxxxx",
          "xx",
          "x",
          "winifreda",
          "wilde,avellaneda",
          "vurquiza",
          "(zona Congreso)",
          "vivente lopez",
          "virreydelpino",
          "virreyDelPino",
          "villatesei",
          "villasantarita",
          "villarosa",
          "villamartelli.vicentelopez",
          "villaluganocaba.",
          "villacelina",
          "villacacique",
          "villaballestersanmartin",
          "2 de Abril",
          "20 DE SEPTIEMBRE",
          "sarandi avellaneda",
          "toay",
          "v ballester",
          "tucuman",
          "trocos del talar",
          "tristansuarez(ezeiza)",
          "tribunales (centro)",
          "9 de Abril",
          "tre de febrero",
          "tpmgm",
          "tortuguitas(malvinasargentinas)",
          "9 de Abril - Monte Grande",
          "todos.consulta",
          "todas",
          "9 de Julio Nueve de Julio",
          "2000",
          "tesei",
          "termas",
          "temperley este",
          "998",
          "talar",
          "A 5 c de Av Gral Paz y Beiro",
          "ABA",
          "solano,quilmes",
          "sm de tucuman",
          "sf solano",
          "sdfsfs",
          "savedra",
          "v t lopez",
          "v. adelina",
          "v.bocsh",
          "v.bosch",
          "25 de mayo",
          "villa ballester patido de san martin",
          "villa adelina, san isidro",
          "3 d febrero",
          "villa Urquiza",
          "villa Ortuzar",
          "villa Martelli",
          "villa Devoto",
          "villa  devoto",
          "villa  ballester",
          "viedma",
          "vicuña mackenna",
          "3 de Febrero",
          "vicente lopez olivos",
          "vicente Lopez",
          "vicente",
          "vicen",
          "3 de febrero - Villa Bosch",
          "3 febrero",
          "vcente lopez",
          "500",
          "varela",
          "valle hermoso",
          "6300",
          "valentin alsina , lanus oeste",
          "Almagro  y  Lanus",
          "paso  del rey",
          "ciudadela norte",
          "gregorio de la ferreres",
          "iguazu",
          "hurlingham (w.c.morris)",
          "BOCA",
          "horario de 10 a 13 y 14 a 19hs",
          "BOEDO CABALLITO ALMAGRO FLORES PATERNAL PALERMO BELGRANO SAN TELMO BALBANERA SAN CRISTOBAL",
          "guillon",
          "guidospano",
          "guernica presidente peron",
          "guemesretiro",
          "guaymallem",
          "grndbourg",
          "gregorio laferrere",
          "grandbourg",
          "general san martin . tropezon",
          "gral.pico",
          "gral. san martín",
          "gral. san martin",
          "gral. pacheco",
          "gral. madariaga",
          "BOULOGNE PARTIDO DE SAN ISIDRO",
          "gral pico",
          "gonzalezcatan",
          "gonzalez.catan",
          "gonzalescatan",
          "goghlan",
          "gerly",
          "ing maschwuitz",
          "ingeniero pablo nogues",
          "intendente alvear",
          "isisdrocasanova",
          "la plaza de once",
          "la plata- tolosa",
          "la plata (gonnet)",
          "BARRACAS CONSTITUCION",
          "la matansa",
          "la lucila (vicente Lopez)",
          "la granja",
          "la ferrere",
          "la consulta",
          "la calera",
          "justodaract",
          "josé marmol",
          "BECCAR Part de San Isidro",
          "josecpaz",
          "jose.c.paz",
          "BECCARSANISIDRO",
          "jose león suarez",
          "BELGRANO",
          "jose ingenieros",
          "jose C, Paz",
          "joce c paz",
          "jauregui",
          "jaguel",
          "ituzaingo o merlo",
          "isla verde",
          "gerli-avellaneda",
          "BS. AS. (C.A.B.A.)",
          "la reja",
          "cutral co",
          "don torcuato  villa de mayo",
          "Bahia Blanca  Capital Federal",
          "docksud",
          "dock sud",
          "dique lujan tigre",
          "devoto ò Belgrano",
          "despeñaderos",
          "Bajoflores",
          "del Visa",
          "de Bs. As.",
          "de BS AS",
          "dEVOTO",
          "cuidad autonoma de buenos aires",
          "general fernandez oro",
          "cruce de jose c paz",
          "coronel pringles",
          "cordoba, capital",
          "Balnearia",
          "Balvanera (Ftd. de Medicina)",
          "Balvanera (ONCE)",
          "conesa",
          "coglhan",
          "coglang",
          "coglan",
          "cnel moldes",
          "ciudaela",
          "donde quieras",
          "el bolson",
          "Bahia  Blanca",
          "elchalten",
          "general arenales",
          "general Pacheco",
          "BS.AS",
          "garín",
          "funes",
          "fransisco alvarez",
          "formosa",
          "BUENOIS AIRES",
          "floresta buenos aires",
          "flores  caballito",
          "BUENOS AIRES NORTE",
          "BUENOS AIRES SUR",
          "fcio varela",
          "BUENOS AIRES- VILLA LURO",
          "f.varela",
          "f",
          "BUESOS AIRES",
          "evita",
          "esteban echeveria",
          "escalada",
          "entre",
          "ensnada",
          "ensenada (punta lara)",
          "elpalomar",
          "eljagüel",
          "la punta",
          "BARRACAS",
          "paso  de los  libres",
          "mhnoi",
          "AlteBrown",
          "Alto Palermo  La Plata",
          "moorn",
          "montes de oca",
          "montechingolo",
          "montecastro",
          "monte coman",
          "monserrat",
          "mmm",
          "miramar",
          "ministro rivadavia",
          "Apóstoles",
          "merlobsas",
          "mar delplata",
          "merlo junin",
          "merlo  norte",
          "mercedes bs as",
          "mendoza, godoy cruz",
          "mdp",
          "mataderos/Boedo",
          "mataderos y zona norte",
          "Arturo Segui",
          "Ausonia",
          "marmol",
          "maria juana",
          "marcos paz",
          "moron o caballito",
          "moron sur",
          "moron,  buenos aires",
          "mte gde",
          "particular",
          "parquechas",
          "parque san martin, merlo",
          "parque san martin merlo",
          "parque patricios",
          "Almagro (una vez por semana) y Quilmes Oeste (resto de los dias) A COORDINAR",
          "parque chacabuco",
          "parque Leloir, Ituzaingo",
          "parque Avellaneda",
          "Almagro Villa Crespo Palermo",
          "palpala",
          "Almagro o Caballito",
          "palermorecoleta",
          "palermo/chacarita",
          "palermo,lanus ,capital",
          "Almagro. Enviamos a todo el país por OCA y mensajería.",
          "pablopodesta",
          "Almargro",
          "once o barracas",
          "olivos, vicente lopez",
          "AlmiranteBrown,adrogue",
          "nqn",
          "nogues",
          "Alte Brown, Zona sur",
          "muñiz",
          "marcos juarez",
          "mar del tuyu",
          "laborde",
          "lanus-adrogue",
          "libertad merlo",
          "liberatorSanMartin",
          "leones",
          "lcapital federal",
          "latablada",
          "lastalitas",
          "las varillas",
          "las heras",
          "las breñas",
          "laplats",
          "laplata",
          "lanúsoeste",
          "lanus, valentin alsina",
          "maquinista f savio",
          "lanus oeste valentin alsina",
          "BALLESTER",
          "lanus monte chingolo",
          "lanus - capital federal",
          "BALVANERAALMAGRO",
          "Zona Noroeste",
          "lamarque",
          "lalucila",
          "laguna larga",
          "BANFIEL",
          "laferrer",
          "lafalda",
          "libertad-merlo",
          "libertadmerlo",
          "liniers cap fed bs as",
          "BAJO FLORES",
          "manuel b gonnet",
          "ma del plata",
          "mORON",
          "m coronado",
          "lujan de cuyo",
          "Avellaneda ,sarandi",
          "Avellaneda - Villa Dominico",
          "lostroncosdeltalar",
          "los zorros",
          "los reartes",
          "los polvorines.barrio la pradera",
          "Avellaneda Y BARRACAS",
          "los cocos",
          "Avellaneda sarandi",
          "loncghamps",
          "lomaz de zamora",
          "lomas/ lanus",
          "lomas del mir",
          "lomas de zamra",
          "Avellaneda-o capital",
          "lomas  de Zamora",
          "lomahermosa",
          "loma hermosa 3 de febrero",
          "B S Jose Adrgue",
          "B San Cristóbal",
          "lamatanza/capitalfederal",
          "CHACARITAS",
          "Zona Centro",
          "Merlo (Libertad)",
          "Monserrat / Congreso",
          "Mones Cazon",
          "Miraflores",
          "MicrocentroRetiroBoedo",
          "Microcentro, Capital Federal",
          "Microcentro CABA",
          "Del Viso (Pilar)",
          "Del Viso ó San Martín",
          "Microcentro (CABA)",
          "Del valle",
          "Microcebtro",
          "Micro Centro (Barrio San Nicolas)",
          "DelViso",
          "Deseado",
          "Monserrat.",
          "Devoto - V. Pueyrredón",
          "Mecochea",
          "Matrtinez",
          "Matinez",
          "Mataderos- Flores",
          "Mataderos SanTelmo Quilmes",
          "Devoto-Parque Chacabuco-Microcentro",
          "Martínez, Buenos Aires",
          "Diamante",
          "Martín coronado",
          "Martín Coronado",
          "Martinez,  SAN ISIDRO",
          "Martinez San Martin",
          "Monserrat-L de Zamora",
          "Monserrat. Congreso",
          "Nordelta - Tigre",
          "DARREGUEIRA",
          "Nieva Pompeya",
          "Neuquén Capital",
          "Neuquen Capital",
          "Códoba",
          "Navarro",
          "NUNIEZ",
          "NUNEZ",
          "NEUQUEN",
          "Córdobacapital",
          "Munro, Vicente Lopez",
          "Mte Grande",
          "Morón.",
          "Morón y Palermo",
          "Morteros",
          "Daireaux",
          "DEL VISO",
          "Moreno- Bs.As.",
          "Moreno La reja",
          "DOCKSUDAVELLANEDABSAS",
          "Moquehuá",
          "Monterrico",
          "Monteros",
          "Montecarlo",
          "MonteGrande",
          "Monte Hermoso",
          "Monte Grande, Ezeiza, Almirante Brown.",
          "Monte Grande / Micro Centro",
          "DON TORCUATO - TIGRE",
          "Martinez  o Victoria",
          "Dina Huapi Bariloche",
          "MartinCoronado",
          "MArtinCoronado",
          "MORON CENTRO-FLORESTA CABA",
          "EZEIZA CANNING",
          "MORENO CENTRO",
          "MONTEVIDEO",
          "El Bolsón",
          "MIRAMAR",
          "MICROCENTRO OBELISCO",
          "MICROCENTRO ITUZAINGO MORON",
          "El Carmen",
          "MERLO",
          "MENDOZAQ",
          "MENDOZA",
          "MDP",
          "MArtin coronado",
          "Marquez y panamericana",
          "MATHEU",
          "MATADEROS CERCA DE GRAL PAZ",
          "MARTINEZ - ZONA NORTE",
          "MARTINEZ (Unicenter)",
          "El Jagüel",
          "El Manantial",
          "MAQUINISTA F SAVIO",
          "MALVINAS ARGENTINAS",
          "El Palomar, moron",
          "MA",
          "El Palomar-Morón",
          "Luzuriaga Maipu",
          "Luzuriaga",
          "MTE GRANDE",
          "MUÑIZ",
          "Macachín",
          "Machagai",
          "Dolores",
          "MarianoAcosta",
          "Maria Teresa",
          "Maria Juana",
          "Dominico",
          "Don Bosco",
          "Don Torcauto",
          "DonTorcuato",
          "Dorrego",
          "EL TALAR",
          "Mar del Pata",
          "EN CHILE",
          "Mar Del plata",
          "Maquinista Savio - Escobar",
          "Maquinista Savio",
          "Maquinista Sabio",
          "Maq Savio",
          "ManuelAlberti.pilar",
          "Manuel Gonnet - La Plata",
          "Manuel B. Gonnet",
          "MalvinasArgentinas",
          "Malvinas argentina",
          "ENVIOS A TODO EL PAIS",
          "Malargue",
          "Malagueño",
          "ESCOBAR - MASCHWITZ",
          "Maciel",
          "CÓROBA",
          "Nordelta, Tigre",
          "Lujan, Gral. Rodriguez y San Fernando",
          "Palermo Chico",
          "Ciudadela Sur",
          "Cnel. Vidal",
          "Paranà",
          "Palmira, San Martín",
          "PalermoSoho",
          "PalermoRecoleta",
          "PalermoQuilmes Centro",
          "Palermo-Centro",
          "Palermo, cerca del Shopping",
          "Palermo, CABA",
          "Coghlan - Capital Federal",
          "Coghlan, Buenos Aires",
          "Colegiales - Belgrano",
          "Palermo CABA",
          "Parque Chacabuco - Ciudad Aut. de Buenos Aires.",
          "Colon",
          "Palermo - Zona Universidad de Palermo",
          "Palermo - Colegiales",
          "Palermo (Hollywood)",
          "Palermo  Villa Crespo Zona Oulets",
          "ColonEntreRios",
          "ComandanteFernández",
          "Concepcion del Uruguay",
          "Conepcion del Uruguay",
          "Congreso  Montserrat",
          "Pablo Nogues  Los Polvorines",
          "Congreso, Balvanera",
          "PUNTA ALTA",
          "Ciudadela Centro",
          "Parque Chacabuco - Flores",
          "Noroeste",
          "Pcia roque ssenz peña",
          "Pque Patricios",
          "Pque Avellaneda / Mataderos",
          "Potrero de los Funes",
          "Ciudad autonoma de Buenos aires",
          "Pontevedra- Merlo",
          "Pocito",
          "Ciudad autónoma deBuenos Aires",
          "Ciudad de Buenos AIres",
          "Pilar - La Lonja - Del Viso - Barrio Cerrado",
          "Pila",
          "Pigüé",
          "Ciudad de Mendoza",
          "Pehuenches",
          "Paternall",
          "Ciudadela (Beiro y gral Paz) o Rafael Castillo",
          "Paternal/Flores/Caballito",
          "Ciudad de Villa Madero",
          "Paso del rey",
          "Paso de la Patria",
          "Partido de VL",
          "Partido de San Isidro",
          "Partido de Pilar ( pte derqui )",
          "Partido de Lanus",
          "Partido de Avellaneda",
          "Ciudad jardin Palomar",
          "Parque San Martin",
          "Parque Rivadavia Caballito",
          "Parque Leloir",
          "PUERTO MADERO Y CABALLITO",
          "PRQ AVELLANEDA",
          "Congreso, San Cristobal",
          "OLivos",
          "Olivos (Partido de Vicente Lopez)",
          "Olivos (Jose Ingenieros y Fray Justo Sarmiento)",
          "Corrientescapital",
          "Oeste",
          "Cosquín",
          "Obera",
          "Obelisco  Puerto Madero",
          "Cpiatal",
          "ONCEALMAGRO",
          "Crisol Sur",
          "ONCE  BALVANERA - local - FERRETARIA RIVAFER (lunes a viernes  8.30 a 18.30 y  sábados 8.30 a 12.30 hs).",
          "Cruce Florencio Varela",
          "Crucesita - Avellaneda",
          "OLIVOS - Vicente Lopez",
          "PONTEVEDRA,MERLO,BS AS",
          "Cruz Alta",
          "OLAVARRIA",
          "O Higgins",
          "Cuidad de Buenos Aires",
          "Nva Cordoba",
          "Nuñez, Liniers, San Isidro",
          "Cutral Cò",
          "NuÑez / Belgrano / Microcentro",
          "Nunez",
          "Nueva Pompeya  Parque Patricios Consulte",
          "CÒRDOBA",
          "Nu?ez",
          "CÓRDOBA CAPITAL",
          "Olivos -Vte Lopez",
          "Olivos Partido de Vicente Lopez",
          "Coronel Suarez",
          "Olivos Vicente López",
          "Congresomicrocentro",
          "PODESTA",
          "Copetonas",
          "Copo",
          "PIEDAD",
          "Cordoba capital",
          "Cordoba-Capital",
          "PARQUE PATRICIOS",
          "PARQUE LELOIR",
          "PARQUE CENTENARIO",
          "PARQUE AVELLANEDA CAMPUS UTN",
          "CordobaCapital",
          "PALMAR",
          "Corodoba",
          "PALERMO PLAZA ITALIA",
          "PALERMO ALMAGRO",
          "PACHECO",
          "PABLO PODESTA",
          "P.Patricios",
          "P. Madero",
          "P",
          "Otra ubicación",
          "OpenDoor",
          "Once. Balvanera.",
          "Once - CABA",
          "Once  facultad de medicina",
          "Coronel Dorrego",
          "El Socorro/ Pergamino",
          "El Talar Part Tigre",
          "Boulogne - San Isidro",
          "Ingeniero Machwitz",
          "JOSE LEON SUAREZ",
          "JOSE CLEMENTE PAZ",
          "J. M. Gutierrez",
          "Ituzaingó cp.1714",
          "Florida - V Lopez",
          "Ituzaingo - Parque - Leloir",
          "Florida - Vicente lopez",
          "Florida - Vte Lopez",
          "Itagui Antioquia Colombia",
          "Florida Vicente lopez",
          "Florida oeste",
          "Isidro Casanova La Matanza",
          "Florida, Panamericana",
          "Ingeniero Budge",
          "Jesus María",
          "Ing. Pablo Nogues",
          "Ianus",
          "ITUZAINGO/CASTELAR",
          "Florida, Vicente López",
          "INGENIERO MASCHWITZ",
          "INGENIERO BUDGE",
          "I.casanova",
          "Floridaoeste",
          "Hurlingham, Villa Tesei",
          "Hurlingham y Barrio Parque Sakura",
          "Formosa - Capital",
          "Huerta Grande",
          "Hudson partido Berazategui",
          "JOSE.C.PAZ",
          "Jesus maria",
          "L.de Zamora",
          "Josecpaz",
          "L. DEL MIRADOR",
          "Juárez Celman",
          "Flores-Parque Chacabuco",
          "Juan Maria Gutierrez",
          "Juan Bautista Alberdi",
          "José. C.paz",
          "José marmol",
          "José Marmol",
          "José León Suárez (local) y puntos de entrega en CABA (ver descripción)",
          "José Leon Suarez",
          "José C.Paz",
          "Flores/Banfield",
          "Joseleonsuarez",
          "JoseCPaz",
          "Jesús maria",
          "Jose.C.Paz",
          "Jose león suarez",
          "Jose leon suarez- San Martin",
          "Jose leon Suarez",
          "Jose ingenieros",
          "Floresta (P.Avellaneda)",
          "Floresta - Villa Luro - Devoto - Versalles",
          "Jose Ingenieros, Tres de febrero",
          "Floresta - capital federal",
          "Floresta o Pilar",
          "Floresta y Lanús Oeste",
          "Floresta,",
          "Joaquin Gorina - La Plata",
          "Hornos-Gral Las Heras",
          "Henderson",
          "Haedo  El Palomar",
          "GeneralPacheco",
          "GonzálezCatán",
          "González Catan",
          "Gonzalez Catán",
          "Gonnet - La Plata . Bs As",
          "Gonnet",
          "GodoyCruz",
          "Gllen",
          "GlewGuernica",
          "Gerli partido de Avellaneda",
          "GRAL. SAN MARTIN",
          "GRAL.PACHECO",
          "GRAN BUENOS AIRES",
          "GeneralSanMartin",
          "GRANADERO BAIGORRIA",
          "Fray Luis Beltran",
          "General Savio",
          "General San Martín y Chacarita CABA",
          "General San Martin - Loma Hermosa",
          "General San Martin (centro)",
          "Gaiman",
          "Galería Jardín",
          "General Pacheco, Tigre",
          "Garli - Lanus Este",
          "General Madariaga",
          "General Güemes",
          "General Belgrano",
          "Garupá",
          "General Acha",
          "GERNICA",
          "Gral Rodriguez",
          "Gral San Martín",
          "Gral San martin",
          "HURLINGHAM (VILLA TESEI)",
          "HUERTA GRANDE",
          "HOTEL LA PIEDAD",
          "HAEDO - Buenos Aires",
          "Guillermo enrique Hudson",
          "Guillermo Enrique Hudson",
          "Guillermo E. Hudson",
          "Fuentes",
          "G cruz",
          "Guaymallen - Mendoza",
          "Guatraché",
          "G. Catan",
          "G. E. Hudson",
          "Gregorio de laferrere",
          "GALVEZ",
          "Gregorio de Laferere",
          "Gregariodelaferrere",
          "Granja de Funez",
          "Graneros",
          "GrandBourg",
          "GARIN.",
          "Gral. jose de san martin",
          "GENERAL PICO",
          "Gral. Rodríguez",
          "Gral. Juan Madariaga",
          "Gral san martin",
          "Gral san Martín",
          "L. del Mirador",
          "LA BOCA, BARRACAS",
          "Lujan De Cuyo",
          "Ezpeleta O.",
          "LasHeras",
          "Eugenio Bustos",
          "Las Grutas",
          "Evita",
          "Larroque",
          "Laprida",
          "LanúsOeste",
          "Lanús oeste valentin alsina",
          "ExaltacióndelaCruz",
          "Lanús Oeste - Burzaco",
          "Ezeiza,Canning",
          "Lanús (Este)",
          "Lanús  Oeste",
          "Lanùs",
          "Lavalle",
          "LanusOeste",
          "Lanus, V. Alsina",
          "Lanus, Flores",
          "Ezpeleta Oeste, Quilmes",
          "Lanus este Villa Obrera",
          "Lanus este / capital",
          "Lanus O",
          "Lanus Este Gerli",
          "F VARELA",
          "Lanus  ( Valentin Alsina )",
          "F. de Medicina",
          "Laguna Paiva",
          "Laferrere. La matanza",
          "Latablada",
          "Leandro N. Alem",
          "LA FALDA córdoba",
          "Lomas del Mirador, Buenos Aires",
          "Lujan - Carlos keen",
          "El jaguel",
          "Lugano I y II",
          "Lugano 1 y 2",
          "Lucila",
          "Luagno",
          "Los Polvorines, Malvinas Argentinas",
          "ElPalomar",
          "Los Molinos",
          "Los Condores",
          "Longchmps",
          "ElPalomar(moron)",
          "ElTalar",
          "Lomas del Mirador  Ramos Mejia  Liniers",
          "Libertador San Martin",
          "Elpalomar",
          "Embalse",
          "Empalme villa Constitucion",
          "Lomas Zamora",
          "Loma hermosa",
          "Envio Rapido",
          "Local a la calle Zona Warnes",
          "Escalante",
          "Liniers, Capital federal",
          "Liniers - Buenos Aires",
          "Estación D Congreso, Saavedra - Núñez",
          "Esteban Echeverria-Canning",
          "Lima",
          "LaPlata.-",
          "FCIO. VARELA",
          "FEDRACION",
          "LINIERS, PCIA DE BUENOS AIRES",
          "La Caldera",
          "La Bada",
          "LUIS GUILLON MONTE GRANDE",
          "LUIS GUILLON",
          "LUCILA DEL MAR",
          "Fcio VArela",
          "LOmas de zamora",
          "LOS TOLDOS",
          "Fcio varela",
          "Fco. Alvarez(MORENO)-ALMAGRO",
          "LOMAS D MIRADOR",
          "LLavallol",
          "Felicia",
          "Ferrari",
          "LaCalera",
          "LIBERTAD",
          "LEANDRO N ALEM",
          "LDOR. GRAL. San Martin",
          "LAS TALITAS",
          "LAS BREÑAS",
          "Florecio Varela",
          "FlorencioVarelayVillaDominico",
          "LA UNION-EZEIZA",
          "LA RIOJA CAPITAL",
          "LA PATERNAL",
          "LA MATANZA, LOMAS DEL MIRADOR",
          "LA LUCILA VICENTE LOPEZ",
          "LA LUCILA",
          "FUNES",
          "FRONTERA",
          "La Cocha",
          "La Leonesa",
          "La unión. Ezeiza",
          "La tablada",
          "La plata",
          "La paternal",
          "La matanza - Lomas del mirador",
          "La lucila olivos",
          "La lucila",
          "La calera",
          "La Union",
          "La Tablada.",
          "FITDG.com.ar",
          "La Reja",
          "FLORENCIO VARELA",
          "La Puerta",
          "La Plata/ Villa Elisa",
          "La Plata, Tolosa",
          "La Plata, City Bell",
          "FLORENCIO VARELA O CAPITAL FEDERAL",
          "La Plata (Los Hornos)",
          "FLORESTA",
          "FLORESTA MONTE CASTRO",
          "La Matanza 4 cuadras gral paz",
          "FORMOSA",
          "La Lucila, partido de Vte Lopez",
          "La Lucila, Partido de Vicente López",
          "FRANCISCO ALVAREZ",
          "La Lonja",
          "Pque San Martin (Merlo)",
          "Presidencia Roque Saenz Peña",
          "Ciudad Tesei",
          "VIlla Ballester",
          "CAPITAL DEDERAL",
          "Velez Sarfield",
          "CAPITAL FEDERAL Y ADROGUE",
          "ValentinAlsina",
          "Valentin Alsina, Lanus",
          "Valentin Alsina Lanus oeste",
          "Valentin Alsina Lanus",
          "Valentin Alsina - Lanus",
          "Valentin Alsina (Lanus Oeste)",
          "CAPITAL FEDERAL. VILLA URQUIZA",
          "VTE. LOPEZ",
          "VL",
          "VIlla Pueyrredon",
          "VISTALBA",
          "Venta únicamente por delivery",
          "VILLA SARMIENTO",
          "CARCARAÑA",
          "CARCARAñA",
          "VILLA REGINA",
          "CARLOS CASARES",
          "VILLA PUERREDON",
          "VILLA MERTELLI",
          "VILLA MARTELLI (VICENTE LOPEZ)",
          "VILLA MARIA",
          "VILLA LUROI",
          "VILLA LURO/LINIERS",
          "VILLA LURO MICROCENTRO",
          "VILLA LURO",
          "VenadoTuerto",
          "CAPFED",
          "CABALLITO-Pque.Chacabuco",
          "Victoria San Fernando",
          "Villa Baller",
          "Villa Adelina-San Isidro",
          "CAIMANCITO CENTRO",
          "Villa Adelina / San Isidro",
          "Villa Adelina - San Isidro",
          "CAMET -NORTE",
          "Villa Adelila",
          "Villa  del Parque",
          "Villa",
          "Viila Urquiza",
          "CAMILO ALDAO",
          "ViecenteLopez",
          "Victorica",
          "Victoria - San Fernando",
          "Versalles-Liniers",
          "Victoria (San Fernando)",
          "CAP Fed",
          "VicenteLopez",
          "CAP Federico",
          "Vicente López/florida",
          "Vicente López, palermo, Belgrano, Colegiales",
          "Vicente López / Carapachay",
          "CAP. FED",
          "Vicente Lopez-Florida Oeste",
          "Vicente Lopez, Florida",
          "Vicente Lopez, Buenos Aires",
          "CAP. FEDERAL",
          "Verónica",
          "VILLA INSUPERABLE",
          "VILLA GDOR GALVEZ",
          "VILLA ELISA",
          "Tres Lomas",
          "URDINARRAIN",
          "CIUDAD MADERO",
          "Turdera/Lomas de Zamora",
          "Trujui",
          "Troncos del talar",
          "Troncos del Talar- Tigre",
          "Troncos del Talar - Tigre",
          "Tribunales - Villa del Parque",
          "COGHLAN - CAPITAL FEDERAL",
          "Tribunales (Microcentro)",
          "Tresdefebrero",
          "COLECTORA AV. GRAL. PAZ",
          "Tres de Febrero, Localidad: Pablo Podesta",
          "Tres De Febrero",
          "CATRIEL",
          "COLEGIALES",
          "TrenqueLauquen",
          "Treinta de Agosto",
          "Totoras",
          "Tostado",
          "Tortuguitas / Caballito",
          "Tortugas (Pan. Pilar KM 38.5)",
          "CUIDADELA",
          "Toay",
          "Tigre.",
          "Tigre- Pacheco",
          "Tigre Delta",
          "Tigre ( rincon de milberg)",
          "URQUIZA",
          "Ucacha",
          "Uspallata",
          "V Lopez",
          "VILLA DEL PARQUE VILLA NUEVA",
          "VILLA CREPO",
          "VILLA CELINA",
          "Gba Oeste",
          "VILLA BELLESTER",
          "CHASCOMUS",
          "VILLA BALLESRT",
          "VILLA ALSINA",
          "CID.AUT.BS.AS",
          "VIEDMA",
          "VICTORICA",
          "VERSALLES-VILLA REAL",
          "VERONICA",
          "CIUDAD AUTONOMA DE BUENOSA IRE",
          "V.Urquiza",
          "V.URQUIZA",
          "V.ORTUZAR",
          "V.CARLOS PAZ",
          "V.C.Paz",
          "CIUDAD JARDIN PALOMAR",
          "V.BALLESTER",
          "V. lugano",
          "V. Urquiza",
          "V. URQUIZA",
          "V. Ballester",
          "V. Alsina-Lanus",
          "V Parque",
          "CABAa",
          "Villa Balllester",
          "Ciudad Madero (Villa Celina), La Matanza",
          "Villa del Rosario",
          "VillaCelina",
          "VillaCarlosPaz",
          "VillaBallester",
          "VillaAdelina",
          "Villa urquiza",
          "Villa tesei",
          "Villa santa rita",
          "Villa real",
          "Bs.AS.",
          "Villa lynch San Martin",
          "Villa lynch",
          "Villa giardino",
          "Villa dolores",
          "Bs.as.",
          "Bs. As. (zona Devoto/Floresta)",
          "Villa de Mayo - Ptdo de Malvinas Argentinas",
          "Villa creso",
          "Villa constitucion",
          "Buenos Aired",
          "Villa UrquizaBelgrano",
          "Villa Urquiza o a convenir",
          "Villa Urquiza CABA",
          "Villa Tesei, Hurlingham",
          "Villa Tesei Hurlingham",
          "Villa Tesei - Hurlingham",
          "Buenos Aires (Floresta)",
          "Buenos Aires - Argentina",
          "Villa Sarmiento Moron",
          "Bs. as",
          "VillaGesell",
          "Villa Bosch, Partido de Tres de Febrero.",
          "Bs As San isidro",
          "ZONA HOSPITAL ITALIANO",
          "ZONA FLORES  (PLAZA VIRREYES)",
          "YerbaBuena",
          "Yerba buena",
          "Winifreda",
          "William Morris",
          "Wilde,Avellaneda",
          "Boulogne, San Isidro",
          "Vélez Sarsfield",
          "Vvilla crespo",
          "Vte. López",
          "Vte, Lopez",
          "Vistalba, Lujan de cuyo",
          "Virrey del Pino",
          "VillaGral.Mitre",
          "Villanueva",
          "Villacrespo",
          "Villaballester",
          "Villaadelina",
          "Bs,As",
          "VillaSoldati",
          "VillaReal",
          "VillaPueyrredon",
          "VillaOrtúzar",
          "VillaOrtuzar",
          "VillaMartelli",
          "VillaLurozonaoesteyzonasur",
          "Bs. As - Zona oeste",
          "Buenos Aires Moreno",
          "Villa Santa Rita Paternal.",
          "Villa Santa Rita - Capital Federal",
          "Villa Devoto (Monte castro)",
          "Villa Gral Mitre  Paternal",
          "C.a.b.a.",
          "C:A:B:A:",
          "CABA ( Villa Devoto )",
          "Villa General Belgrano Calamuchita",
          "CABA (Belgrano)",
          "Villa Elisa-La Plata",
          "Villa Elisa, La Plata",
          "Villa Elisa",
          "CABA - Barrio Belgrano",
          "CABA - Boedo",
          "CABA BELGRANO",
          "CABA Monserrat",
          "CABA PALERMO",
          "Buenos Aires, Isidro Casanova",
          "Villa Crespo-Remedios de Escalada",
          "Villa Crespo, Caballito, Cid Campeador",
          "Villa Crespo - Palermo",
          "Villa Crespo - Caballito",
          "CABA-PATERNAL",
          "Villa Crespo (Parque Centenario)",
          "CABALLITO",
          "Villa Crespo  Palermo",
          "Villa Crerspo",
          "CABALLITO CAPITAL FEDERAL",
          "Villa Ciudad de America",
          "CABALLITO-PARQUE CENTENARIO Y CHACABUCO",
          "CABALLITO-PATERNAL",
          "Villa Guillermina",
          "Villa Linch - General San Martín",
          "Villa Linch San Martin",
          "Villa LuroLiniers",
          "Villa Rosa - Pilar",
          "Buenos Aires, Partido Tres de Febrero",
          "Villa Ramallo",
          "Villa Raffo (Saenz Peña)",
          "Villa Pueyrredón  Villa Urquiza",
          "Villa Pueyrredon/Villa Urquiza",
          "BuenosAIres",
          "Villa Peuyredon",
          "Villa Parque Siquiman",
          "BuenosAires,SanIsidro",
          "BuenosAires-CapitalFederal",
          "Villa Nueva, Guaymallén",
          "Villa Mugueta",
          "Buenso AIres",
          "Villa Martelli, Vicente López",
          "Villa Martelli, Pdo. de Vicente López",
          "Bulogne",
          "Burzaco - Adroge",
          "BÁNFIELD",
          "Villa Maipú",
          "Villa Maipu - San Martin",
          "BÉCCAR - SAN ISIDRO",
          "Villa Lynch San Martín",
          "Villa Lynch San Martin",
          "Villa Lynch - San Martin",
          "Villa Luzuriaga San Justo",
          "C. A. B. A",
          "CaBA",
          "Tercero Arriba",
          "Temperley, san jose",
          "Río Negro",
          "Catalinas sur (la boca)",
          "SAN ISIDRO MARTINEZ",
          "SAN FRANCISCO",
          "SAN FERNANO",
          "Catamarca- Capital",
          "Catan",
          "SAN ANDRES DE GILES",
          "SALTA CAPITAL",
          "Cava",
          "Caìtal Federal",
          "S.M. de Tucumàn",
          "Río tercero",
          "Cañada de Gomez",
          "Río Gallegos",
          "Catalinas Sur - La Boca",
          "Cañitas Belgrano",
          "Rosario}",
          "RosariodeLerma",
          "Cdad. Aut. Buenos Aires",
          "Cdad. Autónoma de Bs. As.",
          "Riocuarto",
          "Rio Ceballos",
          "Rincón de Milberg",
          "Rincon de milberg",
          "Rincon de los sauces",
          "Rincon de Milberg, TIGRE",
          "Rincon de Milberg",
          "Ricardo Rojas (Lopez Camelo)",
          "SAN JUSTO, VILLA LUZURIAGA",
          "SAN MARTINCASEROS",
          "Caba - Monte Castro",
          "SIN",
          "Carlos Tejedor",
          "Carlos paz",
          "Salta capital",
          "CarlosCasares",
          "CarlosSpegazzini",
          "Saenz Peña, Buenos Aires",
          "Saenz Peña - Devoto",
          "Saens Peña",
          "Saavedra o Centro",
          "Saavedra (Bs As)",
          "Saavedra  Belgrano",
          "Saavadra",
          "SOLANO",
          "SF",
          "SAN MIGUEL DEL MONTE",
          "SARANDI- AVELLANEDA",
          "SARANDI AVELLANEDA",
          "SARANDI",
          "Carrodilla Lujan de Cuyo",
          "SANTELMO",
          "SANTA LUCIA",
          "Casanova",
          "SAN VISENTE",
          "Castelar Norte",
          "SAN SALVADOR DE JUJUY",
          "SAN NICOLAS DE LOS ARROYOS - BUENOS AIRE",
          "SAN NICOLAS DE LOS ARROYOS",
          "Castelar o Moron",
          "Riacho He He",
          "Centro Tribunales.",
          "Ceres",
          "Quilmes este",
          "RAMOS  MEJIA",
          "RAMOS",
          "RAFAELA",
          "Ciudad Autonoma de buenos Aires",
          "RAFAEL  CALZADA",
          "R.deescalada",
          "R.de Escalada ( Lanus)",
          "R. De Escalada",
          "R. DE ESCALADA",
          "R. CALZADA",
          "Ciudad Autonoma de buenos aires",
          "Quilmes y Almagro",
          "Quilmes o Microcentro",
          "Ciudad Autónoma de Bs As",
          "Chacras de Coria",
          "Ciudad Autónoma de Buenos",
          "(Buenos Aires) - La Matanza",
          "Pérez Millán",
          "Pza.Italia",
          "Ciudad Celina",
          "Puerto madero, Microcentro",
          "Puerto MaderoRetiro",
          "Puerto Madero Este",
          "Puerto Gral. San Martin",
          "Puan",
          "Pto Madero",
          "Ptdo de la matanza",
          "Ciudad Jardín de El Palomar",
          "Ciudad Autonoma de Buenso Aires",
          "RAMOS MEJÍA",
          "RAMOSMEJIA",
          "Ciudad Autonoma de Buenos aires",
          "Remedios de Escalada Oeste",
          "Chapadmalal",
          "Remedios de Escalada Este",
          "Remedios De Escalada",
          "Chilavert",
          "Recoleta, San Nicolas",
          "Ramosmejia",
          "RamosMejía",
          "City bell",
          "Ciuda Evita",
          "Ramos Mejias",
          "Ramos Mejia-La Matanza",
          "Ramos Mejia norte",
          "Ramos Mejia La Matanza",
          "Ramos Mejia - Haedo",
          "Ramos Majia",
          "Ramos Haedo",
          "Rafáel Castillo",
          "Ciudad Aut. Bs.As.",
          "Rafael Castillo.",
          "Rafael Calzada Alte Brown",
          "RIO TERCERO",
          "RIO GALLEGOS",
          "RIGLOS 1101",
          "RETIRO - MICROCENTRO",
          "RECONQUISTA",
          "RECOLETA  PALERMO",
          "San Andres Partido de San Martin",
          "Carlos Spegazzini,",
          "San Andres de Giles",
          "SanAntoniodePadua",
          "Santa Lucía",
          "Santa Fé",
          "Santa Fe Capital",
          "Canning Pdo Estebán Echeverría",
          "Sanmartin",
          "Cap. Fed o Martin Coronado",
          "SanNicolas",
          "Cap. Fed. (Microcentro)",
          "SanMartin-VillaLynch",
          "SanFco.Solano(Quilmes)",
          "Cap.Fed. Villa Urquiza",
          "SanCristobal",
          "SanAntoniodepadua",
          "SanAndres",
          "San Ramon de la Nueva Oran",
          "San telmo",
          "Cap.Federal",
          "San justo la matanza",
          "Capilla del Monte - Barrio Centro",
          "San fernando",
          "San fernand",
          "San antonio de padua",
          "Capita Federal",
          "San Telmo/Parque Lezama",
          "Capital  Federal",
          "San Telmo o Constitucion",
          "San Telmo Ciudad Buenos Aires",
          "Capital  Floresta",
          "Santa Maria",
          "Campo Santo",
          "Santa rita  Paternal",
          "SantaClaradelMar",
          "Talar de Pacheco",
          "TRelew",
          "TRONCOS DEL TALAR",
          "TRISTAN SUAREZ",
          "Caballito - Parque Rivadavia",
          "Caballito - Villa del Parque",
          "TOLOSA - LA PLATA",
          "TODO EL PAIS",
          "TODA CAPITAL FEDERAL",
          "Caballito - Zona Parque Centenario",
          "Caballito / Tigre",
          "Caballito / Villa Crespo",
          "Caballito CABA",
          "Sucnhales",
          "Sourigues",
          "Soldati",
          "Sn",
          "Simoca",
          "Sierra de la Ventana",
          "Sexta sección",
          "Seleccione",
          "Saveedra",
          "Sarandi/Avellaneda",
          "SantosLugares",
          "SantaTeresita",
          "SantaFeCapital",
          "SantaCruz",
          "Capital ( barracas)",
          "Capital - Zona Norte",
          "Carlos Casares",
          "Captal Federal",
          "Capital/Zona sur BsAs",
          "San José, Temperley",
          "San José - Adrogué",
          "San Jose de Metan",
          "San Jorge",
          "San Isidro- Villa Adelina",
          "Capitan Bermudez",
          "San Isidro o Retiro  Leer Bien",
          "San Isidro - Boulogne",
          "Capitán Bermúdez",
          "San Iisidro",
          "San Francisco Solano.Quilmes oeste",
          "CapitánSarmiento",
          "Capítal Federal",
          "Capital FEDERAL",
          "San Fco Solano",
          "CarapachayMunro",
          "San Clemente del Tuyú",
          "San Cayetano",
          "Carcaraná",
          "San Carlos Sur",
          "Carcarañá",
          "San Bernardo del Tuyu",
          "San Antonio de Padua, Merlo",
          "Carhue",
          "San Antonio de Areco y",
          "San Antonio Oeste",
          "San Antonio",
          "Capital, Santiago del Estero",
          "Capital Fefderal",
          "San Justo (villa luzuriaga)",
          "Capital Fedral (Flores)",
          "San Nicolas.",
          "San Nicolas de los arroyos",
          "Capital Federal (Belgrano)",
          "San Nicolas . Microcentro",
          "San Nicolas (Tribunales)",
          "Capital Federal , Flores",
          "San Nicolas  Microcentro",
          "Capital Federal - San Miguel",
          "San Miguel de tucuman",
          "Capital Federal Balvanera",
          "San Miguel Del Monte",
          "San Miguel  Moron",
          "Capital Federal Floresta Parque Avellaneda",
          "San Martín 3 de Febrero",
          "Capital Federal, Belgrano",
          "Capital Federal, Palermo",
          "San Martin de Los Andes",
          "San Martin Centro",
          "San Martin (Villa Lynch)",
          "Capital Federal. Palermo",
          "San Marcos Sierras",
          "San MArtin",
          "San Luis Capital",
          "San Luis , ARG",
          "Capital Federan",
          "San Justo. La Matanza",
          "San Justo LA MATANZA",
          "zorzal"
         ],
         "xaxis": "x",
         "y": [
          4102,
          3420,
          3402,
          3355,
          2967,
          2333,
          2073,
          1872,
          1715,
          1595,
          1582,
          1556,
          1229,
          1178,
          1178,
          1146,
          1004,
          987,
          977,
          967,
          949,
          883,
          877,
          867,
          824,
          796,
          772,
          765,
          672,
          652,
          642,
          625,
          619,
          595,
          569,
          534,
          498,
          498,
          497,
          491,
          483,
          481,
          480,
          450,
          443,
          412,
          399,
          380,
          371,
          365,
          363,
          355,
          353,
          353,
          340,
          335,
          335,
          333,
          323,
          317,
          314,
          308,
          307,
          302,
          297,
          296,
          295,
          294,
          287,
          270,
          269,
          265,
          256,
          255,
          253,
          246,
          245,
          230,
          230,
          228,
          219,
          219,
          216,
          214,
          206,
          202,
          202,
          194,
          193,
          191,
          189,
          187,
          185,
          185,
          184,
          184,
          183,
          180,
          178,
          177,
          176,
          174,
          171,
          169,
          167,
          166,
          164,
          163,
          158,
          157,
          153,
          153,
          151,
          149,
          147,
          145,
          145,
          143,
          143,
          143,
          141,
          139,
          138,
          138,
          136,
          135,
          133,
          132,
          131,
          129,
          128,
          126,
          126,
          123,
          122,
          122,
          121,
          121,
          120,
          120,
          120,
          118,
          118,
          117,
          117,
          117,
          116,
          112,
          112,
          112,
          108,
          108,
          107,
          105,
          105,
          104,
          103,
          103,
          102,
          102,
          102,
          102,
          101,
          99,
          98,
          98,
          97,
          95,
          94,
          92,
          92,
          91,
          89,
          88,
          88,
          87,
          87,
          86,
          86,
          86,
          85,
          83,
          83,
          82,
          81,
          80,
          79,
          79,
          78,
          78,
          78,
          78,
          77,
          76,
          74,
          72,
          72,
          72,
          71,
          70,
          70,
          70,
          69,
          69,
          68,
          68,
          68,
          68,
          68,
          67,
          67,
          67,
          67,
          67,
          67,
          65,
          65,
          64,
          64,
          64,
          64,
          64,
          64,
          63,
          63,
          63,
          62,
          61,
          61,
          61,
          61,
          61,
          60,
          60,
          60,
          60,
          60,
          59,
          58,
          57,
          57,
          56,
          55,
          55,
          55,
          55,
          53,
          53,
          53,
          52,
          51,
          51,
          51,
          50,
          50,
          50,
          50,
          48,
          48,
          48,
          48,
          48,
          47,
          47,
          46,
          45,
          45,
          45,
          45,
          44,
          44,
          43,
          43,
          42,
          42,
          42,
          42,
          41,
          41,
          41,
          41,
          41,
          41,
          40,
          40,
          40,
          40,
          40,
          39,
          39,
          39,
          39,
          39,
          39,
          39,
          39,
          39,
          39,
          38,
          38,
          38,
          38,
          38,
          37,
          37,
          37,
          36,
          36,
          36,
          36,
          36,
          36,
          35,
          35,
          35,
          35,
          34,
          34,
          34,
          34,
          34,
          34,
          34,
          33,
          33,
          33,
          33,
          33,
          33,
          33,
          33,
          32,
          32,
          32,
          32,
          32,
          32,
          32,
          31,
          31,
          31,
          31,
          31,
          31,
          31,
          31,
          31,
          31,
          30,
          30,
          30,
          30,
          30,
          30,
          30,
          29,
          29,
          29,
          29,
          29,
          29,
          29,
          29,
          29,
          28,
          28,
          28,
          28,
          28,
          28,
          28,
          28,
          28,
          28,
          28,
          27,
          27,
          27,
          27,
          27,
          27,
          27,
          27,
          27,
          26,
          26,
          26,
          26,
          26,
          26,
          26,
          26,
          26,
          26,
          26,
          26,
          25,
          25,
          25,
          25,
          25,
          24,
          24,
          24,
          24,
          24,
          24,
          24,
          24,
          24,
          24,
          24,
          24,
          24,
          24,
          24,
          24,
          24,
          24,
          23,
          23,
          23,
          23,
          23,
          23,
          23,
          23,
          23,
          23,
          23,
          23,
          23,
          23,
          23,
          22,
          22,
          22,
          22,
          22,
          22,
          22,
          22,
          22,
          22,
          22,
          21,
          21,
          21,
          21,
          21,
          21,
          21,
          21,
          21,
          21,
          21,
          21,
          21,
          21,
          21,
          20,
          20,
          20,
          20,
          20,
          20,
          20,
          20,
          20,
          20,
          20,
          20,
          20,
          20,
          19,
          19,
          19,
          19,
          19,
          19,
          19,
          19,
          18,
          18,
          18,
          18,
          18,
          18,
          18,
          18,
          18,
          18,
          18,
          18,
          18,
          18,
          17,
          17,
          17,
          17,
          17,
          17,
          17,
          17,
          17,
          17,
          17,
          17,
          17,
          17,
          17,
          17,
          17,
          17,
          17,
          16,
          16,
          16,
          16,
          16,
          16,
          16,
          16,
          16,
          16,
          16,
          16,
          16,
          16,
          16,
          16,
          16,
          16,
          16,
          15,
          15,
          15,
          15,
          15,
          15,
          15,
          15,
          15,
          15,
          15,
          15,
          15,
          15,
          15,
          15,
          15,
          15,
          15,
          15,
          15,
          15,
          14,
          14,
          14,
          14,
          14,
          14,
          14,
          14,
          14,
          14,
          14,
          14,
          14,
          14,
          14,
          14,
          14,
          14,
          14,
          14,
          14,
          14,
          14,
          14,
          14,
          13,
          13,
          13,
          13,
          13,
          13,
          13,
          13,
          13,
          13,
          13,
          13,
          13,
          13,
          13,
          13,
          13,
          13,
          13,
          13,
          13,
          13,
          13,
          13,
          13,
          13,
          12,
          12,
          12,
          12,
          12,
          12,
          12,
          12,
          12,
          12,
          12,
          12,
          12,
          12,
          12,
          12,
          12,
          12,
          12,
          12,
          12,
          12,
          12,
          12,
          12,
          11,
          11,
          11,
          11,
          11,
          11,
          11,
          11,
          11,
          11,
          11,
          11,
          11,
          11,
          11,
          11,
          11,
          11,
          11,
          11,
          11,
          11,
          11,
          11,
          11,
          11,
          11,
          11,
          11,
          11,
          11,
          11,
          11,
          11,
          11,
          11,
          11,
          11,
          11,
          11,
          10,
          10,
          10,
          10,
          10,
          10,
          10,
          10,
          10,
          10,
          10,
          10,
          10,
          10,
          10,
          10,
          10,
          10,
          10,
          10,
          10,
          10,
          10,
          10,
          10,
          10,
          10,
          9,
          9,
          9,
          9,
          9,
          9,
          9,
          9,
          9,
          9,
          9,
          9,
          9,
          9,
          9,
          9,
          9,
          9,
          9,
          9,
          9,
          9,
          9,
          9,
          9,
          9,
          9,
          9,
          9,
          9,
          9,
          9,
          9,
          8,
          8,
          8,
          8,
          8,
          8,
          8,
          8,
          8,
          8,
          8,
          8,
          8,
          8,
          8,
          8,
          8,
          8,
          8,
          8,
          8,
          8,
          8,
          8,
          8,
          8,
          8,
          8,
          8,
          8,
          8,
          8,
          8,
          8,
          8,
          8,
          8,
          8,
          8,
          8,
          8,
          8,
          8,
          8,
          8,
          8,
          8,
          8,
          8,
          8,
          7,
          7,
          7,
          7,
          7,
          7,
          7,
          7,
          7,
          7,
          7,
          7,
          7,
          7,
          7,
          7,
          7,
          7,
          7,
          7,
          7,
          7,
          7,
          7,
          7,
          7,
          7,
          7,
          7,
          7,
          7,
          7,
          7,
          7,
          7,
          7,
          7,
          7,
          7,
          7,
          7,
          7,
          7,
          7,
          7,
          7,
          7,
          7,
          7,
          7,
          7,
          7,
          7,
          7,
          7,
          7,
          7,
          7,
          7,
          6,
          6,
          6,
          6,
          6,
          6,
          6,
          6,
          6,
          6,
          6,
          6,
          6,
          6,
          6,
          6,
          6,
          6,
          6,
          6,
          6,
          6,
          6,
          6,
          6,
          6,
          6,
          6,
          6,
          6,
          6,
          6,
          6,
          6,
          6,
          6,
          6,
          6,
          6,
          6,
          6,
          6,
          6,
          6,
          6,
          6,
          6,
          6,
          6,
          6,
          6,
          6,
          6,
          6,
          6,
          6,
          6,
          6,
          6,
          6,
          6,
          6,
          6,
          6,
          6,
          6,
          6,
          6,
          6,
          6,
          6,
          6,
          6,
          6,
          6,
          6,
          6,
          6,
          6,
          6,
          6,
          6,
          6,
          6,
          6,
          6,
          6,
          6,
          6,
          6,
          6,
          6,
          6,
          5,
          5,
          5,
          5,
          5,
          5,
          5,
          5,
          5,
          5,
          5,
          5,
          5,
          5,
          5,
          5,
          5,
          5,
          5,
          5,
          5,
          5,
          5,
          5,
          5,
          5,
          5,
          5,
          5,
          5,
          5,
          5,
          5,
          5,
          5,
          5,
          5,
          5,
          5,
          5,
          5,
          5,
          5,
          5,
          5,
          5,
          5,
          5,
          5,
          5,
          5,
          5,
          5,
          5,
          5,
          5,
          5,
          5,
          5,
          5,
          5,
          5,
          5,
          5,
          5,
          5,
          5,
          5,
          5,
          5,
          5,
          5,
          5,
          5,
          5,
          5,
          5,
          5,
          5,
          5,
          5,
          5,
          5,
          5,
          5,
          5,
          5,
          5,
          5,
          5,
          5,
          5,
          5,
          5,
          5,
          5,
          5,
          5,
          5,
          5,
          5,
          5,
          5,
          5,
          5,
          5,
          5,
          5,
          5,
          5,
          5,
          5,
          5,
          5,
          5,
          4,
          4,
          4,
          4,
          4,
          4,
          4,
          4,
          4,
          4,
          4,
          4,
          4,
          4,
          4,
          4,
          4,
          4,
          4,
          4,
          4,
          4,
          4,
          4,
          4,
          4,
          4,
          4,
          4,
          4,
          4,
          4,
          4,
          4,
          4,
          4,
          4,
          4,
          4,
          4,
          4,
          4,
          4,
          4,
          4,
          4,
          4,
          4,
          4,
          4,
          4,
          4,
          4,
          4,
          4,
          4,
          4,
          4,
          4,
          4,
          4,
          4,
          4,
          4,
          4,
          4,
          4,
          4,
          4,
          4,
          4,
          4,
          4,
          4,
          4,
          4,
          4,
          4,
          4,
          4,
          4,
          4,
          4,
          4,
          4,
          4,
          4,
          4,
          4,
          4,
          4,
          4,
          4,
          4,
          4,
          4,
          4,
          4,
          4,
          4,
          4,
          4,
          4,
          4,
          4,
          4,
          4,
          4,
          4,
          4,
          4,
          4,
          4,
          4,
          4,
          4,
          4,
          4,
          4,
          4,
          4,
          4,
          4,
          4,
          4,
          4,
          4,
          4,
          4,
          4,
          4,
          4,
          4,
          4,
          4,
          4,
          4,
          4,
          4,
          4,
          4,
          4,
          4,
          4,
          4,
          4,
          4,
          4,
          4,
          4,
          4,
          4,
          4,
          4,
          4,
          4,
          4,
          4,
          4,
          4,
          4,
          4,
          4,
          4,
          4,
          4,
          3,
          3,
          3,
          3,
          3,
          3,
          3,
          3,
          3,
          3,
          3,
          3,
          3,
          3,
          3,
          3,
          3,
          3,
          3,
          3,
          3,
          3,
          3,
          3,
          3,
          3,
          3,
          3,
          3,
          3,
          3,
          3,
          3,
          3,
          3,
          3,
          3,
          3,
          3,
          3,
          3,
          3,
          3,
          3,
          3,
          3,
          3,
          3,
          3,
          3,
          3,
          3,
          3,
          3,
          3,
          3,
          3,
          3,
          3,
          3,
          3,
          3,
          3,
          3,
          3,
          3,
          3,
          3,
          3,
          3,
          3,
          3,
          3,
          3,
          3,
          3,
          3,
          3,
          3,
          3,
          3,
          3,
          3,
          3,
          3,
          3,
          3,
          3,
          3,
          3,
          3,
          3,
          3,
          3,
          3,
          3,
          3,
          3,
          3,
          3,
          3,
          3,
          3,
          3,
          3,
          3,
          3,
          3,
          3,
          3,
          3,
          3,
          3,
          3,
          3,
          3,
          3,
          3,
          3,
          3,
          3,
          3,
          3,
          3,
          3,
          3,
          3,
          3,
          3,
          3,
          3,
          3,
          3,
          3,
          3,
          3,
          3,
          3,
          3,
          3,
          3,
          3,
          3,
          3,
          3,
          3,
          3,
          3,
          3,
          3,
          3,
          3,
          3,
          3,
          3,
          3,
          3,
          3,
          3,
          3,
          3,
          3,
          3,
          3,
          3,
          3,
          3,
          3,
          3,
          3,
          3,
          3,
          3,
          3,
          3,
          3,
          3,
          3,
          3,
          3,
          3,
          3,
          3,
          3,
          3,
          3,
          3,
          3,
          3,
          3,
          3,
          3,
          3,
          3,
          3,
          3,
          3,
          3,
          3,
          3,
          3,
          3,
          3,
          3,
          3,
          3,
          3,
          3,
          3,
          3,
          3,
          3,
          3,
          3,
          3,
          3,
          3,
          3,
          3,
          3,
          3,
          3,
          3,
          3,
          3,
          3,
          3,
          3,
          3,
          3,
          3,
          3,
          3,
          3,
          3,
          3,
          3,
          3,
          3,
          3,
          3,
          3,
          3,
          3,
          3,
          3,
          3,
          3,
          3,
          3,
          3,
          3,
          3,
          3,
          3,
          3,
          2,
          2,
          2,
          2,
          2,
          2,
          2,
          2,
          2,
          2,
          2,
          2,
          2,
          2,
          2,
          2,
          2,
          2,
          2,
          2,
          2,
          2,
          2,
          2,
          2,
          2,
          2,
          2,
          2,
          2,
          2,
          2,
          2,
          2,
          2,
          2,
          2,
          2,
          2,
          2,
          2,
          2,
          2,
          2,
          2,
          2,
          2,
          2,
          2,
          2,
          2,
          2,
          2,
          2,
          2,
          2,
          2,
          2,
          2,
          2,
          2,
          2,
          2,
          2,
          2,
          2,
          2,
          2,
          2,
          2,
          2,
          2,
          2,
          2,
          2,
          2,
          2,
          2,
          2,
          2,
          2,
          2,
          2,
          2,
          2,
          2,
          2,
          2,
          2,
          2,
          2,
          2,
          2,
          2,
          2,
          2,
          2,
          2,
          2,
          2,
          2,
          2,
          2,
          2,
          2,
          2,
          2,
          2,
          2,
          2,
          2,
          2,
          2,
          2,
          2,
          2,
          2,
          2,
          2,
          2,
          2,
          2,
          2,
          2,
          2,
          2,
          2,
          2,
          2,
          2,
          2,
          2,
          2,
          2,
          2,
          2,
          2,
          2,
          2,
          2,
          2,
          2,
          2,
          2,
          2,
          2,
          2,
          2,
          2,
          2,
          2,
          2,
          2,
          2,
          2,
          2,
          2,
          2,
          2,
          2,
          2,
          2,
          2,
          2,
          2,
          2,
          2,
          2,
          2,
          2,
          2,
          2,
          2,
          2,
          2,
          2,
          2,
          2,
          2,
          2,
          2,
          2,
          2,
          2,
          2,
          2,
          2,
          2,
          2,
          2,
          2,
          2,
          2,
          2,
          2,
          2,
          2,
          2,
          2,
          2,
          2,
          2,
          2,
          2,
          2,
          2,
          2,
          2,
          2,
          2,
          2,
          2,
          2,
          2,
          2,
          2,
          2,
          2,
          2,
          2,
          2,
          2,
          2,
          2,
          2,
          2,
          2,
          2,
          2,
          2,
          2,
          2,
          2,
          2,
          2,
          2,
          2,
          2,
          2,
          2,
          2,
          2,
          2,
          2,
          2,
          2,
          2,
          2,
          2,
          2,
          2,
          2,
          2,
          2,
          2,
          2,
          2,
          2,
          2,
          2,
          2,
          2,
          2,
          2,
          2,
          2,
          2,
          2,
          2,
          2,
          2,
          2,
          2,
          2,
          2,
          2,
          2,
          2,
          2,
          2,
          2,
          2,
          2,
          2,
          2,
          2,
          2,
          2,
          2,
          2,
          2,
          2,
          2,
          2,
          2,
          2,
          2,
          2,
          2,
          2,
          2,
          2,
          2,
          2,
          2,
          2,
          2,
          2,
          2,
          2,
          2,
          2,
          2,
          2,
          2,
          2,
          2,
          2,
          2,
          2,
          2,
          2,
          2,
          2,
          2,
          2,
          2,
          2,
          2,
          2,
          2,
          2,
          2,
          2,
          2,
          2,
          2,
          2,
          2,
          2,
          2,
          2,
          2,
          2,
          2,
          2,
          2,
          2,
          2,
          2,
          2,
          2,
          2,
          2,
          2,
          2,
          2,
          2,
          2,
          2,
          2,
          2,
          2,
          2,
          2,
          2,
          2,
          2,
          2,
          2,
          2,
          2,
          2,
          2,
          2,
          2,
          2,
          2,
          2,
          2,
          2,
          2,
          2,
          2,
          2,
          2,
          2,
          2,
          2,
          2,
          2,
          2,
          2,
          2,
          2,
          2,
          2,
          2,
          2,
          2,
          2,
          2,
          2,
          2,
          2,
          2,
          2,
          2,
          2,
          2,
          2,
          2,
          2,
          2,
          2,
          2,
          2,
          2,
          2,
          2,
          2,
          2,
          2,
          2,
          2,
          2,
          2,
          2,
          2,
          2,
          2,
          2,
          2,
          2,
          2,
          2,
          2,
          2,
          2,
          2,
          2,
          2,
          2,
          2,
          2,
          2,
          2,
          2,
          2,
          2,
          2,
          2,
          2,
          2,
          2,
          2,
          2,
          2,
          2,
          2,
          2,
          2,
          2,
          2,
          2,
          2,
          2,
          2,
          2,
          2,
          2,
          2,
          2,
          2,
          2,
          2,
          2,
          2,
          2,
          2,
          2,
          2,
          2,
          2,
          2,
          2,
          2,
          2,
          2,
          2,
          2,
          2,
          2,
          2,
          2,
          2,
          2,
          2,
          2,
          2,
          2,
          2,
          2,
          2,
          2,
          2,
          2,
          2,
          2,
          2,
          2,
          2,
          2,
          2,
          2,
          2,
          2,
          2,
          1,
          1,
          1,
          1,
          1,
          1,
          1,
          1,
          1,
          1,
          1,
          1,
          1,
          1,
          1,
          1,
          1,
          1,
          1,
          1,
          1,
          1,
          1,
          1,
          1,
          1,
          1,
          1,
          1,
          1,
          1,
          1,
          1,
          1,
          1,
          1,
          1,
          1,
          1,
          1,
          1,
          1,
          1,
          1,
          1,
          1,
          1,
          1,
          1,
          1,
          1,
          1,
          1,
          1,
          1,
          1,
          1,
          1,
          1,
          1,
          1,
          1,
          1,
          1,
          1,
          1,
          1,
          1,
          1,
          1,
          1,
          1,
          1,
          1,
          1,
          1,
          1,
          1,
          1,
          1,
          1,
          1,
          1,
          1,
          1,
          1,
          1,
          1,
          1,
          1,
          1,
          1,
          1,
          1,
          1,
          1,
          1,
          1,
          1,
          1,
          1,
          1,
          1,
          1,
          1,
          1,
          1,
          1,
          1,
          1,
          1,
          1,
          1,
          1,
          1,
          1,
          1,
          1,
          1,
          1,
          1,
          1,
          1,
          1,
          1,
          1,
          1,
          1,
          1,
          1,
          1,
          1,
          1,
          1,
          1,
          1,
          1,
          1,
          1,
          1,
          1,
          1,
          1,
          1,
          1,
          1,
          1,
          1,
          1,
          1,
          1,
          1,
          1,
          1,
          1,
          1,
          1,
          1,
          1,
          1,
          1,
          1,
          1,
          1,
          1,
          1,
          1,
          1,
          1,
          1,
          1,
          1,
          1,
          1,
          1,
          1,
          1,
          1,
          1,
          1,
          1,
          1,
          1,
          1,
          1,
          1,
          1,
          1,
          1,
          1,
          1,
          1,
          1,
          1,
          1,
          1,
          1,
          1,
          1,
          1,
          1,
          1,
          1,
          1,
          1,
          1,
          1,
          1,
          1,
          1,
          1,
          1,
          1,
          1,
          1,
          1,
          1,
          1,
          1,
          1,
          1,
          1,
          1,
          1,
          1,
          1,
          1,
          1,
          1,
          1,
          1,
          1,
          1,
          1,
          1,
          1,
          1,
          1,
          1,
          1,
          1,
          1,
          1,
          1,
          1,
          1,
          1,
          1,
          1,
          1,
          1,
          1,
          1,
          1,
          1,
          1,
          1,
          1,
          1,
          1,
          1,
          1,
          1,
          1,
          1,
          1,
          1,
          1,
          1,
          1,
          1,
          1,
          1,
          1,
          1,
          1,
          1,
          1,
          1,
          1,
          1,
          1,
          1,
          1,
          1,
          1,
          1,
          1,
          1,
          1,
          1,
          1,
          1,
          1,
          1,
          1,
          1,
          1,
          1,
          1,
          1,
          1,
          1,
          1,
          1,
          1,
          1,
          1,
          1,
          1,
          1,
          1,
          1,
          1,
          1,
          1,
          1,
          1,
          1,
          1,
          1,
          1,
          1,
          1,
          1,
          1,
          1,
          1,
          1,
          1,
          1,
          1,
          1,
          1,
          1,
          1,
          1,
          1,
          1,
          1,
          1,
          1,
          1,
          1,
          1,
          1,
          1,
          1,
          1,
          1,
          1,
          1,
          1,
          1,
          1,
          1,
          1,
          1,
          1,
          1,
          1,
          1,
          1,
          1,
          1,
          1,
          1,
          1,
          1,
          1,
          1,
          1,
          1,
          1,
          1,
          1,
          1,
          1,
          1,
          1,
          1,
          1,
          1,
          1,
          1,
          1,
          1,
          1,
          1,
          1,
          1,
          1,
          1,
          1,
          1,
          1,
          1,
          1,
          1,
          1,
          1,
          1,
          1,
          1,
          1,
          1,
          1,
          1,
          1,
          1,
          1,
          1,
          1,
          1,
          1,
          1,
          1,
          1,
          1,
          1,
          1,
          1,
          1,
          1,
          1,
          1,
          1,
          1,
          1,
          1,
          1,
          1,
          1,
          1,
          1,
          1,
          1,
          1,
          1,
          1,
          1,
          1,
          1,
          1,
          1,
          1,
          1,
          1,
          1,
          1,
          1,
          1,
          1,
          1,
          1,
          1,
          1,
          1,
          1,
          1,
          1,
          1,
          1,
          1,
          1,
          1,
          1,
          1,
          1,
          1,
          1,
          1,
          1,
          1,
          1,
          1,
          1,
          1,
          1,
          1,
          1,
          1,
          1,
          1,
          1,
          1,
          1,
          1,
          1,
          1,
          1,
          1,
          1,
          1,
          1,
          1,
          1,
          1,
          1,
          1,
          1,
          1,
          1,
          1,
          1,
          1,
          1,
          1,
          1,
          1,
          1,
          1,
          1,
          1,
          1,
          1,
          1,
          1,
          1,
          1,
          1,
          1,
          1,
          1,
          1,
          1,
          1,
          1,
          1,
          1,
          1,
          1,
          1,
          1,
          1,
          1,
          1,
          1,
          1,
          1,
          1,
          1,
          1,
          1,
          1,
          1,
          1,
          1,
          1,
          1,
          1,
          1,
          1,
          1,
          1,
          1,
          1,
          1,
          1,
          1,
          1,
          1,
          1,
          1,
          1,
          1,
          1,
          1,
          1,
          1,
          1,
          1,
          1,
          1,
          1,
          1,
          1,
          1,
          1,
          1,
          1,
          1,
          1,
          1,
          1,
          1,
          1,
          1,
          1,
          1,
          1,
          1,
          1,
          1,
          1,
          1,
          1,
          1,
          1,
          1,
          1,
          1,
          1,
          1,
          1,
          1,
          1,
          1,
          1,
          1,
          1,
          1,
          1,
          1,
          1,
          1,
          1,
          1,
          1,
          1,
          1,
          1,
          1,
          1,
          1,
          1,
          1,
          1,
          1,
          1,
          1,
          1,
          1,
          1,
          1,
          1,
          1,
          1,
          1,
          1,
          1,
          1,
          1,
          1,
          1,
          1,
          1,
          1,
          1,
          1,
          1,
          1,
          1,
          1,
          1,
          1,
          1,
          1,
          1,
          1,
          1,
          1,
          1,
          1,
          1,
          1,
          1,
          1,
          1,
          1,
          1,
          1,
          1,
          1,
          1,
          1,
          1,
          1,
          1,
          1,
          1,
          1,
          1,
          1,
          1,
          1,
          1,
          1,
          1,
          1,
          1,
          1,
          1,
          1,
          1,
          1,
          1,
          1,
          1,
          1,
          1,
          1,
          1,
          1,
          1,
          1,
          1,
          1,
          1,
          1,
          1,
          1,
          1,
          1,
          1,
          1,
          1,
          1,
          1,
          1,
          1,
          1,
          1,
          1,
          1,
          1,
          1,
          1,
          1,
          1,
          1,
          1,
          1,
          1,
          1,
          1,
          1,
          1,
          1,
          1,
          1,
          1,
          1,
          1,
          1,
          1,
          1,
          1,
          1,
          1,
          1,
          1,
          1,
          1,
          1,
          1,
          1,
          1,
          1,
          1,
          1,
          1,
          1,
          1,
          1,
          1,
          1,
          1,
          1,
          1,
          1,
          1,
          1,
          1,
          1,
          1,
          1,
          1,
          1,
          1,
          1,
          1,
          1,
          1,
          1,
          1,
          1,
          1,
          1,
          1,
          1,
          1,
          1,
          1,
          1,
          1,
          1,
          1,
          1,
          1,
          1,
          1,
          1,
          1,
          1,
          1,
          1,
          1,
          1,
          1,
          1,
          1,
          1,
          1,
          1,
          1,
          1,
          1,
          1,
          1,
          1,
          1,
          1,
          1,
          1,
          1,
          1,
          1,
          1,
          1,
          1,
          1,
          1,
          1,
          1,
          1,
          1,
          1,
          1,
          1,
          1,
          1,
          1,
          1,
          1,
          1,
          1,
          1,
          1,
          1,
          1,
          1,
          1,
          1,
          1,
          1,
          1,
          1,
          1,
          1,
          1,
          1,
          1,
          1,
          1,
          1,
          1,
          1,
          1,
          1,
          1,
          1,
          1,
          1,
          1,
          1,
          1,
          1,
          1,
          1,
          1,
          1,
          1,
          1,
          1,
          1,
          1,
          1,
          1,
          1,
          1,
          1,
          1,
          1,
          1,
          1,
          1,
          1,
          1,
          1,
          1,
          1,
          1,
          1,
          1,
          1,
          1,
          1,
          1,
          1,
          1,
          1,
          1,
          1,
          1,
          1,
          1,
          1,
          1,
          1,
          1,
          1,
          1,
          1,
          1,
          1,
          1,
          1,
          1,
          1,
          1,
          1,
          1,
          1,
          1,
          1,
          1,
          1,
          1,
          1,
          1,
          1,
          1,
          1,
          1,
          1,
          1,
          1,
          1,
          1,
          1,
          1,
          1,
          1,
          1,
          1,
          1,
          1,
          1,
          1,
          1,
          1,
          1,
          1,
          1,
          1,
          1,
          1,
          1,
          1,
          1,
          1,
          1,
          1,
          1,
          1,
          1,
          1,
          1,
          1,
          1,
          1,
          1,
          1,
          1,
          1,
          1,
          1,
          1,
          1,
          1,
          1,
          1,
          1,
          1,
          1,
          1,
          1,
          1,
          1,
          1,
          1,
          1,
          1,
          1,
          1,
          1,
          1,
          1,
          1,
          1,
          1,
          1,
          1,
          1,
          1,
          1,
          1,
          1,
          1,
          1,
          1,
          1,
          1,
          1,
          1,
          1,
          1,
          1,
          1,
          1,
          1,
          1,
          1,
          1,
          1,
          1,
          1,
          1,
          1,
          1,
          1,
          1,
          1,
          1,
          1,
          1,
          1,
          1,
          1,
          1,
          1,
          1,
          1,
          1,
          1,
          1,
          1,
          1,
          1,
          1,
          1,
          1,
          1,
          1,
          1,
          1,
          1,
          1,
          1,
          1,
          1,
          1,
          1,
          1,
          1,
          1,
          1,
          1,
          1,
          1,
          1,
          1,
          1,
          1,
          1,
          1,
          1,
          1,
          1,
          1,
          1,
          1,
          1,
          1,
          1,
          1,
          1,
          1,
          1,
          1,
          1,
          1,
          1,
          1,
          1,
          1,
          1,
          1,
          1,
          1,
          1,
          1,
          1,
          1,
          1,
          1,
          1,
          1,
          1,
          1,
          1,
          1,
          1,
          1,
          1,
          1,
          1,
          1,
          1,
          1,
          1,
          1,
          1,
          1,
          1,
          1,
          1,
          1,
          1,
          1,
          1,
          1,
          1,
          1,
          1,
          1,
          1,
          1,
          1,
          1,
          1,
          1,
          1,
          1,
          1,
          1,
          1,
          1,
          1,
          1,
          1,
          1,
          1,
          1,
          1,
          1,
          1,
          1,
          1,
          1,
          1,
          1,
          1,
          1,
          1,
          1,
          1,
          1,
          1,
          1,
          1,
          1,
          1,
          1,
          1,
          1,
          1,
          1,
          1,
          1,
          1,
          1,
          1,
          1,
          1,
          1,
          1,
          1,
          1,
          1,
          1,
          1,
          1,
          1,
          1,
          1,
          1,
          1,
          1,
          1,
          1,
          1,
          1,
          1,
          1,
          1,
          1,
          1,
          1,
          1,
          1,
          1,
          1,
          1,
          1,
          1,
          1,
          1,
          1,
          1,
          1,
          1,
          1,
          1,
          1,
          1,
          1,
          1,
          1,
          1,
          1,
          1,
          1,
          1,
          1,
          1,
          1,
          1,
          1,
          1,
          1,
          1,
          1,
          1,
          1,
          1,
          1,
          1,
          1,
          1,
          1,
          1,
          1,
          1,
          1,
          1,
          1,
          1,
          1,
          1,
          1,
          1,
          1,
          1,
          1,
          1,
          1,
          1,
          1,
          1,
          1,
          1,
          1,
          1,
          1,
          1,
          1,
          1,
          1,
          1,
          1,
          1,
          1,
          1,
          1,
          1,
          1,
          1,
          1,
          1,
          1,
          1,
          1,
          1,
          1,
          1,
          1,
          1,
          1,
          1,
          1,
          1,
          1,
          1,
          1,
          1,
          1,
          1,
          1,
          1,
          1,
          1,
          1,
          1,
          1,
          1,
          1,
          1,
          1,
          1,
          1,
          1,
          1,
          1,
          1,
          1,
          1,
          1,
          1,
          1,
          1,
          1,
          1,
          1,
          1,
          1,
          1,
          1,
          1,
          1,
          1,
          1,
          1,
          1,
          1,
          1,
          1,
          1,
          1,
          1,
          1,
          1,
          1,
          1,
          1,
          1,
          1,
          1,
          1,
          1,
          1,
          1,
          1,
          1,
          1,
          1,
          1,
          1,
          1,
          1,
          1,
          1,
          1,
          1,
          1,
          1,
          1,
          1,
          1,
          1,
          1,
          1,
          1,
          1,
          1,
          1,
          1,
          1,
          1,
          1,
          1,
          1,
          1,
          1,
          1,
          1,
          1,
          1,
          1,
          1,
          1,
          1,
          1,
          1,
          1,
          1,
          1,
          1,
          1,
          1,
          1,
          1,
          1,
          1,
          1,
          1,
          1,
          1,
          1,
          1,
          1,
          1,
          1,
          1,
          1,
          1,
          1,
          1,
          1,
          1,
          1,
          1,
          1,
          1,
          1,
          1,
          1,
          1,
          1,
          1,
          1,
          1,
          1,
          1,
          1,
          1,
          1,
          1,
          1,
          1,
          1,
          1,
          1,
          1,
          1,
          1,
          1,
          1,
          1,
          1,
          1,
          1,
          1,
          1,
          1,
          1,
          1,
          1,
          1,
          1,
          1,
          1,
          1,
          1,
          1,
          1,
          1,
          1,
          1,
          1,
          1,
          1,
          1,
          1,
          1,
          1,
          1,
          1,
          1,
          1,
          1,
          1,
          1,
          1,
          1,
          1,
          1,
          1,
          1,
          1,
          1,
          1,
          1,
          1,
          1,
          1,
          1,
          1,
          1,
          1,
          1,
          1,
          1,
          1,
          1,
          1,
          1,
          1,
          1,
          1,
          1,
          1,
          1,
          1,
          1,
          1,
          1,
          1,
          1,
          1,
          1,
          1,
          1,
          1,
          1,
          1,
          1,
          1,
          1,
          1,
          1,
          1,
          1,
          1,
          1,
          1,
          1,
          1,
          1,
          1,
          1,
          1,
          1,
          1,
          1,
          1,
          1,
          1,
          1,
          1,
          1,
          1,
          1,
          1,
          1,
          1,
          1,
          1,
          1,
          1,
          1,
          1,
          1,
          1,
          1,
          1,
          1,
          1,
          1,
          1,
          1,
          1,
          1,
          1,
          1,
          1,
          1,
          1,
          1,
          1,
          1,
          1,
          1,
          1,
          1,
          1,
          1,
          1,
          1,
          1,
          1,
          1,
          1,
          1,
          1,
          1,
          1,
          1,
          1,
          1,
          1,
          1,
          1,
          1,
          1,
          1,
          1,
          1,
          1,
          1,
          1,
          1,
          1,
          1,
          1,
          1,
          1,
          1,
          1,
          1,
          1,
          1,
          1,
          1,
          1,
          1,
          1,
          1,
          1,
          1,
          1,
          1,
          1,
          1,
          1,
          1,
          1,
          1,
          1,
          1,
          1,
          1,
          1,
          1,
          1
         ],
         "yaxis": "y"
        }
       ],
       "layout": {
        "barmode": "relative",
        "legend": {
         "title": {
          "text": "variable"
         },
         "tracegroupgap": 0
        },
        "template": {
         "data": {
          "bar": [
           {
            "error_x": {
             "color": "#2a3f5f"
            },
            "error_y": {
             "color": "#2a3f5f"
            },
            "marker": {
             "line": {
              "color": "#E5ECF6",
              "width": 0.5
             },
             "pattern": {
              "fillmode": "overlay",
              "size": 10,
              "solidity": 0.2
             }
            },
            "type": "bar"
           }
          ],
          "barpolar": [
           {
            "marker": {
             "line": {
              "color": "#E5ECF6",
              "width": 0.5
             },
             "pattern": {
              "fillmode": "overlay",
              "size": 10,
              "solidity": 0.2
             }
            },
            "type": "barpolar"
           }
          ],
          "carpet": [
           {
            "aaxis": {
             "endlinecolor": "#2a3f5f",
             "gridcolor": "white",
             "linecolor": "white",
             "minorgridcolor": "white",
             "startlinecolor": "#2a3f5f"
            },
            "baxis": {
             "endlinecolor": "#2a3f5f",
             "gridcolor": "white",
             "linecolor": "white",
             "minorgridcolor": "white",
             "startlinecolor": "#2a3f5f"
            },
            "type": "carpet"
           }
          ],
          "choropleth": [
           {
            "colorbar": {
             "outlinewidth": 0,
             "ticks": ""
            },
            "type": "choropleth"
           }
          ],
          "contour": [
           {
            "colorbar": {
             "outlinewidth": 0,
             "ticks": ""
            },
            "colorscale": [
             [
              0,
              "#0d0887"
             ],
             [
              0.1111111111111111,
              "#46039f"
             ],
             [
              0.2222222222222222,
              "#7201a8"
             ],
             [
              0.3333333333333333,
              "#9c179e"
             ],
             [
              0.4444444444444444,
              "#bd3786"
             ],
             [
              0.5555555555555556,
              "#d8576b"
             ],
             [
              0.6666666666666666,
              "#ed7953"
             ],
             [
              0.7777777777777778,
              "#fb9f3a"
             ],
             [
              0.8888888888888888,
              "#fdca26"
             ],
             [
              1,
              "#f0f921"
             ]
            ],
            "type": "contour"
           }
          ],
          "contourcarpet": [
           {
            "colorbar": {
             "outlinewidth": 0,
             "ticks": ""
            },
            "type": "contourcarpet"
           }
          ],
          "heatmap": [
           {
            "colorbar": {
             "outlinewidth": 0,
             "ticks": ""
            },
            "colorscale": [
             [
              0,
              "#0d0887"
             ],
             [
              0.1111111111111111,
              "#46039f"
             ],
             [
              0.2222222222222222,
              "#7201a8"
             ],
             [
              0.3333333333333333,
              "#9c179e"
             ],
             [
              0.4444444444444444,
              "#bd3786"
             ],
             [
              0.5555555555555556,
              "#d8576b"
             ],
             [
              0.6666666666666666,
              "#ed7953"
             ],
             [
              0.7777777777777778,
              "#fb9f3a"
             ],
             [
              0.8888888888888888,
              "#fdca26"
             ],
             [
              1,
              "#f0f921"
             ]
            ],
            "type": "heatmap"
           }
          ],
          "heatmapgl": [
           {
            "colorbar": {
             "outlinewidth": 0,
             "ticks": ""
            },
            "colorscale": [
             [
              0,
              "#0d0887"
             ],
             [
              0.1111111111111111,
              "#46039f"
             ],
             [
              0.2222222222222222,
              "#7201a8"
             ],
             [
              0.3333333333333333,
              "#9c179e"
             ],
             [
              0.4444444444444444,
              "#bd3786"
             ],
             [
              0.5555555555555556,
              "#d8576b"
             ],
             [
              0.6666666666666666,
              "#ed7953"
             ],
             [
              0.7777777777777778,
              "#fb9f3a"
             ],
             [
              0.8888888888888888,
              "#fdca26"
             ],
             [
              1,
              "#f0f921"
             ]
            ],
            "type": "heatmapgl"
           }
          ],
          "histogram": [
           {
            "marker": {
             "pattern": {
              "fillmode": "overlay",
              "size": 10,
              "solidity": 0.2
             }
            },
            "type": "histogram"
           }
          ],
          "histogram2d": [
           {
            "colorbar": {
             "outlinewidth": 0,
             "ticks": ""
            },
            "colorscale": [
             [
              0,
              "#0d0887"
             ],
             [
              0.1111111111111111,
              "#46039f"
             ],
             [
              0.2222222222222222,
              "#7201a8"
             ],
             [
              0.3333333333333333,
              "#9c179e"
             ],
             [
              0.4444444444444444,
              "#bd3786"
             ],
             [
              0.5555555555555556,
              "#d8576b"
             ],
             [
              0.6666666666666666,
              "#ed7953"
             ],
             [
              0.7777777777777778,
              "#fb9f3a"
             ],
             [
              0.8888888888888888,
              "#fdca26"
             ],
             [
              1,
              "#f0f921"
             ]
            ],
            "type": "histogram2d"
           }
          ],
          "histogram2dcontour": [
           {
            "colorbar": {
             "outlinewidth": 0,
             "ticks": ""
            },
            "colorscale": [
             [
              0,
              "#0d0887"
             ],
             [
              0.1111111111111111,
              "#46039f"
             ],
             [
              0.2222222222222222,
              "#7201a8"
             ],
             [
              0.3333333333333333,
              "#9c179e"
             ],
             [
              0.4444444444444444,
              "#bd3786"
             ],
             [
              0.5555555555555556,
              "#d8576b"
             ],
             [
              0.6666666666666666,
              "#ed7953"
             ],
             [
              0.7777777777777778,
              "#fb9f3a"
             ],
             [
              0.8888888888888888,
              "#fdca26"
             ],
             [
              1,
              "#f0f921"
             ]
            ],
            "type": "histogram2dcontour"
           }
          ],
          "mesh3d": [
           {
            "colorbar": {
             "outlinewidth": 0,
             "ticks": ""
            },
            "type": "mesh3d"
           }
          ],
          "parcoords": [
           {
            "line": {
             "colorbar": {
              "outlinewidth": 0,
              "ticks": ""
             }
            },
            "type": "parcoords"
           }
          ],
          "pie": [
           {
            "automargin": true,
            "type": "pie"
           }
          ],
          "scatter": [
           {
            "fillpattern": {
             "fillmode": "overlay",
             "size": 10,
             "solidity": 0.2
            },
            "type": "scatter"
           }
          ],
          "scatter3d": [
           {
            "line": {
             "colorbar": {
              "outlinewidth": 0,
              "ticks": ""
             }
            },
            "marker": {
             "colorbar": {
              "outlinewidth": 0,
              "ticks": ""
             }
            },
            "type": "scatter3d"
           }
          ],
          "scattercarpet": [
           {
            "marker": {
             "colorbar": {
              "outlinewidth": 0,
              "ticks": ""
             }
            },
            "type": "scattercarpet"
           }
          ],
          "scattergeo": [
           {
            "marker": {
             "colorbar": {
              "outlinewidth": 0,
              "ticks": ""
             }
            },
            "type": "scattergeo"
           }
          ],
          "scattergl": [
           {
            "marker": {
             "colorbar": {
              "outlinewidth": 0,
              "ticks": ""
             }
            },
            "type": "scattergl"
           }
          ],
          "scattermapbox": [
           {
            "marker": {
             "colorbar": {
              "outlinewidth": 0,
              "ticks": ""
             }
            },
            "type": "scattermapbox"
           }
          ],
          "scatterpolar": [
           {
            "marker": {
             "colorbar": {
              "outlinewidth": 0,
              "ticks": ""
             }
            },
            "type": "scatterpolar"
           }
          ],
          "scatterpolargl": [
           {
            "marker": {
             "colorbar": {
              "outlinewidth": 0,
              "ticks": ""
             }
            },
            "type": "scatterpolargl"
           }
          ],
          "scatterternary": [
           {
            "marker": {
             "colorbar": {
              "outlinewidth": 0,
              "ticks": ""
             }
            },
            "type": "scatterternary"
           }
          ],
          "surface": [
           {
            "colorbar": {
             "outlinewidth": 0,
             "ticks": ""
            },
            "colorscale": [
             [
              0,
              "#0d0887"
             ],
             [
              0.1111111111111111,
              "#46039f"
             ],
             [
              0.2222222222222222,
              "#7201a8"
             ],
             [
              0.3333333333333333,
              "#9c179e"
             ],
             [
              0.4444444444444444,
              "#bd3786"
             ],
             [
              0.5555555555555556,
              "#d8576b"
             ],
             [
              0.6666666666666666,
              "#ed7953"
             ],
             [
              0.7777777777777778,
              "#fb9f3a"
             ],
             [
              0.8888888888888888,
              "#fdca26"
             ],
             [
              1,
              "#f0f921"
             ]
            ],
            "type": "surface"
           }
          ],
          "table": [
           {
            "cells": {
             "fill": {
              "color": "#EBF0F8"
             },
             "line": {
              "color": "white"
             }
            },
            "header": {
             "fill": {
              "color": "#C8D4E3"
             },
             "line": {
              "color": "white"
             }
            },
            "type": "table"
           }
          ]
         },
         "layout": {
          "annotationdefaults": {
           "arrowcolor": "#2a3f5f",
           "arrowhead": 0,
           "arrowwidth": 1
          },
          "autotypenumbers": "strict",
          "coloraxis": {
           "colorbar": {
            "outlinewidth": 0,
            "ticks": ""
           }
          },
          "colorscale": {
           "diverging": [
            [
             0,
             "#8e0152"
            ],
            [
             0.1,
             "#c51b7d"
            ],
            [
             0.2,
             "#de77ae"
            ],
            [
             0.3,
             "#f1b6da"
            ],
            [
             0.4,
             "#fde0ef"
            ],
            [
             0.5,
             "#f7f7f7"
            ],
            [
             0.6,
             "#e6f5d0"
            ],
            [
             0.7,
             "#b8e186"
            ],
            [
             0.8,
             "#7fbc41"
            ],
            [
             0.9,
             "#4d9221"
            ],
            [
             1,
             "#276419"
            ]
           ],
           "sequential": [
            [
             0,
             "#0d0887"
            ],
            [
             0.1111111111111111,
             "#46039f"
            ],
            [
             0.2222222222222222,
             "#7201a8"
            ],
            [
             0.3333333333333333,
             "#9c179e"
            ],
            [
             0.4444444444444444,
             "#bd3786"
            ],
            [
             0.5555555555555556,
             "#d8576b"
            ],
            [
             0.6666666666666666,
             "#ed7953"
            ],
            [
             0.7777777777777778,
             "#fb9f3a"
            ],
            [
             0.8888888888888888,
             "#fdca26"
            ],
            [
             1,
             "#f0f921"
            ]
           ],
           "sequentialminus": [
            [
             0,
             "#0d0887"
            ],
            [
             0.1111111111111111,
             "#46039f"
            ],
            [
             0.2222222222222222,
             "#7201a8"
            ],
            [
             0.3333333333333333,
             "#9c179e"
            ],
            [
             0.4444444444444444,
             "#bd3786"
            ],
            [
             0.5555555555555556,
             "#d8576b"
            ],
            [
             0.6666666666666666,
             "#ed7953"
            ],
            [
             0.7777777777777778,
             "#fb9f3a"
            ],
            [
             0.8888888888888888,
             "#fdca26"
            ],
            [
             1,
             "#f0f921"
            ]
           ]
          },
          "colorway": [
           "#636efa",
           "#EF553B",
           "#00cc96",
           "#ab63fa",
           "#FFA15A",
           "#19d3f3",
           "#FF6692",
           "#B6E880",
           "#FF97FF",
           "#FECB52"
          ],
          "font": {
           "color": "#2a3f5f"
          },
          "geo": {
           "bgcolor": "white",
           "lakecolor": "white",
           "landcolor": "#E5ECF6",
           "showlakes": true,
           "showland": true,
           "subunitcolor": "white"
          },
          "hoverlabel": {
           "align": "left"
          },
          "hovermode": "closest",
          "mapbox": {
           "style": "light"
          },
          "paper_bgcolor": "white",
          "plot_bgcolor": "#E5ECF6",
          "polar": {
           "angularaxis": {
            "gridcolor": "white",
            "linecolor": "white",
            "ticks": ""
           },
           "bgcolor": "#E5ECF6",
           "radialaxis": {
            "gridcolor": "white",
            "linecolor": "white",
            "ticks": ""
           }
          },
          "scene": {
           "xaxis": {
            "backgroundcolor": "#E5ECF6",
            "gridcolor": "white",
            "gridwidth": 2,
            "linecolor": "white",
            "showbackground": true,
            "ticks": "",
            "zerolinecolor": "white"
           },
           "yaxis": {
            "backgroundcolor": "#E5ECF6",
            "gridcolor": "white",
            "gridwidth": 2,
            "linecolor": "white",
            "showbackground": true,
            "ticks": "",
            "zerolinecolor": "white"
           },
           "zaxis": {
            "backgroundcolor": "#E5ECF6",
            "gridcolor": "white",
            "gridwidth": 2,
            "linecolor": "white",
            "showbackground": true,
            "ticks": "",
            "zerolinecolor": "white"
           }
          },
          "shapedefaults": {
           "line": {
            "color": "#2a3f5f"
           }
          },
          "ternary": {
           "aaxis": {
            "gridcolor": "white",
            "linecolor": "white",
            "ticks": ""
           },
           "baxis": {
            "gridcolor": "white",
            "linecolor": "white",
            "ticks": ""
           },
           "bgcolor": "#E5ECF6",
           "caxis": {
            "gridcolor": "white",
            "linecolor": "white",
            "ticks": ""
           }
          },
          "title": {
           "x": 0.05
          },
          "xaxis": {
           "automargin": true,
           "gridcolor": "white",
           "linecolor": "white",
           "ticks": "",
           "title": {
            "standoff": 15
           },
           "zerolinecolor": "white",
           "zerolinewidth": 2
          },
          "yaxis": {
           "automargin": true,
           "gridcolor": "white",
           "linecolor": "white",
           "ticks": "",
           "title": {
            "standoff": 15
           },
           "zerolinecolor": "white",
           "zerolinewidth": 2
          }
         }
        },
        "title": {
         "text": "Distribución de seller_city"
        },
        "xaxis": {
         "anchor": "y",
         "domain": [
          0,
          1
         ],
         "title": {
          "text": "seller_city"
         }
        },
        "yaxis": {
         "anchor": "x",
         "domain": [
          0,
          1
         ],
         "title": {
          "text": "Frecuencia"
         }
        }
       }
      }
     },
     "metadata": {},
     "output_type": "display_data"
    },
    {
     "data": {
      "application/vnd.plotly.v1+json": {
       "config": {
        "plotlyServerURL": "https://plot.ly"
       },
       "data": [
        {
         "alignmentgroup": "True",
         "hovertemplate": "variable=count<br>shipping_mode=%{x}<br>Frecuencia=%{y}<extra></extra>",
         "legendgroup": "count",
         "marker": {
          "color": "#636efa",
          "pattern": {
           "shape": ""
          }
         },
         "name": "count",
         "offsetgroup": "count",
         "orientation": "v",
         "showlegend": true,
         "textposition": "auto",
         "type": "bar",
         "x": [
          "me2",
          "not_specified",
          "custom",
          "me1"
         ],
         "xaxis": "x",
         "y": [
          51255,
          45171,
          3481,
          93
         ],
         "yaxis": "y"
        }
       ],
       "layout": {
        "barmode": "relative",
        "legend": {
         "title": {
          "text": "variable"
         },
         "tracegroupgap": 0
        },
        "template": {
         "data": {
          "bar": [
           {
            "error_x": {
             "color": "#2a3f5f"
            },
            "error_y": {
             "color": "#2a3f5f"
            },
            "marker": {
             "line": {
              "color": "#E5ECF6",
              "width": 0.5
             },
             "pattern": {
              "fillmode": "overlay",
              "size": 10,
              "solidity": 0.2
             }
            },
            "type": "bar"
           }
          ],
          "barpolar": [
           {
            "marker": {
             "line": {
              "color": "#E5ECF6",
              "width": 0.5
             },
             "pattern": {
              "fillmode": "overlay",
              "size": 10,
              "solidity": 0.2
             }
            },
            "type": "barpolar"
           }
          ],
          "carpet": [
           {
            "aaxis": {
             "endlinecolor": "#2a3f5f",
             "gridcolor": "white",
             "linecolor": "white",
             "minorgridcolor": "white",
             "startlinecolor": "#2a3f5f"
            },
            "baxis": {
             "endlinecolor": "#2a3f5f",
             "gridcolor": "white",
             "linecolor": "white",
             "minorgridcolor": "white",
             "startlinecolor": "#2a3f5f"
            },
            "type": "carpet"
           }
          ],
          "choropleth": [
           {
            "colorbar": {
             "outlinewidth": 0,
             "ticks": ""
            },
            "type": "choropleth"
           }
          ],
          "contour": [
           {
            "colorbar": {
             "outlinewidth": 0,
             "ticks": ""
            },
            "colorscale": [
             [
              0,
              "#0d0887"
             ],
             [
              0.1111111111111111,
              "#46039f"
             ],
             [
              0.2222222222222222,
              "#7201a8"
             ],
             [
              0.3333333333333333,
              "#9c179e"
             ],
             [
              0.4444444444444444,
              "#bd3786"
             ],
             [
              0.5555555555555556,
              "#d8576b"
             ],
             [
              0.6666666666666666,
              "#ed7953"
             ],
             [
              0.7777777777777778,
              "#fb9f3a"
             ],
             [
              0.8888888888888888,
              "#fdca26"
             ],
             [
              1,
              "#f0f921"
             ]
            ],
            "type": "contour"
           }
          ],
          "contourcarpet": [
           {
            "colorbar": {
             "outlinewidth": 0,
             "ticks": ""
            },
            "type": "contourcarpet"
           }
          ],
          "heatmap": [
           {
            "colorbar": {
             "outlinewidth": 0,
             "ticks": ""
            },
            "colorscale": [
             [
              0,
              "#0d0887"
             ],
             [
              0.1111111111111111,
              "#46039f"
             ],
             [
              0.2222222222222222,
              "#7201a8"
             ],
             [
              0.3333333333333333,
              "#9c179e"
             ],
             [
              0.4444444444444444,
              "#bd3786"
             ],
             [
              0.5555555555555556,
              "#d8576b"
             ],
             [
              0.6666666666666666,
              "#ed7953"
             ],
             [
              0.7777777777777778,
              "#fb9f3a"
             ],
             [
              0.8888888888888888,
              "#fdca26"
             ],
             [
              1,
              "#f0f921"
             ]
            ],
            "type": "heatmap"
           }
          ],
          "heatmapgl": [
           {
            "colorbar": {
             "outlinewidth": 0,
             "ticks": ""
            },
            "colorscale": [
             [
              0,
              "#0d0887"
             ],
             [
              0.1111111111111111,
              "#46039f"
             ],
             [
              0.2222222222222222,
              "#7201a8"
             ],
             [
              0.3333333333333333,
              "#9c179e"
             ],
             [
              0.4444444444444444,
              "#bd3786"
             ],
             [
              0.5555555555555556,
              "#d8576b"
             ],
             [
              0.6666666666666666,
              "#ed7953"
             ],
             [
              0.7777777777777778,
              "#fb9f3a"
             ],
             [
              0.8888888888888888,
              "#fdca26"
             ],
             [
              1,
              "#f0f921"
             ]
            ],
            "type": "heatmapgl"
           }
          ],
          "histogram": [
           {
            "marker": {
             "pattern": {
              "fillmode": "overlay",
              "size": 10,
              "solidity": 0.2
             }
            },
            "type": "histogram"
           }
          ],
          "histogram2d": [
           {
            "colorbar": {
             "outlinewidth": 0,
             "ticks": ""
            },
            "colorscale": [
             [
              0,
              "#0d0887"
             ],
             [
              0.1111111111111111,
              "#46039f"
             ],
             [
              0.2222222222222222,
              "#7201a8"
             ],
             [
              0.3333333333333333,
              "#9c179e"
             ],
             [
              0.4444444444444444,
              "#bd3786"
             ],
             [
              0.5555555555555556,
              "#d8576b"
             ],
             [
              0.6666666666666666,
              "#ed7953"
             ],
             [
              0.7777777777777778,
              "#fb9f3a"
             ],
             [
              0.8888888888888888,
              "#fdca26"
             ],
             [
              1,
              "#f0f921"
             ]
            ],
            "type": "histogram2d"
           }
          ],
          "histogram2dcontour": [
           {
            "colorbar": {
             "outlinewidth": 0,
             "ticks": ""
            },
            "colorscale": [
             [
              0,
              "#0d0887"
             ],
             [
              0.1111111111111111,
              "#46039f"
             ],
             [
              0.2222222222222222,
              "#7201a8"
             ],
             [
              0.3333333333333333,
              "#9c179e"
             ],
             [
              0.4444444444444444,
              "#bd3786"
             ],
             [
              0.5555555555555556,
              "#d8576b"
             ],
             [
              0.6666666666666666,
              "#ed7953"
             ],
             [
              0.7777777777777778,
              "#fb9f3a"
             ],
             [
              0.8888888888888888,
              "#fdca26"
             ],
             [
              1,
              "#f0f921"
             ]
            ],
            "type": "histogram2dcontour"
           }
          ],
          "mesh3d": [
           {
            "colorbar": {
             "outlinewidth": 0,
             "ticks": ""
            },
            "type": "mesh3d"
           }
          ],
          "parcoords": [
           {
            "line": {
             "colorbar": {
              "outlinewidth": 0,
              "ticks": ""
             }
            },
            "type": "parcoords"
           }
          ],
          "pie": [
           {
            "automargin": true,
            "type": "pie"
           }
          ],
          "scatter": [
           {
            "fillpattern": {
             "fillmode": "overlay",
             "size": 10,
             "solidity": 0.2
            },
            "type": "scatter"
           }
          ],
          "scatter3d": [
           {
            "line": {
             "colorbar": {
              "outlinewidth": 0,
              "ticks": ""
             }
            },
            "marker": {
             "colorbar": {
              "outlinewidth": 0,
              "ticks": ""
             }
            },
            "type": "scatter3d"
           }
          ],
          "scattercarpet": [
           {
            "marker": {
             "colorbar": {
              "outlinewidth": 0,
              "ticks": ""
             }
            },
            "type": "scattercarpet"
           }
          ],
          "scattergeo": [
           {
            "marker": {
             "colorbar": {
              "outlinewidth": 0,
              "ticks": ""
             }
            },
            "type": "scattergeo"
           }
          ],
          "scattergl": [
           {
            "marker": {
             "colorbar": {
              "outlinewidth": 0,
              "ticks": ""
             }
            },
            "type": "scattergl"
           }
          ],
          "scattermapbox": [
           {
            "marker": {
             "colorbar": {
              "outlinewidth": 0,
              "ticks": ""
             }
            },
            "type": "scattermapbox"
           }
          ],
          "scatterpolar": [
           {
            "marker": {
             "colorbar": {
              "outlinewidth": 0,
              "ticks": ""
             }
            },
            "type": "scatterpolar"
           }
          ],
          "scatterpolargl": [
           {
            "marker": {
             "colorbar": {
              "outlinewidth": 0,
              "ticks": ""
             }
            },
            "type": "scatterpolargl"
           }
          ],
          "scatterternary": [
           {
            "marker": {
             "colorbar": {
              "outlinewidth": 0,
              "ticks": ""
             }
            },
            "type": "scatterternary"
           }
          ],
          "surface": [
           {
            "colorbar": {
             "outlinewidth": 0,
             "ticks": ""
            },
            "colorscale": [
             [
              0,
              "#0d0887"
             ],
             [
              0.1111111111111111,
              "#46039f"
             ],
             [
              0.2222222222222222,
              "#7201a8"
             ],
             [
              0.3333333333333333,
              "#9c179e"
             ],
             [
              0.4444444444444444,
              "#bd3786"
             ],
             [
              0.5555555555555556,
              "#d8576b"
             ],
             [
              0.6666666666666666,
              "#ed7953"
             ],
             [
              0.7777777777777778,
              "#fb9f3a"
             ],
             [
              0.8888888888888888,
              "#fdca26"
             ],
             [
              1,
              "#f0f921"
             ]
            ],
            "type": "surface"
           }
          ],
          "table": [
           {
            "cells": {
             "fill": {
              "color": "#EBF0F8"
             },
             "line": {
              "color": "white"
             }
            },
            "header": {
             "fill": {
              "color": "#C8D4E3"
             },
             "line": {
              "color": "white"
             }
            },
            "type": "table"
           }
          ]
         },
         "layout": {
          "annotationdefaults": {
           "arrowcolor": "#2a3f5f",
           "arrowhead": 0,
           "arrowwidth": 1
          },
          "autotypenumbers": "strict",
          "coloraxis": {
           "colorbar": {
            "outlinewidth": 0,
            "ticks": ""
           }
          },
          "colorscale": {
           "diverging": [
            [
             0,
             "#8e0152"
            ],
            [
             0.1,
             "#c51b7d"
            ],
            [
             0.2,
             "#de77ae"
            ],
            [
             0.3,
             "#f1b6da"
            ],
            [
             0.4,
             "#fde0ef"
            ],
            [
             0.5,
             "#f7f7f7"
            ],
            [
             0.6,
             "#e6f5d0"
            ],
            [
             0.7,
             "#b8e186"
            ],
            [
             0.8,
             "#7fbc41"
            ],
            [
             0.9,
             "#4d9221"
            ],
            [
             1,
             "#276419"
            ]
           ],
           "sequential": [
            [
             0,
             "#0d0887"
            ],
            [
             0.1111111111111111,
             "#46039f"
            ],
            [
             0.2222222222222222,
             "#7201a8"
            ],
            [
             0.3333333333333333,
             "#9c179e"
            ],
            [
             0.4444444444444444,
             "#bd3786"
            ],
            [
             0.5555555555555556,
             "#d8576b"
            ],
            [
             0.6666666666666666,
             "#ed7953"
            ],
            [
             0.7777777777777778,
             "#fb9f3a"
            ],
            [
             0.8888888888888888,
             "#fdca26"
            ],
            [
             1,
             "#f0f921"
            ]
           ],
           "sequentialminus": [
            [
             0,
             "#0d0887"
            ],
            [
             0.1111111111111111,
             "#46039f"
            ],
            [
             0.2222222222222222,
             "#7201a8"
            ],
            [
             0.3333333333333333,
             "#9c179e"
            ],
            [
             0.4444444444444444,
             "#bd3786"
            ],
            [
             0.5555555555555556,
             "#d8576b"
            ],
            [
             0.6666666666666666,
             "#ed7953"
            ],
            [
             0.7777777777777778,
             "#fb9f3a"
            ],
            [
             0.8888888888888888,
             "#fdca26"
            ],
            [
             1,
             "#f0f921"
            ]
           ]
          },
          "colorway": [
           "#636efa",
           "#EF553B",
           "#00cc96",
           "#ab63fa",
           "#FFA15A",
           "#19d3f3",
           "#FF6692",
           "#B6E880",
           "#FF97FF",
           "#FECB52"
          ],
          "font": {
           "color": "#2a3f5f"
          },
          "geo": {
           "bgcolor": "white",
           "lakecolor": "white",
           "landcolor": "#E5ECF6",
           "showlakes": true,
           "showland": true,
           "subunitcolor": "white"
          },
          "hoverlabel": {
           "align": "left"
          },
          "hovermode": "closest",
          "mapbox": {
           "style": "light"
          },
          "paper_bgcolor": "white",
          "plot_bgcolor": "#E5ECF6",
          "polar": {
           "angularaxis": {
            "gridcolor": "white",
            "linecolor": "white",
            "ticks": ""
           },
           "bgcolor": "#E5ECF6",
           "radialaxis": {
            "gridcolor": "white",
            "linecolor": "white",
            "ticks": ""
           }
          },
          "scene": {
           "xaxis": {
            "backgroundcolor": "#E5ECF6",
            "gridcolor": "white",
            "gridwidth": 2,
            "linecolor": "white",
            "showbackground": true,
            "ticks": "",
            "zerolinecolor": "white"
           },
           "yaxis": {
            "backgroundcolor": "#E5ECF6",
            "gridcolor": "white",
            "gridwidth": 2,
            "linecolor": "white",
            "showbackground": true,
            "ticks": "",
            "zerolinecolor": "white"
           },
           "zaxis": {
            "backgroundcolor": "#E5ECF6",
            "gridcolor": "white",
            "gridwidth": 2,
            "linecolor": "white",
            "showbackground": true,
            "ticks": "",
            "zerolinecolor": "white"
           }
          },
          "shapedefaults": {
           "line": {
            "color": "#2a3f5f"
           }
          },
          "ternary": {
           "aaxis": {
            "gridcolor": "white",
            "linecolor": "white",
            "ticks": ""
           },
           "baxis": {
            "gridcolor": "white",
            "linecolor": "white",
            "ticks": ""
           },
           "bgcolor": "#E5ECF6",
           "caxis": {
            "gridcolor": "white",
            "linecolor": "white",
            "ticks": ""
           }
          },
          "title": {
           "x": 0.05
          },
          "xaxis": {
           "automargin": true,
           "gridcolor": "white",
           "linecolor": "white",
           "ticks": "",
           "title": {
            "standoff": 15
           },
           "zerolinecolor": "white",
           "zerolinewidth": 2
          },
          "yaxis": {
           "automargin": true,
           "gridcolor": "white",
           "linecolor": "white",
           "ticks": "",
           "title": {
            "standoff": 15
           },
           "zerolinecolor": "white",
           "zerolinewidth": 2
          }
         }
        },
        "title": {
         "text": "Distribución de shipping_mode"
        },
        "xaxis": {
         "anchor": "y",
         "domain": [
          0,
          1
         ],
         "title": {
          "text": "shipping_mode"
         }
        },
        "yaxis": {
         "anchor": "x",
         "domain": [
          0,
          1
         ],
         "title": {
          "text": "Frecuencia"
         }
        }
       }
      }
     },
     "metadata": {},
     "output_type": "display_data"
    },
    {
     "data": {
      "application/vnd.plotly.v1+json": {
       "config": {
        "plotlyServerURL": "https://plot.ly"
       },
       "data": [
        {
         "alignmentgroup": "True",
         "hovertemplate": "variable=count<br>garantia_aplica=%{x}<br>Frecuencia=%{y}<extra></extra>",
         "legendgroup": "count",
         "marker": {
          "color": "#636efa",
          "pattern": {
           "shape": ""
          }
         },
         "name": "count",
         "offsetgroup": "count",
         "orientation": "v",
         "showlegend": true,
         "textposition": "auto",
         "type": "bar",
         "x": [
          "indeterminado",
          "aplica",
          "no_aplica"
         ],
         "xaxis": "x",
         "y": [
          69105,
          30169,
          726
         ],
         "yaxis": "y"
        }
       ],
       "layout": {
        "barmode": "relative",
        "legend": {
         "title": {
          "text": "variable"
         },
         "tracegroupgap": 0
        },
        "template": {
         "data": {
          "bar": [
           {
            "error_x": {
             "color": "#2a3f5f"
            },
            "error_y": {
             "color": "#2a3f5f"
            },
            "marker": {
             "line": {
              "color": "#E5ECF6",
              "width": 0.5
             },
             "pattern": {
              "fillmode": "overlay",
              "size": 10,
              "solidity": 0.2
             }
            },
            "type": "bar"
           }
          ],
          "barpolar": [
           {
            "marker": {
             "line": {
              "color": "#E5ECF6",
              "width": 0.5
             },
             "pattern": {
              "fillmode": "overlay",
              "size": 10,
              "solidity": 0.2
             }
            },
            "type": "barpolar"
           }
          ],
          "carpet": [
           {
            "aaxis": {
             "endlinecolor": "#2a3f5f",
             "gridcolor": "white",
             "linecolor": "white",
             "minorgridcolor": "white",
             "startlinecolor": "#2a3f5f"
            },
            "baxis": {
             "endlinecolor": "#2a3f5f",
             "gridcolor": "white",
             "linecolor": "white",
             "minorgridcolor": "white",
             "startlinecolor": "#2a3f5f"
            },
            "type": "carpet"
           }
          ],
          "choropleth": [
           {
            "colorbar": {
             "outlinewidth": 0,
             "ticks": ""
            },
            "type": "choropleth"
           }
          ],
          "contour": [
           {
            "colorbar": {
             "outlinewidth": 0,
             "ticks": ""
            },
            "colorscale": [
             [
              0,
              "#0d0887"
             ],
             [
              0.1111111111111111,
              "#46039f"
             ],
             [
              0.2222222222222222,
              "#7201a8"
             ],
             [
              0.3333333333333333,
              "#9c179e"
             ],
             [
              0.4444444444444444,
              "#bd3786"
             ],
             [
              0.5555555555555556,
              "#d8576b"
             ],
             [
              0.6666666666666666,
              "#ed7953"
             ],
             [
              0.7777777777777778,
              "#fb9f3a"
             ],
             [
              0.8888888888888888,
              "#fdca26"
             ],
             [
              1,
              "#f0f921"
             ]
            ],
            "type": "contour"
           }
          ],
          "contourcarpet": [
           {
            "colorbar": {
             "outlinewidth": 0,
             "ticks": ""
            },
            "type": "contourcarpet"
           }
          ],
          "heatmap": [
           {
            "colorbar": {
             "outlinewidth": 0,
             "ticks": ""
            },
            "colorscale": [
             [
              0,
              "#0d0887"
             ],
             [
              0.1111111111111111,
              "#46039f"
             ],
             [
              0.2222222222222222,
              "#7201a8"
             ],
             [
              0.3333333333333333,
              "#9c179e"
             ],
             [
              0.4444444444444444,
              "#bd3786"
             ],
             [
              0.5555555555555556,
              "#d8576b"
             ],
             [
              0.6666666666666666,
              "#ed7953"
             ],
             [
              0.7777777777777778,
              "#fb9f3a"
             ],
             [
              0.8888888888888888,
              "#fdca26"
             ],
             [
              1,
              "#f0f921"
             ]
            ],
            "type": "heatmap"
           }
          ],
          "heatmapgl": [
           {
            "colorbar": {
             "outlinewidth": 0,
             "ticks": ""
            },
            "colorscale": [
             [
              0,
              "#0d0887"
             ],
             [
              0.1111111111111111,
              "#46039f"
             ],
             [
              0.2222222222222222,
              "#7201a8"
             ],
             [
              0.3333333333333333,
              "#9c179e"
             ],
             [
              0.4444444444444444,
              "#bd3786"
             ],
             [
              0.5555555555555556,
              "#d8576b"
             ],
             [
              0.6666666666666666,
              "#ed7953"
             ],
             [
              0.7777777777777778,
              "#fb9f3a"
             ],
             [
              0.8888888888888888,
              "#fdca26"
             ],
             [
              1,
              "#f0f921"
             ]
            ],
            "type": "heatmapgl"
           }
          ],
          "histogram": [
           {
            "marker": {
             "pattern": {
              "fillmode": "overlay",
              "size": 10,
              "solidity": 0.2
             }
            },
            "type": "histogram"
           }
          ],
          "histogram2d": [
           {
            "colorbar": {
             "outlinewidth": 0,
             "ticks": ""
            },
            "colorscale": [
             [
              0,
              "#0d0887"
             ],
             [
              0.1111111111111111,
              "#46039f"
             ],
             [
              0.2222222222222222,
              "#7201a8"
             ],
             [
              0.3333333333333333,
              "#9c179e"
             ],
             [
              0.4444444444444444,
              "#bd3786"
             ],
             [
              0.5555555555555556,
              "#d8576b"
             ],
             [
              0.6666666666666666,
              "#ed7953"
             ],
             [
              0.7777777777777778,
              "#fb9f3a"
             ],
             [
              0.8888888888888888,
              "#fdca26"
             ],
             [
              1,
              "#f0f921"
             ]
            ],
            "type": "histogram2d"
           }
          ],
          "histogram2dcontour": [
           {
            "colorbar": {
             "outlinewidth": 0,
             "ticks": ""
            },
            "colorscale": [
             [
              0,
              "#0d0887"
             ],
             [
              0.1111111111111111,
              "#46039f"
             ],
             [
              0.2222222222222222,
              "#7201a8"
             ],
             [
              0.3333333333333333,
              "#9c179e"
             ],
             [
              0.4444444444444444,
              "#bd3786"
             ],
             [
              0.5555555555555556,
              "#d8576b"
             ],
             [
              0.6666666666666666,
              "#ed7953"
             ],
             [
              0.7777777777777778,
              "#fb9f3a"
             ],
             [
              0.8888888888888888,
              "#fdca26"
             ],
             [
              1,
              "#f0f921"
             ]
            ],
            "type": "histogram2dcontour"
           }
          ],
          "mesh3d": [
           {
            "colorbar": {
             "outlinewidth": 0,
             "ticks": ""
            },
            "type": "mesh3d"
           }
          ],
          "parcoords": [
           {
            "line": {
             "colorbar": {
              "outlinewidth": 0,
              "ticks": ""
             }
            },
            "type": "parcoords"
           }
          ],
          "pie": [
           {
            "automargin": true,
            "type": "pie"
           }
          ],
          "scatter": [
           {
            "fillpattern": {
             "fillmode": "overlay",
             "size": 10,
             "solidity": 0.2
            },
            "type": "scatter"
           }
          ],
          "scatter3d": [
           {
            "line": {
             "colorbar": {
              "outlinewidth": 0,
              "ticks": ""
             }
            },
            "marker": {
             "colorbar": {
              "outlinewidth": 0,
              "ticks": ""
             }
            },
            "type": "scatter3d"
           }
          ],
          "scattercarpet": [
           {
            "marker": {
             "colorbar": {
              "outlinewidth": 0,
              "ticks": ""
             }
            },
            "type": "scattercarpet"
           }
          ],
          "scattergeo": [
           {
            "marker": {
             "colorbar": {
              "outlinewidth": 0,
              "ticks": ""
             }
            },
            "type": "scattergeo"
           }
          ],
          "scattergl": [
           {
            "marker": {
             "colorbar": {
              "outlinewidth": 0,
              "ticks": ""
             }
            },
            "type": "scattergl"
           }
          ],
          "scattermapbox": [
           {
            "marker": {
             "colorbar": {
              "outlinewidth": 0,
              "ticks": ""
             }
            },
            "type": "scattermapbox"
           }
          ],
          "scatterpolar": [
           {
            "marker": {
             "colorbar": {
              "outlinewidth": 0,
              "ticks": ""
             }
            },
            "type": "scatterpolar"
           }
          ],
          "scatterpolargl": [
           {
            "marker": {
             "colorbar": {
              "outlinewidth": 0,
              "ticks": ""
             }
            },
            "type": "scatterpolargl"
           }
          ],
          "scatterternary": [
           {
            "marker": {
             "colorbar": {
              "outlinewidth": 0,
              "ticks": ""
             }
            },
            "type": "scatterternary"
           }
          ],
          "surface": [
           {
            "colorbar": {
             "outlinewidth": 0,
             "ticks": ""
            },
            "colorscale": [
             [
              0,
              "#0d0887"
             ],
             [
              0.1111111111111111,
              "#46039f"
             ],
             [
              0.2222222222222222,
              "#7201a8"
             ],
             [
              0.3333333333333333,
              "#9c179e"
             ],
             [
              0.4444444444444444,
              "#bd3786"
             ],
             [
              0.5555555555555556,
              "#d8576b"
             ],
             [
              0.6666666666666666,
              "#ed7953"
             ],
             [
              0.7777777777777778,
              "#fb9f3a"
             ],
             [
              0.8888888888888888,
              "#fdca26"
             ],
             [
              1,
              "#f0f921"
             ]
            ],
            "type": "surface"
           }
          ],
          "table": [
           {
            "cells": {
             "fill": {
              "color": "#EBF0F8"
             },
             "line": {
              "color": "white"
             }
            },
            "header": {
             "fill": {
              "color": "#C8D4E3"
             },
             "line": {
              "color": "white"
             }
            },
            "type": "table"
           }
          ]
         },
         "layout": {
          "annotationdefaults": {
           "arrowcolor": "#2a3f5f",
           "arrowhead": 0,
           "arrowwidth": 1
          },
          "autotypenumbers": "strict",
          "coloraxis": {
           "colorbar": {
            "outlinewidth": 0,
            "ticks": ""
           }
          },
          "colorscale": {
           "diverging": [
            [
             0,
             "#8e0152"
            ],
            [
             0.1,
             "#c51b7d"
            ],
            [
             0.2,
             "#de77ae"
            ],
            [
             0.3,
             "#f1b6da"
            ],
            [
             0.4,
             "#fde0ef"
            ],
            [
             0.5,
             "#f7f7f7"
            ],
            [
             0.6,
             "#e6f5d0"
            ],
            [
             0.7,
             "#b8e186"
            ],
            [
             0.8,
             "#7fbc41"
            ],
            [
             0.9,
             "#4d9221"
            ],
            [
             1,
             "#276419"
            ]
           ],
           "sequential": [
            [
             0,
             "#0d0887"
            ],
            [
             0.1111111111111111,
             "#46039f"
            ],
            [
             0.2222222222222222,
             "#7201a8"
            ],
            [
             0.3333333333333333,
             "#9c179e"
            ],
            [
             0.4444444444444444,
             "#bd3786"
            ],
            [
             0.5555555555555556,
             "#d8576b"
            ],
            [
             0.6666666666666666,
             "#ed7953"
            ],
            [
             0.7777777777777778,
             "#fb9f3a"
            ],
            [
             0.8888888888888888,
             "#fdca26"
            ],
            [
             1,
             "#f0f921"
            ]
           ],
           "sequentialminus": [
            [
             0,
             "#0d0887"
            ],
            [
             0.1111111111111111,
             "#46039f"
            ],
            [
             0.2222222222222222,
             "#7201a8"
            ],
            [
             0.3333333333333333,
             "#9c179e"
            ],
            [
             0.4444444444444444,
             "#bd3786"
            ],
            [
             0.5555555555555556,
             "#d8576b"
            ],
            [
             0.6666666666666666,
             "#ed7953"
            ],
            [
             0.7777777777777778,
             "#fb9f3a"
            ],
            [
             0.8888888888888888,
             "#fdca26"
            ],
            [
             1,
             "#f0f921"
            ]
           ]
          },
          "colorway": [
           "#636efa",
           "#EF553B",
           "#00cc96",
           "#ab63fa",
           "#FFA15A",
           "#19d3f3",
           "#FF6692",
           "#B6E880",
           "#FF97FF",
           "#FECB52"
          ],
          "font": {
           "color": "#2a3f5f"
          },
          "geo": {
           "bgcolor": "white",
           "lakecolor": "white",
           "landcolor": "#E5ECF6",
           "showlakes": true,
           "showland": true,
           "subunitcolor": "white"
          },
          "hoverlabel": {
           "align": "left"
          },
          "hovermode": "closest",
          "mapbox": {
           "style": "light"
          },
          "paper_bgcolor": "white",
          "plot_bgcolor": "#E5ECF6",
          "polar": {
           "angularaxis": {
            "gridcolor": "white",
            "linecolor": "white",
            "ticks": ""
           },
           "bgcolor": "#E5ECF6",
           "radialaxis": {
            "gridcolor": "white",
            "linecolor": "white",
            "ticks": ""
           }
          },
          "scene": {
           "xaxis": {
            "backgroundcolor": "#E5ECF6",
            "gridcolor": "white",
            "gridwidth": 2,
            "linecolor": "white",
            "showbackground": true,
            "ticks": "",
            "zerolinecolor": "white"
           },
           "yaxis": {
            "backgroundcolor": "#E5ECF6",
            "gridcolor": "white",
            "gridwidth": 2,
            "linecolor": "white",
            "showbackground": true,
            "ticks": "",
            "zerolinecolor": "white"
           },
           "zaxis": {
            "backgroundcolor": "#E5ECF6",
            "gridcolor": "white",
            "gridwidth": 2,
            "linecolor": "white",
            "showbackground": true,
            "ticks": "",
            "zerolinecolor": "white"
           }
          },
          "shapedefaults": {
           "line": {
            "color": "#2a3f5f"
           }
          },
          "ternary": {
           "aaxis": {
            "gridcolor": "white",
            "linecolor": "white",
            "ticks": ""
           },
           "baxis": {
            "gridcolor": "white",
            "linecolor": "white",
            "ticks": ""
           },
           "bgcolor": "#E5ECF6",
           "caxis": {
            "gridcolor": "white",
            "linecolor": "white",
            "ticks": ""
           }
          },
          "title": {
           "x": 0.05
          },
          "xaxis": {
           "automargin": true,
           "gridcolor": "white",
           "linecolor": "white",
           "ticks": "",
           "title": {
            "standoff": 15
           },
           "zerolinecolor": "white",
           "zerolinewidth": 2
          },
          "yaxis": {
           "automargin": true,
           "gridcolor": "white",
           "linecolor": "white",
           "ticks": "",
           "title": {
            "standoff": 15
           },
           "zerolinecolor": "white",
           "zerolinewidth": 2
          }
         }
        },
        "title": {
         "text": "Distribución de garantia_aplica"
        },
        "xaxis": {
         "anchor": "y",
         "domain": [
          0,
          1
         ],
         "title": {
          "text": "garantia_aplica"
         }
        },
        "yaxis": {
         "anchor": "x",
         "domain": [
          0,
          1
         ],
         "title": {
          "text": "Frecuencia"
         }
        }
       }
      }
     },
     "metadata": {},
     "output_type": "display_data"
    },
    {
     "data": {
      "application/vnd.plotly.v1+json": {
       "config": {
        "plotlyServerURL": "https://plot.ly"
       },
       "data": [
        {
         "alignmentgroup": "True",
         "hovertemplate": "variable=count<br>year_start=%{x}<br>Frecuencia=%{y}<extra></extra>",
         "legendgroup": "count",
         "marker": {
          "color": "#636efa",
          "pattern": {
           "shape": ""
          }
         },
         "name": "count",
         "offsetgroup": "count",
         "orientation": "v",
         "showlegend": true,
         "textposition": "auto",
         "type": "bar",
         "x": [
          2015,
          2014,
          2013
         ],
         "xaxis": "x",
         "y": [
          99870,
          121,
          9
         ],
         "yaxis": "y"
        }
       ],
       "layout": {
        "barmode": "relative",
        "legend": {
         "title": {
          "text": "variable"
         },
         "tracegroupgap": 0
        },
        "template": {
         "data": {
          "bar": [
           {
            "error_x": {
             "color": "#2a3f5f"
            },
            "error_y": {
             "color": "#2a3f5f"
            },
            "marker": {
             "line": {
              "color": "#E5ECF6",
              "width": 0.5
             },
             "pattern": {
              "fillmode": "overlay",
              "size": 10,
              "solidity": 0.2
             }
            },
            "type": "bar"
           }
          ],
          "barpolar": [
           {
            "marker": {
             "line": {
              "color": "#E5ECF6",
              "width": 0.5
             },
             "pattern": {
              "fillmode": "overlay",
              "size": 10,
              "solidity": 0.2
             }
            },
            "type": "barpolar"
           }
          ],
          "carpet": [
           {
            "aaxis": {
             "endlinecolor": "#2a3f5f",
             "gridcolor": "white",
             "linecolor": "white",
             "minorgridcolor": "white",
             "startlinecolor": "#2a3f5f"
            },
            "baxis": {
             "endlinecolor": "#2a3f5f",
             "gridcolor": "white",
             "linecolor": "white",
             "minorgridcolor": "white",
             "startlinecolor": "#2a3f5f"
            },
            "type": "carpet"
           }
          ],
          "choropleth": [
           {
            "colorbar": {
             "outlinewidth": 0,
             "ticks": ""
            },
            "type": "choropleth"
           }
          ],
          "contour": [
           {
            "colorbar": {
             "outlinewidth": 0,
             "ticks": ""
            },
            "colorscale": [
             [
              0,
              "#0d0887"
             ],
             [
              0.1111111111111111,
              "#46039f"
             ],
             [
              0.2222222222222222,
              "#7201a8"
             ],
             [
              0.3333333333333333,
              "#9c179e"
             ],
             [
              0.4444444444444444,
              "#bd3786"
             ],
             [
              0.5555555555555556,
              "#d8576b"
             ],
             [
              0.6666666666666666,
              "#ed7953"
             ],
             [
              0.7777777777777778,
              "#fb9f3a"
             ],
             [
              0.8888888888888888,
              "#fdca26"
             ],
             [
              1,
              "#f0f921"
             ]
            ],
            "type": "contour"
           }
          ],
          "contourcarpet": [
           {
            "colorbar": {
             "outlinewidth": 0,
             "ticks": ""
            },
            "type": "contourcarpet"
           }
          ],
          "heatmap": [
           {
            "colorbar": {
             "outlinewidth": 0,
             "ticks": ""
            },
            "colorscale": [
             [
              0,
              "#0d0887"
             ],
             [
              0.1111111111111111,
              "#46039f"
             ],
             [
              0.2222222222222222,
              "#7201a8"
             ],
             [
              0.3333333333333333,
              "#9c179e"
             ],
             [
              0.4444444444444444,
              "#bd3786"
             ],
             [
              0.5555555555555556,
              "#d8576b"
             ],
             [
              0.6666666666666666,
              "#ed7953"
             ],
             [
              0.7777777777777778,
              "#fb9f3a"
             ],
             [
              0.8888888888888888,
              "#fdca26"
             ],
             [
              1,
              "#f0f921"
             ]
            ],
            "type": "heatmap"
           }
          ],
          "heatmapgl": [
           {
            "colorbar": {
             "outlinewidth": 0,
             "ticks": ""
            },
            "colorscale": [
             [
              0,
              "#0d0887"
             ],
             [
              0.1111111111111111,
              "#46039f"
             ],
             [
              0.2222222222222222,
              "#7201a8"
             ],
             [
              0.3333333333333333,
              "#9c179e"
             ],
             [
              0.4444444444444444,
              "#bd3786"
             ],
             [
              0.5555555555555556,
              "#d8576b"
             ],
             [
              0.6666666666666666,
              "#ed7953"
             ],
             [
              0.7777777777777778,
              "#fb9f3a"
             ],
             [
              0.8888888888888888,
              "#fdca26"
             ],
             [
              1,
              "#f0f921"
             ]
            ],
            "type": "heatmapgl"
           }
          ],
          "histogram": [
           {
            "marker": {
             "pattern": {
              "fillmode": "overlay",
              "size": 10,
              "solidity": 0.2
             }
            },
            "type": "histogram"
           }
          ],
          "histogram2d": [
           {
            "colorbar": {
             "outlinewidth": 0,
             "ticks": ""
            },
            "colorscale": [
             [
              0,
              "#0d0887"
             ],
             [
              0.1111111111111111,
              "#46039f"
             ],
             [
              0.2222222222222222,
              "#7201a8"
             ],
             [
              0.3333333333333333,
              "#9c179e"
             ],
             [
              0.4444444444444444,
              "#bd3786"
             ],
             [
              0.5555555555555556,
              "#d8576b"
             ],
             [
              0.6666666666666666,
              "#ed7953"
             ],
             [
              0.7777777777777778,
              "#fb9f3a"
             ],
             [
              0.8888888888888888,
              "#fdca26"
             ],
             [
              1,
              "#f0f921"
             ]
            ],
            "type": "histogram2d"
           }
          ],
          "histogram2dcontour": [
           {
            "colorbar": {
             "outlinewidth": 0,
             "ticks": ""
            },
            "colorscale": [
             [
              0,
              "#0d0887"
             ],
             [
              0.1111111111111111,
              "#46039f"
             ],
             [
              0.2222222222222222,
              "#7201a8"
             ],
             [
              0.3333333333333333,
              "#9c179e"
             ],
             [
              0.4444444444444444,
              "#bd3786"
             ],
             [
              0.5555555555555556,
              "#d8576b"
             ],
             [
              0.6666666666666666,
              "#ed7953"
             ],
             [
              0.7777777777777778,
              "#fb9f3a"
             ],
             [
              0.8888888888888888,
              "#fdca26"
             ],
             [
              1,
              "#f0f921"
             ]
            ],
            "type": "histogram2dcontour"
           }
          ],
          "mesh3d": [
           {
            "colorbar": {
             "outlinewidth": 0,
             "ticks": ""
            },
            "type": "mesh3d"
           }
          ],
          "parcoords": [
           {
            "line": {
             "colorbar": {
              "outlinewidth": 0,
              "ticks": ""
             }
            },
            "type": "parcoords"
           }
          ],
          "pie": [
           {
            "automargin": true,
            "type": "pie"
           }
          ],
          "scatter": [
           {
            "fillpattern": {
             "fillmode": "overlay",
             "size": 10,
             "solidity": 0.2
            },
            "type": "scatter"
           }
          ],
          "scatter3d": [
           {
            "line": {
             "colorbar": {
              "outlinewidth": 0,
              "ticks": ""
             }
            },
            "marker": {
             "colorbar": {
              "outlinewidth": 0,
              "ticks": ""
             }
            },
            "type": "scatter3d"
           }
          ],
          "scattercarpet": [
           {
            "marker": {
             "colorbar": {
              "outlinewidth": 0,
              "ticks": ""
             }
            },
            "type": "scattercarpet"
           }
          ],
          "scattergeo": [
           {
            "marker": {
             "colorbar": {
              "outlinewidth": 0,
              "ticks": ""
             }
            },
            "type": "scattergeo"
           }
          ],
          "scattergl": [
           {
            "marker": {
             "colorbar": {
              "outlinewidth": 0,
              "ticks": ""
             }
            },
            "type": "scattergl"
           }
          ],
          "scattermapbox": [
           {
            "marker": {
             "colorbar": {
              "outlinewidth": 0,
              "ticks": ""
             }
            },
            "type": "scattermapbox"
           }
          ],
          "scatterpolar": [
           {
            "marker": {
             "colorbar": {
              "outlinewidth": 0,
              "ticks": ""
             }
            },
            "type": "scatterpolar"
           }
          ],
          "scatterpolargl": [
           {
            "marker": {
             "colorbar": {
              "outlinewidth": 0,
              "ticks": ""
             }
            },
            "type": "scatterpolargl"
           }
          ],
          "scatterternary": [
           {
            "marker": {
             "colorbar": {
              "outlinewidth": 0,
              "ticks": ""
             }
            },
            "type": "scatterternary"
           }
          ],
          "surface": [
           {
            "colorbar": {
             "outlinewidth": 0,
             "ticks": ""
            },
            "colorscale": [
             [
              0,
              "#0d0887"
             ],
             [
              0.1111111111111111,
              "#46039f"
             ],
             [
              0.2222222222222222,
              "#7201a8"
             ],
             [
              0.3333333333333333,
              "#9c179e"
             ],
             [
              0.4444444444444444,
              "#bd3786"
             ],
             [
              0.5555555555555556,
              "#d8576b"
             ],
             [
              0.6666666666666666,
              "#ed7953"
             ],
             [
              0.7777777777777778,
              "#fb9f3a"
             ],
             [
              0.8888888888888888,
              "#fdca26"
             ],
             [
              1,
              "#f0f921"
             ]
            ],
            "type": "surface"
           }
          ],
          "table": [
           {
            "cells": {
             "fill": {
              "color": "#EBF0F8"
             },
             "line": {
              "color": "white"
             }
            },
            "header": {
             "fill": {
              "color": "#C8D4E3"
             },
             "line": {
              "color": "white"
             }
            },
            "type": "table"
           }
          ]
         },
         "layout": {
          "annotationdefaults": {
           "arrowcolor": "#2a3f5f",
           "arrowhead": 0,
           "arrowwidth": 1
          },
          "autotypenumbers": "strict",
          "coloraxis": {
           "colorbar": {
            "outlinewidth": 0,
            "ticks": ""
           }
          },
          "colorscale": {
           "diverging": [
            [
             0,
             "#8e0152"
            ],
            [
             0.1,
             "#c51b7d"
            ],
            [
             0.2,
             "#de77ae"
            ],
            [
             0.3,
             "#f1b6da"
            ],
            [
             0.4,
             "#fde0ef"
            ],
            [
             0.5,
             "#f7f7f7"
            ],
            [
             0.6,
             "#e6f5d0"
            ],
            [
             0.7,
             "#b8e186"
            ],
            [
             0.8,
             "#7fbc41"
            ],
            [
             0.9,
             "#4d9221"
            ],
            [
             1,
             "#276419"
            ]
           ],
           "sequential": [
            [
             0,
             "#0d0887"
            ],
            [
             0.1111111111111111,
             "#46039f"
            ],
            [
             0.2222222222222222,
             "#7201a8"
            ],
            [
             0.3333333333333333,
             "#9c179e"
            ],
            [
             0.4444444444444444,
             "#bd3786"
            ],
            [
             0.5555555555555556,
             "#d8576b"
            ],
            [
             0.6666666666666666,
             "#ed7953"
            ],
            [
             0.7777777777777778,
             "#fb9f3a"
            ],
            [
             0.8888888888888888,
             "#fdca26"
            ],
            [
             1,
             "#f0f921"
            ]
           ],
           "sequentialminus": [
            [
             0,
             "#0d0887"
            ],
            [
             0.1111111111111111,
             "#46039f"
            ],
            [
             0.2222222222222222,
             "#7201a8"
            ],
            [
             0.3333333333333333,
             "#9c179e"
            ],
            [
             0.4444444444444444,
             "#bd3786"
            ],
            [
             0.5555555555555556,
             "#d8576b"
            ],
            [
             0.6666666666666666,
             "#ed7953"
            ],
            [
             0.7777777777777778,
             "#fb9f3a"
            ],
            [
             0.8888888888888888,
             "#fdca26"
            ],
            [
             1,
             "#f0f921"
            ]
           ]
          },
          "colorway": [
           "#636efa",
           "#EF553B",
           "#00cc96",
           "#ab63fa",
           "#FFA15A",
           "#19d3f3",
           "#FF6692",
           "#B6E880",
           "#FF97FF",
           "#FECB52"
          ],
          "font": {
           "color": "#2a3f5f"
          },
          "geo": {
           "bgcolor": "white",
           "lakecolor": "white",
           "landcolor": "#E5ECF6",
           "showlakes": true,
           "showland": true,
           "subunitcolor": "white"
          },
          "hoverlabel": {
           "align": "left"
          },
          "hovermode": "closest",
          "mapbox": {
           "style": "light"
          },
          "paper_bgcolor": "white",
          "plot_bgcolor": "#E5ECF6",
          "polar": {
           "angularaxis": {
            "gridcolor": "white",
            "linecolor": "white",
            "ticks": ""
           },
           "bgcolor": "#E5ECF6",
           "radialaxis": {
            "gridcolor": "white",
            "linecolor": "white",
            "ticks": ""
           }
          },
          "scene": {
           "xaxis": {
            "backgroundcolor": "#E5ECF6",
            "gridcolor": "white",
            "gridwidth": 2,
            "linecolor": "white",
            "showbackground": true,
            "ticks": "",
            "zerolinecolor": "white"
           },
           "yaxis": {
            "backgroundcolor": "#E5ECF6",
            "gridcolor": "white",
            "gridwidth": 2,
            "linecolor": "white",
            "showbackground": true,
            "ticks": "",
            "zerolinecolor": "white"
           },
           "zaxis": {
            "backgroundcolor": "#E5ECF6",
            "gridcolor": "white",
            "gridwidth": 2,
            "linecolor": "white",
            "showbackground": true,
            "ticks": "",
            "zerolinecolor": "white"
           }
          },
          "shapedefaults": {
           "line": {
            "color": "#2a3f5f"
           }
          },
          "ternary": {
           "aaxis": {
            "gridcolor": "white",
            "linecolor": "white",
            "ticks": ""
           },
           "baxis": {
            "gridcolor": "white",
            "linecolor": "white",
            "ticks": ""
           },
           "bgcolor": "#E5ECF6",
           "caxis": {
            "gridcolor": "white",
            "linecolor": "white",
            "ticks": ""
           }
          },
          "title": {
           "x": 0.05
          },
          "xaxis": {
           "automargin": true,
           "gridcolor": "white",
           "linecolor": "white",
           "ticks": "",
           "title": {
            "standoff": 15
           },
           "zerolinecolor": "white",
           "zerolinewidth": 2
          },
          "yaxis": {
           "automargin": true,
           "gridcolor": "white",
           "linecolor": "white",
           "ticks": "",
           "title": {
            "standoff": 15
           },
           "zerolinecolor": "white",
           "zerolinewidth": 2
          }
         }
        },
        "title": {
         "text": "Distribución de year_start"
        },
        "xaxis": {
         "anchor": "y",
         "domain": [
          0,
          1
         ],
         "title": {
          "text": "year_start"
         }
        },
        "yaxis": {
         "anchor": "x",
         "domain": [
          0,
          1
         ],
         "title": {
          "text": "Frecuencia"
         }
        }
       }
      }
     },
     "metadata": {},
     "output_type": "display_data"
    },
    {
     "data": {
      "application/vnd.plotly.v1+json": {
       "config": {
        "plotlyServerURL": "https://plot.ly"
       },
       "data": [
        {
         "alignmentgroup": "True",
         "hovertemplate": "variable=count<br>month_start=%{x}<br>Frecuencia=%{y}<extra></extra>",
         "legendgroup": "count",
         "marker": {
          "color": "#636efa",
          "pattern": {
           "shape": ""
          }
         },
         "name": "count",
         "offsetgroup": "count",
         "orientation": "v",
         "showlegend": true,
         "textposition": "auto",
         "type": "bar",
         "x": [
          9,
          10,
          8,
          7,
          6,
          5,
          2,
          4,
          12,
          11,
          3,
          1
         ],
         "xaxis": "x",
         "y": [
          48878,
          27630,
          22882,
          265,
          78,
          73,
          44,
          41,
          36,
          31,
          26,
          16
         ],
         "yaxis": "y"
        }
       ],
       "layout": {
        "barmode": "relative",
        "legend": {
         "title": {
          "text": "variable"
         },
         "tracegroupgap": 0
        },
        "template": {
         "data": {
          "bar": [
           {
            "error_x": {
             "color": "#2a3f5f"
            },
            "error_y": {
             "color": "#2a3f5f"
            },
            "marker": {
             "line": {
              "color": "#E5ECF6",
              "width": 0.5
             },
             "pattern": {
              "fillmode": "overlay",
              "size": 10,
              "solidity": 0.2
             }
            },
            "type": "bar"
           }
          ],
          "barpolar": [
           {
            "marker": {
             "line": {
              "color": "#E5ECF6",
              "width": 0.5
             },
             "pattern": {
              "fillmode": "overlay",
              "size": 10,
              "solidity": 0.2
             }
            },
            "type": "barpolar"
           }
          ],
          "carpet": [
           {
            "aaxis": {
             "endlinecolor": "#2a3f5f",
             "gridcolor": "white",
             "linecolor": "white",
             "minorgridcolor": "white",
             "startlinecolor": "#2a3f5f"
            },
            "baxis": {
             "endlinecolor": "#2a3f5f",
             "gridcolor": "white",
             "linecolor": "white",
             "minorgridcolor": "white",
             "startlinecolor": "#2a3f5f"
            },
            "type": "carpet"
           }
          ],
          "choropleth": [
           {
            "colorbar": {
             "outlinewidth": 0,
             "ticks": ""
            },
            "type": "choropleth"
           }
          ],
          "contour": [
           {
            "colorbar": {
             "outlinewidth": 0,
             "ticks": ""
            },
            "colorscale": [
             [
              0,
              "#0d0887"
             ],
             [
              0.1111111111111111,
              "#46039f"
             ],
             [
              0.2222222222222222,
              "#7201a8"
             ],
             [
              0.3333333333333333,
              "#9c179e"
             ],
             [
              0.4444444444444444,
              "#bd3786"
             ],
             [
              0.5555555555555556,
              "#d8576b"
             ],
             [
              0.6666666666666666,
              "#ed7953"
             ],
             [
              0.7777777777777778,
              "#fb9f3a"
             ],
             [
              0.8888888888888888,
              "#fdca26"
             ],
             [
              1,
              "#f0f921"
             ]
            ],
            "type": "contour"
           }
          ],
          "contourcarpet": [
           {
            "colorbar": {
             "outlinewidth": 0,
             "ticks": ""
            },
            "type": "contourcarpet"
           }
          ],
          "heatmap": [
           {
            "colorbar": {
             "outlinewidth": 0,
             "ticks": ""
            },
            "colorscale": [
             [
              0,
              "#0d0887"
             ],
             [
              0.1111111111111111,
              "#46039f"
             ],
             [
              0.2222222222222222,
              "#7201a8"
             ],
             [
              0.3333333333333333,
              "#9c179e"
             ],
             [
              0.4444444444444444,
              "#bd3786"
             ],
             [
              0.5555555555555556,
              "#d8576b"
             ],
             [
              0.6666666666666666,
              "#ed7953"
             ],
             [
              0.7777777777777778,
              "#fb9f3a"
             ],
             [
              0.8888888888888888,
              "#fdca26"
             ],
             [
              1,
              "#f0f921"
             ]
            ],
            "type": "heatmap"
           }
          ],
          "heatmapgl": [
           {
            "colorbar": {
             "outlinewidth": 0,
             "ticks": ""
            },
            "colorscale": [
             [
              0,
              "#0d0887"
             ],
             [
              0.1111111111111111,
              "#46039f"
             ],
             [
              0.2222222222222222,
              "#7201a8"
             ],
             [
              0.3333333333333333,
              "#9c179e"
             ],
             [
              0.4444444444444444,
              "#bd3786"
             ],
             [
              0.5555555555555556,
              "#d8576b"
             ],
             [
              0.6666666666666666,
              "#ed7953"
             ],
             [
              0.7777777777777778,
              "#fb9f3a"
             ],
             [
              0.8888888888888888,
              "#fdca26"
             ],
             [
              1,
              "#f0f921"
             ]
            ],
            "type": "heatmapgl"
           }
          ],
          "histogram": [
           {
            "marker": {
             "pattern": {
              "fillmode": "overlay",
              "size": 10,
              "solidity": 0.2
             }
            },
            "type": "histogram"
           }
          ],
          "histogram2d": [
           {
            "colorbar": {
             "outlinewidth": 0,
             "ticks": ""
            },
            "colorscale": [
             [
              0,
              "#0d0887"
             ],
             [
              0.1111111111111111,
              "#46039f"
             ],
             [
              0.2222222222222222,
              "#7201a8"
             ],
             [
              0.3333333333333333,
              "#9c179e"
             ],
             [
              0.4444444444444444,
              "#bd3786"
             ],
             [
              0.5555555555555556,
              "#d8576b"
             ],
             [
              0.6666666666666666,
              "#ed7953"
             ],
             [
              0.7777777777777778,
              "#fb9f3a"
             ],
             [
              0.8888888888888888,
              "#fdca26"
             ],
             [
              1,
              "#f0f921"
             ]
            ],
            "type": "histogram2d"
           }
          ],
          "histogram2dcontour": [
           {
            "colorbar": {
             "outlinewidth": 0,
             "ticks": ""
            },
            "colorscale": [
             [
              0,
              "#0d0887"
             ],
             [
              0.1111111111111111,
              "#46039f"
             ],
             [
              0.2222222222222222,
              "#7201a8"
             ],
             [
              0.3333333333333333,
              "#9c179e"
             ],
             [
              0.4444444444444444,
              "#bd3786"
             ],
             [
              0.5555555555555556,
              "#d8576b"
             ],
             [
              0.6666666666666666,
              "#ed7953"
             ],
             [
              0.7777777777777778,
              "#fb9f3a"
             ],
             [
              0.8888888888888888,
              "#fdca26"
             ],
             [
              1,
              "#f0f921"
             ]
            ],
            "type": "histogram2dcontour"
           }
          ],
          "mesh3d": [
           {
            "colorbar": {
             "outlinewidth": 0,
             "ticks": ""
            },
            "type": "mesh3d"
           }
          ],
          "parcoords": [
           {
            "line": {
             "colorbar": {
              "outlinewidth": 0,
              "ticks": ""
             }
            },
            "type": "parcoords"
           }
          ],
          "pie": [
           {
            "automargin": true,
            "type": "pie"
           }
          ],
          "scatter": [
           {
            "fillpattern": {
             "fillmode": "overlay",
             "size": 10,
             "solidity": 0.2
            },
            "type": "scatter"
           }
          ],
          "scatter3d": [
           {
            "line": {
             "colorbar": {
              "outlinewidth": 0,
              "ticks": ""
             }
            },
            "marker": {
             "colorbar": {
              "outlinewidth": 0,
              "ticks": ""
             }
            },
            "type": "scatter3d"
           }
          ],
          "scattercarpet": [
           {
            "marker": {
             "colorbar": {
              "outlinewidth": 0,
              "ticks": ""
             }
            },
            "type": "scattercarpet"
           }
          ],
          "scattergeo": [
           {
            "marker": {
             "colorbar": {
              "outlinewidth": 0,
              "ticks": ""
             }
            },
            "type": "scattergeo"
           }
          ],
          "scattergl": [
           {
            "marker": {
             "colorbar": {
              "outlinewidth": 0,
              "ticks": ""
             }
            },
            "type": "scattergl"
           }
          ],
          "scattermapbox": [
           {
            "marker": {
             "colorbar": {
              "outlinewidth": 0,
              "ticks": ""
             }
            },
            "type": "scattermapbox"
           }
          ],
          "scatterpolar": [
           {
            "marker": {
             "colorbar": {
              "outlinewidth": 0,
              "ticks": ""
             }
            },
            "type": "scatterpolar"
           }
          ],
          "scatterpolargl": [
           {
            "marker": {
             "colorbar": {
              "outlinewidth": 0,
              "ticks": ""
             }
            },
            "type": "scatterpolargl"
           }
          ],
          "scatterternary": [
           {
            "marker": {
             "colorbar": {
              "outlinewidth": 0,
              "ticks": ""
             }
            },
            "type": "scatterternary"
           }
          ],
          "surface": [
           {
            "colorbar": {
             "outlinewidth": 0,
             "ticks": ""
            },
            "colorscale": [
             [
              0,
              "#0d0887"
             ],
             [
              0.1111111111111111,
              "#46039f"
             ],
             [
              0.2222222222222222,
              "#7201a8"
             ],
             [
              0.3333333333333333,
              "#9c179e"
             ],
             [
              0.4444444444444444,
              "#bd3786"
             ],
             [
              0.5555555555555556,
              "#d8576b"
             ],
             [
              0.6666666666666666,
              "#ed7953"
             ],
             [
              0.7777777777777778,
              "#fb9f3a"
             ],
             [
              0.8888888888888888,
              "#fdca26"
             ],
             [
              1,
              "#f0f921"
             ]
            ],
            "type": "surface"
           }
          ],
          "table": [
           {
            "cells": {
             "fill": {
              "color": "#EBF0F8"
             },
             "line": {
              "color": "white"
             }
            },
            "header": {
             "fill": {
              "color": "#C8D4E3"
             },
             "line": {
              "color": "white"
             }
            },
            "type": "table"
           }
          ]
         },
         "layout": {
          "annotationdefaults": {
           "arrowcolor": "#2a3f5f",
           "arrowhead": 0,
           "arrowwidth": 1
          },
          "autotypenumbers": "strict",
          "coloraxis": {
           "colorbar": {
            "outlinewidth": 0,
            "ticks": ""
           }
          },
          "colorscale": {
           "diverging": [
            [
             0,
             "#8e0152"
            ],
            [
             0.1,
             "#c51b7d"
            ],
            [
             0.2,
             "#de77ae"
            ],
            [
             0.3,
             "#f1b6da"
            ],
            [
             0.4,
             "#fde0ef"
            ],
            [
             0.5,
             "#f7f7f7"
            ],
            [
             0.6,
             "#e6f5d0"
            ],
            [
             0.7,
             "#b8e186"
            ],
            [
             0.8,
             "#7fbc41"
            ],
            [
             0.9,
             "#4d9221"
            ],
            [
             1,
             "#276419"
            ]
           ],
           "sequential": [
            [
             0,
             "#0d0887"
            ],
            [
             0.1111111111111111,
             "#46039f"
            ],
            [
             0.2222222222222222,
             "#7201a8"
            ],
            [
             0.3333333333333333,
             "#9c179e"
            ],
            [
             0.4444444444444444,
             "#bd3786"
            ],
            [
             0.5555555555555556,
             "#d8576b"
            ],
            [
             0.6666666666666666,
             "#ed7953"
            ],
            [
             0.7777777777777778,
             "#fb9f3a"
            ],
            [
             0.8888888888888888,
             "#fdca26"
            ],
            [
             1,
             "#f0f921"
            ]
           ],
           "sequentialminus": [
            [
             0,
             "#0d0887"
            ],
            [
             0.1111111111111111,
             "#46039f"
            ],
            [
             0.2222222222222222,
             "#7201a8"
            ],
            [
             0.3333333333333333,
             "#9c179e"
            ],
            [
             0.4444444444444444,
             "#bd3786"
            ],
            [
             0.5555555555555556,
             "#d8576b"
            ],
            [
             0.6666666666666666,
             "#ed7953"
            ],
            [
             0.7777777777777778,
             "#fb9f3a"
            ],
            [
             0.8888888888888888,
             "#fdca26"
            ],
            [
             1,
             "#f0f921"
            ]
           ]
          },
          "colorway": [
           "#636efa",
           "#EF553B",
           "#00cc96",
           "#ab63fa",
           "#FFA15A",
           "#19d3f3",
           "#FF6692",
           "#B6E880",
           "#FF97FF",
           "#FECB52"
          ],
          "font": {
           "color": "#2a3f5f"
          },
          "geo": {
           "bgcolor": "white",
           "lakecolor": "white",
           "landcolor": "#E5ECF6",
           "showlakes": true,
           "showland": true,
           "subunitcolor": "white"
          },
          "hoverlabel": {
           "align": "left"
          },
          "hovermode": "closest",
          "mapbox": {
           "style": "light"
          },
          "paper_bgcolor": "white",
          "plot_bgcolor": "#E5ECF6",
          "polar": {
           "angularaxis": {
            "gridcolor": "white",
            "linecolor": "white",
            "ticks": ""
           },
           "bgcolor": "#E5ECF6",
           "radialaxis": {
            "gridcolor": "white",
            "linecolor": "white",
            "ticks": ""
           }
          },
          "scene": {
           "xaxis": {
            "backgroundcolor": "#E5ECF6",
            "gridcolor": "white",
            "gridwidth": 2,
            "linecolor": "white",
            "showbackground": true,
            "ticks": "",
            "zerolinecolor": "white"
           },
           "yaxis": {
            "backgroundcolor": "#E5ECF6",
            "gridcolor": "white",
            "gridwidth": 2,
            "linecolor": "white",
            "showbackground": true,
            "ticks": "",
            "zerolinecolor": "white"
           },
           "zaxis": {
            "backgroundcolor": "#E5ECF6",
            "gridcolor": "white",
            "gridwidth": 2,
            "linecolor": "white",
            "showbackground": true,
            "ticks": "",
            "zerolinecolor": "white"
           }
          },
          "shapedefaults": {
           "line": {
            "color": "#2a3f5f"
           }
          },
          "ternary": {
           "aaxis": {
            "gridcolor": "white",
            "linecolor": "white",
            "ticks": ""
           },
           "baxis": {
            "gridcolor": "white",
            "linecolor": "white",
            "ticks": ""
           },
           "bgcolor": "#E5ECF6",
           "caxis": {
            "gridcolor": "white",
            "linecolor": "white",
            "ticks": ""
           }
          },
          "title": {
           "x": 0.05
          },
          "xaxis": {
           "automargin": true,
           "gridcolor": "white",
           "linecolor": "white",
           "ticks": "",
           "title": {
            "standoff": 15
           },
           "zerolinecolor": "white",
           "zerolinewidth": 2
          },
          "yaxis": {
           "automargin": true,
           "gridcolor": "white",
           "linecolor": "white",
           "ticks": "",
           "title": {
            "standoff": 15
           },
           "zerolinecolor": "white",
           "zerolinewidth": 2
          }
         }
        },
        "title": {
         "text": "Distribución de month_start"
        },
        "xaxis": {
         "anchor": "y",
         "domain": [
          0,
          1
         ],
         "title": {
          "text": "month_start"
         }
        },
        "yaxis": {
         "anchor": "x",
         "domain": [
          0,
          1
         ],
         "title": {
          "text": "Frecuencia"
         }
        }
       }
      }
     },
     "metadata": {},
     "output_type": "display_data"
    },
    {
     "data": {
      "application/vnd.plotly.v1+json": {
       "config": {
        "plotlyServerURL": "https://plot.ly"
       },
       "data": [
        {
         "alignmentgroup": "True",
         "hovertemplate": "variable=count<br>year_stop=%{x}<br>Frecuencia=%{y}<extra></extra>",
         "legendgroup": "count",
         "marker": {
          "color": "#636efa",
          "pattern": {
           "shape": ""
          }
         },
         "name": "count",
         "offsetgroup": "count",
         "orientation": "v",
         "showlegend": true,
         "textposition": "auto",
         "type": "bar",
         "x": [
          2015,
          2016,
          2024
         ],
         "xaxis": "x",
         "y": [
          99916,
          74,
          10
         ],
         "yaxis": "y"
        }
       ],
       "layout": {
        "barmode": "relative",
        "legend": {
         "title": {
          "text": "variable"
         },
         "tracegroupgap": 0
        },
        "template": {
         "data": {
          "bar": [
           {
            "error_x": {
             "color": "#2a3f5f"
            },
            "error_y": {
             "color": "#2a3f5f"
            },
            "marker": {
             "line": {
              "color": "#E5ECF6",
              "width": 0.5
             },
             "pattern": {
              "fillmode": "overlay",
              "size": 10,
              "solidity": 0.2
             }
            },
            "type": "bar"
           }
          ],
          "barpolar": [
           {
            "marker": {
             "line": {
              "color": "#E5ECF6",
              "width": 0.5
             },
             "pattern": {
              "fillmode": "overlay",
              "size": 10,
              "solidity": 0.2
             }
            },
            "type": "barpolar"
           }
          ],
          "carpet": [
           {
            "aaxis": {
             "endlinecolor": "#2a3f5f",
             "gridcolor": "white",
             "linecolor": "white",
             "minorgridcolor": "white",
             "startlinecolor": "#2a3f5f"
            },
            "baxis": {
             "endlinecolor": "#2a3f5f",
             "gridcolor": "white",
             "linecolor": "white",
             "minorgridcolor": "white",
             "startlinecolor": "#2a3f5f"
            },
            "type": "carpet"
           }
          ],
          "choropleth": [
           {
            "colorbar": {
             "outlinewidth": 0,
             "ticks": ""
            },
            "type": "choropleth"
           }
          ],
          "contour": [
           {
            "colorbar": {
             "outlinewidth": 0,
             "ticks": ""
            },
            "colorscale": [
             [
              0,
              "#0d0887"
             ],
             [
              0.1111111111111111,
              "#46039f"
             ],
             [
              0.2222222222222222,
              "#7201a8"
             ],
             [
              0.3333333333333333,
              "#9c179e"
             ],
             [
              0.4444444444444444,
              "#bd3786"
             ],
             [
              0.5555555555555556,
              "#d8576b"
             ],
             [
              0.6666666666666666,
              "#ed7953"
             ],
             [
              0.7777777777777778,
              "#fb9f3a"
             ],
             [
              0.8888888888888888,
              "#fdca26"
             ],
             [
              1,
              "#f0f921"
             ]
            ],
            "type": "contour"
           }
          ],
          "contourcarpet": [
           {
            "colorbar": {
             "outlinewidth": 0,
             "ticks": ""
            },
            "type": "contourcarpet"
           }
          ],
          "heatmap": [
           {
            "colorbar": {
             "outlinewidth": 0,
             "ticks": ""
            },
            "colorscale": [
             [
              0,
              "#0d0887"
             ],
             [
              0.1111111111111111,
              "#46039f"
             ],
             [
              0.2222222222222222,
              "#7201a8"
             ],
             [
              0.3333333333333333,
              "#9c179e"
             ],
             [
              0.4444444444444444,
              "#bd3786"
             ],
             [
              0.5555555555555556,
              "#d8576b"
             ],
             [
              0.6666666666666666,
              "#ed7953"
             ],
             [
              0.7777777777777778,
              "#fb9f3a"
             ],
             [
              0.8888888888888888,
              "#fdca26"
             ],
             [
              1,
              "#f0f921"
             ]
            ],
            "type": "heatmap"
           }
          ],
          "heatmapgl": [
           {
            "colorbar": {
             "outlinewidth": 0,
             "ticks": ""
            },
            "colorscale": [
             [
              0,
              "#0d0887"
             ],
             [
              0.1111111111111111,
              "#46039f"
             ],
             [
              0.2222222222222222,
              "#7201a8"
             ],
             [
              0.3333333333333333,
              "#9c179e"
             ],
             [
              0.4444444444444444,
              "#bd3786"
             ],
             [
              0.5555555555555556,
              "#d8576b"
             ],
             [
              0.6666666666666666,
              "#ed7953"
             ],
             [
              0.7777777777777778,
              "#fb9f3a"
             ],
             [
              0.8888888888888888,
              "#fdca26"
             ],
             [
              1,
              "#f0f921"
             ]
            ],
            "type": "heatmapgl"
           }
          ],
          "histogram": [
           {
            "marker": {
             "pattern": {
              "fillmode": "overlay",
              "size": 10,
              "solidity": 0.2
             }
            },
            "type": "histogram"
           }
          ],
          "histogram2d": [
           {
            "colorbar": {
             "outlinewidth": 0,
             "ticks": ""
            },
            "colorscale": [
             [
              0,
              "#0d0887"
             ],
             [
              0.1111111111111111,
              "#46039f"
             ],
             [
              0.2222222222222222,
              "#7201a8"
             ],
             [
              0.3333333333333333,
              "#9c179e"
             ],
             [
              0.4444444444444444,
              "#bd3786"
             ],
             [
              0.5555555555555556,
              "#d8576b"
             ],
             [
              0.6666666666666666,
              "#ed7953"
             ],
             [
              0.7777777777777778,
              "#fb9f3a"
             ],
             [
              0.8888888888888888,
              "#fdca26"
             ],
             [
              1,
              "#f0f921"
             ]
            ],
            "type": "histogram2d"
           }
          ],
          "histogram2dcontour": [
           {
            "colorbar": {
             "outlinewidth": 0,
             "ticks": ""
            },
            "colorscale": [
             [
              0,
              "#0d0887"
             ],
             [
              0.1111111111111111,
              "#46039f"
             ],
             [
              0.2222222222222222,
              "#7201a8"
             ],
             [
              0.3333333333333333,
              "#9c179e"
             ],
             [
              0.4444444444444444,
              "#bd3786"
             ],
             [
              0.5555555555555556,
              "#d8576b"
             ],
             [
              0.6666666666666666,
              "#ed7953"
             ],
             [
              0.7777777777777778,
              "#fb9f3a"
             ],
             [
              0.8888888888888888,
              "#fdca26"
             ],
             [
              1,
              "#f0f921"
             ]
            ],
            "type": "histogram2dcontour"
           }
          ],
          "mesh3d": [
           {
            "colorbar": {
             "outlinewidth": 0,
             "ticks": ""
            },
            "type": "mesh3d"
           }
          ],
          "parcoords": [
           {
            "line": {
             "colorbar": {
              "outlinewidth": 0,
              "ticks": ""
             }
            },
            "type": "parcoords"
           }
          ],
          "pie": [
           {
            "automargin": true,
            "type": "pie"
           }
          ],
          "scatter": [
           {
            "fillpattern": {
             "fillmode": "overlay",
             "size": 10,
             "solidity": 0.2
            },
            "type": "scatter"
           }
          ],
          "scatter3d": [
           {
            "line": {
             "colorbar": {
              "outlinewidth": 0,
              "ticks": ""
             }
            },
            "marker": {
             "colorbar": {
              "outlinewidth": 0,
              "ticks": ""
             }
            },
            "type": "scatter3d"
           }
          ],
          "scattercarpet": [
           {
            "marker": {
             "colorbar": {
              "outlinewidth": 0,
              "ticks": ""
             }
            },
            "type": "scattercarpet"
           }
          ],
          "scattergeo": [
           {
            "marker": {
             "colorbar": {
              "outlinewidth": 0,
              "ticks": ""
             }
            },
            "type": "scattergeo"
           }
          ],
          "scattergl": [
           {
            "marker": {
             "colorbar": {
              "outlinewidth": 0,
              "ticks": ""
             }
            },
            "type": "scattergl"
           }
          ],
          "scattermapbox": [
           {
            "marker": {
             "colorbar": {
              "outlinewidth": 0,
              "ticks": ""
             }
            },
            "type": "scattermapbox"
           }
          ],
          "scatterpolar": [
           {
            "marker": {
             "colorbar": {
              "outlinewidth": 0,
              "ticks": ""
             }
            },
            "type": "scatterpolar"
           }
          ],
          "scatterpolargl": [
           {
            "marker": {
             "colorbar": {
              "outlinewidth": 0,
              "ticks": ""
             }
            },
            "type": "scatterpolargl"
           }
          ],
          "scatterternary": [
           {
            "marker": {
             "colorbar": {
              "outlinewidth": 0,
              "ticks": ""
             }
            },
            "type": "scatterternary"
           }
          ],
          "surface": [
           {
            "colorbar": {
             "outlinewidth": 0,
             "ticks": ""
            },
            "colorscale": [
             [
              0,
              "#0d0887"
             ],
             [
              0.1111111111111111,
              "#46039f"
             ],
             [
              0.2222222222222222,
              "#7201a8"
             ],
             [
              0.3333333333333333,
              "#9c179e"
             ],
             [
              0.4444444444444444,
              "#bd3786"
             ],
             [
              0.5555555555555556,
              "#d8576b"
             ],
             [
              0.6666666666666666,
              "#ed7953"
             ],
             [
              0.7777777777777778,
              "#fb9f3a"
             ],
             [
              0.8888888888888888,
              "#fdca26"
             ],
             [
              1,
              "#f0f921"
             ]
            ],
            "type": "surface"
           }
          ],
          "table": [
           {
            "cells": {
             "fill": {
              "color": "#EBF0F8"
             },
             "line": {
              "color": "white"
             }
            },
            "header": {
             "fill": {
              "color": "#C8D4E3"
             },
             "line": {
              "color": "white"
             }
            },
            "type": "table"
           }
          ]
         },
         "layout": {
          "annotationdefaults": {
           "arrowcolor": "#2a3f5f",
           "arrowhead": 0,
           "arrowwidth": 1
          },
          "autotypenumbers": "strict",
          "coloraxis": {
           "colorbar": {
            "outlinewidth": 0,
            "ticks": ""
           }
          },
          "colorscale": {
           "diverging": [
            [
             0,
             "#8e0152"
            ],
            [
             0.1,
             "#c51b7d"
            ],
            [
             0.2,
             "#de77ae"
            ],
            [
             0.3,
             "#f1b6da"
            ],
            [
             0.4,
             "#fde0ef"
            ],
            [
             0.5,
             "#f7f7f7"
            ],
            [
             0.6,
             "#e6f5d0"
            ],
            [
             0.7,
             "#b8e186"
            ],
            [
             0.8,
             "#7fbc41"
            ],
            [
             0.9,
             "#4d9221"
            ],
            [
             1,
             "#276419"
            ]
           ],
           "sequential": [
            [
             0,
             "#0d0887"
            ],
            [
             0.1111111111111111,
             "#46039f"
            ],
            [
             0.2222222222222222,
             "#7201a8"
            ],
            [
             0.3333333333333333,
             "#9c179e"
            ],
            [
             0.4444444444444444,
             "#bd3786"
            ],
            [
             0.5555555555555556,
             "#d8576b"
            ],
            [
             0.6666666666666666,
             "#ed7953"
            ],
            [
             0.7777777777777778,
             "#fb9f3a"
            ],
            [
             0.8888888888888888,
             "#fdca26"
            ],
            [
             1,
             "#f0f921"
            ]
           ],
           "sequentialminus": [
            [
             0,
             "#0d0887"
            ],
            [
             0.1111111111111111,
             "#46039f"
            ],
            [
             0.2222222222222222,
             "#7201a8"
            ],
            [
             0.3333333333333333,
             "#9c179e"
            ],
            [
             0.4444444444444444,
             "#bd3786"
            ],
            [
             0.5555555555555556,
             "#d8576b"
            ],
            [
             0.6666666666666666,
             "#ed7953"
            ],
            [
             0.7777777777777778,
             "#fb9f3a"
            ],
            [
             0.8888888888888888,
             "#fdca26"
            ],
            [
             1,
             "#f0f921"
            ]
           ]
          },
          "colorway": [
           "#636efa",
           "#EF553B",
           "#00cc96",
           "#ab63fa",
           "#FFA15A",
           "#19d3f3",
           "#FF6692",
           "#B6E880",
           "#FF97FF",
           "#FECB52"
          ],
          "font": {
           "color": "#2a3f5f"
          },
          "geo": {
           "bgcolor": "white",
           "lakecolor": "white",
           "landcolor": "#E5ECF6",
           "showlakes": true,
           "showland": true,
           "subunitcolor": "white"
          },
          "hoverlabel": {
           "align": "left"
          },
          "hovermode": "closest",
          "mapbox": {
           "style": "light"
          },
          "paper_bgcolor": "white",
          "plot_bgcolor": "#E5ECF6",
          "polar": {
           "angularaxis": {
            "gridcolor": "white",
            "linecolor": "white",
            "ticks": ""
           },
           "bgcolor": "#E5ECF6",
           "radialaxis": {
            "gridcolor": "white",
            "linecolor": "white",
            "ticks": ""
           }
          },
          "scene": {
           "xaxis": {
            "backgroundcolor": "#E5ECF6",
            "gridcolor": "white",
            "gridwidth": 2,
            "linecolor": "white",
            "showbackground": true,
            "ticks": "",
            "zerolinecolor": "white"
           },
           "yaxis": {
            "backgroundcolor": "#E5ECF6",
            "gridcolor": "white",
            "gridwidth": 2,
            "linecolor": "white",
            "showbackground": true,
            "ticks": "",
            "zerolinecolor": "white"
           },
           "zaxis": {
            "backgroundcolor": "#E5ECF6",
            "gridcolor": "white",
            "gridwidth": 2,
            "linecolor": "white",
            "showbackground": true,
            "ticks": "",
            "zerolinecolor": "white"
           }
          },
          "shapedefaults": {
           "line": {
            "color": "#2a3f5f"
           }
          },
          "ternary": {
           "aaxis": {
            "gridcolor": "white",
            "linecolor": "white",
            "ticks": ""
           },
           "baxis": {
            "gridcolor": "white",
            "linecolor": "white",
            "ticks": ""
           },
           "bgcolor": "#E5ECF6",
           "caxis": {
            "gridcolor": "white",
            "linecolor": "white",
            "ticks": ""
           }
          },
          "title": {
           "x": 0.05
          },
          "xaxis": {
           "automargin": true,
           "gridcolor": "white",
           "linecolor": "white",
           "ticks": "",
           "title": {
            "standoff": 15
           },
           "zerolinecolor": "white",
           "zerolinewidth": 2
          },
          "yaxis": {
           "automargin": true,
           "gridcolor": "white",
           "linecolor": "white",
           "ticks": "",
           "title": {
            "standoff": 15
           },
           "zerolinecolor": "white",
           "zerolinewidth": 2
          }
         }
        },
        "title": {
         "text": "Distribución de year_stop"
        },
        "xaxis": {
         "anchor": "y",
         "domain": [
          0,
          1
         ],
         "title": {
          "text": "year_stop"
         }
        },
        "yaxis": {
         "anchor": "x",
         "domain": [
          0,
          1
         ],
         "title": {
          "text": "Frecuencia"
         }
        }
       }
      }
     },
     "metadata": {},
     "output_type": "display_data"
    },
    {
     "data": {
      "application/vnd.plotly.v1+json": {
       "config": {
        "plotlyServerURL": "https://plot.ly"
       },
       "data": [
        {
         "alignmentgroup": "True",
         "hovertemplate": "variable=count<br>month_stop=%{x}<br>Frecuencia=%{y}<extra></extra>",
         "legendgroup": "count",
         "marker": {
          "color": "#636efa",
          "pattern": {
           "shape": ""
          }
         },
         "name": "count",
         "offsetgroup": "count",
         "orientation": "v",
         "showlegend": true,
         "textposition": "auto",
         "type": "bar",
         "x": [
          11,
          10,
          12,
          9,
          3,
          1,
          4,
          2,
          5,
          7,
          8,
          6
         ],
         "xaxis": "x",
         "y": [
          49154,
          25813,
          24965,
          15,
          10,
          9,
          8,
          6,
          6,
          5,
          5,
          4
         ],
         "yaxis": "y"
        }
       ],
       "layout": {
        "barmode": "relative",
        "legend": {
         "title": {
          "text": "variable"
         },
         "tracegroupgap": 0
        },
        "template": {
         "data": {
          "bar": [
           {
            "error_x": {
             "color": "#2a3f5f"
            },
            "error_y": {
             "color": "#2a3f5f"
            },
            "marker": {
             "line": {
              "color": "#E5ECF6",
              "width": 0.5
             },
             "pattern": {
              "fillmode": "overlay",
              "size": 10,
              "solidity": 0.2
             }
            },
            "type": "bar"
           }
          ],
          "barpolar": [
           {
            "marker": {
             "line": {
              "color": "#E5ECF6",
              "width": 0.5
             },
             "pattern": {
              "fillmode": "overlay",
              "size": 10,
              "solidity": 0.2
             }
            },
            "type": "barpolar"
           }
          ],
          "carpet": [
           {
            "aaxis": {
             "endlinecolor": "#2a3f5f",
             "gridcolor": "white",
             "linecolor": "white",
             "minorgridcolor": "white",
             "startlinecolor": "#2a3f5f"
            },
            "baxis": {
             "endlinecolor": "#2a3f5f",
             "gridcolor": "white",
             "linecolor": "white",
             "minorgridcolor": "white",
             "startlinecolor": "#2a3f5f"
            },
            "type": "carpet"
           }
          ],
          "choropleth": [
           {
            "colorbar": {
             "outlinewidth": 0,
             "ticks": ""
            },
            "type": "choropleth"
           }
          ],
          "contour": [
           {
            "colorbar": {
             "outlinewidth": 0,
             "ticks": ""
            },
            "colorscale": [
             [
              0,
              "#0d0887"
             ],
             [
              0.1111111111111111,
              "#46039f"
             ],
             [
              0.2222222222222222,
              "#7201a8"
             ],
             [
              0.3333333333333333,
              "#9c179e"
             ],
             [
              0.4444444444444444,
              "#bd3786"
             ],
             [
              0.5555555555555556,
              "#d8576b"
             ],
             [
              0.6666666666666666,
              "#ed7953"
             ],
             [
              0.7777777777777778,
              "#fb9f3a"
             ],
             [
              0.8888888888888888,
              "#fdca26"
             ],
             [
              1,
              "#f0f921"
             ]
            ],
            "type": "contour"
           }
          ],
          "contourcarpet": [
           {
            "colorbar": {
             "outlinewidth": 0,
             "ticks": ""
            },
            "type": "contourcarpet"
           }
          ],
          "heatmap": [
           {
            "colorbar": {
             "outlinewidth": 0,
             "ticks": ""
            },
            "colorscale": [
             [
              0,
              "#0d0887"
             ],
             [
              0.1111111111111111,
              "#46039f"
             ],
             [
              0.2222222222222222,
              "#7201a8"
             ],
             [
              0.3333333333333333,
              "#9c179e"
             ],
             [
              0.4444444444444444,
              "#bd3786"
             ],
             [
              0.5555555555555556,
              "#d8576b"
             ],
             [
              0.6666666666666666,
              "#ed7953"
             ],
             [
              0.7777777777777778,
              "#fb9f3a"
             ],
             [
              0.8888888888888888,
              "#fdca26"
             ],
             [
              1,
              "#f0f921"
             ]
            ],
            "type": "heatmap"
           }
          ],
          "heatmapgl": [
           {
            "colorbar": {
             "outlinewidth": 0,
             "ticks": ""
            },
            "colorscale": [
             [
              0,
              "#0d0887"
             ],
             [
              0.1111111111111111,
              "#46039f"
             ],
             [
              0.2222222222222222,
              "#7201a8"
             ],
             [
              0.3333333333333333,
              "#9c179e"
             ],
             [
              0.4444444444444444,
              "#bd3786"
             ],
             [
              0.5555555555555556,
              "#d8576b"
             ],
             [
              0.6666666666666666,
              "#ed7953"
             ],
             [
              0.7777777777777778,
              "#fb9f3a"
             ],
             [
              0.8888888888888888,
              "#fdca26"
             ],
             [
              1,
              "#f0f921"
             ]
            ],
            "type": "heatmapgl"
           }
          ],
          "histogram": [
           {
            "marker": {
             "pattern": {
              "fillmode": "overlay",
              "size": 10,
              "solidity": 0.2
             }
            },
            "type": "histogram"
           }
          ],
          "histogram2d": [
           {
            "colorbar": {
             "outlinewidth": 0,
             "ticks": ""
            },
            "colorscale": [
             [
              0,
              "#0d0887"
             ],
             [
              0.1111111111111111,
              "#46039f"
             ],
             [
              0.2222222222222222,
              "#7201a8"
             ],
             [
              0.3333333333333333,
              "#9c179e"
             ],
             [
              0.4444444444444444,
              "#bd3786"
             ],
             [
              0.5555555555555556,
              "#d8576b"
             ],
             [
              0.6666666666666666,
              "#ed7953"
             ],
             [
              0.7777777777777778,
              "#fb9f3a"
             ],
             [
              0.8888888888888888,
              "#fdca26"
             ],
             [
              1,
              "#f0f921"
             ]
            ],
            "type": "histogram2d"
           }
          ],
          "histogram2dcontour": [
           {
            "colorbar": {
             "outlinewidth": 0,
             "ticks": ""
            },
            "colorscale": [
             [
              0,
              "#0d0887"
             ],
             [
              0.1111111111111111,
              "#46039f"
             ],
             [
              0.2222222222222222,
              "#7201a8"
             ],
             [
              0.3333333333333333,
              "#9c179e"
             ],
             [
              0.4444444444444444,
              "#bd3786"
             ],
             [
              0.5555555555555556,
              "#d8576b"
             ],
             [
              0.6666666666666666,
              "#ed7953"
             ],
             [
              0.7777777777777778,
              "#fb9f3a"
             ],
             [
              0.8888888888888888,
              "#fdca26"
             ],
             [
              1,
              "#f0f921"
             ]
            ],
            "type": "histogram2dcontour"
           }
          ],
          "mesh3d": [
           {
            "colorbar": {
             "outlinewidth": 0,
             "ticks": ""
            },
            "type": "mesh3d"
           }
          ],
          "parcoords": [
           {
            "line": {
             "colorbar": {
              "outlinewidth": 0,
              "ticks": ""
             }
            },
            "type": "parcoords"
           }
          ],
          "pie": [
           {
            "automargin": true,
            "type": "pie"
           }
          ],
          "scatter": [
           {
            "fillpattern": {
             "fillmode": "overlay",
             "size": 10,
             "solidity": 0.2
            },
            "type": "scatter"
           }
          ],
          "scatter3d": [
           {
            "line": {
             "colorbar": {
              "outlinewidth": 0,
              "ticks": ""
             }
            },
            "marker": {
             "colorbar": {
              "outlinewidth": 0,
              "ticks": ""
             }
            },
            "type": "scatter3d"
           }
          ],
          "scattercarpet": [
           {
            "marker": {
             "colorbar": {
              "outlinewidth": 0,
              "ticks": ""
             }
            },
            "type": "scattercarpet"
           }
          ],
          "scattergeo": [
           {
            "marker": {
             "colorbar": {
              "outlinewidth": 0,
              "ticks": ""
             }
            },
            "type": "scattergeo"
           }
          ],
          "scattergl": [
           {
            "marker": {
             "colorbar": {
              "outlinewidth": 0,
              "ticks": ""
             }
            },
            "type": "scattergl"
           }
          ],
          "scattermapbox": [
           {
            "marker": {
             "colorbar": {
              "outlinewidth": 0,
              "ticks": ""
             }
            },
            "type": "scattermapbox"
           }
          ],
          "scatterpolar": [
           {
            "marker": {
             "colorbar": {
              "outlinewidth": 0,
              "ticks": ""
             }
            },
            "type": "scatterpolar"
           }
          ],
          "scatterpolargl": [
           {
            "marker": {
             "colorbar": {
              "outlinewidth": 0,
              "ticks": ""
             }
            },
            "type": "scatterpolargl"
           }
          ],
          "scatterternary": [
           {
            "marker": {
             "colorbar": {
              "outlinewidth": 0,
              "ticks": ""
             }
            },
            "type": "scatterternary"
           }
          ],
          "surface": [
           {
            "colorbar": {
             "outlinewidth": 0,
             "ticks": ""
            },
            "colorscale": [
             [
              0,
              "#0d0887"
             ],
             [
              0.1111111111111111,
              "#46039f"
             ],
             [
              0.2222222222222222,
              "#7201a8"
             ],
             [
              0.3333333333333333,
              "#9c179e"
             ],
             [
              0.4444444444444444,
              "#bd3786"
             ],
             [
              0.5555555555555556,
              "#d8576b"
             ],
             [
              0.6666666666666666,
              "#ed7953"
             ],
             [
              0.7777777777777778,
              "#fb9f3a"
             ],
             [
              0.8888888888888888,
              "#fdca26"
             ],
             [
              1,
              "#f0f921"
             ]
            ],
            "type": "surface"
           }
          ],
          "table": [
           {
            "cells": {
             "fill": {
              "color": "#EBF0F8"
             },
             "line": {
              "color": "white"
             }
            },
            "header": {
             "fill": {
              "color": "#C8D4E3"
             },
             "line": {
              "color": "white"
             }
            },
            "type": "table"
           }
          ]
         },
         "layout": {
          "annotationdefaults": {
           "arrowcolor": "#2a3f5f",
           "arrowhead": 0,
           "arrowwidth": 1
          },
          "autotypenumbers": "strict",
          "coloraxis": {
           "colorbar": {
            "outlinewidth": 0,
            "ticks": ""
           }
          },
          "colorscale": {
           "diverging": [
            [
             0,
             "#8e0152"
            ],
            [
             0.1,
             "#c51b7d"
            ],
            [
             0.2,
             "#de77ae"
            ],
            [
             0.3,
             "#f1b6da"
            ],
            [
             0.4,
             "#fde0ef"
            ],
            [
             0.5,
             "#f7f7f7"
            ],
            [
             0.6,
             "#e6f5d0"
            ],
            [
             0.7,
             "#b8e186"
            ],
            [
             0.8,
             "#7fbc41"
            ],
            [
             0.9,
             "#4d9221"
            ],
            [
             1,
             "#276419"
            ]
           ],
           "sequential": [
            [
             0,
             "#0d0887"
            ],
            [
             0.1111111111111111,
             "#46039f"
            ],
            [
             0.2222222222222222,
             "#7201a8"
            ],
            [
             0.3333333333333333,
             "#9c179e"
            ],
            [
             0.4444444444444444,
             "#bd3786"
            ],
            [
             0.5555555555555556,
             "#d8576b"
            ],
            [
             0.6666666666666666,
             "#ed7953"
            ],
            [
             0.7777777777777778,
             "#fb9f3a"
            ],
            [
             0.8888888888888888,
             "#fdca26"
            ],
            [
             1,
             "#f0f921"
            ]
           ],
           "sequentialminus": [
            [
             0,
             "#0d0887"
            ],
            [
             0.1111111111111111,
             "#46039f"
            ],
            [
             0.2222222222222222,
             "#7201a8"
            ],
            [
             0.3333333333333333,
             "#9c179e"
            ],
            [
             0.4444444444444444,
             "#bd3786"
            ],
            [
             0.5555555555555556,
             "#d8576b"
            ],
            [
             0.6666666666666666,
             "#ed7953"
            ],
            [
             0.7777777777777778,
             "#fb9f3a"
            ],
            [
             0.8888888888888888,
             "#fdca26"
            ],
            [
             1,
             "#f0f921"
            ]
           ]
          },
          "colorway": [
           "#636efa",
           "#EF553B",
           "#00cc96",
           "#ab63fa",
           "#FFA15A",
           "#19d3f3",
           "#FF6692",
           "#B6E880",
           "#FF97FF",
           "#FECB52"
          ],
          "font": {
           "color": "#2a3f5f"
          },
          "geo": {
           "bgcolor": "white",
           "lakecolor": "white",
           "landcolor": "#E5ECF6",
           "showlakes": true,
           "showland": true,
           "subunitcolor": "white"
          },
          "hoverlabel": {
           "align": "left"
          },
          "hovermode": "closest",
          "mapbox": {
           "style": "light"
          },
          "paper_bgcolor": "white",
          "plot_bgcolor": "#E5ECF6",
          "polar": {
           "angularaxis": {
            "gridcolor": "white",
            "linecolor": "white",
            "ticks": ""
           },
           "bgcolor": "#E5ECF6",
           "radialaxis": {
            "gridcolor": "white",
            "linecolor": "white",
            "ticks": ""
           }
          },
          "scene": {
           "xaxis": {
            "backgroundcolor": "#E5ECF6",
            "gridcolor": "white",
            "gridwidth": 2,
            "linecolor": "white",
            "showbackground": true,
            "ticks": "",
            "zerolinecolor": "white"
           },
           "yaxis": {
            "backgroundcolor": "#E5ECF6",
            "gridcolor": "white",
            "gridwidth": 2,
            "linecolor": "white",
            "showbackground": true,
            "ticks": "",
            "zerolinecolor": "white"
           },
           "zaxis": {
            "backgroundcolor": "#E5ECF6",
            "gridcolor": "white",
            "gridwidth": 2,
            "linecolor": "white",
            "showbackground": true,
            "ticks": "",
            "zerolinecolor": "white"
           }
          },
          "shapedefaults": {
           "line": {
            "color": "#2a3f5f"
           }
          },
          "ternary": {
           "aaxis": {
            "gridcolor": "white",
            "linecolor": "white",
            "ticks": ""
           },
           "baxis": {
            "gridcolor": "white",
            "linecolor": "white",
            "ticks": ""
           },
           "bgcolor": "#E5ECF6",
           "caxis": {
            "gridcolor": "white",
            "linecolor": "white",
            "ticks": ""
           }
          },
          "title": {
           "x": 0.05
          },
          "xaxis": {
           "automargin": true,
           "gridcolor": "white",
           "linecolor": "white",
           "ticks": "",
           "title": {
            "standoff": 15
           },
           "zerolinecolor": "white",
           "zerolinewidth": 2
          },
          "yaxis": {
           "automargin": true,
           "gridcolor": "white",
           "linecolor": "white",
           "ticks": "",
           "title": {
            "standoff": 15
           },
           "zerolinecolor": "white",
           "zerolinewidth": 2
          }
         }
        },
        "title": {
         "text": "Distribución de month_stop"
        },
        "xaxis": {
         "anchor": "y",
         "domain": [
          0,
          1
         ],
         "title": {
          "text": "month_stop"
         }
        },
        "yaxis": {
         "anchor": "x",
         "domain": [
          0,
          1
         ],
         "title": {
          "text": "Frecuencia"
         }
        }
       }
      }
     },
     "metadata": {},
     "output_type": "display_data"
    },
    {
     "data": {
      "application/vnd.plotly.v1+json": {
       "config": {
        "plotlyServerURL": "https://plot.ly"
       },
       "data": [
        {
         "alignmentgroup": "True",
         "hovertemplate": "variable=count<br>week_day=%{x}<br>Frecuencia=%{y}<extra></extra>",
         "legendgroup": "count",
         "marker": {
          "color": "#636efa",
          "pattern": {
           "shape": ""
          }
         },
         "name": "count",
         "offsetgroup": "count",
         "orientation": "v",
         "showlegend": true,
         "textposition": "auto",
         "type": "bar",
         "x": [
          5,
          4,
          6,
          1,
          0,
          2,
          3
         ],
         "xaxis": "x",
         "y": [
          18605,
          17933,
          15738,
          14608,
          12428,
          10664,
          10024
         ],
         "yaxis": "y"
        }
       ],
       "layout": {
        "barmode": "relative",
        "legend": {
         "title": {
          "text": "variable"
         },
         "tracegroupgap": 0
        },
        "template": {
         "data": {
          "bar": [
           {
            "error_x": {
             "color": "#2a3f5f"
            },
            "error_y": {
             "color": "#2a3f5f"
            },
            "marker": {
             "line": {
              "color": "#E5ECF6",
              "width": 0.5
             },
             "pattern": {
              "fillmode": "overlay",
              "size": 10,
              "solidity": 0.2
             }
            },
            "type": "bar"
           }
          ],
          "barpolar": [
           {
            "marker": {
             "line": {
              "color": "#E5ECF6",
              "width": 0.5
             },
             "pattern": {
              "fillmode": "overlay",
              "size": 10,
              "solidity": 0.2
             }
            },
            "type": "barpolar"
           }
          ],
          "carpet": [
           {
            "aaxis": {
             "endlinecolor": "#2a3f5f",
             "gridcolor": "white",
             "linecolor": "white",
             "minorgridcolor": "white",
             "startlinecolor": "#2a3f5f"
            },
            "baxis": {
             "endlinecolor": "#2a3f5f",
             "gridcolor": "white",
             "linecolor": "white",
             "minorgridcolor": "white",
             "startlinecolor": "#2a3f5f"
            },
            "type": "carpet"
           }
          ],
          "choropleth": [
           {
            "colorbar": {
             "outlinewidth": 0,
             "ticks": ""
            },
            "type": "choropleth"
           }
          ],
          "contour": [
           {
            "colorbar": {
             "outlinewidth": 0,
             "ticks": ""
            },
            "colorscale": [
             [
              0,
              "#0d0887"
             ],
             [
              0.1111111111111111,
              "#46039f"
             ],
             [
              0.2222222222222222,
              "#7201a8"
             ],
             [
              0.3333333333333333,
              "#9c179e"
             ],
             [
              0.4444444444444444,
              "#bd3786"
             ],
             [
              0.5555555555555556,
              "#d8576b"
             ],
             [
              0.6666666666666666,
              "#ed7953"
             ],
             [
              0.7777777777777778,
              "#fb9f3a"
             ],
             [
              0.8888888888888888,
              "#fdca26"
             ],
             [
              1,
              "#f0f921"
             ]
            ],
            "type": "contour"
           }
          ],
          "contourcarpet": [
           {
            "colorbar": {
             "outlinewidth": 0,
             "ticks": ""
            },
            "type": "contourcarpet"
           }
          ],
          "heatmap": [
           {
            "colorbar": {
             "outlinewidth": 0,
             "ticks": ""
            },
            "colorscale": [
             [
              0,
              "#0d0887"
             ],
             [
              0.1111111111111111,
              "#46039f"
             ],
             [
              0.2222222222222222,
              "#7201a8"
             ],
             [
              0.3333333333333333,
              "#9c179e"
             ],
             [
              0.4444444444444444,
              "#bd3786"
             ],
             [
              0.5555555555555556,
              "#d8576b"
             ],
             [
              0.6666666666666666,
              "#ed7953"
             ],
             [
              0.7777777777777778,
              "#fb9f3a"
             ],
             [
              0.8888888888888888,
              "#fdca26"
             ],
             [
              1,
              "#f0f921"
             ]
            ],
            "type": "heatmap"
           }
          ],
          "heatmapgl": [
           {
            "colorbar": {
             "outlinewidth": 0,
             "ticks": ""
            },
            "colorscale": [
             [
              0,
              "#0d0887"
             ],
             [
              0.1111111111111111,
              "#46039f"
             ],
             [
              0.2222222222222222,
              "#7201a8"
             ],
             [
              0.3333333333333333,
              "#9c179e"
             ],
             [
              0.4444444444444444,
              "#bd3786"
             ],
             [
              0.5555555555555556,
              "#d8576b"
             ],
             [
              0.6666666666666666,
              "#ed7953"
             ],
             [
              0.7777777777777778,
              "#fb9f3a"
             ],
             [
              0.8888888888888888,
              "#fdca26"
             ],
             [
              1,
              "#f0f921"
             ]
            ],
            "type": "heatmapgl"
           }
          ],
          "histogram": [
           {
            "marker": {
             "pattern": {
              "fillmode": "overlay",
              "size": 10,
              "solidity": 0.2
             }
            },
            "type": "histogram"
           }
          ],
          "histogram2d": [
           {
            "colorbar": {
             "outlinewidth": 0,
             "ticks": ""
            },
            "colorscale": [
             [
              0,
              "#0d0887"
             ],
             [
              0.1111111111111111,
              "#46039f"
             ],
             [
              0.2222222222222222,
              "#7201a8"
             ],
             [
              0.3333333333333333,
              "#9c179e"
             ],
             [
              0.4444444444444444,
              "#bd3786"
             ],
             [
              0.5555555555555556,
              "#d8576b"
             ],
             [
              0.6666666666666666,
              "#ed7953"
             ],
             [
              0.7777777777777778,
              "#fb9f3a"
             ],
             [
              0.8888888888888888,
              "#fdca26"
             ],
             [
              1,
              "#f0f921"
             ]
            ],
            "type": "histogram2d"
           }
          ],
          "histogram2dcontour": [
           {
            "colorbar": {
             "outlinewidth": 0,
             "ticks": ""
            },
            "colorscale": [
             [
              0,
              "#0d0887"
             ],
             [
              0.1111111111111111,
              "#46039f"
             ],
             [
              0.2222222222222222,
              "#7201a8"
             ],
             [
              0.3333333333333333,
              "#9c179e"
             ],
             [
              0.4444444444444444,
              "#bd3786"
             ],
             [
              0.5555555555555556,
              "#d8576b"
             ],
             [
              0.6666666666666666,
              "#ed7953"
             ],
             [
              0.7777777777777778,
              "#fb9f3a"
             ],
             [
              0.8888888888888888,
              "#fdca26"
             ],
             [
              1,
              "#f0f921"
             ]
            ],
            "type": "histogram2dcontour"
           }
          ],
          "mesh3d": [
           {
            "colorbar": {
             "outlinewidth": 0,
             "ticks": ""
            },
            "type": "mesh3d"
           }
          ],
          "parcoords": [
           {
            "line": {
             "colorbar": {
              "outlinewidth": 0,
              "ticks": ""
             }
            },
            "type": "parcoords"
           }
          ],
          "pie": [
           {
            "automargin": true,
            "type": "pie"
           }
          ],
          "scatter": [
           {
            "fillpattern": {
             "fillmode": "overlay",
             "size": 10,
             "solidity": 0.2
            },
            "type": "scatter"
           }
          ],
          "scatter3d": [
           {
            "line": {
             "colorbar": {
              "outlinewidth": 0,
              "ticks": ""
             }
            },
            "marker": {
             "colorbar": {
              "outlinewidth": 0,
              "ticks": ""
             }
            },
            "type": "scatter3d"
           }
          ],
          "scattercarpet": [
           {
            "marker": {
             "colorbar": {
              "outlinewidth": 0,
              "ticks": ""
             }
            },
            "type": "scattercarpet"
           }
          ],
          "scattergeo": [
           {
            "marker": {
             "colorbar": {
              "outlinewidth": 0,
              "ticks": ""
             }
            },
            "type": "scattergeo"
           }
          ],
          "scattergl": [
           {
            "marker": {
             "colorbar": {
              "outlinewidth": 0,
              "ticks": ""
             }
            },
            "type": "scattergl"
           }
          ],
          "scattermapbox": [
           {
            "marker": {
             "colorbar": {
              "outlinewidth": 0,
              "ticks": ""
             }
            },
            "type": "scattermapbox"
           }
          ],
          "scatterpolar": [
           {
            "marker": {
             "colorbar": {
              "outlinewidth": 0,
              "ticks": ""
             }
            },
            "type": "scatterpolar"
           }
          ],
          "scatterpolargl": [
           {
            "marker": {
             "colorbar": {
              "outlinewidth": 0,
              "ticks": ""
             }
            },
            "type": "scatterpolargl"
           }
          ],
          "scatterternary": [
           {
            "marker": {
             "colorbar": {
              "outlinewidth": 0,
              "ticks": ""
             }
            },
            "type": "scatterternary"
           }
          ],
          "surface": [
           {
            "colorbar": {
             "outlinewidth": 0,
             "ticks": ""
            },
            "colorscale": [
             [
              0,
              "#0d0887"
             ],
             [
              0.1111111111111111,
              "#46039f"
             ],
             [
              0.2222222222222222,
              "#7201a8"
             ],
             [
              0.3333333333333333,
              "#9c179e"
             ],
             [
              0.4444444444444444,
              "#bd3786"
             ],
             [
              0.5555555555555556,
              "#d8576b"
             ],
             [
              0.6666666666666666,
              "#ed7953"
             ],
             [
              0.7777777777777778,
              "#fb9f3a"
             ],
             [
              0.8888888888888888,
              "#fdca26"
             ],
             [
              1,
              "#f0f921"
             ]
            ],
            "type": "surface"
           }
          ],
          "table": [
           {
            "cells": {
             "fill": {
              "color": "#EBF0F8"
             },
             "line": {
              "color": "white"
             }
            },
            "header": {
             "fill": {
              "color": "#C8D4E3"
             },
             "line": {
              "color": "white"
             }
            },
            "type": "table"
           }
          ]
         },
         "layout": {
          "annotationdefaults": {
           "arrowcolor": "#2a3f5f",
           "arrowhead": 0,
           "arrowwidth": 1
          },
          "autotypenumbers": "strict",
          "coloraxis": {
           "colorbar": {
            "outlinewidth": 0,
            "ticks": ""
           }
          },
          "colorscale": {
           "diverging": [
            [
             0,
             "#8e0152"
            ],
            [
             0.1,
             "#c51b7d"
            ],
            [
             0.2,
             "#de77ae"
            ],
            [
             0.3,
             "#f1b6da"
            ],
            [
             0.4,
             "#fde0ef"
            ],
            [
             0.5,
             "#f7f7f7"
            ],
            [
             0.6,
             "#e6f5d0"
            ],
            [
             0.7,
             "#b8e186"
            ],
            [
             0.8,
             "#7fbc41"
            ],
            [
             0.9,
             "#4d9221"
            ],
            [
             1,
             "#276419"
            ]
           ],
           "sequential": [
            [
             0,
             "#0d0887"
            ],
            [
             0.1111111111111111,
             "#46039f"
            ],
            [
             0.2222222222222222,
             "#7201a8"
            ],
            [
             0.3333333333333333,
             "#9c179e"
            ],
            [
             0.4444444444444444,
             "#bd3786"
            ],
            [
             0.5555555555555556,
             "#d8576b"
            ],
            [
             0.6666666666666666,
             "#ed7953"
            ],
            [
             0.7777777777777778,
             "#fb9f3a"
            ],
            [
             0.8888888888888888,
             "#fdca26"
            ],
            [
             1,
             "#f0f921"
            ]
           ],
           "sequentialminus": [
            [
             0,
             "#0d0887"
            ],
            [
             0.1111111111111111,
             "#46039f"
            ],
            [
             0.2222222222222222,
             "#7201a8"
            ],
            [
             0.3333333333333333,
             "#9c179e"
            ],
            [
             0.4444444444444444,
             "#bd3786"
            ],
            [
             0.5555555555555556,
             "#d8576b"
            ],
            [
             0.6666666666666666,
             "#ed7953"
            ],
            [
             0.7777777777777778,
             "#fb9f3a"
            ],
            [
             0.8888888888888888,
             "#fdca26"
            ],
            [
             1,
             "#f0f921"
            ]
           ]
          },
          "colorway": [
           "#636efa",
           "#EF553B",
           "#00cc96",
           "#ab63fa",
           "#FFA15A",
           "#19d3f3",
           "#FF6692",
           "#B6E880",
           "#FF97FF",
           "#FECB52"
          ],
          "font": {
           "color": "#2a3f5f"
          },
          "geo": {
           "bgcolor": "white",
           "lakecolor": "white",
           "landcolor": "#E5ECF6",
           "showlakes": true,
           "showland": true,
           "subunitcolor": "white"
          },
          "hoverlabel": {
           "align": "left"
          },
          "hovermode": "closest",
          "mapbox": {
           "style": "light"
          },
          "paper_bgcolor": "white",
          "plot_bgcolor": "#E5ECF6",
          "polar": {
           "angularaxis": {
            "gridcolor": "white",
            "linecolor": "white",
            "ticks": ""
           },
           "bgcolor": "#E5ECF6",
           "radialaxis": {
            "gridcolor": "white",
            "linecolor": "white",
            "ticks": ""
           }
          },
          "scene": {
           "xaxis": {
            "backgroundcolor": "#E5ECF6",
            "gridcolor": "white",
            "gridwidth": 2,
            "linecolor": "white",
            "showbackground": true,
            "ticks": "",
            "zerolinecolor": "white"
           },
           "yaxis": {
            "backgroundcolor": "#E5ECF6",
            "gridcolor": "white",
            "gridwidth": 2,
            "linecolor": "white",
            "showbackground": true,
            "ticks": "",
            "zerolinecolor": "white"
           },
           "zaxis": {
            "backgroundcolor": "#E5ECF6",
            "gridcolor": "white",
            "gridwidth": 2,
            "linecolor": "white",
            "showbackground": true,
            "ticks": "",
            "zerolinecolor": "white"
           }
          },
          "shapedefaults": {
           "line": {
            "color": "#2a3f5f"
           }
          },
          "ternary": {
           "aaxis": {
            "gridcolor": "white",
            "linecolor": "white",
            "ticks": ""
           },
           "baxis": {
            "gridcolor": "white",
            "linecolor": "white",
            "ticks": ""
           },
           "bgcolor": "#E5ECF6",
           "caxis": {
            "gridcolor": "white",
            "linecolor": "white",
            "ticks": ""
           }
          },
          "title": {
           "x": 0.05
          },
          "xaxis": {
           "automargin": true,
           "gridcolor": "white",
           "linecolor": "white",
           "ticks": "",
           "title": {
            "standoff": 15
           },
           "zerolinecolor": "white",
           "zerolinewidth": 2
          },
          "yaxis": {
           "automargin": true,
           "gridcolor": "white",
           "linecolor": "white",
           "ticks": "",
           "title": {
            "standoff": 15
           },
           "zerolinecolor": "white",
           "zerolinewidth": 2
          }
         }
        },
        "title": {
         "text": "Distribución de week_day"
        },
        "xaxis": {
         "anchor": "y",
         "domain": [
          0,
          1
         ],
         "title": {
          "text": "week_day"
         }
        },
        "yaxis": {
         "anchor": "x",
         "domain": [
          0,
          1
         ],
         "title": {
          "text": "Frecuencia"
         }
        }
       }
      }
     },
     "metadata": {},
     "output_type": "display_data"
    }
   ],
   "source": [
    "import plotly.express as px\n",
    "\n",
    "for col in categorical_cols:\n",
    "    fig = px.bar(data[col].value_counts(),\n",
    "                title=f'Distribución de {col}',\n",
    "                labels={'value': 'Frecuencia', 'index': col})\n",
    "    fig.show()"
   ]
  },
  {
   "cell_type": "markdown",
   "metadata": {},
   "source": [
    "... Continuar realizando el EDA ..."
   ]
  },
  {
   "cell_type": "markdown",
   "metadata": {},
   "source": [
    "# Feature selection\n",
    "\n",
    "\n",
    "Usemos un RandomForest sencillo para la selección de variables."
   ]
  },
  {
   "cell_type": "code",
   "execution_count": 150,
   "metadata": {},
   "outputs": [],
   "source": [
    "from sklearn.preprocessing import LabelEncoder\n",
    "from sklearn.ensemble import RandomForestClassifier\n",
    "from sklearn.inspection import permutation_importance\n",
    "from sklearn.model_selection import train_test_split\n",
    "import matplotlib.pyplot as plt\n",
    "import numpy as np"
   ]
  },
  {
   "cell_type": "code",
   "execution_count": 151,
   "metadata": {},
   "outputs": [],
   "source": [
    "# 1. Encodear variable objetivo\n",
    "le = LabelEncoder()\n",
    "y = le.fit_transform(data['condition'])\n",
    "\n",
    "# 2. Encodear variables categóricas (como RF no asume orden, solo se usan umbrales, entonces le está bien)\n",
    "cat_vars = data.select_dtypes(include=['category']).columns.tolist()\n",
    "X = data.drop(columns=['condition']).copy()\n",
    "\n",
    "encoders = {}\n",
    "for col in cat_vars:\n",
    "    if col in X.columns:\n",
    "        encoders[col] = LabelEncoder()\n",
    "        X[col] = encoders[col].fit_transform(X[col])"
   ]
  },
  {
   "cell_type": "code",
   "execution_count": 152,
   "metadata": {},
   "outputs": [
    {
     "data": {
      "text/html": [
       "<style>#sk-container-id-1 {\n",
       "  /* Definition of color scheme common for light and dark mode */\n",
       "  --sklearn-color-text: black;\n",
       "  --sklearn-color-line: gray;\n",
       "  /* Definition of color scheme for unfitted estimators */\n",
       "  --sklearn-color-unfitted-level-0: #fff5e6;\n",
       "  --sklearn-color-unfitted-level-1: #f6e4d2;\n",
       "  --sklearn-color-unfitted-level-2: #ffe0b3;\n",
       "  --sklearn-color-unfitted-level-3: chocolate;\n",
       "  /* Definition of color scheme for fitted estimators */\n",
       "  --sklearn-color-fitted-level-0: #f0f8ff;\n",
       "  --sklearn-color-fitted-level-1: #d4ebff;\n",
       "  --sklearn-color-fitted-level-2: #b3dbfd;\n",
       "  --sklearn-color-fitted-level-3: cornflowerblue;\n",
       "\n",
       "  /* Specific color for light theme */\n",
       "  --sklearn-color-text-on-default-background: var(--sg-text-color, var(--theme-code-foreground, var(--jp-content-font-color1, black)));\n",
       "  --sklearn-color-background: var(--sg-background-color, var(--theme-background, var(--jp-layout-color0, white)));\n",
       "  --sklearn-color-border-box: var(--sg-text-color, var(--theme-code-foreground, var(--jp-content-font-color1, black)));\n",
       "  --sklearn-color-icon: #696969;\n",
       "\n",
       "  @media (prefers-color-scheme: dark) {\n",
       "    /* Redefinition of color scheme for dark theme */\n",
       "    --sklearn-color-text-on-default-background: var(--sg-text-color, var(--theme-code-foreground, var(--jp-content-font-color1, white)));\n",
       "    --sklearn-color-background: var(--sg-background-color, var(--theme-background, var(--jp-layout-color0, #111)));\n",
       "    --sklearn-color-border-box: var(--sg-text-color, var(--theme-code-foreground, var(--jp-content-font-color1, white)));\n",
       "    --sklearn-color-icon: #878787;\n",
       "  }\n",
       "}\n",
       "\n",
       "#sk-container-id-1 {\n",
       "  color: var(--sklearn-color-text);\n",
       "}\n",
       "\n",
       "#sk-container-id-1 pre {\n",
       "  padding: 0;\n",
       "}\n",
       "\n",
       "#sk-container-id-1 input.sk-hidden--visually {\n",
       "  border: 0;\n",
       "  clip: rect(1px 1px 1px 1px);\n",
       "  clip: rect(1px, 1px, 1px, 1px);\n",
       "  height: 1px;\n",
       "  margin: -1px;\n",
       "  overflow: hidden;\n",
       "  padding: 0;\n",
       "  position: absolute;\n",
       "  width: 1px;\n",
       "}\n",
       "\n",
       "#sk-container-id-1 div.sk-dashed-wrapped {\n",
       "  border: 1px dashed var(--sklearn-color-line);\n",
       "  margin: 0 0.4em 0.5em 0.4em;\n",
       "  box-sizing: border-box;\n",
       "  padding-bottom: 0.4em;\n",
       "  background-color: var(--sklearn-color-background);\n",
       "}\n",
       "\n",
       "#sk-container-id-1 div.sk-container {\n",
       "  /* jupyter's `normalize.less` sets `[hidden] { display: none; }`\n",
       "     but bootstrap.min.css set `[hidden] { display: none !important; }`\n",
       "     so we also need the `!important` here to be able to override the\n",
       "     default hidden behavior on the sphinx rendered scikit-learn.org.\n",
       "     See: https://github.com/scikit-learn/scikit-learn/issues/21755 */\n",
       "  display: inline-block !important;\n",
       "  position: relative;\n",
       "}\n",
       "\n",
       "#sk-container-id-1 div.sk-text-repr-fallback {\n",
       "  display: none;\n",
       "}\n",
       "\n",
       "div.sk-parallel-item,\n",
       "div.sk-serial,\n",
       "div.sk-item {\n",
       "  /* draw centered vertical line to link estimators */\n",
       "  background-image: linear-gradient(var(--sklearn-color-text-on-default-background), var(--sklearn-color-text-on-default-background));\n",
       "  background-size: 2px 100%;\n",
       "  background-repeat: no-repeat;\n",
       "  background-position: center center;\n",
       "}\n",
       "\n",
       "/* Parallel-specific style estimator block */\n",
       "\n",
       "#sk-container-id-1 div.sk-parallel-item::after {\n",
       "  content: \"\";\n",
       "  width: 100%;\n",
       "  border-bottom: 2px solid var(--sklearn-color-text-on-default-background);\n",
       "  flex-grow: 1;\n",
       "}\n",
       "\n",
       "#sk-container-id-1 div.sk-parallel {\n",
       "  display: flex;\n",
       "  align-items: stretch;\n",
       "  justify-content: center;\n",
       "  background-color: var(--sklearn-color-background);\n",
       "  position: relative;\n",
       "}\n",
       "\n",
       "#sk-container-id-1 div.sk-parallel-item {\n",
       "  display: flex;\n",
       "  flex-direction: column;\n",
       "}\n",
       "\n",
       "#sk-container-id-1 div.sk-parallel-item:first-child::after {\n",
       "  align-self: flex-end;\n",
       "  width: 50%;\n",
       "}\n",
       "\n",
       "#sk-container-id-1 div.sk-parallel-item:last-child::after {\n",
       "  align-self: flex-start;\n",
       "  width: 50%;\n",
       "}\n",
       "\n",
       "#sk-container-id-1 div.sk-parallel-item:only-child::after {\n",
       "  width: 0;\n",
       "}\n",
       "\n",
       "/* Serial-specific style estimator block */\n",
       "\n",
       "#sk-container-id-1 div.sk-serial {\n",
       "  display: flex;\n",
       "  flex-direction: column;\n",
       "  align-items: center;\n",
       "  background-color: var(--sklearn-color-background);\n",
       "  padding-right: 1em;\n",
       "  padding-left: 1em;\n",
       "}\n",
       "\n",
       "\n",
       "/* Toggleable style: style used for estimator/Pipeline/ColumnTransformer box that is\n",
       "clickable and can be expanded/collapsed.\n",
       "- Pipeline and ColumnTransformer use this feature and define the default style\n",
       "- Estimators will overwrite some part of the style using the `sk-estimator` class\n",
       "*/\n",
       "\n",
       "/* Pipeline and ColumnTransformer style (default) */\n",
       "\n",
       "#sk-container-id-1 div.sk-toggleable {\n",
       "  /* Default theme specific background. It is overwritten whether we have a\n",
       "  specific estimator or a Pipeline/ColumnTransformer */\n",
       "  background-color: var(--sklearn-color-background);\n",
       "}\n",
       "\n",
       "/* Toggleable label */\n",
       "#sk-container-id-1 label.sk-toggleable__label {\n",
       "  cursor: pointer;\n",
       "  display: block;\n",
       "  width: 100%;\n",
       "  margin-bottom: 0;\n",
       "  padding: 0.5em;\n",
       "  box-sizing: border-box;\n",
       "  text-align: center;\n",
       "}\n",
       "\n",
       "#sk-container-id-1 label.sk-toggleable__label-arrow:before {\n",
       "  /* Arrow on the left of the label */\n",
       "  content: \"▸\";\n",
       "  float: left;\n",
       "  margin-right: 0.25em;\n",
       "  color: var(--sklearn-color-icon);\n",
       "}\n",
       "\n",
       "#sk-container-id-1 label.sk-toggleable__label-arrow:hover:before {\n",
       "  color: var(--sklearn-color-text);\n",
       "}\n",
       "\n",
       "/* Toggleable content - dropdown */\n",
       "\n",
       "#sk-container-id-1 div.sk-toggleable__content {\n",
       "  max-height: 0;\n",
       "  max-width: 0;\n",
       "  overflow: hidden;\n",
       "  text-align: left;\n",
       "  /* unfitted */\n",
       "  background-color: var(--sklearn-color-unfitted-level-0);\n",
       "}\n",
       "\n",
       "#sk-container-id-1 div.sk-toggleable__content.fitted {\n",
       "  /* fitted */\n",
       "  background-color: var(--sklearn-color-fitted-level-0);\n",
       "}\n",
       "\n",
       "#sk-container-id-1 div.sk-toggleable__content pre {\n",
       "  margin: 0.2em;\n",
       "  border-radius: 0.25em;\n",
       "  color: var(--sklearn-color-text);\n",
       "  /* unfitted */\n",
       "  background-color: var(--sklearn-color-unfitted-level-0);\n",
       "}\n",
       "\n",
       "#sk-container-id-1 div.sk-toggleable__content.fitted pre {\n",
       "  /* unfitted */\n",
       "  background-color: var(--sklearn-color-fitted-level-0);\n",
       "}\n",
       "\n",
       "#sk-container-id-1 input.sk-toggleable__control:checked~div.sk-toggleable__content {\n",
       "  /* Expand drop-down */\n",
       "  max-height: 200px;\n",
       "  max-width: 100%;\n",
       "  overflow: auto;\n",
       "}\n",
       "\n",
       "#sk-container-id-1 input.sk-toggleable__control:checked~label.sk-toggleable__label-arrow:before {\n",
       "  content: \"▾\";\n",
       "}\n",
       "\n",
       "/* Pipeline/ColumnTransformer-specific style */\n",
       "\n",
       "#sk-container-id-1 div.sk-label input.sk-toggleable__control:checked~label.sk-toggleable__label {\n",
       "  color: var(--sklearn-color-text);\n",
       "  background-color: var(--sklearn-color-unfitted-level-2);\n",
       "}\n",
       "\n",
       "#sk-container-id-1 div.sk-label.fitted input.sk-toggleable__control:checked~label.sk-toggleable__label {\n",
       "  background-color: var(--sklearn-color-fitted-level-2);\n",
       "}\n",
       "\n",
       "/* Estimator-specific style */\n",
       "\n",
       "/* Colorize estimator box */\n",
       "#sk-container-id-1 div.sk-estimator input.sk-toggleable__control:checked~label.sk-toggleable__label {\n",
       "  /* unfitted */\n",
       "  background-color: var(--sklearn-color-unfitted-level-2);\n",
       "}\n",
       "\n",
       "#sk-container-id-1 div.sk-estimator.fitted input.sk-toggleable__control:checked~label.sk-toggleable__label {\n",
       "  /* fitted */\n",
       "  background-color: var(--sklearn-color-fitted-level-2);\n",
       "}\n",
       "\n",
       "#sk-container-id-1 div.sk-label label.sk-toggleable__label,\n",
       "#sk-container-id-1 div.sk-label label {\n",
       "  /* The background is the default theme color */\n",
       "  color: var(--sklearn-color-text-on-default-background);\n",
       "}\n",
       "\n",
       "/* On hover, darken the color of the background */\n",
       "#sk-container-id-1 div.sk-label:hover label.sk-toggleable__label {\n",
       "  color: var(--sklearn-color-text);\n",
       "  background-color: var(--sklearn-color-unfitted-level-2);\n",
       "}\n",
       "\n",
       "/* Label box, darken color on hover, fitted */\n",
       "#sk-container-id-1 div.sk-label.fitted:hover label.sk-toggleable__label.fitted {\n",
       "  color: var(--sklearn-color-text);\n",
       "  background-color: var(--sklearn-color-fitted-level-2);\n",
       "}\n",
       "\n",
       "/* Estimator label */\n",
       "\n",
       "#sk-container-id-1 div.sk-label label {\n",
       "  font-family: monospace;\n",
       "  font-weight: bold;\n",
       "  display: inline-block;\n",
       "  line-height: 1.2em;\n",
       "}\n",
       "\n",
       "#sk-container-id-1 div.sk-label-container {\n",
       "  text-align: center;\n",
       "}\n",
       "\n",
       "/* Estimator-specific */\n",
       "#sk-container-id-1 div.sk-estimator {\n",
       "  font-family: monospace;\n",
       "  border: 1px dotted var(--sklearn-color-border-box);\n",
       "  border-radius: 0.25em;\n",
       "  box-sizing: border-box;\n",
       "  margin-bottom: 0.5em;\n",
       "  /* unfitted */\n",
       "  background-color: var(--sklearn-color-unfitted-level-0);\n",
       "}\n",
       "\n",
       "#sk-container-id-1 div.sk-estimator.fitted {\n",
       "  /* fitted */\n",
       "  background-color: var(--sklearn-color-fitted-level-0);\n",
       "}\n",
       "\n",
       "/* on hover */\n",
       "#sk-container-id-1 div.sk-estimator:hover {\n",
       "  /* unfitted */\n",
       "  background-color: var(--sklearn-color-unfitted-level-2);\n",
       "}\n",
       "\n",
       "#sk-container-id-1 div.sk-estimator.fitted:hover {\n",
       "  /* fitted */\n",
       "  background-color: var(--sklearn-color-fitted-level-2);\n",
       "}\n",
       "\n",
       "/* Specification for estimator info (e.g. \"i\" and \"?\") */\n",
       "\n",
       "/* Common style for \"i\" and \"?\" */\n",
       "\n",
       ".sk-estimator-doc-link,\n",
       "a:link.sk-estimator-doc-link,\n",
       "a:visited.sk-estimator-doc-link {\n",
       "  float: right;\n",
       "  font-size: smaller;\n",
       "  line-height: 1em;\n",
       "  font-family: monospace;\n",
       "  background-color: var(--sklearn-color-background);\n",
       "  border-radius: 1em;\n",
       "  height: 1em;\n",
       "  width: 1em;\n",
       "  text-decoration: none !important;\n",
       "  margin-left: 1ex;\n",
       "  /* unfitted */\n",
       "  border: var(--sklearn-color-unfitted-level-1) 1pt solid;\n",
       "  color: var(--sklearn-color-unfitted-level-1);\n",
       "}\n",
       "\n",
       ".sk-estimator-doc-link.fitted,\n",
       "a:link.sk-estimator-doc-link.fitted,\n",
       "a:visited.sk-estimator-doc-link.fitted {\n",
       "  /* fitted */\n",
       "  border: var(--sklearn-color-fitted-level-1) 1pt solid;\n",
       "  color: var(--sklearn-color-fitted-level-1);\n",
       "}\n",
       "\n",
       "/* On hover */\n",
       "div.sk-estimator:hover .sk-estimator-doc-link:hover,\n",
       ".sk-estimator-doc-link:hover,\n",
       "div.sk-label-container:hover .sk-estimator-doc-link:hover,\n",
       ".sk-estimator-doc-link:hover {\n",
       "  /* unfitted */\n",
       "  background-color: var(--sklearn-color-unfitted-level-3);\n",
       "  color: var(--sklearn-color-background);\n",
       "  text-decoration: none;\n",
       "}\n",
       "\n",
       "div.sk-estimator.fitted:hover .sk-estimator-doc-link.fitted:hover,\n",
       ".sk-estimator-doc-link.fitted:hover,\n",
       "div.sk-label-container:hover .sk-estimator-doc-link.fitted:hover,\n",
       ".sk-estimator-doc-link.fitted:hover {\n",
       "  /* fitted */\n",
       "  background-color: var(--sklearn-color-fitted-level-3);\n",
       "  color: var(--sklearn-color-background);\n",
       "  text-decoration: none;\n",
       "}\n",
       "\n",
       "/* Span, style for the box shown on hovering the info icon */\n",
       ".sk-estimator-doc-link span {\n",
       "  display: none;\n",
       "  z-index: 9999;\n",
       "  position: relative;\n",
       "  font-weight: normal;\n",
       "  right: .2ex;\n",
       "  padding: .5ex;\n",
       "  margin: .5ex;\n",
       "  width: min-content;\n",
       "  min-width: 20ex;\n",
       "  max-width: 50ex;\n",
       "  color: var(--sklearn-color-text);\n",
       "  box-shadow: 2pt 2pt 4pt #999;\n",
       "  /* unfitted */\n",
       "  background: var(--sklearn-color-unfitted-level-0);\n",
       "  border: .5pt solid var(--sklearn-color-unfitted-level-3);\n",
       "}\n",
       "\n",
       ".sk-estimator-doc-link.fitted span {\n",
       "  /* fitted */\n",
       "  background: var(--sklearn-color-fitted-level-0);\n",
       "  border: var(--sklearn-color-fitted-level-3);\n",
       "}\n",
       "\n",
       ".sk-estimator-doc-link:hover span {\n",
       "  display: block;\n",
       "}\n",
       "\n",
       "/* \"?\"-specific style due to the `<a>` HTML tag */\n",
       "\n",
       "#sk-container-id-1 a.estimator_doc_link {\n",
       "  float: right;\n",
       "  font-size: 1rem;\n",
       "  line-height: 1em;\n",
       "  font-family: monospace;\n",
       "  background-color: var(--sklearn-color-background);\n",
       "  border-radius: 1rem;\n",
       "  height: 1rem;\n",
       "  width: 1rem;\n",
       "  text-decoration: none;\n",
       "  /* unfitted */\n",
       "  color: var(--sklearn-color-unfitted-level-1);\n",
       "  border: var(--sklearn-color-unfitted-level-1) 1pt solid;\n",
       "}\n",
       "\n",
       "#sk-container-id-1 a.estimator_doc_link.fitted {\n",
       "  /* fitted */\n",
       "  border: var(--sklearn-color-fitted-level-1) 1pt solid;\n",
       "  color: var(--sklearn-color-fitted-level-1);\n",
       "}\n",
       "\n",
       "/* On hover */\n",
       "#sk-container-id-1 a.estimator_doc_link:hover {\n",
       "  /* unfitted */\n",
       "  background-color: var(--sklearn-color-unfitted-level-3);\n",
       "  color: var(--sklearn-color-background);\n",
       "  text-decoration: none;\n",
       "}\n",
       "\n",
       "#sk-container-id-1 a.estimator_doc_link.fitted:hover {\n",
       "  /* fitted */\n",
       "  background-color: var(--sklearn-color-fitted-level-3);\n",
       "}\n",
       "</style><div id=\"sk-container-id-1\" class=\"sk-top-container\"><div class=\"sk-text-repr-fallback\"><pre>RandomForestClassifier(random_state=42)</pre><b>In a Jupyter environment, please rerun this cell to show the HTML representation or trust the notebook. <br />On GitHub, the HTML representation is unable to render, please try loading this page with nbviewer.org.</b></div><div class=\"sk-container\" hidden><div class=\"sk-item\"><div class=\"sk-estimator fitted sk-toggleable\"><input class=\"sk-toggleable__control sk-hidden--visually\" id=\"sk-estimator-id-1\" type=\"checkbox\" checked><label for=\"sk-estimator-id-1\" class=\"sk-toggleable__label fitted sk-toggleable__label-arrow fitted\">&nbsp;&nbsp;RandomForestClassifier<a class=\"sk-estimator-doc-link fitted\" rel=\"noreferrer\" target=\"_blank\" href=\"https://scikit-learn.org/1.4/modules/generated/sklearn.ensemble.RandomForestClassifier.html\">?<span>Documentation for RandomForestClassifier</span></a><span class=\"sk-estimator-doc-link fitted\">i<span>Fitted</span></span></label><div class=\"sk-toggleable__content fitted\"><pre>RandomForestClassifier(random_state=42)</pre></div> </div></div></div></div>"
      ],
      "text/plain": [
       "RandomForestClassifier(random_state=42)"
      ]
     },
     "execution_count": 152,
     "metadata": {},
     "output_type": "execute_result"
    }
   ],
   "source": [
    "# 3. Split ANTES de feature selection (evita data leakage)\n",
    "X_train, X_test, y_train, y_test = train_test_split(\n",
    "    X, y, test_size=0.2, random_state=42, stratify=y\n",
    ")\n",
    "\n",
    "# 4. Feature selection SOLO en train\n",
    "rf = RandomForestClassifier(n_estimators=100, random_state=42)\n",
    "rf.fit(X_train, y_train)"
   ]
  },
  {
   "cell_type": "code",
   "execution_count": null,
   "metadata": {},
   "outputs": [
    {
     "data": {
      "image/png": "[encoded data removed]",
      "text/plain": [
       "<Figure size 1000x600 with 1 Axes>"
      ]
     },
     "metadata": {},
     "output_type": "display_data"
    }
   ],
   "source": [
    "# 5. Visualizar importancias\n",
    "importances = rf.feature_importances_ # Extrae el array de importancias del modelo entrenado\n",
    "sorted_idx = np.argsort(importances) # Índices que ordenarían las importancias\n",
    "\n",
    "plt.figure(figsize=(10, 6))\n",
    "plt.barh(range(len(sorted_idx)), importances[sorted_idx], color='steelblue', edgecolor='black') # Posiciones\n",
    "plt.yticks(range(len(sorted_idx)), X.columns[sorted_idx]) # Importancias de menor a mayor\n",
    "plt.xlabel('Importancia')\n",
    "plt.title('Feature Importance - RandomForest')\n",
    "plt.tight_layout()\n",
    "plt.show()"
   ]
  },
  {
   "cell_type": "code",
   "execution_count": 158,
   "metadata": {},
   "outputs": [
    {
     "data": {
      "text/plain": [
       "(100000, 36)"
      ]
     },
     "execution_count": 158,
     "metadata": {},
     "output_type": "execute_result"
    }
   ],
   "source": [
    "data.shape"
   ]
  },
  {
   "cell_type": "code",
   "execution_count": 156,
   "metadata": {},
   "outputs": [
    {
     "data": {
      "text/html": [
       "<div>\n",
       "<style scoped>\n",
       "    .dataframe tbody tr th:only-of-type {\n",
       "        vertical-align: middle;\n",
       "    }\n",
       "\n",
       "    .dataframe tbody tr th {\n",
       "        vertical-align: top;\n",
       "    }\n",
       "\n",
       "    .dataframe thead th {\n",
       "        text-align: right;\n",
       "    }\n",
       "</style>\n",
       "<table border=\"1\" class=\"dataframe\">\n",
       "  <thead>\n",
       "    <tr style=\"text-align: right;\">\n",
       "      <th></th>\n",
       "      <th>Feature</th>\n",
       "      <th>Importance</th>\n",
       "      <th>Cumulative</th>\n",
       "      <th>% Cumulative</th>\n",
       "    </tr>\n",
       "  </thead>\n",
       "  <tbody>\n",
       "    <tr>\n",
       "      <th>8</th>\n",
       "      <td>initial_quantity</td>\n",
       "      <td>0.156237</td>\n",
       "      <td>0.156237</td>\n",
       "      <td>15.623661</td>\n",
       "    </tr>\n",
       "    <tr>\n",
       "      <th>1</th>\n",
       "      <td>listing_type_id</td>\n",
       "      <td>0.118564</td>\n",
       "      <td>0.274800</td>\n",
       "      <td>27.480047</td>\n",
       "    </tr>\n",
       "    <tr>\n",
       "      <th>2</th>\n",
       "      <td>price</td>\n",
       "      <td>0.115878</td>\n",
       "      <td>0.390678</td>\n",
       "      <td>39.067835</td>\n",
       "    </tr>\n",
       "    <tr>\n",
       "      <th>12</th>\n",
       "      <td>seller_city</td>\n",
       "      <td>0.112155</td>\n",
       "      <td>0.502833</td>\n",
       "      <td>50.283341</td>\n",
       "    </tr>\n",
       "    <tr>\n",
       "      <th>0</th>\n",
       "      <td>base_price</td>\n",
       "      <td>0.105853</td>\n",
       "      <td>0.608687</td>\n",
       "      <td>60.868678</td>\n",
       "    </tr>\n",
       "    <tr>\n",
       "      <th>10</th>\n",
       "      <td>available_quantity</td>\n",
       "      <td>0.086916</td>\n",
       "      <td>0.695603</td>\n",
       "      <td>69.560318</td>\n",
       "    </tr>\n",
       "    <tr>\n",
       "      <th>33</th>\n",
       "      <td>week_day</td>\n",
       "      <td>0.052980</td>\n",
       "      <td>0.748584</td>\n",
       "      <td>74.858358</td>\n",
       "    </tr>\n",
       "    <tr>\n",
       "      <th>9</th>\n",
       "      <td>sold_quantity</td>\n",
       "      <td>0.046025</td>\n",
       "      <td>0.794609</td>\n",
       "      <td>79.460903</td>\n",
       "    </tr>\n",
       "    <tr>\n",
       "      <th>11</th>\n",
       "      <td>seller_state</td>\n",
       "      <td>0.026885</td>\n",
       "      <td>0.821494</td>\n",
       "      <td>82.149416</td>\n",
       "    </tr>\n",
       "    <tr>\n",
       "      <th>28</th>\n",
       "      <td>garantia_aplica</td>\n",
       "      <td>0.020679</td>\n",
       "      <td>0.842173</td>\n",
       "      <td>84.217298</td>\n",
       "    </tr>\n",
       "    <tr>\n",
       "      <th>15</th>\n",
       "      <td>shipping_mode</td>\n",
       "      <td>0.019716</td>\n",
       "      <td>0.861889</td>\n",
       "      <td>86.188897</td>\n",
       "    </tr>\n",
       "    <tr>\n",
       "      <th>30</th>\n",
       "      <td>month_start</td>\n",
       "      <td>0.015791</td>\n",
       "      <td>0.877680</td>\n",
       "      <td>87.767998</td>\n",
       "    </tr>\n",
       "    <tr>\n",
       "      <th>32</th>\n",
       "      <td>month_stop</td>\n",
       "      <td>0.014978</td>\n",
       "      <td>0.892658</td>\n",
       "      <td>89.265797</td>\n",
       "    </tr>\n",
       "    <tr>\n",
       "      <th>21</th>\n",
       "      <td>tarjeta_de_credito</td>\n",
       "      <td>0.014503</td>\n",
       "      <td>0.907161</td>\n",
       "      <td>90.716092</td>\n",
       "    </tr>\n",
       "    <tr>\n",
       "      <th>23</th>\n",
       "      <td>dragged_bids_and_visits</td>\n",
       "      <td>0.012959</td>\n",
       "      <td>0.920120</td>\n",
       "      <td>92.011986</td>\n",
       "    </tr>\n",
       "    <tr>\n",
       "      <th>22</th>\n",
       "      <td>transferencia_bancaria</td>\n",
       "      <td>0.012308</td>\n",
       "      <td>0.932427</td>\n",
       "      <td>93.242742</td>\n",
       "    </tr>\n",
       "    <tr>\n",
       "      <th>13</th>\n",
       "      <td>shipping_local_pick_up</td>\n",
       "      <td>0.010812</td>\n",
       "      <td>0.943240</td>\n",
       "      <td>94.323956</td>\n",
       "    </tr>\n",
       "    <tr>\n",
       "      <th>19</th>\n",
       "      <td>efectivo</td>\n",
       "      <td>0.010128</td>\n",
       "      <td>0.953367</td>\n",
       "      <td>95.336742</td>\n",
       "    </tr>\n",
       "    <tr>\n",
       "      <th>6</th>\n",
       "      <td>automatic_relist</td>\n",
       "      <td>0.009739</td>\n",
       "      <td>0.963106</td>\n",
       "      <td>96.310640</td>\n",
       "    </tr>\n",
       "    <tr>\n",
       "      <th>34</th>\n",
       "      <td>days_active</td>\n",
       "      <td>0.006559</td>\n",
       "      <td>0.969665</td>\n",
       "      <td>96.966502</td>\n",
       "    </tr>\n",
       "    <tr>\n",
       "      <th>16</th>\n",
       "      <td>acordar_con_el_comprador</td>\n",
       "      <td>0.006392</td>\n",
       "      <td>0.976057</td>\n",
       "      <td>97.605671</td>\n",
       "    </tr>\n",
       "    <tr>\n",
       "      <th>14</th>\n",
       "      <td>shipping_free_shipping</td>\n",
       "      <td>0.005796</td>\n",
       "      <td>0.981853</td>\n",
       "      <td>98.185267</td>\n",
       "    </tr>\n",
       "    <tr>\n",
       "      <th>7</th>\n",
       "      <td>status</td>\n",
       "      <td>0.005107</td>\n",
       "      <td>0.986960</td>\n",
       "      <td>98.695970</td>\n",
       "    </tr>\n",
       "    <tr>\n",
       "      <th>3</th>\n",
       "      <td>buying_mode</td>\n",
       "      <td>0.003294</td>\n",
       "      <td>0.990253</td>\n",
       "      <td>99.025348</td>\n",
       "    </tr>\n",
       "    <tr>\n",
       "      <th>20</th>\n",
       "      <td>giro_postal</td>\n",
       "      <td>0.002763</td>\n",
       "      <td>0.993017</td>\n",
       "      <td>99.301660</td>\n",
       "    </tr>\n",
       "    <tr>\n",
       "      <th>26</th>\n",
       "      <td>good_quality_thumbnail</td>\n",
       "      <td>0.001764</td>\n",
       "      <td>0.994780</td>\n",
       "      <td>99.478019</td>\n",
       "    </tr>\n",
       "    <tr>\n",
       "      <th>4</th>\n",
       "      <td>accepts_mercadopago</td>\n",
       "      <td>0.001637</td>\n",
       "      <td>0.996417</td>\n",
       "      <td>99.641680</td>\n",
       "    </tr>\n",
       "    <tr>\n",
       "      <th>18</th>\n",
       "      <td>contra_reembolso</td>\n",
       "      <td>0.000822</td>\n",
       "      <td>0.997239</td>\n",
       "      <td>99.723851</td>\n",
       "    </tr>\n",
       "    <tr>\n",
       "      <th>5</th>\n",
       "      <td>currency_id</td>\n",
       "      <td>0.000729</td>\n",
       "      <td>0.997967</td>\n",
       "      <td>99.796701</td>\n",
       "    </tr>\n",
       "    <tr>\n",
       "      <th>24</th>\n",
       "      <td>dragged_visits</td>\n",
       "      <td>0.000569</td>\n",
       "      <td>0.998536</td>\n",
       "      <td>99.853625</td>\n",
       "    </tr>\n",
       "    <tr>\n",
       "      <th>25</th>\n",
       "      <td>free_relist</td>\n",
       "      <td>0.000551</td>\n",
       "      <td>0.999087</td>\n",
       "      <td>99.908726</td>\n",
       "    </tr>\n",
       "    <tr>\n",
       "      <th>17</th>\n",
       "      <td>cheque_certificado</td>\n",
       "      <td>0.000462</td>\n",
       "      <td>0.999550</td>\n",
       "      <td>99.954954</td>\n",
       "    </tr>\n",
       "    <tr>\n",
       "      <th>29</th>\n",
       "      <td>year_start</td>\n",
       "      <td>0.000311</td>\n",
       "      <td>0.999861</td>\n",
       "      <td>99.986102</td>\n",
       "    </tr>\n",
       "    <tr>\n",
       "      <th>31</th>\n",
       "      <td>year_stop</td>\n",
       "      <td>0.000120</td>\n",
       "      <td>0.999981</td>\n",
       "      <td>99.998110</td>\n",
       "    </tr>\n",
       "    <tr>\n",
       "      <th>27</th>\n",
       "      <td>poor_quality_thumbnail</td>\n",
       "      <td>0.000019</td>\n",
       "      <td>1.000000</td>\n",
       "      <td>100.000000</td>\n",
       "    </tr>\n",
       "  </tbody>\n",
       "</table>\n",
       "</div>"
      ],
      "text/plain": [
       "                     Feature  Importance  Cumulative  % Cumulative\n",
       "8           initial_quantity    0.156237    0.156237     15.623661\n",
       "1            listing_type_id    0.118564    0.274800     27.480047\n",
       "2                      price    0.115878    0.390678     39.067835\n",
       "12               seller_city    0.112155    0.502833     50.283341\n",
       "0                 base_price    0.105853    0.608687     60.868678\n",
       "10        available_quantity    0.086916    0.695603     69.560318\n",
       "33                  week_day    0.052980    0.748584     74.858358\n",
       "9              sold_quantity    0.046025    0.794609     79.460903\n",
       "11              seller_state    0.026885    0.821494     82.149416\n",
       "28           garantia_aplica    0.020679    0.842173     84.217298\n",
       "15             shipping_mode    0.019716    0.861889     86.188897\n",
       "30               month_start    0.015791    0.877680     87.767998\n",
       "32                month_stop    0.014978    0.892658     89.265797\n",
       "21        tarjeta_de_credito    0.014503    0.907161     90.716092\n",
       "23   dragged_bids_and_visits    0.012959    0.920120     92.011986\n",
       "22    transferencia_bancaria    0.012308    0.932427     93.242742\n",
       "13    shipping_local_pick_up    0.010812    0.943240     94.323956\n",
       "19                  efectivo    0.010128    0.953367     95.336742\n",
       "6           automatic_relist    0.009739    0.963106     96.310640\n",
       "34               days_active    0.006559    0.969665     96.966502\n",
       "16  acordar_con_el_comprador    0.006392    0.976057     97.605671\n",
       "14    shipping_free_shipping    0.005796    0.981853     98.185267\n",
       "7                     status    0.005107    0.986960     98.695970\n",
       "3                buying_mode    0.003294    0.990253     99.025348\n",
       "20               giro_postal    0.002763    0.993017     99.301660\n",
       "26    good_quality_thumbnail    0.001764    0.994780     99.478019\n",
       "4        accepts_mercadopago    0.001637    0.996417     99.641680\n",
       "18          contra_reembolso    0.000822    0.997239     99.723851\n",
       "5                currency_id    0.000729    0.997967     99.796701\n",
       "24            dragged_visits    0.000569    0.998536     99.853625\n",
       "25               free_relist    0.000551    0.999087     99.908726\n",
       "17        cheque_certificado    0.000462    0.999550     99.954954\n",
       "29                year_start    0.000311    0.999861     99.986102\n",
       "31                 year_stop    0.000120    0.999981     99.998110\n",
       "27    poor_quality_thumbnail    0.000019    1.000000    100.000000"
      ]
     },
     "execution_count": 156,
     "metadata": {},
     "output_type": "execute_result"
    }
   ],
   "source": [
    "# DataFrame con importancias\n",
    "df_importance = pd.DataFrame({\n",
    "    'Feature': X.columns,\n",
    "    'Importance': importances\n",
    "}).sort_values('Importance', ascending=False)\n",
    "\n",
    "# Calcular importancia acumulada\n",
    "df_importance['Cumulative'] = df_importance['Importance'].cumsum()\n",
    "df_importance['% Cumulative'] = (df_importance['Cumulative'] / df_importance['Importance'].sum()) * 100\n",
    "\n",
    "df_importance"
   ]
  },
  {
   "cell_type": "code",
   "execution_count": 159,
   "metadata": {},
   "outputs": [
    {
     "name": "stdout",
     "output_type": "stream",
     "text": [
      "Seleccionamos 22 features que capturan 90% de importancia\n",
      "['initial_quantity', 'listing_type_id', 'price', 'seller_city', 'base_price', 'available_quantity', 'week_day', 'sold_quantity', 'seller_state', 'garantia_aplica', 'shipping_mode', 'month_start', 'month_stop', 'tarjeta_de_credito', 'dragged_bids_and_visits', 'transferencia_bancaria', 'shipping_local_pick_up', 'efectivo', 'automatic_relist', 'days_active', 'acordar_con_el_comprador', 'shipping_free_shipping']\n"
     ]
    }
   ],
   "source": [
    "# Seleccionemos las 14 features que abarcan cerca del 90% de la importancia acumulada\n",
    "\n",
    "threshold = 90\n",
    "n_features = (df_importance['% Cumulative'] >= threshold).idxmax() + 1\n",
    "\n",
    "print(f\"Seleccionamos {n_features} features que capturan {threshold}% de importancia\")\n",
    "selected_features = df_importance.head(n_features)['Feature'].tolist()\n",
    "print(selected_features)"
   ]
  },
  {
   "cell_type": "code",
   "execution_count": 160,
   "metadata": {},
   "outputs": [],
   "source": [
    "# Añadamos la variable objetivo a las columnas seleccionadas\n",
    "\n",
    "cols_to_export = selected_features + ['condition']"
   ]
  },
  {
   "cell_type": "code",
   "execution_count": 167,
   "metadata": {},
   "outputs": [],
   "source": [
    "# Ruta relativa al notebook\n",
    "project_root = Path.cwd().parent\n",
    "output_dir = project_root / 'data' / 'processed'\n",
    "output_file = output_dir / 'data_model.parquet'\n",
    "\n",
    "# Crear directorio\n",
    "output_dir.mkdir(parents=True, exist_ok=True)\n",
    "\n",
    "# Exportar\n",
    "data[selected_features + ['condition']].to_parquet(output_file, index=False)"
   ]
  },
  {
   "cell_type": "code",
   "execution_count": 163,
   "metadata": {},
   "outputs": [],
   "source": [
    "# Columnas booleanas que deben ser bool\n",
    "bool_columns = ['tarjeta_de_credito', 'transferencia_bancaria', 'efectivo',\n",
    "                'shipping_local_pick_up', 'shipping_free_shipping',\n",
    "                'acordar_con_el_comprador', 'automatic_relist']\n",
    "\n",
    "# Convertir a bool (solo las que existen en selected_features)\n",
    "for col in bool_columns:\n",
    "    if col in data.columns:\n",
    "        data[col] = data[col].astype(bool)"
   ]
  },
  {
   "cell_type": "code",
   "execution_count": 168,
   "metadata": {},
   "outputs": [
    {
     "name": "stdout",
     "output_type": "stream",
     "text": [
      "initial_quantity              int64\n",
      "listing_type_id               int64\n",
      "price                       float64\n",
      "seller_city                   int64\n",
      "base_price                  float64\n",
      "available_quantity            int64\n",
      "week_day                      int64\n",
      "sold_quantity               float64\n",
      "seller_state                  int64\n",
      "garantia_aplica               int64\n",
      "shipping_mode                 int64\n",
      "month_start                   int64\n",
      "month_stop                    int64\n",
      "tarjeta_de_credito             bool\n",
      "dragged_bids_and_visits     float64\n",
      "transferencia_bancaria         bool\n",
      "shipping_local_pick_up         bool\n",
      "efectivo                       bool\n",
      "automatic_relist               bool\n",
      "days_active                   int64\n",
      "acordar_con_el_comprador       bool\n",
      "shipping_free_shipping         bool\n",
      "condition                     int64\n",
      "dtype: object\n"
     ]
    }
   ],
   "source": [
    "# Convertir todas las columnas categóricas a int\n",
    "cat_cols = data.select_dtypes(include=['category', 'object']).columns.tolist()\n",
    "\n",
    "# Excluir condition temporalmente\n",
    "if 'condition' in cat_cols:\n",
    "    cat_cols.remove('condition')\n",
    "\n",
    "# Encodear categóricas\n",
    "from sklearn.preprocessing import LabelEncoder\n",
    "\n",
    "for col in cat_cols:\n",
    "    if col in data.columns:\n",
    "        le = LabelEncoder()\n",
    "        data[col] = le.fit_transform(data[col]).astype('int')\n",
    "\n",
    "# Encodear variable objetivo\n",
    "if 'condition' in data.columns:\n",
    "    le_target = LabelEncoder()\n",
    "    data['condition'] = le_target.fit_transform(data['condition']).astype('int')\n",
    "\n",
    "# Verificar que todo es numérico\n",
    "print(data[selected_features + ['condition']].dtypes)"
   ]
  },
  {
   "cell_type": "code",
   "execution_count": 169,
   "metadata": {},
   "outputs": [],
   "source": [
    "# Ruta relativa al notebook\n",
    "project_root = Path.cwd().parent\n",
    "output_dir = project_root / 'data' / 'processed'\n",
    "output_file = output_dir / 'data_model.parquet'\n",
    "\n",
    "# Crear directorio\n",
    "output_dir.mkdir(parents=True, exist_ok=True)\n",
    "\n",
    "# Exportar\n",
    "data[selected_features + ['condition']].to_parquet(output_file, index=False)"
   ]
  }
 ],
 "metadata": {
  "kernelspec": {
   "display_name": "data-projects-lab",
   "language": "python",
   "name": "python3"
  },
  "language_info": {
   "codemirror_mode": {
    "name": "ipython",
    "version": 3
   },
   "file_extension": ".py",
   "mimetype": "text/x-python",
   "name": "python",
   "nbconvert_exporter": "python",
   "pygments_lexer": "ipython3",
   "version": "3.11.13"
  }
 },
 "nbformat": 4,
 "nbformat_minor": 2
}
