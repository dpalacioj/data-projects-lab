{
 "cells": [
  {
   "cell_type": "markdown",
   "id": "e08c1c48",
   "metadata": {},
   "source": [
    "# Reto\n",
    "\n",
    "\n",
    "1. Imputar los valores numéricos del módulo `generador_datos.py`con al menos dos estrategias.\n",
    "2. Crear al menos dos nuevas features.\n",
    "3. Usar `BinaryEncoder`para las variables categóricas.\n",
    "4. Usar `XGboost`como modelo.\n",
    "5. Usar `GridSearchCV`para encontrar los mejores hiperparámetros.\n",
    "6. Jugar con el split de datos.\n"
   ]
  },
  {
   "cell_type": "markdown",
   "id": "a005ff96",
   "metadata": {},
   "source": [
    "**NOTA**: Subir la solución propuesta como un `PullRequest`en GitHub. <br>\n",
    "El nombre del notebook tiene que ser con la siguiente estructura:\n",
    "\n",
    "`nombredelestudiante_solucion_reto.ipynb`"
   ]
  },
  {
   "cell_type": "markdown",
   "id": "9445d85e",
   "metadata": {},
   "source": []
  }
 ],
 "metadata": {
  "language_info": {
   "name": "python"
  }
 },
 "nbformat": 4,
 "nbformat_minor": 5
}
