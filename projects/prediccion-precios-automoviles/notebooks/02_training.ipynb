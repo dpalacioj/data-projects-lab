{
 "cells": [
  {
   "cell_type": "markdown",
   "metadata": {},
   "source": [
    "# Entrenamiento de Modelos con MLFlow\n",
    "\n",
    "## Objetivo\n",
    "Entrenar y comparar modelos de regresión para predecir precios de automóviles, utilizando MLFlow para:\n",
    "1. Registrar experimentos y parámetros\n",
    "2. Rastrear métricas de desempeño\n",
    "3. Guardar y versionar modelos\n",
    "4. Facilitar la reproducibilidad\n",
    "\n",
    "## Modelos a entrenar:\n",
    "- **Regresión Lineal**: Modelo base simple\n",
    "- **Random Forest**: Modelo más complejo con mejor capacidad de capturar relaciones no lineales"
   ]
  },
  {
   "cell_type": "code",
   "execution_count": 1,
   "metadata": {},
   "outputs": [
    {
     "name": "stdout",
     "output_type": "stream",
     "text": [
      "Librerías importadas correctamente.\n"
     ]
    }
   ],
   "source": [
    "# Importar librerías\n",
    "import pandas as pd\n",
    "import numpy as np\n",
    "from pathlib import Path\n",
    "import joblib\n",
    "\n",
    "# Machine Learning\n",
    "from sklearn.model_selection import train_test_split\n",
    "from sklearn.preprocessing import StandardScaler, OneHotEncoder\n",
    "from sklearn.compose import ColumnTransformer\n",
    "from sklearn.pipeline import Pipeline\n",
    "from sklearn.linear_model import LinearRegression\n",
    "from sklearn.ensemble import RandomForestRegressor\n",
    "from sklearn.metrics import mean_squared_error, mean_absolute_error, r2_score\n",
    "\n",
    "# MLFlow para tracking de experimentos\n",
    "import mlflow\n",
    "import mlflow.sklearn\n",
    "\n",
    "# Configuración\n",
    "import warnings\n",
    "warnings.filterwarnings('ignore')\n",
    "\n",
    "print(\"Librerías importadas correctamente.\")"
   ]
  },
  {
   "cell_type": "markdown",
   "metadata": {},
   "source": [
    "## 1. Configuración de MLFlow\n",
    "\n",
    "MLFlow es una plataforma para gestionar el ciclo de vida de Machine Learning, incluyendo experimentación, reproducibilidad y deployment."
   ]
  },
  {
   "cell_type": "code",
   "execution_count": 2,
   "metadata": {},
   "outputs": [
    {
     "name": "stderr",
     "output_type": "stream",
     "text": [
      "2025/10/26 15:49:20 INFO mlflow.tracking.fluent: Experiment with name 'prediccion_precios_automoviles' does not exist. Creating a new experiment.\n"
     ]
    },
    {
     "name": "stdout",
     "output_type": "stream",
     "text": [
      "Experimento configurado: prediccion_precios_automoviles\n",
      "Tracking URI: file:////Users/david.palacio/Documents/academia/data-projects-lab/projects/prediccion-precios-automoviles/notebooks/../mlruns\n"
     ]
    }
   ],
   "source": [
    "# Configurar MLFlow\n",
    "# Crear directorio para almacenar experimentos\n",
    "mlflow_dir = Path('../mlruns')\n",
    "mlflow_dir.mkdir(exist_ok=True)\n",
    "\n",
    "# Establecer URI de tracking (almacenamiento local)\n",
    "mlflow.set_tracking_uri(f\"file:///{mlflow_dir.absolute()}\")\n",
    "\n",
    "# Crear o usar experimento existente\n",
    "experiment_name = \"prediccion_precios_automoviles\"\n",
    "mlflow.set_experiment(experiment_name)\n",
    "\n",
    "print(f\"Experimento configurado: {experiment_name}\")\n",
    "print(f\"Tracking URI: {mlflow.get_tracking_uri()}\")"
   ]
  },
  {
   "cell_type": "markdown",
   "metadata": {},
   "source": [
    "## 2. Carga y Preparación de Datos"
   ]
  },
  {
   "cell_type": "code",
   "execution_count": 3,
   "metadata": {},
   "outputs": [
    {
     "name": "stdout",
     "output_type": "stream",
     "text": [
      "Dataset cargado: 10000 registros\n"
     ]
    },
    {
     "data": {
      "text/html": [
       "<div>\n",
       "<style scoped>\n",
       "    .dataframe tbody tr th:only-of-type {\n",
       "        vertical-align: middle;\n",
       "    }\n",
       "\n",
       "    .dataframe tbody tr th {\n",
       "        vertical-align: top;\n",
       "    }\n",
       "\n",
       "    .dataframe thead th {\n",
       "        text-align: right;\n",
       "    }\n",
       "</style>\n",
       "<table border=\"1\" class=\"dataframe\">\n",
       "  <thead>\n",
       "    <tr style=\"text-align: right;\">\n",
       "      <th></th>\n",
       "      <th>marca</th>\n",
       "      <th>tipo_carroceria</th>\n",
       "      <th>año</th>\n",
       "      <th>kilometraje</th>\n",
       "      <th>tipo_combustible</th>\n",
       "      <th>transmision</th>\n",
       "      <th>cilindrada</th>\n",
       "      <th>potencia</th>\n",
       "      <th>peso</th>\n",
       "      <th>consumo</th>\n",
       "      <th>color</th>\n",
       "      <th>edad_propietarios</th>\n",
       "      <th>calificacion_estado</th>\n",
       "      <th>region_venta</th>\n",
       "      <th>precio</th>\n",
       "    </tr>\n",
       "  </thead>\n",
       "  <tbody>\n",
       "    <tr>\n",
       "      <th>0</th>\n",
       "      <td>Ford</td>\n",
       "      <td>Hatchback</td>\n",
       "      <td>2015</td>\n",
       "      <td>400000</td>\n",
       "      <td>Gasolina</td>\n",
       "      <td>Automática</td>\n",
       "      <td>2039</td>\n",
       "      <td>93</td>\n",
       "      <td>1690</td>\n",
       "      <td>7.269729</td>\n",
       "      <td>Rojo</td>\n",
       "      <td>1</td>\n",
       "      <td>7.269855</td>\n",
       "      <td>Sur</td>\n",
       "      <td>2400.0</td>\n",
       "    </tr>\n",
       "    <tr>\n",
       "      <th>1</th>\n",
       "      <td>Mercedes-Benz</td>\n",
       "      <td>Sedán</td>\n",
       "      <td>2021</td>\n",
       "      <td>400000</td>\n",
       "      <td>Gasolina</td>\n",
       "      <td>Manual</td>\n",
       "      <td>1606</td>\n",
       "      <td>91</td>\n",
       "      <td>1476</td>\n",
       "      <td>7.508579</td>\n",
       "      <td>Gris</td>\n",
       "      <td>1</td>\n",
       "      <td>7.224478</td>\n",
       "      <td>Sur</td>\n",
       "      <td>15500.0</td>\n",
       "    </tr>\n",
       "    <tr>\n",
       "      <th>2</th>\n",
       "      <td>Hyundai</td>\n",
       "      <td>Hatchback</td>\n",
       "      <td>2015</td>\n",
       "      <td>400000</td>\n",
       "      <td>Gasolina</td>\n",
       "      <td>Manual</td>\n",
       "      <td>2204</td>\n",
       "      <td>120</td>\n",
       "      <td>1373</td>\n",
       "      <td>8.237119</td>\n",
       "      <td>Azul</td>\n",
       "      <td>2</td>\n",
       "      <td>7.377436</td>\n",
       "      <td>Oeste</td>\n",
       "      <td>2100.0</td>\n",
       "    </tr>\n",
       "    <tr>\n",
       "      <th>3</th>\n",
       "      <td>Nissan</td>\n",
       "      <td>Sedán</td>\n",
       "      <td>2017</td>\n",
       "      <td>400000</td>\n",
       "      <td>Diesel</td>\n",
       "      <td>Automática</td>\n",
       "      <td>1894</td>\n",
       "      <td>96</td>\n",
       "      <td>1191</td>\n",
       "      <td>6.526941</td>\n",
       "      <td>Blanco</td>\n",
       "      <td>4</td>\n",
       "      <td>4.944675</td>\n",
       "      <td>Norte</td>\n",
       "      <td>2600.0</td>\n",
       "    </tr>\n",
       "    <tr>\n",
       "      <th>4</th>\n",
       "      <td>Honda</td>\n",
       "      <td>Hatchback</td>\n",
       "      <td>2020</td>\n",
       "      <td>400000</td>\n",
       "      <td>Gasolina</td>\n",
       "      <td>Automática</td>\n",
       "      <td>1775</td>\n",
       "      <td>80</td>\n",
       "      <td>1139</td>\n",
       "      <td>7.587182</td>\n",
       "      <td>Azul</td>\n",
       "      <td>2</td>\n",
       "      <td>3.025227</td>\n",
       "      <td>Sur</td>\n",
       "      <td>2200.0</td>\n",
       "    </tr>\n",
       "  </tbody>\n",
       "</table>\n",
       "</div>"
      ],
      "text/plain": [
       "           marca tipo_carroceria   año  kilometraje tipo_combustible  \\\n",
       "0           Ford       Hatchback  2015       400000         Gasolina   \n",
       "1  Mercedes-Benz           Sedán  2021       400000         Gasolina   \n",
       "2        Hyundai       Hatchback  2015       400000         Gasolina   \n",
       "3         Nissan           Sedán  2017       400000           Diesel   \n",
       "4          Honda       Hatchback  2020       400000         Gasolina   \n",
       "\n",
       "  transmision  cilindrada  potencia  peso   consumo   color  \\\n",
       "0  Automática        2039        93  1690  7.269729    Rojo   \n",
       "1      Manual        1606        91  1476  7.508579    Gris   \n",
       "2      Manual        2204       120  1373  8.237119    Azul   \n",
       "3  Automática        1894        96  1191  6.526941  Blanco   \n",
       "4  Automática        1775        80  1139  7.587182    Azul   \n",
       "\n",
       "   edad_propietarios  calificacion_estado region_venta   precio  \n",
       "0                  1             7.269855          Sur   2400.0  \n",
       "1                  1             7.224478          Sur  15500.0  \n",
       "2                  2             7.377436        Oeste   2100.0  \n",
       "3                  4             4.944675        Norte   2600.0  \n",
       "4                  2             3.025227          Sur   2200.0  "
      ]
     },
     "execution_count": 3,
     "metadata": {},
     "output_type": "execute_result"
    }
   ],
   "source": [
    "# Cargar dataset\n",
    "data_path = Path('../data/raw/automoviles_usados.parquet')\n",
    "df = pd.read_parquet(data_path)\n",
    "\n",
    "print(f\"Dataset cargado: {len(df)} registros\")\n",
    "df.head()"
   ]
  },
  {
   "cell_type": "code",
   "execution_count": 4,
   "metadata": {},
   "outputs": [
    {
     "name": "stdout",
     "output_type": "stream",
     "text": [
      "Características (X): (10000, 14)\n",
      "Variable objetivo (y): (10000,)\n"
     ]
    }
   ],
   "source": [
    "# Separar características (X) y variable objetivo (y)\n",
    "X = df.drop('precio', axis=1)\n",
    "y = df['precio']\n",
    "\n",
    "print(f\"Características (X): {X.shape}\")\n",
    "print(f\"Variable objetivo (y): {y.shape}\")"
   ]
  },
  {
   "cell_type": "code",
   "execution_count": 5,
   "metadata": {},
   "outputs": [
    {
     "name": "stdout",
     "output_type": "stream",
     "text": [
      "Variables numéricas: 8\n",
      "['año', 'kilometraje', 'cilindrada', 'potencia', 'peso', 'consumo', 'edad_propietarios', 'calificacion_estado']\n",
      "\n",
      "Variables categóricas: 6\n",
      "['marca', 'tipo_carroceria', 'tipo_combustible', 'transmision', 'color', 'region_venta']\n"
     ]
    }
   ],
   "source": [
    "# Identificar columnas numéricas y categóricas\n",
    "# Excluimos 'precio' ya que es la variable objetivo\n",
    "numeric_features = ['año', 'kilometraje', 'cilindrada', 'potencia', 'peso', \n",
    "                   'consumo', 'edad_propietarios', 'calificacion_estado']\n",
    "\n",
    "categorical_features = ['marca', 'tipo_carroceria', 'tipo_combustible', \n",
    "                       'transmision', 'color', 'region_venta']\n",
    "\n",
    "print(f\"Variables numéricas: {len(numeric_features)}\")\n",
    "print(numeric_features)\n",
    "print(f\"\\nVariables categóricas: {len(categorical_features)}\")\n",
    "print(categorical_features)"
   ]
  },
  {
   "cell_type": "markdown",
   "metadata": {},
   "source": [
    "## 3. División Train/Test\n",
    "\n",
    "Dividimos los datos en conjuntos de entrenamiento (80%) y prueba (20%) para evaluar el desempeño del modelo en datos no vistos."
   ]
  },
  {
   "cell_type": "code",
   "execution_count": 6,
   "metadata": {},
   "outputs": [
    {
     "name": "stdout",
     "output_type": "stream",
     "text": [
      "Conjunto de entrenamiento: 8000 registros\n",
      "Conjunto de prueba: 2000 registros\n",
      "\n",
      "Proporción train/test: 80.0% / 20.0%\n"
     ]
    }
   ],
   "source": [
    "# Split train/test con semilla fija para reproducibilidad\n",
    "X_train, X_test, y_train, y_test = train_test_split(\n",
    "    X, y, \n",
    "    test_size=0.2, \n",
    "    random_state=42\n",
    ")\n",
    "\n",
    "print(f\"Conjunto de entrenamiento: {X_train.shape[0]} registros\")\n",
    "print(f\"Conjunto de prueba: {X_test.shape[0]} registros\")\n",
    "print(f\"\\nProporción train/test: {X_train.shape[0]/len(df):.1%} / {X_test.shape[0]/len(df):.1%}\")"
   ]
  },
  {
   "cell_type": "markdown",
   "metadata": {},
   "source": [
    "## 4. Pipeline de Preprocesamiento\n",
    "\n",
    "Creamos un pipeline que:\n",
    "- **Variables numéricas**: Aplica StandardScaler para normalizar (media=0, std=1)\n",
    "- **Variables categóricas**: Aplica OneHotEncoder para convertir categorías en variables binarias\n",
    "\n",
    "El uso de pipelines asegura que el preprocesamiento sea consistente entre train y test."
   ]
  },
  {
   "cell_type": "code",
   "execution_count": 7,
   "metadata": {},
   "outputs": [
    {
     "name": "stdout",
     "output_type": "stream",
     "text": [
      "Pipeline de preprocesamiento creado.\n"
     ]
    }
   ],
   "source": [
    "# Crear transformadores para cada tipo de variable\n",
    "numeric_transformer = StandardScaler()\n",
    "categorical_transformer = OneHotEncoder(handle_unknown='ignore', sparse_output=False)\n",
    "\n",
    "# Combinar transformadores en un ColumnTransformer\n",
    "# Esto permite aplicar diferentes transformaciones a diferentes columnas\n",
    "preprocessor = ColumnTransformer(\n",
    "    transformers=[\n",
    "        ('num', numeric_transformer, numeric_features),\n",
    "        ('cat', categorical_transformer, categorical_features)\n",
    "    ]\n",
    ")\n",
    "\n",
    "print(\"Pipeline de preprocesamiento creado.\")"
   ]
  },
  {
   "cell_type": "markdown",
   "metadata": {},
   "source": [
    "## 5. Función para Evaluar Modelos\n",
    "\n",
    "Creamos una función para calcular métricas estándar de regresión:\n",
    "- **RMSE** (Root Mean Squared Error): Error cuadrático medio, penaliza errores grandes\n",
    "- **MAE** (Mean Absolute Error): Error absoluto medio, más robusto a outliers\n",
    "- **R²** (Coeficiente de determinación): Proporción de varianza explicada (0-1, mayor es mejor)"
   ]
  },
  {
   "cell_type": "code",
   "execution_count": 8,
   "metadata": {},
   "outputs": [],
   "source": [
    "def evaluate_model(y_true, y_pred, model_name=\"Modelo\"):\n",
    "    \"\"\"\n",
    "    Calcula y muestra métricas de evaluación para un modelo de regresión.\n",
    "    \n",
    "    Args:\n",
    "        y_true: Valores reales\n",
    "        y_pred: Valores predichos\n",
    "        model_name: Nombre del modelo para identificación\n",
    "    \n",
    "    Returns:\n",
    "        dict: Diccionario con las métricas calculadas\n",
    "    \"\"\"\n",
    "    rmse = np.sqrt(mean_squared_error(y_true, y_pred))\n",
    "    mae = mean_absolute_error(y_true, y_pred)\n",
    "    r2 = r2_score(y_true, y_pred)\n",
    "    \n",
    "    metrics = {\n",
    "        'RMSE': rmse,\n",
    "        'MAE': mae,\n",
    "        'R2': r2\n",
    "    }\n",
    "    \n",
    "    print(f\"\\n{'='*60}\")\n",
    "    print(f\"Métricas para {model_name}:\")\n",
    "    print(f\"{'='*60}\")\n",
    "    print(f\"  RMSE (Root Mean Squared Error): ${rmse:,.2f}\")\n",
    "    print(f\"  MAE  (Mean Absolute Error):     ${mae:,.2f}\")\n",
    "    print(f\"  R²   (R-squared):               {r2:.4f} ({r2*100:.2f}%)\")\n",
    "    print(f\"{'='*60}\\n\")\n",
    "    \n",
    "    return metrics"
   ]
  },
  {
   "cell_type": "markdown",
   "metadata": {},
   "source": [
    "## 6. Entrenamiento - Modelo 1: Regresión Lineal\n",
    "\n",
    "La regresión lineal es un modelo simple que asume relaciones lineales entre características y la variable objetivo. Sirve como baseline para comparar modelos más complejos."
   ]
  },
  {
   "cell_type": "code",
   "execution_count": 9,
   "metadata": {},
   "outputs": [
    {
     "name": "stderr",
     "output_type": "stream",
     "text": [
      "2025/10/26 15:49:47 WARNING mlflow.models.model: `artifact_path` is deprecated. Please use `name` instead.\n"
     ]
    },
    {
     "name": "stdout",
     "output_type": "stream",
     "text": [
      "Entrenando modelo: Regresión Lineal\n",
      "Modelo entrenado.\n",
      "\n",
      "Evaluación en conjunto de ENTRENAMIENTO:\n",
      "\n",
      "============================================================\n",
      "Métricas para Regresión Lineal - Train:\n",
      "============================================================\n",
      "  RMSE (Root Mean Squared Error): $2,889.84\n",
      "  MAE  (Mean Absolute Error):     $1,729.63\n",
      "  R²   (R-squared):               0.7933 (79.33%)\n",
      "============================================================\n",
      "\n",
      "Evaluación en conjunto de PRUEBA:\n",
      "\n",
      "============================================================\n",
      "Métricas para Regresión Lineal - Test:\n",
      "============================================================\n",
      "  RMSE (Root Mean Squared Error): $2,818.62\n",
      "  MAE  (Mean Absolute Error):     $1,718.15\n",
      "  R²   (R-squared):               0.7770 (77.70%)\n",
      "============================================================\n",
      "\n"
     ]
    },
    {
     "name": "stderr",
     "output_type": "stream",
     "text": [
      "2025/10/26 15:49:50 WARNING mlflow.utils.environment: Failed to resolve installed pip version. ``pip`` will be added to conda.yaml environment spec without a version specifier.\n",
      "\u001b[31m2025/10/26 15:49:50 WARNING mlflow.models.model: Model logged without a signature and input example. Please set `input_example` parameter when logging the model to auto infer the model signature.\u001b[0m\n"
     ]
    },
    {
     "name": "stdout",
     "output_type": "stream",
     "text": [
      "Métricas y modelo registrados en MLFlow.\n"
     ]
    }
   ],
   "source": [
    "# Iniciar un run de MLFlow para este experimento\n",
    "with mlflow.start_run(run_name=\"linear_regression\"):\n",
    "    \n",
    "    print(\"Entrenando modelo: Regresión Lineal\")\n",
    "    \n",
    "    # Crear pipeline completo: preprocesamiento + modelo\n",
    "    pipeline_lr = Pipeline([\n",
    "        ('preprocessor', preprocessor),\n",
    "        ('regressor', LinearRegression())\n",
    "    ])\n",
    "    \n",
    "    # Entrenar modelo\n",
    "    pipeline_lr.fit(X_train, y_train)\n",
    "    print(\"Modelo entrenado.\")\n",
    "    \n",
    "    # Hacer predicciones\n",
    "    y_train_pred = pipeline_lr.predict(X_train)\n",
    "    y_test_pred = pipeline_lr.predict(X_test)\n",
    "    \n",
    "    # Evaluar en conjunto de entrenamiento\n",
    "    print(\"\\nEvaluación en conjunto de ENTRENAMIENTO:\")\n",
    "    train_metrics = evaluate_model(y_train, y_train_pred, \"Regresión Lineal - Train\")\n",
    "    \n",
    "    # Evaluar en conjunto de prueba\n",
    "    print(\"Evaluación en conjunto de PRUEBA:\")\n",
    "    test_metrics = evaluate_model(y_test, y_test_pred, \"Regresión Lineal - Test\")\n",
    "    \n",
    "    # Registrar parámetros en MLFlow\n",
    "    mlflow.log_param(\"model_type\", \"LinearRegression\")\n",
    "    mlflow.log_param(\"test_size\", 0.2)\n",
    "    mlflow.log_param(\"random_state\", 42)\n",
    "    mlflow.log_param(\"n_features\", X_train.shape[1])\n",
    "    mlflow.log_param(\"n_samples_train\", X_train.shape[0])\n",
    "    \n",
    "    # Registrar métricas de entrenamiento en MLFlow\n",
    "    mlflow.log_metric(\"train_rmse\", train_metrics['RMSE'])\n",
    "    mlflow.log_metric(\"train_mae\", train_metrics['MAE'])\n",
    "    mlflow.log_metric(\"train_r2\", train_metrics['R2'])\n",
    "    \n",
    "    # Registrar métricas de prueba en MLFlow\n",
    "    mlflow.log_metric(\"test_rmse\", test_metrics['RMSE'])\n",
    "    mlflow.log_metric(\"test_mae\", test_metrics['MAE'])\n",
    "    mlflow.log_metric(\"test_r2\", test_metrics['R2'])\n",
    "    \n",
    "    # Guardar modelo en MLFlow\n",
    "    mlflow.sklearn.log_model(pipeline_lr, \"model\")\n",
    "    \n",
    "    print(\"Métricas y modelo registrados en MLFlow.\")"
   ]
  },
  {
   "cell_type": "markdown",
   "metadata": {},
   "source": [
    "## 7. Entrenamiento - Modelo 2: Random Forest\n",
    "\n",
    "Random Forest es un modelo basado en árboles de decisión que:\n",
    "- Puede capturar relaciones no lineales\n",
    "- Es robusto a outliers\n",
    "- Maneja bien la interacción entre variables\n",
    "- Generalmente tiene mejor desempeño que regresión lineal en datos complejos"
   ]
  },
  {
   "cell_type": "code",
   "execution_count": 10,
   "metadata": {},
   "outputs": [
    {
     "name": "stdout",
     "output_type": "stream",
     "text": [
      "Entrenando modelo: Random Forest\n"
     ]
    },
    {
     "name": "stderr",
     "output_type": "stream",
     "text": [
      "2025/10/26 15:49:54 WARNING mlflow.models.model: `artifact_path` is deprecated. Please use `name` instead.\n"
     ]
    },
    {
     "name": "stdout",
     "output_type": "stream",
     "text": [
      "Modelo entrenado.\n",
      "\n",
      "Evaluación en conjunto de ENTRENAMIENTO:\n",
      "\n",
      "============================================================\n",
      "Métricas para Random Forest - Train:\n",
      "============================================================\n",
      "  RMSE (Root Mean Squared Error): $649.88\n",
      "  MAE  (Mean Absolute Error):     $301.62\n",
      "  R²   (R-squared):               0.9895 (98.95%)\n",
      "============================================================\n",
      "\n",
      "Evaluación en conjunto de PRUEBA:\n",
      "\n",
      "============================================================\n",
      "Métricas para Random Forest - Test:\n",
      "============================================================\n",
      "  RMSE (Root Mean Squared Error): $1,309.54\n",
      "  MAE  (Mean Absolute Error):     $632.21\n",
      "  R²   (R-squared):               0.9519 (95.19%)\n",
      "============================================================\n",
      "\n"
     ]
    },
    {
     "name": "stderr",
     "output_type": "stream",
     "text": [
      "2025/10/26 15:49:56 WARNING mlflow.utils.environment: Failed to resolve installed pip version. ``pip`` will be added to conda.yaml environment spec without a version specifier.\n",
      "\u001b[31m2025/10/26 15:49:56 WARNING mlflow.models.model: Model logged without a signature and input example. Please set `input_example` parameter when logging the model to auto infer the model signature.\u001b[0m\n"
     ]
    },
    {
     "name": "stdout",
     "output_type": "stream",
     "text": [
      "Métricas y modelo registrados en MLFlow.\n"
     ]
    }
   ],
   "source": [
    "# Iniciar un nuevo run de MLFlow para Random Forest\n",
    "with mlflow.start_run(run_name=\"random_forest\"):\n",
    "    \n",
    "    print(\"Entrenando modelo: Random Forest\")\n",
    "    \n",
    "    # Definir hiperparámetros para Random Forest\n",
    "    rf_params = {\n",
    "        'n_estimators': 100,        # Número de árboles en el bosque\n",
    "        'max_depth': 20,            # Profundidad máxima de cada árbol\n",
    "        'min_samples_split': 5,     # Mínimo de muestras para dividir un nodo\n",
    "        'min_samples_leaf': 2,      # Mínimo de muestras en una hoja\n",
    "        'random_state': 42,         # Para reproducibilidad\n",
    "        'n_jobs': -1                # Usar todos los cores disponibles\n",
    "    }\n",
    "    \n",
    "    # Crear pipeline completo\n",
    "    pipeline_rf = Pipeline([\n",
    "        ('preprocessor', preprocessor),\n",
    "        ('regressor', RandomForestRegressor(**rf_params))\n",
    "    ])\n",
    "    \n",
    "    # Entrenar modelo\n",
    "    pipeline_rf.fit(X_train, y_train)\n",
    "    print(\"Modelo entrenado.\")\n",
    "    \n",
    "    # Hacer predicciones\n",
    "    y_train_pred_rf = pipeline_rf.predict(X_train)\n",
    "    y_test_pred_rf = pipeline_rf.predict(X_test)\n",
    "    \n",
    "    # Evaluar en conjunto de entrenamiento\n",
    "    print(\"\\nEvaluación en conjunto de ENTRENAMIENTO:\")\n",
    "    train_metrics_rf = evaluate_model(y_train, y_train_pred_rf, \"Random Forest - Train\")\n",
    "    \n",
    "    # Evaluar en conjunto de prueba\n",
    "    print(\"Evaluación en conjunto de PRUEBA:\")\n",
    "    test_metrics_rf = evaluate_model(y_test, y_test_pred_rf, \"Random Forest - Test\")\n",
    "    \n",
    "    # Registrar parámetros en MLFlow\n",
    "    mlflow.log_param(\"model_type\", \"RandomForest\")\n",
    "    mlflow.log_param(\"test_size\", 0.2)\n",
    "    mlflow.log_param(\"random_state\", 42)\n",
    "    mlflow.log_param(\"n_features\", X_train.shape[1])\n",
    "    mlflow.log_param(\"n_samples_train\", X_train.shape[0])\n",
    "    \n",
    "    # Registrar hiperparámetros específicos de Random Forest\n",
    "    for param_name, param_value in rf_params.items():\n",
    "        mlflow.log_param(f\"rf_{param_name}\", param_value)\n",
    "    \n",
    "    # Registrar métricas de entrenamiento en MLFlow\n",
    "    mlflow.log_metric(\"train_rmse\", train_metrics_rf['RMSE'])\n",
    "    mlflow.log_metric(\"train_mae\", train_metrics_rf['MAE'])\n",
    "    mlflow.log_metric(\"train_r2\", train_metrics_rf['R2'])\n",
    "    \n",
    "    # Registrar métricas de prueba en MLFlow\n",
    "    mlflow.log_metric(\"test_rmse\", test_metrics_rf['RMSE'])\n",
    "    mlflow.log_metric(\"test_mae\", test_metrics_rf['MAE'])\n",
    "    mlflow.log_metric(\"test_r2\", test_metrics_rf['R2'])\n",
    "    \n",
    "    # Guardar modelo en MLFlow\n",
    "    mlflow.sklearn.log_model(pipeline_rf, \"model\")\n",
    "    \n",
    "    print(\"Métricas y modelo registrados en MLFlow.\")"
   ]
  },
  {
   "cell_type": "markdown",
   "metadata": {},
   "source": [
    "## 8. Comparación de Modelos"
   ]
  },
  {
   "cell_type": "code",
   "execution_count": 11,
   "metadata": {},
   "outputs": [
    {
     "name": "stdout",
     "output_type": "stream",
     "text": [
      "\n",
      "================================================================================\n",
      "COMPARACIÓN DE MODELOS\n",
      "================================================================================\n",
      "          Modelo  RMSE (Test)  MAE (Test)  R² (Test)  R² (Train)  Overfitting (R²)\n",
      "Regresión Lineal  2818.615068 1718.152500   0.776961    0.793335          0.016374\n",
      "   Random Forest  1309.536472  632.206624   0.951856    0.989548          0.037692\n",
      "================================================================================\n",
      "\n",
      "Mejor modelo: Random Forest (R² = 0.9519)\n"
     ]
    }
   ],
   "source": [
    "# Crear tabla comparativa\n",
    "comparison_df = pd.DataFrame({\n",
    "    'Modelo': ['Regresión Lineal', 'Random Forest'],\n",
    "    'RMSE (Test)': [test_metrics['RMSE'], test_metrics_rf['RMSE']],\n",
    "    'MAE (Test)': [test_metrics['MAE'], test_metrics_rf['MAE']],\n",
    "    'R² (Test)': [test_metrics['R2'], test_metrics_rf['R2']],\n",
    "    'R² (Train)': [train_metrics['R2'], train_metrics_rf['R2']]\n",
    "})\n",
    "\n",
    "# Calcular overfitting (diferencia entre R² train y test)\n",
    "comparison_df['Overfitting (R²)'] = comparison_df['R² (Train)'] - comparison_df['R² (Test)']\n",
    "\n",
    "print(\"\\n\" + \"=\"*80)\n",
    "print(\"COMPARACIÓN DE MODELOS\")\n",
    "print(\"=\"*80)\n",
    "print(comparison_df.to_string(index=False))\n",
    "print(\"=\"*80)\n",
    "\n",
    "# Identificar mejor modelo (basado en R² de test)\n",
    "best_model_idx = comparison_df['R² (Test)'].idxmax()\n",
    "best_model_name = comparison_df.loc[best_model_idx, 'Modelo']\n",
    "best_r2 = comparison_df.loc[best_model_idx, 'R² (Test)']\n",
    "\n",
    "print(f\"\\nMejor modelo: {best_model_name} (R² = {best_r2:.4f})\")"
   ]
  },
  {
   "cell_type": "markdown",
   "metadata": {},
   "source": [
    "## 9. Análisis de Importancia de Variables (Random Forest)\n",
    "\n",
    "Random Forest permite identificar qué variables contribuyen más a las predicciones."
   ]
  },
  {
   "cell_type": "code",
   "execution_count": 12,
   "metadata": {},
   "outputs": [
    {
     "name": "stdout",
     "output_type": "stream",
     "text": [
      "\n",
      "Top 15 variables más importantes (Random Forest):\n",
      "                  Feature  Importance\n",
      "                      año    0.534450\n",
      "      calificacion_estado    0.169433\n",
      "      marca_Mercedes-Benz    0.074182\n",
      "               marca_Audi    0.067488\n",
      "                marca_BMW    0.051460\n",
      "              kilometraje    0.041028\n",
      "      tipo_carroceria_SUV    0.013850\n",
      "                  consumo    0.011631\n",
      "tipo_carroceria_Hatchback    0.007182\n",
      "                     peso    0.003702\n",
      "    tipo_carroceria_Sedán    0.003426\n",
      "               cilindrada    0.003130\n",
      "                 potencia    0.002930\n",
      "   tipo_carroceria_Pickup    0.002014\n",
      "tipo_combustible_Gasolina    0.001769\n"
     ]
    }
   ],
   "source": [
    "# Obtener el modelo Random Forest del pipeline\n",
    "rf_model = pipeline_rf.named_steps['regressor']\n",
    "\n",
    "# Obtener nombres de características después del preprocesamiento\n",
    "# Para categóricas, OneHotEncoder crea múltiples columnas\n",
    "cat_encoder = pipeline_rf.named_steps['preprocessor'].named_transformers_['cat']\n",
    "cat_feature_names = cat_encoder.get_feature_names_out(categorical_features)\n",
    "feature_names = list(numeric_features) + list(cat_feature_names)\n",
    "\n",
    "# Crear DataFrame con importancias\n",
    "feature_importance_df = pd.DataFrame({\n",
    "    'Feature': feature_names,\n",
    "    'Importance': rf_model.feature_importances_\n",
    "}).sort_values('Importance', ascending=False)\n",
    "\n",
    "print(\"\\nTop 15 variables más importantes (Random Forest):\")\n",
    "print(feature_importance_df.head(15).to_string(index=False))"
   ]
  },
  {
   "cell_type": "markdown",
   "metadata": {},
   "source": [
    "## 10. Guardar Mejor Modelo\n",
    "\n",
    "Guardamos el modelo con mejor desempeño para su uso posterior en producción."
   ]
  },
  {
   "cell_type": "code",
   "execution_count": 13,
   "metadata": {},
   "outputs": [
    {
     "name": "stdout",
     "output_type": "stream",
     "text": [
      "\n",
      "Modelo guardado en: ../models/random_forest_best_model.pkl\n",
      "Modelo: Random Forest\n",
      "R² en test: 0.9519\n",
      "Metadata guardada en: ../models/model_metadata.json\n"
     ]
    }
   ],
   "source": [
    "# Crear directorio para modelos\n",
    "models_dir = Path('../models')\n",
    "models_dir.mkdir(exist_ok=True)\n",
    "\n",
    "# Determinar qué modelo guardar (el de mejor R²)\n",
    "if best_model_name == 'Random Forest':\n",
    "    best_pipeline = pipeline_rf\n",
    "    model_filename = 'random_forest_best_model.pkl'\n",
    "else:\n",
    "    best_pipeline = pipeline_lr\n",
    "    model_filename = 'linear_regression_best_model.pkl'\n",
    "\n",
    "# Guardar modelo usando joblib (formato eficiente para sklearn)\n",
    "model_path = models_dir / model_filename\n",
    "joblib.dump(best_pipeline, model_path)\n",
    "\n",
    "print(f\"\\nModelo guardado en: {model_path}\")\n",
    "print(f\"Modelo: {best_model_name}\")\n",
    "print(f\"R² en test: {best_r2:.4f}\")\n",
    "\n",
    "# También guardamos información de las características\n",
    "metadata = {\n",
    "    'model_type': best_model_name,\n",
    "    'numeric_features': numeric_features,\n",
    "    'categorical_features': categorical_features,\n",
    "    'test_r2': float(best_r2),\n",
    "    'feature_names': feature_names\n",
    "}\n",
    "\n",
    "import json\n",
    "metadata_path = models_dir / 'model_metadata.json'\n",
    "with open(metadata_path, 'w') as f:\n",
    "    json.dump(metadata, f, indent=2)\n",
    "\n",
    "print(f\"Metadata guardada en: {metadata_path}\")"
   ]
  },
  {
   "cell_type": "markdown",
   "metadata": {},
   "source": [
    "## 11. Cómo Visualizar Experimentos en MLFlow UI\n",
    "\n",
    "Para visualizar los experimentos registrados en la interfaz web de MLFlow, ejecuta en terminal:\n",
    "\n",
    "```bash\n",
    "cd projects/prediccion-precios-automoviles\n",
    "mlflow ui --backend-store-uri file:///$(pwd)/mlruns\n",
    "```\n",
    "\n",
    "Luego abre tu navegador en: http://localhost:5000\n",
    "\n",
    "En la UI podrás:\n",
    "- Comparar métricas entre diferentes runs\n",
    "- Visualizar parámetros de cada experimento\n",
    "- Descargar modelos guardados\n",
    "- Crear gráficos de comparación"
   ]
  },
  {
   "cell_type": "markdown",
   "metadata": {},
   "source": [
    "## Conclusión\n",
    "\n",
    "### Resultados del entrenamiento:\n",
    "\n",
    "Se entrenaron exitosamente dos modelos de regresión y se registraron sus métricas en MLFlow:\n",
    "\n",
    "1. **Regresión Lineal** (modelo baseline):\n",
    "   - Modelo simple que asume relaciones lineales\n",
    "   - Útil como punto de referencia\n",
    "   - Entrenable rápidamente\n",
    "   - Interpretabilidad alta\n",
    "\n",
    "2. **Random Forest** (modelo avanzado):\n",
    "   - Captura relaciones no lineales y complejas\n",
    "   - Mayor capacidad predictiva\n",
    "   - Proporciona importancia de variables\n",
    "   - Más robusto a outliers\n",
    "\n",
    "### Próximos pasos:\n",
    "\n",
    "Con el mejor modelo guardado, podemos:\n",
    "1. Implementar módulos Python reutilizables (config, preprocessing, training, predict)\n",
    "2. Crear interfaces de usuario con Gradio\n",
    "3. Desarrollar APIs con FastAPI para servir predicciones\n",
    "4. Realizar fine-tuning de hiperparámetros con validación cruzada\n",
    "5. Explorar modelos más avanzados (XGBoost, LightGBM)"
   ]
  }
 ],
 "metadata": {
  "kernelspec": {
   "display_name": "data-projects-lab",
   "language": "python",
   "name": "python3"
  },
  "language_info": {
   "codemirror_mode": {
    "name": "ipython",
    "version": 3
   },
   "file_extension": ".py",
   "mimetype": "text/x-python",
   "name": "python",
   "nbconvert_exporter": "python",
   "pygments_lexer": "ipython3",
   "version": "3.11.13"
  }
 },
 "nbformat": 4,
 "nbformat_minor": 4
}
